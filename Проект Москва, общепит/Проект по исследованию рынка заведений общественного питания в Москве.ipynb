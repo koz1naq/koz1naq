{
 "cells": [
  {
   "cell_type": "markdown",
   "metadata": {},
   "source": [
    "# Проект по исследованию рынка заведений общественного питания в Москве"
   ]
  },
  {
   "cell_type": "markdown",
   "metadata": {},
   "source": [
    "В этом проекте мы будем изучать и исследовать датасет с информацией самой разной по заведениям общепита в Москве. Будем это все проделывать в несколько этапов с выводами, и в конце с презентацией для инвесторов.\n",
    "\n",
    "Работать по ходу проекта будем с одним датасетом - rest_data,  содержащим столбцы:\n",
    "\n",
    "id — идентификатор объекта;\n",
    "object_name — название объекта общественного питания;\n",
    "chain — сетевой ресторан;\n",
    "object_type — тип объекта общественного питания;\n",
    "address — адрес;\n",
    "number — количество посадочных мест."
   ]
  },
  {
   "cell_type": "markdown",
   "metadata": {},
   "source": [
    "## Предобработка данных и их просмотр"
   ]
  },
  {
   "cell_type": "code",
   "execution_count": 2,
   "metadata": {},
   "outputs": [],
   "source": [
    "import seaborn as sns\n",
    "import pandas as pd\n",
    "import matplotlib.pyplot as plt\n",
    "import plotly.express as px\n",
    "from plotly import graph_objects as go\n",
    "import re\n",
    "\n",
    "rest_data = pd.read_csv('rest_data.csv')\n"
   ]
  },
  {
   "cell_type": "markdown",
   "metadata": {},
   "source": [
    "Перво наперво - добавим все необходимые библиотеки и прочитаем данные, а после и просмотрим."
   ]
  },
  {
   "cell_type": "code",
   "execution_count": 3,
   "metadata": {},
   "outputs": [
    {
     "data": {
      "text/html": [
       "<div>\n",
       "<style scoped>\n",
       "    .dataframe tbody tr th:only-of-type {\n",
       "        vertical-align: middle;\n",
       "    }\n",
       "\n",
       "    .dataframe tbody tr th {\n",
       "        vertical-align: top;\n",
       "    }\n",
       "\n",
       "    .dataframe thead th {\n",
       "        text-align: right;\n",
       "    }\n",
       "</style>\n",
       "<table border=\"1\" class=\"dataframe\">\n",
       "  <thead>\n",
       "    <tr style=\"text-align: right;\">\n",
       "      <th></th>\n",
       "      <th>id</th>\n",
       "      <th>object_name</th>\n",
       "      <th>chain</th>\n",
       "      <th>object_type</th>\n",
       "      <th>address</th>\n",
       "      <th>number</th>\n",
       "    </tr>\n",
       "  </thead>\n",
       "  <tbody>\n",
       "    <tr>\n",
       "      <th>0</th>\n",
       "      <td>151635</td>\n",
       "      <td>СМЕТАНА</td>\n",
       "      <td>нет</td>\n",
       "      <td>кафе</td>\n",
       "      <td>город Москва, улица Егора Абакумова, дом 9</td>\n",
       "      <td>48</td>\n",
       "    </tr>\n",
       "    <tr>\n",
       "      <th>1</th>\n",
       "      <td>77874</td>\n",
       "      <td>Родник</td>\n",
       "      <td>нет</td>\n",
       "      <td>кафе</td>\n",
       "      <td>город Москва, улица Талалихина, дом 2/1, корпус 1</td>\n",
       "      <td>35</td>\n",
       "    </tr>\n",
       "    <tr>\n",
       "      <th>2</th>\n",
       "      <td>24309</td>\n",
       "      <td>Кафе «Академия»</td>\n",
       "      <td>нет</td>\n",
       "      <td>кафе</td>\n",
       "      <td>город Москва, Абельмановская улица, дом 6</td>\n",
       "      <td>95</td>\n",
       "    </tr>\n",
       "    <tr>\n",
       "      <th>3</th>\n",
       "      <td>21894</td>\n",
       "      <td>ПИЦЦЕТОРИЯ</td>\n",
       "      <td>да</td>\n",
       "      <td>кафе</td>\n",
       "      <td>город Москва, Абрамцевская улица, дом 1</td>\n",
       "      <td>40</td>\n",
       "    </tr>\n",
       "    <tr>\n",
       "      <th>4</th>\n",
       "      <td>119365</td>\n",
       "      <td>Кафе «Вишневая метель»</td>\n",
       "      <td>нет</td>\n",
       "      <td>кафе</td>\n",
       "      <td>город Москва, Абрамцевская улица, дом 9, корпус 1</td>\n",
       "      <td>50</td>\n",
       "    </tr>\n",
       "    <tr>\n",
       "      <th>...</th>\n",
       "      <td>...</td>\n",
       "      <td>...</td>\n",
       "      <td>...</td>\n",
       "      <td>...</td>\n",
       "      <td>...</td>\n",
       "      <td>...</td>\n",
       "    </tr>\n",
       "    <tr>\n",
       "      <th>15361</th>\n",
       "      <td>208537</td>\n",
       "      <td>Шоколадница</td>\n",
       "      <td>да</td>\n",
       "      <td>кафе</td>\n",
       "      <td>город Москва, 3-й Крутицкий переулок, дом 18</td>\n",
       "      <td>50</td>\n",
       "    </tr>\n",
       "    <tr>\n",
       "      <th>15362</th>\n",
       "      <td>209264</td>\n",
       "      <td>Шоколадница</td>\n",
       "      <td>да</td>\n",
       "      <td>кафе</td>\n",
       "      <td>город Москва, улица Земляной Вал, дом 33</td>\n",
       "      <td>10</td>\n",
       "    </tr>\n",
       "    <tr>\n",
       "      <th>15363</th>\n",
       "      <td>209186</td>\n",
       "      <td>Шоколадница</td>\n",
       "      <td>да</td>\n",
       "      <td>кафе</td>\n",
       "      <td>город Москва, улица Земляной Вал, дом 33</td>\n",
       "      <td>20</td>\n",
       "    </tr>\n",
       "    <tr>\n",
       "      <th>15364</th>\n",
       "      <td>221900</td>\n",
       "      <td>Шоколадница</td>\n",
       "      <td>да</td>\n",
       "      <td>кафе</td>\n",
       "      <td>город Москва, поселение Московский, Киевское ш...</td>\n",
       "      <td>36</td>\n",
       "    </tr>\n",
       "    <tr>\n",
       "      <th>15365</th>\n",
       "      <td>222535</td>\n",
       "      <td>Шоколадница</td>\n",
       "      <td>да</td>\n",
       "      <td>кафе</td>\n",
       "      <td>город Москва, Ходынский бульвар, дом 4</td>\n",
       "      <td>10</td>\n",
       "    </tr>\n",
       "  </tbody>\n",
       "</table>\n",
       "<p>15366 rows × 6 columns</p>\n",
       "</div>"
      ],
      "text/plain": [
       "           id             object_name chain object_type  \\\n",
       "0      151635                 СМЕТАНА   нет        кафе   \n",
       "1       77874                  Родник   нет        кафе   \n",
       "2       24309         Кафе «Академия»   нет        кафе   \n",
       "3       21894              ПИЦЦЕТОРИЯ    да        кафе   \n",
       "4      119365  Кафе «Вишневая метель»   нет        кафе   \n",
       "...       ...                     ...   ...         ...   \n",
       "15361  208537             Шоколадница    да        кафе   \n",
       "15362  209264             Шоколадница    да        кафе   \n",
       "15363  209186             Шоколадница    да        кафе   \n",
       "15364  221900             Шоколадница    да        кафе   \n",
       "15365  222535             Шоколадница    да        кафе   \n",
       "\n",
       "                                                 address  number  \n",
       "0             город Москва, улица Егора Абакумова, дом 9      48  \n",
       "1      город Москва, улица Талалихина, дом 2/1, корпус 1      35  \n",
       "2              город Москва, Абельмановская улица, дом 6      95  \n",
       "3                город Москва, Абрамцевская улица, дом 1      40  \n",
       "4      город Москва, Абрамцевская улица, дом 9, корпус 1      50  \n",
       "...                                                  ...     ...  \n",
       "15361       город Москва, 3-й Крутицкий переулок, дом 18      50  \n",
       "15362           город Москва, улица Земляной Вал, дом 33      10  \n",
       "15363           город Москва, улица Земляной Вал, дом 33      20  \n",
       "15364  город Москва, поселение Московский, Киевское ш...      36  \n",
       "15365             город Москва, Ходынский бульвар, дом 4      10  \n",
       "\n",
       "[15366 rows x 6 columns]"
      ]
     },
     "metadata": {},
     "output_type": "display_data"
    },
    {
     "name": "stdout",
     "output_type": "stream",
     "text": [
      "None\n",
      "<class 'pandas.core.frame.DataFrame'>\n",
      "RangeIndex: 15366 entries, 0 to 15365\n",
      "Data columns (total 6 columns):\n",
      " #   Column       Non-Null Count  Dtype \n",
      "---  ------       --------------  ----- \n",
      " 0   id           15366 non-null  int64 \n",
      " 1   object_name  15366 non-null  object\n",
      " 2   chain        15366 non-null  object\n",
      " 3   object_type  15366 non-null  object\n",
      " 4   address      15366 non-null  object\n",
      " 5   number       15366 non-null  int64 \n",
      "dtypes: int64(2), object(4)\n",
      "memory usage: 720.4+ KB\n"
     ]
    },
    {
     "data": {
      "text/plain": [
       "id             0\n",
       "object_name    0\n",
       "chain          0\n",
       "object_type    0\n",
       "address        0\n",
       "number         0\n",
       "dtype: int64"
      ]
     },
     "execution_count": 3,
     "metadata": {},
     "output_type": "execute_result"
    }
   ],
   "source": [
    "print(display(rest_data))\n",
    "pd.set_option('display.max_columns', None)\n",
    "pd.options.display.max_colwidth = 150  \n",
    "\n",
    "rest_data.info()\n",
    "rest_data.isna().sum()"
   ]
  },
  {
   "cell_type": "markdown",
   "metadata": {},
   "source": [
    "И так, что можно пока сказать точно. Формат и тип данных в порядке, пропусков не видно так же. Осталось проверить на аномальные или неправильные значения, а так же на дубликаты в столбцах или строках."
   ]
  },
  {
   "cell_type": "code",
   "execution_count": 4,
   "metadata": {},
   "outputs": [
    {
     "data": {
      "text/plain": [
       "0"
      ]
     },
     "execution_count": 4,
     "metadata": {},
     "output_type": "execute_result"
    }
   ],
   "source": [
    " rest_data.duplicated().sum()"
   ]
  },
  {
   "cell_type": "code",
   "execution_count": 5,
   "metadata": {},
   "outputs": [],
   "source": [
    "#rest_data['chain'].value_counts()\n",
    "#rest_data['object_type'].value_counts()"
   ]
  },
  {
   "cell_type": "markdown",
   "metadata": {},
   "source": [
    "Итого. Данные чисты по базовым проверкам. Осталось убрать синонимы названий одних и тех же, хотя бы по нескольким фирмам. И  для красоты опустим еще строки в столбцах с названиями до нижнего регистра. "
   ]
  },
  {
   "cell_type": "code",
   "execution_count": 6,
   "metadata": {},
   "outputs": [],
   "source": [
    "synonyms = {'mcdonalds' : ('МАКДОНАЛДС', 'Ресторан \"Макдоналдс\"','Макдоналдс'), 'kfc' : ('Ресторан \"KFC\"', 'КФЦ')}\n",
    "def check_syn(cell):\n",
    "    for name, syn in synonyms.items():\n",
    "        if cell in syn: return name\n",
    "    return cell\n",
    "rest_data['object_name_new'] = rest_data['object_name'].apply(check_syn)     "
   ]
  },
  {
   "cell_type": "code",
   "execution_count": 7,
   "metadata": {},
   "outputs": [],
   "source": [
    "rest_data['object_name'] = rest_data['object_name'].str.lower()\n",
    "rest_data['object_name_new'] = rest_data['object_name_new'].str.lower()"
   ]
  },
  {
   "cell_type": "markdown",
   "metadata": {},
   "source": [
    "Готово, можно приступать непосредственно к  аналитической части."
   ]
  },
  {
   "cell_type": "markdown",
   "metadata": {},
   "source": [
    "## Анализ данных"
   ]
  },
  {
   "cell_type": "markdown",
   "metadata": {},
   "source": [
    "### Соотношение видов объектов общественного питания по количеству"
   ]
  },
  {
   "cell_type": "markdown",
   "metadata": {},
   "source": [
    "В этом разделе мы уже начнем изучать, и углубляться в рынок общественного питания. Проанализируем различные показатели и взаимосвязи. Как раз с этого и начнем."
   ]
  },
  {
   "cell_type": "code",
   "execution_count": 8,
   "metadata": {},
   "outputs": [
    {
     "data": {
      "image/png": "[encoded data removed]",
      "text/plain": [
       "<Figure size 360x360 with 1 Axes>"
      ]
     },
     "metadata": {},
     "output_type": "display_data"
    }
   ],
   "source": [
    "sns.set_palette('muted')\n",
    "sns.set_style('darkgrid')\n",
    "sns.catplot(x='object_type', kind='count', palette='ch:.27', data=rest_data)\n",
    "plt.title('Cоотношение видов объектов общественного питания по количеству')\n",
    "plt.xlabel('Вид объекта общественного питания')\n",
    "plt.ylabel('Количество')\n",
    "plt.xticks(rotation=-90)\n",
    "plt.show()"
   ]
  },
  {
   "cell_type": "markdown",
   "metadata": {},
   "source": [
    "И так, как видим, по видам общепита в лидерах кафе различные с очень большим отрывом, далее с отставанием столовые и рестораны на 2 и 3 местах соответственно. Лидерсвто кафе заведений, предположу, связано с немколькими факторами, главные из которых - значительно меньше затрат на содержание(по сравнению с практически любым другим видом, кроме некоторых менее популярных) и вероятно из за удобства для жителей города. В больших города жизнь буквально кипит, и у людей нет лишнего времени, поэтому кафе, где обслужат наверняка быстро - так популярны."
   ]
  },
  {
   "cell_type": "markdown",
   "metadata": {},
   "source": [
    "### Cоотношение сетевых и несетевых заведений по количеству"
   ]
  },
  {
   "cell_type": "code",
   "execution_count": 9,
   "metadata": {},
   "outputs": [
    {
     "data": {
      "image/png": "[encoded data removed]",
      "text/plain": [
       "<Figure size 360x360 with 1 Axes>"
      ]
     },
     "metadata": {},
     "output_type": "display_data"
    }
   ],
   "source": [
    "sns.catplot(x='chain', kind='count', palette='ch:.2', data=rest_data)\n",
    "plt.title('Cоотношение сетевых/несетевых заведений по количеству')\n",
    "plt.xlabel('Показатель сети заведений')\n",
    "plt.ylabel('Количество')\n",
    "plt.show()"
   ]
  },
  {
   "cell_type": "markdown",
   "metadata": {},
   "source": [
    "Что касается сетевых и не сетевых заведений, тот тут снова тотальный перевес в одну из сторон - в сторону не сетевых. Тут перевес вероятнее всего связан с большим количеством открытых кафешек в Москве местных."
   ]
  },
  {
   "cell_type": "markdown",
   "metadata": {},
   "source": [
    "### Для кого характерно сетевое распространение?"
   ]
  },
  {
   "cell_type": "code",
   "execution_count": 10,
   "metadata": {},
   "outputs": [
    {
     "data": {
      "image/png": "[encoded data removed]",
      "text/plain": [
       "<Figure size 411.25x360 with 1 Axes>"
      ]
     },
     "metadata": {},
     "output_type": "display_data"
    }
   ],
   "source": [
    "sns.catplot(x='object_type', hue='chain',  kind='count', data=rest_data)\n",
    "plt.title('Виды с сетевыми/несетевыми распространениями')\n",
    "plt.xlabel('Вид объекта общественного питания')\n",
    "plt.ylabel('Количество')\n",
    "plt.xticks(rotation=-90)\n",
    "plt.show()"
   ]
  },
  {
   "cell_type": "markdown",
   "metadata": {},
   "source": [
    "Как видим, сетевое распространение наиболее характерно для кафе. Дальше недалеко отошли и предпреятия общественного питания с ресторанами, что вополне логично. Что любопытно, то у столовых и буфетов практически нет сетевых заведений, практически 100% частные. Я думаю это связано с локальностью этих заведений и, вероятно, принадлежности в госпредприятиям. Ведь где мы чаще всего встречаем столовые и буфеты? Школы, театры, музыеи, заводы, предприятия. И вероятно иметь сеть таких заведений просто не выгодно."
   ]
  },
  {
   "cell_type": "markdown",
   "metadata": {},
   "source": [
    "### А что характерно для сетевых заведений?"
   ]
  },
  {
   "cell_type": "code",
   "execution_count": 11,
   "metadata": {},
   "outputs": [
    {
     "data": {
      "text/html": [
       "<div>\n",
       "<style scoped>\n",
       "    .dataframe tbody tr th:only-of-type {\n",
       "        vertical-align: middle;\n",
       "    }\n",
       "\n",
       "    .dataframe tbody tr th {\n",
       "        vertical-align: top;\n",
       "    }\n",
       "\n",
       "    .dataframe thead tr th {\n",
       "        text-align: left;\n",
       "    }\n",
       "\n",
       "    .dataframe thead tr:last-of-type th {\n",
       "        text-align: right;\n",
       "    }\n",
       "</style>\n",
       "<table border=\"1\" class=\"dataframe\">\n",
       "  <thead>\n",
       "    <tr>\n",
       "      <th></th>\n",
       "      <th colspan=\"2\" halign=\"left\">count</th>\n",
       "      <th colspan=\"2\" halign=\"left\">mean</th>\n",
       "    </tr>\n",
       "    <tr>\n",
       "      <th>chain</th>\n",
       "      <th>да</th>\n",
       "      <th>нет</th>\n",
       "      <th>да</th>\n",
       "      <th>нет</th>\n",
       "    </tr>\n",
       "    <tr>\n",
       "      <th>object_type</th>\n",
       "      <th></th>\n",
       "      <th></th>\n",
       "      <th></th>\n",
       "      <th></th>\n",
       "    </tr>\n",
       "  </thead>\n",
       "  <tbody>\n",
       "    <tr>\n",
       "      <th>бар</th>\n",
       "      <td>37.0</td>\n",
       "      <td>819.0</td>\n",
       "      <td>53.027027</td>\n",
       "      <td>43.063492</td>\n",
       "    </tr>\n",
       "    <tr>\n",
       "      <th>буфет</th>\n",
       "      <td>11.0</td>\n",
       "      <td>574.0</td>\n",
       "      <td>12.727273</td>\n",
       "      <td>51.865854</td>\n",
       "    </tr>\n",
       "    <tr>\n",
       "      <th>закусочная</th>\n",
       "      <td>56.0</td>\n",
       "      <td>304.0</td>\n",
       "      <td>14.375000</td>\n",
       "      <td>6.361842</td>\n",
       "    </tr>\n",
       "    <tr>\n",
       "      <th>кафе</th>\n",
       "      <td>1396.0</td>\n",
       "      <td>4703.0</td>\n",
       "      <td>47.426934</td>\n",
       "      <td>37.427174</td>\n",
       "    </tr>\n",
       "    <tr>\n",
       "      <th>кафетерий</th>\n",
       "      <td>52.0</td>\n",
       "      <td>346.0</td>\n",
       "      <td>12.269231</td>\n",
       "      <td>8.650289</td>\n",
       "    </tr>\n",
       "    <tr>\n",
       "      <th>магазин (отдел кулинарии)</th>\n",
       "      <td>78.0</td>\n",
       "      <td>195.0</td>\n",
       "      <td>8.679487</td>\n",
       "      <td>4.353846</td>\n",
       "    </tr>\n",
       "    <tr>\n",
       "      <th>предприятие быстрого обслуживания</th>\n",
       "      <td>791.0</td>\n",
       "      <td>1132.0</td>\n",
       "      <td>40.166877</td>\n",
       "      <td>6.846290</td>\n",
       "    </tr>\n",
       "    <tr>\n",
       "      <th>ресторан</th>\n",
       "      <td>544.0</td>\n",
       "      <td>1741.0</td>\n",
       "      <td>100.233456</td>\n",
       "      <td>95.771970</td>\n",
       "    </tr>\n",
       "    <tr>\n",
       "      <th>столовая</th>\n",
       "      <td>3.0</td>\n",
       "      <td>2584.0</td>\n",
       "      <td>112.333333</td>\n",
       "      <td>130.267415</td>\n",
       "    </tr>\n",
       "  </tbody>\n",
       "</table>\n",
       "</div>"
      ],
      "text/plain": [
       "                                    count                mean            \n",
       "chain                                  да     нет          да         нет\n",
       "object_type                                                              \n",
       "бар                                  37.0   819.0   53.027027   43.063492\n",
       "буфет                                11.0   574.0   12.727273   51.865854\n",
       "закусочная                           56.0   304.0   14.375000    6.361842\n",
       "кафе                               1396.0  4703.0   47.426934   37.427174\n",
       "кафетерий                            52.0   346.0   12.269231    8.650289\n",
       "магазин (отдел кулинарии)            78.0   195.0    8.679487    4.353846\n",
       "предприятие быстрого обслуживания   791.0  1132.0   40.166877    6.846290\n",
       "ресторан                            544.0  1741.0  100.233456   95.771970\n",
       "столовая                              3.0  2584.0  112.333333  130.267415"
      ]
     },
     "execution_count": 11,
     "metadata": {},
     "output_type": "execute_result"
    }
   ],
   "source": [
    "rest_data.pivot_table(index='object_type', columns='chain', values='number', aggfunc=({'count', 'mean'}))\n"
   ]
  },
  {
   "cell_type": "markdown",
   "metadata": {},
   "source": [
    "Интересно. Выходит, что по сетевым заведениям практически любого вида объекта общественного питания характерна \"парадигма\" - мало заведений с большим количеством посадочных мест. Взять хотя бы те же кафе. В сетевых кафе в среднем порядка 50 посадочных мест против 40 у несетевых, в то время как по количеству заведений, несетевых в 3.5 раза больше."
   ]
  },
  {
   "cell_type": "markdown",
   "metadata": {},
   "source": [
    "### Среднее количество мест в различных видах общепита"
   ]
  },
  {
   "cell_type": "code",
   "execution_count": 12,
   "metadata": {},
   "outputs": [
    {
     "data": {
      "image/png": "[encoded data removed]",
      "text/plain": [
       "<Figure size 360x360 with 1 Axes>"
      ]
     },
     "metadata": {},
     "output_type": "display_data"
    },
    {
     "data": {
      "text/plain": [
       "object_type\n",
       "бар                                   43.0\n",
       "буфет                                 51.0\n",
       "закусочная                             8.0\n",
       "кафе                                  40.0\n",
       "кафетерий                              9.0\n",
       "магазин (отдел кулинарии)              6.0\n",
       "предприятие быстрого обслуживания     21.0\n",
       "ресторан                              97.0\n",
       "столовая                             130.0\n",
       "Name: number, dtype: float64"
      ]
     },
     "execution_count": 12,
     "metadata": {},
     "output_type": "execute_result"
    }
   ],
   "source": [
    "sns.catplot(x='object_type', y='number', kind='bar', palette='ch:.2', data=rest_data)\n",
    "plt.title('Cоотношение видов объектов общественного питания по среднему числу мест')\n",
    "plt.xlabel('Вид объекта общественного питания')\n",
    "plt.ylabel('Среднее количество мест')\n",
    "plt.xticks(rotation=-90)\n",
    "plt.show()\n",
    "rest_data.groupby('object_type')['number'].mean().round()"
   ]
  },
  {
   "cell_type": "markdown",
   "metadata": {},
   "source": [
    "Начием углубляться, и видим показатели среднего числа посадочных мест в различных видах общепита. Три первых места здесь распределились примерно ожидаемо, столовая - 130 мест, далее рестораны с практически сотней мест(97), и буфеты - 51. И давайте попробуем интерпретировать эти распределения. Как я вижу, то здесь все до ужаса просто. Столовые направлены на то чтобы в определенные часы дня собрать в себе как можно больше народу, чтобы все смогли поеть(чаще всего), иначе бы предприятия, или другие места где обеды нормированы по часам теряли бы деньги из за неэффективного таймменеджмента. Поэтому здесь и наблюдается большое количество средних мест. \n",
    "\n",
    "Далее рестораны. Здесь тоже все достаточно просто. Заведения как правило частные, не для всех слоев населения, и каждое которое пытается выделиться эксклюзивностью. Они направлены на удержание клиента за счет атмосферы, качественного обслуживания и вкусной еды. Поэтому им выгодно иметь много посадочных мест. \n",
    "\n",
    "Ну а после этих двух лидеров идут уже заведения которые наоборот, направлены по большей части на быстрое обслуживание, в разной степени и немного разных условиях, но все же."
   ]
  },
  {
   "cell_type": "markdown",
   "metadata": {},
   "source": [
    "### Топ улиц и районов"
   ]
  },
  {
   "cell_type": "code",
   "execution_count": 13,
   "metadata": {},
   "outputs": [
    {
     "data": {
      "text/html": [
       "<div>\n",
       "<style scoped>\n",
       "    .dataframe tbody tr th:only-of-type {\n",
       "        vertical-align: middle;\n",
       "    }\n",
       "\n",
       "    .dataframe tbody tr th {\n",
       "        vertical-align: top;\n",
       "    }\n",
       "\n",
       "    .dataframe thead th {\n",
       "        text-align: right;\n",
       "    }\n",
       "</style>\n",
       "<table border=\"1\" class=\"dataframe\">\n",
       "  <thead>\n",
       "    <tr style=\"text-align: right;\">\n",
       "      <th></th>\n",
       "      <th>id</th>\n",
       "      <th>object_name</th>\n",
       "      <th>chain</th>\n",
       "      <th>object_type</th>\n",
       "      <th>address</th>\n",
       "      <th>number</th>\n",
       "      <th>object_name_new</th>\n",
       "      <th>street</th>\n",
       "    </tr>\n",
       "  </thead>\n",
       "  <tbody>\n",
       "    <tr>\n",
       "      <th>0</th>\n",
       "      <td>151635</td>\n",
       "      <td>сметана</td>\n",
       "      <td>нет</td>\n",
       "      <td>кафе</td>\n",
       "      <td>город Москва, улица Егора Абакумова, дом 9</td>\n",
       "      <td>48</td>\n",
       "      <td>сметана</td>\n",
       "      <td>улица Егора Абакумова</td>\n",
       "    </tr>\n",
       "    <tr>\n",
       "      <th>1</th>\n",
       "      <td>77874</td>\n",
       "      <td>родник</td>\n",
       "      <td>нет</td>\n",
       "      <td>кафе</td>\n",
       "      <td>город Москва, улица Талалихина, дом 2/1, корпус 1</td>\n",
       "      <td>35</td>\n",
       "      <td>родник</td>\n",
       "      <td>улица Талалихина</td>\n",
       "    </tr>\n",
       "    <tr>\n",
       "      <th>2</th>\n",
       "      <td>24309</td>\n",
       "      <td>кафе «академия»</td>\n",
       "      <td>нет</td>\n",
       "      <td>кафе</td>\n",
       "      <td>город Москва, Абельмановская улица, дом 6</td>\n",
       "      <td>95</td>\n",
       "      <td>кафе «академия»</td>\n",
       "      <td>Абельмановская улица</td>\n",
       "    </tr>\n",
       "    <tr>\n",
       "      <th>3</th>\n",
       "      <td>21894</td>\n",
       "      <td>пиццетория</td>\n",
       "      <td>да</td>\n",
       "      <td>кафе</td>\n",
       "      <td>город Москва, Абрамцевская улица, дом 1</td>\n",
       "      <td>40</td>\n",
       "      <td>пиццетория</td>\n",
       "      <td>Абрамцевская улица</td>\n",
       "    </tr>\n",
       "    <tr>\n",
       "      <th>4</th>\n",
       "      <td>119365</td>\n",
       "      <td>кафе «вишневая метель»</td>\n",
       "      <td>нет</td>\n",
       "      <td>кафе</td>\n",
       "      <td>город Москва, Абрамцевская улица, дом 9, корпус 1</td>\n",
       "      <td>50</td>\n",
       "      <td>кафе «вишневая метель»</td>\n",
       "      <td>Абрамцевская улица</td>\n",
       "    </tr>\n",
       "  </tbody>\n",
       "</table>\n",
       "</div>"
      ],
      "text/plain": [
       "       id             object_name chain object_type  \\\n",
       "0  151635                 сметана   нет        кафе   \n",
       "1   77874                  родник   нет        кафе   \n",
       "2   24309         кафе «академия»   нет        кафе   \n",
       "3   21894              пиццетория    да        кафе   \n",
       "4  119365  кафе «вишневая метель»   нет        кафе   \n",
       "\n",
       "                                             address  number  \\\n",
       "0         город Москва, улица Егора Абакумова, дом 9      48   \n",
       "1  город Москва, улица Талалихина, дом 2/1, корпус 1      35   \n",
       "2          город Москва, Абельмановская улица, дом 6      95   \n",
       "3            город Москва, Абрамцевская улица, дом 1      40   \n",
       "4  город Москва, Абрамцевская улица, дом 9, корпус 1      50   \n",
       "\n",
       "          object_name_new                 street  \n",
       "0                 сметана  улица Егора Абакумова  \n",
       "1                  родник       улица Талалихина  \n",
       "2         кафе «академия»   Абельмановская улица  \n",
       "3              пиццетория     Абрамцевская улица  \n",
       "4  кафе «вишневая метель»     Абрамцевская улица  "
      ]
     },
     "execution_count": 13,
     "metadata": {},
     "output_type": "execute_result"
    }
   ],
   "source": [
    "street_types = ['улица', 'ул', 'бульвар', 'проспект', 'переулок', 'шоссе', \n",
    "'проезд', 'набережная', 'площадь', 'аллея', 'линия', 'квартал', 'мост', 'тупик', 'просека', 'село']\n",
    "str_pat = r\".*,\\s*\\b([^,]*?(?:{})\\b[^,]*)[,$]+\".format(\"|\".join(street_types))\n",
    "rest_data['street'] = rest_data['address'].str.extract(str_pat, flags=re.I)\n",
    "rest_data.head()"
   ]
  },
  {
   "cell_type": "markdown",
   "metadata": {},
   "source": [
    "Теперь для дальнейшей работы выделим в отдельный столбец улицы(это не идеально, но сильных погрешностей нет кажется)"
   ]
  },
  {
   "cell_type": "code",
   "execution_count": 14,
   "metadata": {},
   "outputs": [
    {
     "data": {
      "text/html": [
       "<div>\n",
       "<style scoped>\n",
       "    .dataframe tbody tr th:only-of-type {\n",
       "        vertical-align: middle;\n",
       "    }\n",
       "\n",
       "    .dataframe tbody tr th {\n",
       "        vertical-align: top;\n",
       "    }\n",
       "\n",
       "    .dataframe thead th {\n",
       "        text-align: right;\n",
       "    }\n",
       "</style>\n",
       "<table border=\"1\" class=\"dataframe\">\n",
       "  <thead>\n",
       "    <tr style=\"text-align: right;\">\n",
       "      <th></th>\n",
       "      <th>streetname</th>\n",
       "      <th>areaid</th>\n",
       "      <th>okrug</th>\n",
       "      <th>area</th>\n",
       "    </tr>\n",
       "  </thead>\n",
       "  <tbody>\n",
       "    <tr>\n",
       "      <th>0</th>\n",
       "      <td>street</td>\n",
       "      <td>areaid</td>\n",
       "      <td>okrug</td>\n",
       "      <td>area</td>\n",
       "    </tr>\n",
       "    <tr>\n",
       "      <th>1</th>\n",
       "      <td>1-й Автозаводский проезд</td>\n",
       "      <td>98</td>\n",
       "      <td>ЮАО</td>\n",
       "      <td>Даниловский район</td>\n",
       "    </tr>\n",
       "    <tr>\n",
       "      <th>2</th>\n",
       "      <td>1-й Амбулаторный проезд</td>\n",
       "      <td>54</td>\n",
       "      <td>САО</td>\n",
       "      <td>Район Аэропорт</td>\n",
       "    </tr>\n",
       "    <tr>\n",
       "      <th>3</th>\n",
       "      <td>1-й Архивный переулок</td>\n",
       "      <td>20</td>\n",
       "      <td>ЦАО</td>\n",
       "      <td>Район Хамовники</td>\n",
       "    </tr>\n",
       "    <tr>\n",
       "      <th>4</th>\n",
       "      <td>1-й Бабьегородский переулок</td>\n",
       "      <td>21</td>\n",
       "      <td>ЦАО</td>\n",
       "      <td>Район Якиманка</td>\n",
       "    </tr>\n",
       "    <tr>\n",
       "      <th>...</th>\n",
       "      <td>...</td>\n",
       "      <td>...</td>\n",
       "      <td>...</td>\n",
       "      <td>...</td>\n",
       "    </tr>\n",
       "    <tr>\n",
       "      <th>4394</th>\n",
       "      <td>Яузская улица</td>\n",
       "      <td>18</td>\n",
       "      <td>ЦАО</td>\n",
       "      <td>Таганский район</td>\n",
       "    </tr>\n",
       "    <tr>\n",
       "      <th>4395</th>\n",
       "      <td>Яузский бульвар</td>\n",
       "      <td>18</td>\n",
       "      <td>ЦАО</td>\n",
       "      <td>Таганский район</td>\n",
       "    </tr>\n",
       "    <tr>\n",
       "      <th>4396</th>\n",
       "      <td>Яхромская улица</td>\n",
       "      <td>60</td>\n",
       "      <td>САО</td>\n",
       "      <td>Дмитровский район</td>\n",
       "    </tr>\n",
       "    <tr>\n",
       "      <th>4397</th>\n",
       "      <td>Яхромский проезд</td>\n",
       "      <td>58</td>\n",
       "      <td>САО</td>\n",
       "      <td>Район Восточное Дегунино</td>\n",
       "    </tr>\n",
       "    <tr>\n",
       "      <th>4398</th>\n",
       "      <td>Яхромский проезд</td>\n",
       "      <td>60</td>\n",
       "      <td>САО</td>\n",
       "      <td>Дмитровский район</td>\n",
       "    </tr>\n",
       "  </tbody>\n",
       "</table>\n",
       "<p>4399 rows × 4 columns</p>\n",
       "</div>"
      ],
      "text/plain": [
       "                       streetname  areaid  okrug                      area\n",
       "0                          street  areaid  okrug                      area\n",
       "1        1-й Автозаводский проезд      98    ЮАО         Даниловский район\n",
       "2         1-й Амбулаторный проезд      54    САО            Район Аэропорт\n",
       "3           1-й Архивный переулок      20    ЦАО           Район Хамовники\n",
       "4     1-й Бабьегородский переулок      21    ЦАО            Район Якиманка\n",
       "...                           ...     ...    ...                       ...\n",
       "4394                Яузская улица      18    ЦАО           Таганский район\n",
       "4395              Яузский бульвар      18    ЦАО           Таганский район\n",
       "4396              Яхромская улица      60    САО         Дмитровский район\n",
       "4397             Яхромский проезд      58    САО  Район Восточное Дегунино\n",
       "4398             Яхромский проезд      60    САО         Дмитровский район\n",
       "\n",
       "[4399 rows x 4 columns]"
      ]
     },
     "execution_count": 14,
     "metadata": {},
     "output_type": "execute_result"
    }
   ],
   "source": [
    "from io import BytesIO\n",
    "import requests\n",
    "spreadsheet_id = '1sguZSB8CeYCbCK2eMmsAlMkz9mBFw11GlyImzqJpjes'\n",
    "file_name = 'https://docs.google.com/spreadsheets/d/{}/export?format=csv'.format(spreadsheet_id)\n",
    "r = requests.get(file_name)\n",
    "column_names=['streetname','areaid','okrug', 'area']\n",
    "data_inner = pd.read_csv(BytesIO(r.content), header=None, names=column_names)\n",
    "data_inner"
   ]
  },
  {
   "cell_type": "code",
   "execution_count": 16,
   "metadata": {},
   "outputs": [
    {
     "data": {
      "image/png": "[encoded data removed]",
      "text/plain": [
       "<Figure size 720x360 with 1 Axes>"
      ]
     },
     "metadata": {},
     "output_type": "display_data"
    }
   ],
   "source": [
    "rest_data.pivot_table(index='street', values='id', aggfunc='count').sort_values(by='id', ascending=False).head(10).plot(kind='bar',grid=True, figsize=(10, 5), title='Топ 10 улиц по количеству заведений общепита')\n",
    "plt.xlabel('Улицы')\n",
    "plt.ylabel('Коилчество')\n",
    "plt.xticks(rotation=-90)\n",
    "plt.show()"
   ]
  },
  {
   "cell_type": "markdown",
   "metadata": {},
   "source": [
    "Что же можно здесь сказать. Как мы видим, то эти топ 10 самых \"населенных\" улиц на заведения составляют 4 проспекта и 2 шоссе. Тоесть большинсвто это длинные, обширные участки Московских дорог где часто проезжает очень большое количество машин и проходит много людей(на этих улицах так же сконцентрировано много станций метро). Вывод здесь простой - где большая проходимость, там и много заведений."
   ]
  },
  {
   "cell_type": "code",
   "execution_count": 17,
   "metadata": {},
   "outputs": [
    {
     "data": {
      "text/plain": [
       "Район Тропарево-Никулино           2\n",
       "Район Чертаново Северное           2\n",
       "Донской район                      2\n",
       "Район Проспект Вернадского         2\n",
       "Обручевский район                  2\n",
       "Район Чертаново Южное              2\n",
       "Ломоносовский район                2\n",
       "Район Нагатино-Садовники           2\n",
       "Район Гагаринский                  2\n",
       "Район Чертаново Центральное        2\n",
       "Район Теплый Стан                  2\n",
       "Останкинский район                 1\n",
       "Район Ростокино                    1\n",
       "Нагорный район                     1\n",
       "Район Сокол                        1\n",
       "Хорошевский район                  1\n",
       "Академический район                1\n",
       "Район Орехово-Борисово Южное       1\n",
       "Район Марьина роща                 1\n",
       "Район Москворечье-Сабурово         1\n",
       "Ярославский Район                  1\n",
       "Район Ясенево                      1\n",
       "Район Якиманка                     1\n",
       "Район Северное Бутово              1\n",
       "Район Южное Бутово                 1\n",
       "Район Беговой                      1\n",
       "Район Свиблово                     1\n",
       "Район Раменки                      1\n",
       "Район Дорогомилово                 1\n",
       "Район Аэропорт                     1\n",
       "Район Орехово-Борисово Северное    1\n",
       "Алексеевский район                 1\n",
       "Пресненский район                  1\n",
       "Район Фили-Давыдково               1\n",
       "Район Коньково                     1\n",
       "Мещанский район                    1\n",
       "Район Черемушки                    1\n",
       "Name: area, dtype: int64"
      ]
     },
     "execution_count": 17,
     "metadata": {},
     "output_type": "execute_result"
    }
   ],
   "source": [
    "street_data = rest_data.groupby(['street'])['id'].count().reset_index()\n",
    "msk_data = data_inner.merge(street_data, left_on='streetname', right_on='street')\n",
    "most_data = msk_data.sort_values(by='id', ascending=False).head(48)\n",
    "most_data['area'].value_counts()\n"
   ]
  },
  {
   "cell_type": "markdown",
   "metadata": {},
   "source": [
    "На этом этапе мы уже разбираемся подробнее с улицами которые выделяются больше всего по количеству заведений общепита на них, и из справочника еще и посмотрим в каких районах они \"обитают\". И как видно, в основном большая доля улиц расположилась примерно в югах, в северных районах и центре намного меньше заведений."
   ]
  },
  {
   "cell_type": "code",
   "execution_count": 18,
   "metadata": {},
   "outputs": [
    {
     "name": "stdout",
     "output_type": "stream",
     "text": [
      "517 улиц с одним единственным объектом общемтвенного питания\n"
     ]
    }
   ],
   "source": [
    "print(msk_data[msk_data['id'] == 1]['streetname'].nunique(), 'улиц с одним единственным объектом общемтвенного питания')"
   ]
  },
  {
   "cell_type": "code",
   "execution_count": 19,
   "metadata": {},
   "outputs": [
    {
     "data": {
      "text/plain": [
       "ЦАО           186\n",
       "ВАО            67\n",
       "СВАО           66\n",
       "САО            55\n",
       "ЮВАО           55\n",
       "ЗАО            45\n",
       "ЮАО            29\n",
       "ЮЗАО           28\n",
       "СЗАО           27\n",
       "Зеленоград      6\n",
       "Name: okrug, dtype: int64"
      ]
     },
     "execution_count": 19,
     "metadata": {},
     "output_type": "execute_result"
    }
   ],
   "source": [
    "msk_data.query('id == 1')['okrug'].value_counts()"
   ]
  },
  {
   "cell_type": "markdown",
   "metadata": {},
   "source": [
    "А вот и как улицы с одним объектом общепита распределены по округам. Улиц хоть и больше чем у топов по количеству, все еще видно что закономерность в предыдущем расчете соблюдается - в центре и севере Москвы(прибавился и восток) на улицу приходится меньше заведений чем на юге. Как мне кажется, это по большей части связано с тем, что в центре в особенности, где много исторических мест тяжело найти место для какого то заведения общепита. А в центре очень много маленьких улочек, и вероятно такое большое количество одиноких заведений(не только в центре) связано: с длиной улицы, с близостью от промзон или спальных районов, в особенности в новых(построенных позже 2000-х), с малой проходимостью улиц, или неоживленностью их, если хотите. И навернка есть еще уйма других мелких факторов которые бы объяснили данный феномен. "
   ]
  },
  {
   "cell_type": "markdown",
   "metadata": {},
   "source": [
    "### Распределение мест "
   ]
  },
  {
   "cell_type": "code",
   "execution_count": 22,
   "metadata": {},
   "outputs": [
    {
     "name": "stderr",
     "output_type": "stream",
     "text": [
      "C:\\Users\\djspa\\anaconda3\\lib\\site-packages\\seaborn\\_decorators.py:36: FutureWarning: Pass the following variable as a keyword arg: x. From version 0.12, the only valid positional argument will be `data`, and passing other arguments without an explicit keyword will result in an error or misinterpretation.\n",
      "  warnings.warn(\n"
     ]
    },
    {
     "data": {
      "image/png": "[encoded data removed]",
      "text/plain": [
       "<Figure size 432x288 with 1 Axes>"
      ]
     },
     "metadata": {},
     "output_type": "display_data"
    }
   ],
   "source": [
    "street_data\n",
    "sns.boxplot(street_data['id'])\n",
    "plt.xlabel('Количество заведений на одной улице')\n",
    "plt.show()"
   ]
  },
  {
   "cell_type": "markdown",
   "metadata": {},
   "source": [
    "И под конец нужно глянуть как распределены места на улицах с большим количеством большим количеством объектов общественного питания. Определим для начала что считать за большое количество заведений, и это число приблизительно 5."
   ]
  },
  {
   "cell_type": "code",
   "execution_count": 23,
   "metadata": {},
   "outputs": [],
   "source": [
    "result = rest_data.merge(street_data, on='street')\n",
    "result = result.rename(columns = {'id_y' : 'number_of_places'})\n",
    "result_sort = result.query('number_of_places > 5').sort_values(by='number_of_places', ascending=False)"
   ]
  },
  {
   "cell_type": "code",
   "execution_count": 24,
   "metadata": {},
   "outputs": [
    {
     "data": {
      "image/png": "[encoded data removed]",
      "text/plain": [
       "<Figure size 432x432 with 3 Axes>"
      ]
     },
     "metadata": {},
     "output_type": "display_data"
    }
   ],
   "source": [
    "sns.jointplot(x='number', y='number_of_places', data=result_sort, kind='reg', color='darkgreen') \n",
    "plt.xlabel('Количество посадочных мест')\n",
    "plt.ylabel('Количество заведений на одну улицу')\n",
    "plt.show()"
   ]
  },
  {
   "cell_type": "markdown",
   "metadata": {},
   "source": [
    "Вот и распределение, показывающее как количество посадочных мест для улиц с большим количеством объектов общественного питания влияют друг на друга, и как мы видим, здесь наблюдается отрицательная линейная корреляция, что говорит о том, что эти два показателя скорее не зависят, чем наоборот, друг от друга."
   ]
  },
  {
   "cell_type": "markdown",
   "metadata": {},
   "source": [
    "## Вывод"
   ]
  },
  {
   "cell_type": "markdown",
   "metadata": {},
   "source": [
    "Дабы подытожить все вышеизложенные мысли пробежимся сначала по порядку.\n",
    "\n",
    "Мы взяли данные о заведениях Москвы, проверили их на дубликаты и ошибки, подкорректировали типы и формат данных. \n",
    "\n",
    "В непосредственном анализе шли по порядку. Первое - кафе, столовая, ресторан самые популярные виды заведений общепита.\n",
    "Второе - в Москве наблюдается склонность к несетевым заведениям, в особенности в центре, и в особенности для столовых и кафе(хоть и по сетевым кафе больше всех так же). Третье - по посадочным местам есть интересная закономерность, что в сетевых заведениях их делают больше, по сравнению с несетевыми. И так же что самое большое распространение мест по видам у столовых, ресторанов и буфетов, что вполне логично. \n",
    "И наконец четвертое - улицы и районы так же немаловажный показатель. Здесь несколько ньюансов. В центре очень большое количество маленьких и несетевых заведений, что можно обосновать вероятно туристами и эксклюзивностью. На юге Москвы самое большое количество улиц, на которых и заведений много. Номер один по этому показателю - Проспект Мира.\n",
    "\n",
    "Как мне видится эта картина, то удачное решение - кафе, по трем немаловажным пунктам - большая популярность несетевых кафе в Москве(по количеству самих кафе их больше всех), Однако вероятно не выйдет очень много посадочных мест для людей. И так же около центра и немного южнее много оживленных и наполненых улиц для такого рода заведения.\n",
    "\n",
    "Однако если глянуть немного с другой стороны, ресторан будет, так же, неплохой идеей. Немного уступая в показателях их количества в Москве, они выигрывают по количеству мест, что может сыграть важную роль. "
   ]
  },
  {
   "cell_type": "markdown",
   "metadata": {},
   "source": [
    "Презентация: https://disk.yandex.ru/i/wkquFaAJ7Rq5SA"
   ]
  }
 ],
 "metadata": {
  "ExecuteTimeLog": [
   {
    "duration": 405,
    "start_time": "2021-10-07T15:20:34.698Z"
   },
   {
    "duration": 1452,
    "start_time": "2021-10-07T15:20:36.588Z"
   },
   {
    "duration": 475,
    "start_time": "2021-10-07T15:20:38.042Z"
   },
   {
    "duration": 28,
    "start_time": "2021-10-07T15:21:17.948Z"
   },
   {
    "duration": 27,
    "start_time": "2021-10-07T15:26:20.015Z"
   },
   {
    "duration": 57,
    "start_time": "2021-10-07T15:26:23.555Z"
   },
   {
    "duration": 28,
    "start_time": "2021-10-07T15:26:24.415Z"
   },
   {
    "duration": 315,
    "start_time": "2021-10-08T14:41:53.762Z"
   },
   {
    "duration": 1698,
    "start_time": "2021-10-08T14:41:57.008Z"
   },
   {
    "duration": 39,
    "start_time": "2021-10-08T14:41:58.709Z"
   },
   {
    "duration": 309,
    "start_time": "2021-10-08T14:41:58.750Z"
   },
   {
    "duration": 10,
    "start_time": "2021-10-08T14:42:10.338Z"
   },
   {
    "duration": 11,
    "start_time": "2021-10-08T14:45:08.515Z"
   },
   {
    "duration": 30,
    "start_time": "2021-10-08T14:45:31.340Z"
   },
   {
    "duration": 269,
    "start_time": "2021-10-08T14:47:47.003Z"
   },
   {
    "duration": 46,
    "start_time": "2021-10-08T14:47:57.726Z"
   },
   {
    "duration": 32,
    "start_time": "2021-10-08T14:48:40.815Z"
   },
   {
    "duration": 227,
    "start_time": "2021-10-08T14:51:24.275Z"
   },
   {
    "duration": 25,
    "start_time": "2021-10-08T14:51:30.253Z"
   },
   {
    "duration": 20,
    "start_time": "2021-10-08T14:51:41.797Z"
   },
   {
    "duration": 20,
    "start_time": "2021-10-08T14:51:43.757Z"
   },
   {
    "duration": 15,
    "start_time": "2021-10-08T14:51:52.247Z"
   },
   {
    "duration": 15,
    "start_time": "2021-10-08T14:51:55.288Z"
   },
   {
    "duration": 19,
    "start_time": "2021-10-08T14:51:55.678Z"
   },
   {
    "duration": 14,
    "start_time": "2021-10-08T14:57:19.908Z"
   },
   {
    "duration": 446,
    "start_time": "2021-10-08T14:59:12.115Z"
   },
   {
    "duration": 1557,
    "start_time": "2021-10-08T14:59:18.428Z"
   },
   {
    "duration": 4,
    "start_time": "2021-10-08T15:10:01.897Z"
   },
   {
    "duration": 308,
    "start_time": "2021-10-08T15:10:01.904Z"
   },
   {
    "duration": 1012,
    "start_time": "2021-10-08T15:16:35.233Z"
   },
   {
    "duration": 19,
    "start_time": "2021-10-08T15:16:44.026Z"
   },
   {
    "duration": 14,
    "start_time": "2021-10-08T15:16:45.397Z"
   },
   {
    "duration": 15,
    "start_time": "2021-10-08T15:16:55.150Z"
   },
   {
    "duration": 40,
    "start_time": "2021-10-08T15:19:09.600Z"
   },
   {
    "duration": 39,
    "start_time": "2021-10-08T15:19:57.272Z"
   },
   {
    "duration": 257,
    "start_time": "2021-10-08T15:22:56.134Z"
   },
   {
    "duration": 46,
    "start_time": "2021-10-08T15:23:07.645Z"
   },
   {
    "duration": 302,
    "start_time": "2021-10-08T15:24:12.646Z"
   },
   {
    "duration": 1007,
    "start_time": "2021-10-08T15:27:25.065Z"
   },
   {
    "duration": 1018,
    "start_time": "2021-10-08T15:27:44.057Z"
   },
   {
    "duration": 69,
    "start_time": "2021-10-08T15:29:42.039Z"
   },
   {
    "duration": 989,
    "start_time": "2021-10-08T15:29:46.779Z"
   },
   {
    "duration": 985,
    "start_time": "2021-10-08T15:29:58.679Z"
   },
   {
    "duration": 1131,
    "start_time": "2021-10-08T15:31:28.439Z"
   },
   {
    "duration": 1031,
    "start_time": "2021-10-08T15:31:39.431Z"
   },
   {
    "duration": 1021,
    "start_time": "2021-10-08T15:32:05.292Z"
   },
   {
    "duration": 1250,
    "start_time": "2021-10-08T15:33:36.453Z"
   },
   {
    "duration": 1245,
    "start_time": "2021-10-08T15:33:42.472Z"
   },
   {
    "duration": 1264,
    "start_time": "2021-10-08T15:33:54.563Z"
   },
   {
    "duration": 1060,
    "start_time": "2021-10-08T15:35:21.945Z"
   },
   {
    "duration": 1061,
    "start_time": "2021-10-08T15:35:37.533Z"
   },
   {
    "duration": 1117,
    "start_time": "2021-10-08T15:35:46.196Z"
   },
   {
    "duration": 1175,
    "start_time": "2021-10-08T15:35:50.915Z"
   },
   {
    "duration": 19,
    "start_time": "2021-10-08T15:39:56.518Z"
   },
   {
    "duration": 647,
    "start_time": "2021-10-08T16:28:04.992Z"
   },
   {
    "duration": 228,
    "start_time": "2021-10-08T16:30:27.990Z"
   },
   {
    "duration": 426,
    "start_time": "2021-10-08T16:30:34.988Z"
   },
   {
    "duration": 35,
    "start_time": "2021-10-08T16:30:35.417Z"
   },
   {
    "duration": 27,
    "start_time": "2021-10-08T16:30:37.962Z"
   },
   {
    "duration": 3,
    "start_time": "2021-10-08T16:30:38.390Z"
   },
   {
    "duration": 17,
    "start_time": "2021-10-08T16:30:39.852Z"
   },
   {
    "duration": 16,
    "start_time": "2021-10-08T16:30:40.280Z"
   },
   {
    "duration": 1079,
    "start_time": "2021-10-08T16:30:42.690Z"
   },
   {
    "duration": 1169,
    "start_time": "2021-10-08T16:30:45.460Z"
   },
   {
    "duration": 654,
    "start_time": "2021-10-08T16:30:47.240Z"
   },
   {
    "duration": 1880,
    "start_time": "2021-10-08T16:30:48.710Z"
   },
   {
    "duration": 77,
    "start_time": "2021-10-08T16:31:35.191Z"
   },
   {
    "duration": 1187,
    "start_time": "2021-10-08T16:31:59.076Z"
   },
   {
    "duration": 295,
    "start_time": "2021-10-08T16:32:01.527Z"
   },
   {
    "duration": 73,
    "start_time": "2021-10-08T16:32:07.317Z"
   },
   {
    "duration": 326,
    "start_time": "2021-10-08T16:32:08.457Z"
   },
   {
    "duration": 107,
    "start_time": "2021-10-08T16:32:20.158Z"
   },
   {
    "duration": 74,
    "start_time": "2021-10-08T16:32:29.207Z"
   },
   {
    "duration": 923,
    "start_time": "2021-10-08T16:32:44.867Z"
   },
   {
    "duration": 446,
    "start_time": "2021-10-08T16:32:47.508Z"
   },
   {
    "duration": 69,
    "start_time": "2021-10-08T16:32:56.048Z"
   },
   {
    "duration": 41,
    "start_time": "2021-10-08T16:32:56.120Z"
   },
   {
    "duration": 27,
    "start_time": "2021-10-08T16:32:56.164Z"
   },
   {
    "duration": 3,
    "start_time": "2021-10-08T16:32:56.193Z"
   },
   {
    "duration": 17,
    "start_time": "2021-10-08T16:32:56.222Z"
   },
   {
    "duration": 17,
    "start_time": "2021-10-08T16:32:56.241Z"
   },
   {
    "duration": 1389,
    "start_time": "2021-10-08T16:32:56.260Z"
   },
   {
    "duration": 666,
    "start_time": "2021-10-08T16:32:57.652Z"
   },
   {
    "duration": 692,
    "start_time": "2021-10-08T16:32:59.078Z"
   },
   {
    "duration": 356,
    "start_time": "2021-10-08T16:32:59.773Z"
   },
   {
    "duration": 1913,
    "start_time": "2021-10-08T16:33:16.899Z"
   },
   {
    "duration": 40,
    "start_time": "2021-10-08T16:33:18.815Z"
   },
   {
    "duration": 23,
    "start_time": "2021-10-08T16:33:18.858Z"
   },
   {
    "duration": 2,
    "start_time": "2021-10-08T16:33:18.886Z"
   },
   {
    "duration": 45,
    "start_time": "2021-10-08T16:33:18.890Z"
   },
   {
    "duration": 41,
    "start_time": "2021-10-08T16:33:18.938Z"
   },
   {
    "duration": 1161,
    "start_time": "2021-10-08T16:33:18.982Z"
   },
   {
    "duration": 727,
    "start_time": "2021-10-08T16:33:20.148Z"
   },
   {
    "duration": 1165,
    "start_time": "2021-10-08T16:33:20.878Z"
   },
   {
    "duration": 18,
    "start_time": "2021-10-08T16:33:22.045Z"
   },
   {
    "duration": 748,
    "start_time": "2021-10-08T16:35:44.577Z"
   },
   {
    "duration": 660,
    "start_time": "2021-10-08T16:35:49.473Z"
   },
   {
    "duration": 10,
    "start_time": "2021-10-08T16:36:48.924Z"
   },
   {
    "duration": 625,
    "start_time": "2021-10-08T16:38:49.366Z"
   },
   {
    "duration": 615,
    "start_time": "2021-10-08T16:38:55.155Z"
   },
   {
    "duration": 590,
    "start_time": "2021-10-08T16:44:57.823Z"
   },
   {
    "duration": 246,
    "start_time": "2021-10-08T16:45:10.721Z"
   },
   {
    "duration": 1153,
    "start_time": "2021-10-08T16:45:19.841Z"
   },
   {
    "duration": 21,
    "start_time": "2021-10-08T16:46:33.681Z"
   },
   {
    "duration": 241,
    "start_time": "2021-10-08T16:46:46.382Z"
   },
   {
    "duration": 227,
    "start_time": "2021-10-08T16:47:26.293Z"
   },
   {
    "duration": 1261,
    "start_time": "2021-10-08T16:47:32.812Z"
   },
   {
    "duration": 1079,
    "start_time": "2021-10-08T16:47:42.983Z"
   },
   {
    "duration": 1155,
    "start_time": "2021-10-08T16:53:25.747Z"
   },
   {
    "duration": 242,
    "start_time": "2021-10-08T16:54:06.429Z"
   },
   {
    "duration": 17,
    "start_time": "2021-10-08T17:00:31.154Z"
   },
   {
    "duration": 19,
    "start_time": "2021-10-08T17:00:41.652Z"
   },
   {
    "duration": 22,
    "start_time": "2021-10-08T17:10:42.772Z"
   },
   {
    "duration": 8,
    "start_time": "2021-10-08T17:10:51.222Z"
   },
   {
    "duration": 249,
    "start_time": "2021-10-08T17:11:01.914Z"
   },
   {
    "duration": 24,
    "start_time": "2021-10-08T17:11:57.894Z"
   },
   {
    "duration": 75,
    "start_time": "2021-10-08T17:12:31.854Z"
   },
   {
    "duration": 31,
    "start_time": "2021-10-08T17:12:35.623Z"
   },
   {
    "duration": 7,
    "start_time": "2021-10-08T17:12:43.994Z"
   },
   {
    "duration": 39,
    "start_time": "2021-10-08T17:12:52.933Z"
   },
   {
    "duration": 25,
    "start_time": "2021-10-08T17:12:56.854Z"
   },
   {
    "duration": 12,
    "start_time": "2021-10-08T17:14:10.445Z"
   },
   {
    "duration": 353,
    "start_time": "2021-10-08T17:15:19.386Z"
   },
   {
    "duration": 474,
    "start_time": "2021-10-08T17:15:46.507Z"
   },
   {
    "duration": 231,
    "start_time": "2021-10-08T17:16:16.495Z"
   },
   {
    "duration": 261,
    "start_time": "2021-10-08T17:16:28.886Z"
   },
   {
    "duration": 406,
    "start_time": "2021-10-08T17:17:28.568Z"
   },
   {
    "duration": 390,
    "start_time": "2021-10-08T17:17:36.377Z"
   },
   {
    "duration": 687,
    "start_time": "2021-10-08T17:18:27.809Z"
   },
   {
    "duration": 590,
    "start_time": "2021-10-08T17:18:39.499Z"
   },
   {
    "duration": 79,
    "start_time": "2021-10-08T17:18:55.119Z"
   },
   {
    "duration": 1537,
    "start_time": "2021-10-08T17:19:02.048Z"
   },
   {
    "duration": 243,
    "start_time": "2021-10-08T17:19:44.919Z"
   },
   {
    "duration": 381,
    "start_time": "2021-10-08T17:20:03.499Z"
   },
   {
    "duration": 387,
    "start_time": "2021-10-08T17:20:22.060Z"
   },
   {
    "duration": 384,
    "start_time": "2021-10-08T17:20:28.280Z"
   },
   {
    "duration": 530,
    "start_time": "2021-10-08T17:20:51.320Z"
   },
   {
    "duration": 379,
    "start_time": "2021-10-08T17:20:56.901Z"
   },
   {
    "duration": 660,
    "start_time": "2021-10-08T17:21:04.991Z"
   },
   {
    "duration": 405,
    "start_time": "2021-10-08T17:21:08.411Z"
   },
   {
    "duration": 658,
    "start_time": "2021-10-08T17:21:14.651Z"
   },
   {
    "duration": 384,
    "start_time": "2021-10-08T17:21:17.391Z"
   },
   {
    "duration": 653,
    "start_time": "2021-10-08T17:21:32.511Z"
   },
   {
    "duration": 601,
    "start_time": "2021-10-08T17:21:34.673Z"
   },
   {
    "duration": 605,
    "start_time": "2021-10-08T17:21:38.661Z"
   },
   {
    "duration": 389,
    "start_time": "2021-10-08T17:21:40.752Z"
   },
   {
    "duration": 608,
    "start_time": "2021-10-08T17:21:47.132Z"
   },
   {
    "duration": 724,
    "start_time": "2021-10-08T17:21:49.502Z"
   },
   {
    "duration": 397,
    "start_time": "2021-10-08T17:21:57.422Z"
   },
   {
    "duration": 873,
    "start_time": "2021-10-08T17:23:05.712Z"
   },
   {
    "duration": 393,
    "start_time": "2021-10-08T17:23:15.214Z"
   },
   {
    "duration": 253,
    "start_time": "2021-10-08T17:25:25.725Z"
   },
   {
    "duration": 248,
    "start_time": "2021-10-08T17:25:44.834Z"
   },
   {
    "duration": 634,
    "start_time": "2021-10-08T17:26:01.896Z"
   },
   {
    "duration": 10,
    "start_time": "2021-10-08T17:27:56.757Z"
   },
   {
    "duration": 230,
    "start_time": "2021-10-08T17:29:04.933Z"
   },
   {
    "duration": 340,
    "start_time": "2021-10-08T17:29:48.918Z"
   },
   {
    "duration": 405,
    "start_time": "2021-10-08T17:29:58.668Z"
   },
   {
    "duration": 393,
    "start_time": "2021-10-08T17:30:03.778Z"
   },
   {
    "duration": 352,
    "start_time": "2021-10-08T17:30:04.173Z"
   },
   {
    "duration": 1902,
    "start_time": "2021-10-09T15:37:21.771Z"
   },
   {
    "duration": 46,
    "start_time": "2021-10-09T15:37:23.676Z"
   },
   {
    "duration": 27,
    "start_time": "2021-10-09T15:37:23.726Z"
   },
   {
    "duration": 3,
    "start_time": "2021-10-09T15:37:23.757Z"
   },
   {
    "duration": 21,
    "start_time": "2021-10-09T15:37:23.762Z"
   },
   {
    "duration": 48,
    "start_time": "2021-10-09T15:37:23.785Z"
   },
   {
    "duration": 501,
    "start_time": "2021-10-09T15:37:23.835Z"
   },
   {
    "duration": 243,
    "start_time": "2021-10-09T15:37:24.338Z"
   },
   {
    "duration": 591,
    "start_time": "2021-10-09T15:37:26.823Z"
   },
   {
    "duration": 943,
    "start_time": "2021-10-09T15:38:02.544Z"
   },
   {
    "duration": 663,
    "start_time": "2021-10-09T15:38:06.596Z"
   },
   {
    "duration": 582,
    "start_time": "2021-10-09T15:38:30.265Z"
   },
   {
    "duration": 583,
    "start_time": "2021-10-09T15:40:13.056Z"
   },
   {
    "duration": 714,
    "start_time": "2021-10-09T15:42:51.237Z"
   },
   {
    "duration": 609,
    "start_time": "2021-10-09T15:42:56.031Z"
   },
   {
    "duration": 694,
    "start_time": "2021-10-09T15:43:05.558Z"
   },
   {
    "duration": 799,
    "start_time": "2021-10-09T15:43:40.509Z"
   },
   {
    "duration": 481,
    "start_time": "2021-10-09T15:44:40.231Z"
   },
   {
    "duration": 857,
    "start_time": "2021-10-09T15:47:02.760Z"
   },
   {
    "duration": 9774,
    "start_time": "2021-10-09T15:52:44.011Z"
   },
   {
    "duration": 797,
    "start_time": "2021-10-09T15:54:30.836Z"
   },
   {
    "duration": 793,
    "start_time": "2021-10-09T15:54:57.710Z"
   },
   {
    "duration": 792,
    "start_time": "2021-10-09T15:55:04.740Z"
   },
   {
    "duration": 520,
    "start_time": "2021-10-09T15:55:11.608Z"
   },
   {
    "duration": 28,
    "start_time": "2021-10-09T15:58:06.802Z"
   },
   {
    "duration": 1426,
    "start_time": "2021-10-09T16:00:09.404Z"
   },
   {
    "duration": 29,
    "start_time": "2021-10-09T16:01:49.576Z"
   },
   {
    "duration": 81,
    "start_time": "2021-10-09T16:04:39.439Z"
   },
   {
    "duration": 29,
    "start_time": "2021-10-09T16:04:49.077Z"
   },
   {
    "duration": 28,
    "start_time": "2021-10-09T16:05:15.307Z"
   },
   {
    "duration": 35,
    "start_time": "2021-10-09T16:07:59.837Z"
   },
   {
    "duration": 42,
    "start_time": "2021-10-09T16:09:03.081Z"
   },
   {
    "duration": 2205,
    "start_time": "2021-10-10T14:58:39.271Z"
   },
   {
    "duration": 40,
    "start_time": "2021-10-10T14:58:41.478Z"
   },
   {
    "duration": 49,
    "start_time": "2021-10-10T14:58:41.521Z"
   },
   {
    "duration": 3,
    "start_time": "2021-10-10T14:58:41.574Z"
   },
   {
    "duration": 18,
    "start_time": "2021-10-10T14:58:41.579Z"
   },
   {
    "duration": 19,
    "start_time": "2021-10-10T14:58:41.599Z"
   },
   {
    "duration": 728,
    "start_time": "2021-10-10T14:58:41.621Z"
   },
   {
    "duration": 531,
    "start_time": "2021-10-10T14:58:42.353Z"
   },
   {
    "duration": 825,
    "start_time": "2021-10-10T14:58:42.887Z"
   },
   {
    "duration": 54,
    "start_time": "2021-10-10T14:58:43.715Z"
   },
   {
    "duration": 105,
    "start_time": "2021-10-10T14:58:47.656Z"
   },
   {
    "duration": 493,
    "start_time": "2021-10-10T14:58:52.102Z"
   },
   {
    "duration": 1493,
    "start_time": "2021-10-10T15:02:31.940Z"
   },
   {
    "duration": 1471,
    "start_time": "2021-10-10T15:03:09.740Z"
   },
   {
    "duration": 11,
    "start_time": "2021-10-10T15:03:55.820Z"
   },
   {
    "duration": 813,
    "start_time": "2021-10-10T15:05:58.133Z"
   },
   {
    "duration": 118,
    "start_time": "2021-10-10T15:06:07.354Z"
   },
   {
    "duration": 107,
    "start_time": "2021-10-10T15:06:11.312Z"
   },
   {
    "duration": 971,
    "start_time": "2021-10-10T15:06:15.552Z"
   },
   {
    "duration": 4562,
    "start_time": "2021-10-10T15:06:38.923Z"
   },
   {
    "duration": 1413,
    "start_time": "2021-10-10T15:06:50.253Z"
   },
   {
    "duration": 1440,
    "start_time": "2021-10-10T15:07:54.072Z"
   },
   {
    "duration": 1446,
    "start_time": "2021-10-10T15:10:04.382Z"
   },
   {
    "duration": 1439,
    "start_time": "2021-10-10T15:10:23.786Z"
   },
   {
    "duration": 1331,
    "start_time": "2021-10-10T15:46:52.065Z"
   },
   {
    "duration": 56,
    "start_time": "2021-10-10T15:47:22.024Z"
   },
   {
    "duration": 34,
    "start_time": "2021-10-10T15:47:22.082Z"
   },
   {
    "duration": 50,
    "start_time": "2021-10-10T15:47:22.119Z"
   },
   {
    "duration": 3,
    "start_time": "2021-10-10T15:47:22.171Z"
   },
   {
    "duration": 20,
    "start_time": "2021-10-10T15:47:22.177Z"
   },
   {
    "duration": 19,
    "start_time": "2021-10-10T15:47:22.199Z"
   },
   {
    "duration": 721,
    "start_time": "2021-10-10T15:47:22.221Z"
   },
   {
    "duration": 522,
    "start_time": "2021-10-10T15:47:22.946Z"
   },
   {
    "duration": 843,
    "start_time": "2021-10-10T15:47:23.470Z"
   },
   {
    "duration": 56,
    "start_time": "2021-10-10T15:47:24.316Z"
   },
   {
    "duration": 1450,
    "start_time": "2021-10-10T15:47:24.375Z"
   },
   {
    "duration": 7639,
    "start_time": "2021-10-10T15:47:29.486Z"
   },
   {
    "duration": 399,
    "start_time": "2021-10-10T15:47:55.626Z"
   },
   {
    "duration": 350,
    "start_time": "2021-10-10T15:54:01.764Z"
   },
   {
    "duration": 8,
    "start_time": "2021-10-10T15:58:13.196Z"
   },
   {
    "duration": 347,
    "start_time": "2021-10-10T16:01:37.761Z"
   },
   {
    "duration": 350,
    "start_time": "2021-10-10T16:11:56.393Z"
   },
   {
    "duration": 450,
    "start_time": "2021-10-10T16:12:02.919Z"
   },
   {
    "duration": 1378,
    "start_time": "2021-10-11T16:13:21.689Z"
   },
   {
    "duration": 26,
    "start_time": "2021-10-11T16:13:23.069Z"
   },
   {
    "duration": 16,
    "start_time": "2021-10-11T16:13:23.097Z"
   },
   {
    "duration": 2,
    "start_time": "2021-10-11T16:13:23.115Z"
   },
   {
    "duration": 11,
    "start_time": "2021-10-11T16:13:23.119Z"
   },
   {
    "duration": 12,
    "start_time": "2021-10-11T16:13:23.131Z"
   },
   {
    "duration": 466,
    "start_time": "2021-10-11T16:13:23.145Z"
   },
   {
    "duration": 364,
    "start_time": "2021-10-11T16:13:23.613Z"
   },
   {
    "duration": 531,
    "start_time": "2021-10-11T16:13:23.979Z"
   },
   {
    "duration": 27,
    "start_time": "2021-10-11T16:13:24.512Z"
   },
   {
    "duration": 930,
    "start_time": "2021-10-11T16:13:24.541Z"
   },
   {
    "duration": 251,
    "start_time": "2021-10-11T16:13:30.338Z"
   },
   {
    "duration": 145,
    "start_time": "2021-10-11T16:14:54.776Z"
   },
   {
    "duration": 145,
    "start_time": "2021-10-11T16:15:07.720Z"
   },
   {
    "duration": 172,
    "start_time": "2021-10-11T16:15:26.411Z"
   },
   {
    "duration": 136,
    "start_time": "2021-10-11T16:18:26.881Z"
   },
   {
    "duration": 964,
    "start_time": "2021-10-11T16:18:28.981Z"
   },
   {
    "duration": 146,
    "start_time": "2021-10-11T16:18:30.310Z"
   },
   {
    "duration": 152,
    "start_time": "2021-10-11T16:25:28.908Z"
   },
   {
    "duration": 22,
    "start_time": "2021-10-11T16:26:35.379Z"
   },
   {
    "duration": 21,
    "start_time": "2021-10-11T16:26:53.838Z"
   },
   {
    "duration": 25,
    "start_time": "2021-10-11T16:27:12.850Z"
   },
   {
    "duration": 19,
    "start_time": "2021-10-11T16:28:40.431Z"
   },
   {
    "duration": 21,
    "start_time": "2021-10-11T16:28:44.079Z"
   },
   {
    "duration": 13,
    "start_time": "2021-10-11T16:28:46.691Z"
   },
   {
    "duration": 14,
    "start_time": "2021-10-11T16:29:04.801Z"
   },
   {
    "duration": 24,
    "start_time": "2021-10-11T16:29:30.660Z"
   },
   {
    "duration": 101,
    "start_time": "2021-10-11T16:29:47.810Z"
   },
   {
    "duration": 29,
    "start_time": "2021-10-11T16:30:21.359Z"
   },
   {
    "duration": 31,
    "start_time": "2021-10-11T16:30:23.832Z"
   },
   {
    "duration": 31,
    "start_time": "2021-10-11T16:30:35.822Z"
   },
   {
    "duration": 30,
    "start_time": "2021-10-11T16:30:39.412Z"
   },
   {
    "duration": 34,
    "start_time": "2021-10-11T16:30:50.482Z"
   },
   {
    "duration": 27,
    "start_time": "2021-10-11T16:32:06.434Z"
   },
   {
    "duration": 102,
    "start_time": "2021-10-11T16:32:21.244Z"
   },
   {
    "duration": 134,
    "start_time": "2021-10-11T16:40:48.571Z"
   },
   {
    "duration": 30,
    "start_time": "2021-10-11T16:40:56.951Z"
   },
   {
    "duration": 29,
    "start_time": "2021-10-11T16:41:25.360Z"
   },
   {
    "duration": 31,
    "start_time": "2021-10-11T16:41:44.222Z"
   },
   {
    "duration": 47,
    "start_time": "2021-10-11T16:41:50.093Z"
   },
   {
    "duration": 31,
    "start_time": "2021-10-11T16:42:07.111Z"
   },
   {
    "duration": 30,
    "start_time": "2021-10-11T16:42:21.871Z"
   },
   {
    "duration": 95,
    "start_time": "2021-10-11T16:42:35.721Z"
   },
   {
    "duration": 30,
    "start_time": "2021-10-11T16:42:43.462Z"
   },
   {
    "duration": 133,
    "start_time": "2021-10-11T16:44:41.865Z"
   },
   {
    "duration": 25,
    "start_time": "2021-10-11T16:45:09.213Z"
   },
   {
    "duration": 25,
    "start_time": "2021-10-11T16:45:35.235Z"
   },
   {
    "duration": 26,
    "start_time": "2021-10-11T16:45:42.924Z"
   },
   {
    "duration": 48,
    "start_time": "2021-10-11T16:46:14.985Z"
   },
   {
    "duration": 39,
    "start_time": "2021-10-11T16:46:20.645Z"
   },
   {
    "duration": 24,
    "start_time": "2021-10-11T16:46:22.905Z"
   },
   {
    "duration": 37,
    "start_time": "2021-10-11T16:47:18.677Z"
   },
   {
    "duration": 27,
    "start_time": "2021-10-11T16:48:05.098Z"
   },
   {
    "duration": 39,
    "start_time": "2021-10-11T16:48:57.667Z"
   },
   {
    "duration": 44,
    "start_time": "2021-10-11T16:49:12.127Z"
   },
   {
    "duration": 41,
    "start_time": "2021-10-11T16:49:15.178Z"
   },
   {
    "duration": 25,
    "start_time": "2021-10-11T16:49:17.628Z"
   },
   {
    "duration": 39,
    "start_time": "2021-10-11T16:49:31.337Z"
   },
   {
    "duration": 26,
    "start_time": "2021-10-11T16:49:44.588Z"
   },
   {
    "duration": 25,
    "start_time": "2021-10-11T16:51:30.449Z"
   },
   {
    "duration": 25,
    "start_time": "2021-10-11T16:51:41.569Z"
   },
   {
    "duration": 133,
    "start_time": "2021-10-11T16:56:12.270Z"
   },
   {
    "duration": 133,
    "start_time": "2021-10-11T16:56:28.505Z"
   },
   {
    "duration": 130,
    "start_time": "2021-10-11T16:56:33.985Z"
   },
   {
    "duration": 25,
    "start_time": "2021-10-11T16:57:13.664Z"
   },
   {
    "duration": 144,
    "start_time": "2021-10-11T17:02:20.707Z"
   },
   {
    "duration": 579,
    "start_time": "2021-10-11T17:02:29.449Z"
   },
   {
    "duration": 34,
    "start_time": "2021-10-11T17:03:46.251Z"
   },
   {
    "duration": 43,
    "start_time": "2021-10-11T17:03:49.360Z"
   },
   {
    "duration": 26,
    "start_time": "2021-10-11T17:03:52.239Z"
   },
   {
    "duration": 35,
    "start_time": "2021-10-11T17:04:00.089Z"
   },
   {
    "duration": 30,
    "start_time": "2021-10-11T17:04:03.300Z"
   },
   {
    "duration": 26,
    "start_time": "2021-10-11T17:04:15.490Z"
   },
   {
    "duration": 26,
    "start_time": "2021-10-11T17:05:15.012Z"
   },
   {
    "duration": 26,
    "start_time": "2021-10-11T17:05:34.140Z"
   },
   {
    "duration": 26,
    "start_time": "2021-10-11T17:05:37.532Z"
   },
   {
    "duration": 27,
    "start_time": "2021-10-11T17:05:45.740Z"
   },
   {
    "duration": 51,
    "start_time": "2021-10-11T17:06:43.860Z"
   },
   {
    "duration": 45,
    "start_time": "2021-10-11T17:06:46.462Z"
   },
   {
    "duration": 24,
    "start_time": "2021-10-11T17:06:54.182Z"
   },
   {
    "duration": 26,
    "start_time": "2021-10-11T17:07:15.673Z"
   },
   {
    "duration": 25,
    "start_time": "2021-10-11T17:07:17.893Z"
   },
   {
    "duration": 14,
    "start_time": "2021-10-11T17:07:23.103Z"
   },
   {
    "duration": 142,
    "start_time": "2021-10-11T17:07:26.554Z"
   },
   {
    "duration": 23,
    "start_time": "2021-10-11T17:07:37.643Z"
   },
   {
    "duration": 31,
    "start_time": "2021-10-11T17:08:47.545Z"
   },
   {
    "duration": 31,
    "start_time": "2021-10-11T17:08:53.183Z"
   },
   {
    "duration": 32,
    "start_time": "2021-10-11T17:09:24.304Z"
   },
   {
    "duration": 32,
    "start_time": "2021-10-11T17:09:27.654Z"
   },
   {
    "duration": 34,
    "start_time": "2021-10-11T17:09:38.534Z"
   },
   {
    "duration": 82,
    "start_time": "2021-10-11T17:09:46.845Z"
   },
   {
    "duration": 32,
    "start_time": "2021-10-11T17:09:47.855Z"
   },
   {
    "duration": 23,
    "start_time": "2021-10-11T17:09:50.454Z"
   },
   {
    "duration": 50,
    "start_time": "2021-10-11T17:11:55.498Z"
   },
   {
    "duration": 47,
    "start_time": "2021-10-11T17:12:03.825Z"
   },
   {
    "duration": 25,
    "start_time": "2021-10-11T17:19:57.443Z"
   },
   {
    "duration": 21,
    "start_time": "2021-10-11T17:21:56.564Z"
   },
   {
    "duration": 21,
    "start_time": "2021-10-11T17:22:06.195Z"
   },
   {
    "duration": 21,
    "start_time": "2021-10-11T17:22:08.537Z"
   },
   {
    "duration": 20,
    "start_time": "2021-10-11T17:22:14.825Z"
   },
   {
    "duration": 22,
    "start_time": "2021-10-11T17:22:29.396Z"
   },
   {
    "duration": 26,
    "start_time": "2021-10-11T17:22:34.805Z"
   },
   {
    "duration": 33,
    "start_time": "2021-10-11T17:22:43.404Z"
   },
   {
    "duration": 145,
    "start_time": "2021-10-11T17:22:50.896Z"
   },
   {
    "duration": 23,
    "start_time": "2021-10-11T17:22:55.348Z"
   },
   {
    "duration": 135,
    "start_time": "2021-10-11T17:22:58.826Z"
   },
   {
    "duration": 546,
    "start_time": "2021-10-11T17:23:00.976Z"
   },
   {
    "duration": 25,
    "start_time": "2021-10-11T17:23:02.896Z"
   },
   {
    "duration": 26,
    "start_time": "2021-10-11T17:23:09.736Z"
   },
   {
    "duration": 39,
    "start_time": "2021-10-11T17:23:15.627Z"
   },
   {
    "duration": 25,
    "start_time": "2021-10-11T17:23:20.337Z"
   },
   {
    "duration": 24,
    "start_time": "2021-10-11T17:23:22.446Z"
   },
   {
    "duration": 24,
    "start_time": "2021-10-11T17:25:08.908Z"
   },
   {
    "duration": 23,
    "start_time": "2021-10-11T17:25:18.160Z"
   },
   {
    "duration": 24,
    "start_time": "2021-10-11T17:25:25.298Z"
   },
   {
    "duration": 26,
    "start_time": "2021-10-11T17:25:29.058Z"
   },
   {
    "duration": 24,
    "start_time": "2021-10-11T17:30:39.902Z"
   },
   {
    "duration": 29,
    "start_time": "2021-10-11T17:42:33.717Z"
   },
   {
    "duration": 23,
    "start_time": "2021-10-11T17:42:46.252Z"
   },
   {
    "duration": 25,
    "start_time": "2021-10-11T17:43:00.522Z"
   },
   {
    "duration": 26,
    "start_time": "2021-10-11T17:44:23.824Z"
   },
   {
    "duration": 24,
    "start_time": "2021-10-11T17:44:33.225Z"
   },
   {
    "duration": 36,
    "start_time": "2021-10-11T17:44:49.820Z"
   },
   {
    "duration": 138,
    "start_time": "2021-10-11T17:44:53.405Z"
   },
   {
    "duration": 183,
    "start_time": "2021-10-11T17:44:58.185Z"
   },
   {
    "duration": 23,
    "start_time": "2021-10-11T17:45:07.356Z"
   },
   {
    "duration": 26,
    "start_time": "2021-10-11T17:45:10.446Z"
   },
   {
    "duration": 26,
    "start_time": "2021-10-11T17:45:28.874Z"
   },
   {
    "duration": 26,
    "start_time": "2021-10-11T17:45:35.815Z"
   },
   {
    "duration": 25,
    "start_time": "2021-10-11T17:45:39.505Z"
   },
   {
    "duration": 42,
    "start_time": "2021-10-11T17:45:57.338Z"
   },
   {
    "duration": 26,
    "start_time": "2021-10-11T17:46:02.403Z"
   },
   {
    "duration": 150,
    "start_time": "2021-10-11T17:46:10.895Z"
   },
   {
    "duration": 144,
    "start_time": "2021-10-11T17:46:15.589Z"
   },
   {
    "duration": 27,
    "start_time": "2021-10-11T17:46:25.548Z"
   },
   {
    "duration": 27,
    "start_time": "2021-10-11T17:46:34.596Z"
   },
   {
    "duration": 26,
    "start_time": "2021-10-11T17:46:38.326Z"
   },
   {
    "duration": 27,
    "start_time": "2021-10-11T17:46:43.805Z"
   },
   {
    "duration": 26,
    "start_time": "2021-10-11T17:46:51.206Z"
   },
   {
    "duration": 24,
    "start_time": "2021-10-11T17:46:54.936Z"
   },
   {
    "duration": 26,
    "start_time": "2021-10-11T17:46:59.436Z"
   },
   {
    "duration": 25,
    "start_time": "2021-10-11T17:47:04.208Z"
   },
   {
    "duration": 24,
    "start_time": "2021-10-11T17:47:08.557Z"
   },
   {
    "duration": 26,
    "start_time": "2021-10-11T17:47:12.247Z"
   },
   {
    "duration": 23,
    "start_time": "2021-10-11T17:47:14.507Z"
   },
   {
    "duration": 24,
    "start_time": "2021-10-11T17:47:16.707Z"
   },
   {
    "duration": 24,
    "start_time": "2021-10-11T17:47:50.488Z"
   },
   {
    "duration": 24,
    "start_time": "2021-10-11T17:47:52.387Z"
   },
   {
    "duration": 31,
    "start_time": "2021-10-11T17:48:30.669Z"
   },
   {
    "duration": 26,
    "start_time": "2021-10-11T17:48:38.349Z"
   },
   {
    "duration": 26,
    "start_time": "2021-10-11T17:48:54.799Z"
   },
   {
    "duration": 33,
    "start_time": "2021-10-11T17:49:17.888Z"
   },
   {
    "duration": 34,
    "start_time": "2021-10-11T17:49:21.190Z"
   },
   {
    "duration": 912,
    "start_time": "2021-10-11T17:49:24.688Z"
   },
   {
    "duration": 59,
    "start_time": "2021-10-11T17:49:28.488Z"
   },
   {
    "duration": 33,
    "start_time": "2021-10-11T17:49:31.518Z"
   },
   {
    "duration": 26,
    "start_time": "2021-10-11T17:50:00.849Z"
   },
   {
    "duration": 153,
    "start_time": "2021-10-11T17:50:07.959Z"
   },
   {
    "duration": 152,
    "start_time": "2021-10-11T17:50:10.589Z"
   },
   {
    "duration": 26,
    "start_time": "2021-10-11T17:50:20.259Z"
   },
   {
    "duration": 136,
    "start_time": "2021-10-11T17:50:39.690Z"
   },
   {
    "duration": 25,
    "start_time": "2021-10-11T17:50:43.200Z"
   },
   {
    "duration": 26,
    "start_time": "2021-10-11T17:51:27.691Z"
   },
   {
    "duration": 25,
    "start_time": "2021-10-11T17:51:36.809Z"
   },
   {
    "duration": 25,
    "start_time": "2021-10-11T17:51:43.891Z"
   },
   {
    "duration": 24,
    "start_time": "2021-10-11T17:51:46.620Z"
   },
   {
    "duration": 23,
    "start_time": "2021-10-11T17:52:18.301Z"
   },
   {
    "duration": 24,
    "start_time": "2021-10-11T17:52:32.281Z"
   },
   {
    "duration": 25,
    "start_time": "2021-10-11T17:52:35.321Z"
   },
   {
    "duration": 24,
    "start_time": "2021-10-11T17:52:38.151Z"
   },
   {
    "duration": 25,
    "start_time": "2021-10-11T17:52:40.463Z"
   },
   {
    "duration": 24,
    "start_time": "2021-10-11T17:52:42.681Z"
   },
   {
    "duration": 26,
    "start_time": "2021-10-11T17:52:44.891Z"
   },
   {
    "duration": 25,
    "start_time": "2021-10-11T17:52:47.721Z"
   },
   {
    "duration": 28,
    "start_time": "2021-10-11T17:52:50.551Z"
   },
   {
    "duration": 143,
    "start_time": "2021-10-11T17:52:58.901Z"
   },
   {
    "duration": 26,
    "start_time": "2021-10-11T17:53:01.934Z"
   },
   {
    "duration": 69,
    "start_time": "2021-10-11T17:53:13.032Z"
   },
   {
    "duration": 68,
    "start_time": "2021-10-11T17:53:17.182Z"
   },
   {
    "duration": 140,
    "start_time": "2021-10-11T17:53:19.502Z"
   },
   {
    "duration": 26,
    "start_time": "2021-10-11T17:53:22.474Z"
   },
   {
    "duration": 26,
    "start_time": "2021-10-11T17:53:31.352Z"
   },
   {
    "duration": 28,
    "start_time": "2021-10-11T17:54:03.103Z"
   },
   {
    "duration": 27,
    "start_time": "2021-10-11T17:54:08.393Z"
   },
   {
    "duration": 110,
    "start_time": "2021-10-11T17:54:22.032Z"
   },
   {
    "duration": 29,
    "start_time": "2021-10-11T17:54:24.202Z"
   },
   {
    "duration": 29,
    "start_time": "2021-10-11T17:54:32.884Z"
   },
   {
    "duration": 29,
    "start_time": "2021-10-11T17:54:38.844Z"
   },
   {
    "duration": 28,
    "start_time": "2021-10-11T17:54:42.902Z"
   },
   {
    "duration": 29,
    "start_time": "2021-10-11T17:54:55.382Z"
   },
   {
    "duration": 25,
    "start_time": "2021-10-11T17:55:04.203Z"
   },
   {
    "duration": 25,
    "start_time": "2021-10-11T17:55:07.282Z"
   },
   {
    "duration": 27,
    "start_time": "2021-10-11T17:55:09.923Z"
   },
   {
    "duration": 29,
    "start_time": "2021-10-11T17:55:24.783Z"
   },
   {
    "duration": 30,
    "start_time": "2021-10-11T17:55:57.754Z"
   },
   {
    "duration": 29,
    "start_time": "2021-10-11T17:56:16.686Z"
   },
   {
    "duration": 25,
    "start_time": "2021-10-11T17:56:20.955Z"
   },
   {
    "duration": 24,
    "start_time": "2021-10-11T17:56:32.925Z"
   },
   {
    "duration": 30,
    "start_time": "2021-10-11T17:57:40.647Z"
   },
   {
    "duration": 28,
    "start_time": "2021-10-11T17:58:04.195Z"
   },
   {
    "duration": 30,
    "start_time": "2021-10-11T17:58:23.547Z"
   },
   {
    "duration": 64,
    "start_time": "2021-10-11T17:58:47.387Z"
   },
   {
    "duration": 31,
    "start_time": "2021-10-11T17:59:01.177Z"
   },
   {
    "duration": 28,
    "start_time": "2021-10-11T17:59:03.146Z"
   },
   {
    "duration": 29,
    "start_time": "2021-10-11T17:59:11.267Z"
   },
   {
    "duration": 25,
    "start_time": "2021-10-11T17:59:13.547Z"
   },
   {
    "duration": 27,
    "start_time": "2021-10-11T17:59:29.787Z"
   },
   {
    "duration": 29,
    "start_time": "2021-10-11T17:59:56.998Z"
   },
   {
    "duration": 31,
    "start_time": "2021-10-11T18:00:08.916Z"
   },
   {
    "duration": 30,
    "start_time": "2021-10-11T18:00:15.718Z"
   },
   {
    "duration": 52,
    "start_time": "2021-10-11T18:02:17.667Z"
   },
   {
    "duration": 25,
    "start_time": "2021-10-11T18:02:35.200Z"
   },
   {
    "duration": 24,
    "start_time": "2021-10-11T18:02:39.150Z"
   },
   {
    "duration": 25,
    "start_time": "2021-10-11T18:02:42.760Z"
   },
   {
    "duration": 21,
    "start_time": "2021-10-11T18:02:51.630Z"
   },
   {
    "duration": 141,
    "start_time": "2021-10-11T18:03:16.541Z"
   },
   {
    "duration": 27,
    "start_time": "2021-10-11T18:03:25.971Z"
   },
   {
    "duration": 26,
    "start_time": "2021-10-11T18:03:34.421Z"
   },
   {
    "duration": 23,
    "start_time": "2021-10-11T18:03:37.871Z"
   },
   {
    "duration": 46,
    "start_time": "2021-10-11T18:03:40.859Z"
   },
   {
    "duration": 45,
    "start_time": "2021-10-11T18:03:44.359Z"
   },
   {
    "duration": 54,
    "start_time": "2021-10-11T18:03:46.551Z"
   },
   {
    "duration": 26,
    "start_time": "2021-10-11T18:03:48.852Z"
   },
   {
    "duration": 27,
    "start_time": "2021-10-11T18:03:59.580Z"
   },
   {
    "duration": 50,
    "start_time": "2021-10-11T18:04:26.383Z"
   },
   {
    "duration": 25,
    "start_time": "2021-10-11T18:04:30.381Z"
   },
   {
    "duration": 29,
    "start_time": "2021-10-11T18:04:46.071Z"
   },
   {
    "duration": 27,
    "start_time": "2021-10-11T18:05:50.732Z"
   },
   {
    "duration": 26,
    "start_time": "2021-10-11T18:05:53.013Z"
   },
   {
    "duration": 37,
    "start_time": "2021-10-11T18:06:25.194Z"
   },
   {
    "duration": 37,
    "start_time": "2021-10-11T18:06:49.212Z"
   },
   {
    "duration": 37,
    "start_time": "2021-10-11T18:06:59.565Z"
   },
   {
    "duration": 35,
    "start_time": "2021-10-11T18:07:10.505Z"
   },
   {
    "duration": 10,
    "start_time": "2021-10-11T18:08:50.535Z"
   },
   {
    "duration": 1213,
    "start_time": "2021-10-11T18:10:23.086Z"
   },
   {
    "duration": 1644,
    "start_time": "2021-10-12T12:13:27.464Z"
   },
   {
    "duration": 31,
    "start_time": "2021-10-12T12:13:29.110Z"
   },
   {
    "duration": 19,
    "start_time": "2021-10-12T12:13:29.146Z"
   },
   {
    "duration": 2,
    "start_time": "2021-10-12T12:13:29.167Z"
   },
   {
    "duration": 14,
    "start_time": "2021-10-12T12:13:29.171Z"
   },
   {
    "duration": 15,
    "start_time": "2021-10-12T12:13:29.187Z"
   },
   {
    "duration": 462,
    "start_time": "2021-10-12T12:13:29.205Z"
   },
   {
    "duration": 374,
    "start_time": "2021-10-12T12:13:29.669Z"
   },
   {
    "duration": 551,
    "start_time": "2021-10-12T12:13:30.049Z"
   },
   {
    "duration": 28,
    "start_time": "2021-10-12T12:13:30.602Z"
   },
   {
    "duration": 887,
    "start_time": "2021-10-12T12:13:30.632Z"
   },
   {
    "duration": 35,
    "start_time": "2021-10-12T12:13:31.521Z"
   },
   {
    "duration": 1564,
    "start_time": "2021-10-12T12:13:31.558Z"
   },
   {
    "duration": 10,
    "start_time": "2021-10-12T12:13:33.124Z"
   },
   {
    "duration": 368,
    "start_time": "2021-10-12T12:15:32.025Z"
   },
   {
    "duration": 12,
    "start_time": "2021-10-12T12:15:49.114Z"
   },
   {
    "duration": 26,
    "start_time": "2021-10-12T12:16:04.664Z"
   },
   {
    "duration": 989,
    "start_time": "2021-10-12T12:16:05.274Z"
   },
   {
    "duration": 14,
    "start_time": "2021-10-12T12:16:06.266Z"
   },
   {
    "duration": 11,
    "start_time": "2021-10-12T12:16:07.043Z"
   },
   {
    "duration": 281,
    "start_time": "2021-10-12T12:16:22.644Z"
   },
   {
    "duration": 206,
    "start_time": "2021-10-12T12:16:32.894Z"
   },
   {
    "duration": 13,
    "start_time": "2021-10-12T12:16:39.095Z"
   },
   {
    "duration": 209,
    "start_time": "2021-10-12T12:17:01.976Z"
   },
   {
    "duration": 206,
    "start_time": "2021-10-12T12:17:08.336Z"
   },
   {
    "duration": 11,
    "start_time": "2021-10-12T12:17:12.406Z"
   },
   {
    "duration": 25,
    "start_time": "2021-10-12T12:17:21.196Z"
   },
   {
    "duration": 1003,
    "start_time": "2021-10-12T12:17:22.505Z"
   },
   {
    "duration": 13,
    "start_time": "2021-10-12T12:17:25.036Z"
   },
   {
    "duration": 28,
    "start_time": "2021-10-12T12:17:41.366Z"
   },
   {
    "duration": 878,
    "start_time": "2021-10-12T12:17:42.425Z"
   },
   {
    "duration": 14,
    "start_time": "2021-10-12T12:17:44.374Z"
   },
   {
    "duration": 23,
    "start_time": "2021-10-12T12:17:52.947Z"
   },
   {
    "duration": 854,
    "start_time": "2021-10-12T12:17:53.917Z"
   },
   {
    "duration": 9,
    "start_time": "2021-10-12T12:17:54.773Z"
   },
   {
    "duration": 27,
    "start_time": "2021-10-12T12:18:05.335Z"
   },
   {
    "duration": 964,
    "start_time": "2021-10-12T12:18:05.807Z"
   },
   {
    "duration": 15,
    "start_time": "2021-10-12T12:18:06.774Z"
   },
   {
    "duration": 250,
    "start_time": "2021-10-12T12:19:12.447Z"
   },
   {
    "duration": 224,
    "start_time": "2021-10-12T12:19:47.558Z"
   },
   {
    "duration": 208,
    "start_time": "2021-10-12T12:19:54.098Z"
   },
   {
    "duration": 210,
    "start_time": "2021-10-12T12:19:57.857Z"
   },
   {
    "duration": 245,
    "start_time": "2021-10-12T12:20:10.268Z"
   },
   {
    "duration": 15,
    "start_time": "2021-10-12T12:20:12.830Z"
   },
   {
    "duration": 20,
    "start_time": "2021-10-12T12:21:28.360Z"
   },
   {
    "duration": 23,
    "start_time": "2021-10-12T12:21:43.334Z"
   },
   {
    "duration": 21,
    "start_time": "2021-10-12T12:21:54.009Z"
   },
   {
    "duration": 19,
    "start_time": "2021-10-12T12:22:01.318Z"
   },
   {
    "duration": 27,
    "start_time": "2021-10-12T12:22:46.340Z"
   },
   {
    "duration": 1081,
    "start_time": "2021-10-12T12:22:46.880Z"
   },
   {
    "duration": 22,
    "start_time": "2021-10-12T12:22:48.180Z"
   },
   {
    "duration": 26,
    "start_time": "2021-10-12T12:23:18.881Z"
   },
   {
    "duration": 1586,
    "start_time": "2021-10-12T12:23:19.301Z"
   },
   {
    "duration": 20,
    "start_time": "2021-10-12T12:23:20.889Z"
   },
   {
    "duration": 11,
    "start_time": "2021-10-12T12:23:20.922Z"
   },
   {
    "duration": 32,
    "start_time": "2021-10-12T12:23:42.861Z"
   },
   {
    "duration": 1097,
    "start_time": "2021-10-12T12:23:43.451Z"
   },
   {
    "duration": 20,
    "start_time": "2021-10-12T12:23:44.550Z"
   },
   {
    "duration": 10,
    "start_time": "2021-10-12T12:23:44.810Z"
   },
   {
    "duration": 27,
    "start_time": "2021-10-12T12:23:56.570Z"
   },
   {
    "duration": 1052,
    "start_time": "2021-10-12T12:23:57.100Z"
   },
   {
    "duration": 25,
    "start_time": "2021-10-12T12:23:58.154Z"
   },
   {
    "duration": 10,
    "start_time": "2021-10-12T12:23:58.972Z"
   },
   {
    "duration": 10,
    "start_time": "2021-10-12T12:27:59.983Z"
   },
   {
    "duration": 1615,
    "start_time": "2021-10-12T12:29:03.616Z"
   },
   {
    "duration": 219,
    "start_time": "2021-10-12T12:29:41.898Z"
   },
   {
    "duration": 13,
    "start_time": "2021-10-12T12:30:31.229Z"
   },
   {
    "duration": 21,
    "start_time": "2021-10-12T12:30:35.358Z"
   },
   {
    "duration": 20,
    "start_time": "2021-10-12T12:31:05.957Z"
   },
   {
    "duration": 24,
    "start_time": "2021-10-12T12:31:33.597Z"
   },
   {
    "duration": 221,
    "start_time": "2021-10-12T12:32:05.739Z"
   },
   {
    "duration": 214,
    "start_time": "2021-10-12T12:32:07.049Z"
   },
   {
    "duration": 203,
    "start_time": "2021-10-12T12:32:18.549Z"
   },
   {
    "duration": 253,
    "start_time": "2021-10-12T12:33:03.079Z"
   },
   {
    "duration": 288,
    "start_time": "2021-10-12T12:33:13.003Z"
   },
   {
    "duration": 4,
    "start_time": "2021-10-12T12:33:57.034Z"
   },
   {
    "duration": 211,
    "start_time": "2021-10-12T12:34:29.343Z"
   },
   {
    "duration": 21,
    "start_time": "2021-10-12T12:34:36.355Z"
   },
   {
    "duration": 28,
    "start_time": "2021-10-12T12:36:44.896Z"
   },
   {
    "duration": 26,
    "start_time": "2021-10-12T12:37:04.797Z"
   },
   {
    "duration": 19,
    "start_time": "2021-10-12T12:38:12.247Z"
   },
   {
    "duration": 23,
    "start_time": "2021-10-12T12:38:29.667Z"
   },
   {
    "duration": 1584,
    "start_time": "2021-10-12T12:39:08.170Z"
   },
   {
    "duration": 30,
    "start_time": "2021-10-12T12:39:09.757Z"
   },
   {
    "duration": 19,
    "start_time": "2021-10-12T12:39:09.791Z"
   },
   {
    "duration": 2,
    "start_time": "2021-10-12T12:39:09.812Z"
   },
   {
    "duration": 39,
    "start_time": "2021-10-12T12:39:09.816Z"
   },
   {
    "duration": 24,
    "start_time": "2021-10-12T12:39:09.857Z"
   },
   {
    "duration": 467,
    "start_time": "2021-10-12T12:39:09.884Z"
   },
   {
    "duration": 349,
    "start_time": "2021-10-12T12:39:10.354Z"
   },
   {
    "duration": 566,
    "start_time": "2021-10-12T12:39:10.705Z"
   },
   {
    "duration": 29,
    "start_time": "2021-10-12T12:39:11.272Z"
   },
   {
    "duration": 946,
    "start_time": "2021-10-12T12:39:11.303Z"
   },
   {
    "duration": 28,
    "start_time": "2021-10-12T12:39:12.251Z"
   },
   {
    "duration": 1226,
    "start_time": "2021-10-12T12:39:12.280Z"
   },
   {
    "duration": 24,
    "start_time": "2021-10-12T12:39:13.508Z"
   },
   {
    "duration": 75,
    "start_time": "2021-10-12T12:39:13.534Z"
   },
   {
    "duration": 2907,
    "start_time": "2021-10-12T12:39:10.704Z"
   },
   {
    "duration": 69,
    "start_time": "2021-10-12T12:39:34.213Z"
   },
   {
    "duration": 19,
    "start_time": "2021-10-12T12:39:44.403Z"
   },
   {
    "duration": 16,
    "start_time": "2021-10-12T12:40:04.499Z"
   },
   {
    "duration": 20,
    "start_time": "2021-10-12T12:40:14.283Z"
   },
   {
    "duration": 23,
    "start_time": "2021-10-12T12:41:21.643Z"
   },
   {
    "duration": 24,
    "start_time": "2021-10-12T12:42:23.295Z"
   },
   {
    "duration": 26,
    "start_time": "2021-10-12T12:45:16.936Z"
   },
   {
    "duration": 26,
    "start_time": "2021-10-12T12:45:26.546Z"
   },
   {
    "duration": 25,
    "start_time": "2021-10-12T12:50:02.120Z"
   },
   {
    "duration": 74,
    "start_time": "2021-10-12T12:50:26.101Z"
   },
   {
    "duration": 20,
    "start_time": "2021-10-12T12:50:28.460Z"
   },
   {
    "duration": 18,
    "start_time": "2021-10-12T12:50:58.741Z"
   },
   {
    "duration": 31,
    "start_time": "2021-10-12T12:51:08.609Z"
   },
   {
    "duration": 47,
    "start_time": "2021-10-12T12:51:21.082Z"
   },
   {
    "duration": 292,
    "start_time": "2021-10-12T12:51:27.362Z"
   },
   {
    "duration": 2043,
    "start_time": "2021-10-12T12:52:01.581Z"
   },
   {
    "duration": 78,
    "start_time": "2021-10-12T12:52:05.233Z"
   },
   {
    "duration": 64,
    "start_time": "2021-10-12T12:52:17.021Z"
   },
   {
    "duration": 46,
    "start_time": "2021-10-12T12:52:23.421Z"
   },
   {
    "duration": 61,
    "start_time": "2021-10-12T12:52:27.731Z"
   },
   {
    "duration": 219,
    "start_time": "2021-10-12T12:52:29.531Z"
   },
   {
    "duration": 263,
    "start_time": "2021-10-12T12:52:33.863Z"
   },
   {
    "duration": 163,
    "start_time": "2021-10-12T12:52:36.392Z"
   },
   {
    "duration": 216,
    "start_time": "2021-10-12T12:53:04.032Z"
   },
   {
    "duration": 91,
    "start_time": "2021-10-12T12:53:53.844Z"
   },
   {
    "duration": 118,
    "start_time": "2021-10-12T12:54:04.654Z"
   },
   {
    "duration": 22,
    "start_time": "2021-10-12T12:54:07.682Z"
   },
   {
    "duration": 18,
    "start_time": "2021-10-12T12:54:23.814Z"
   },
   {
    "duration": 18,
    "start_time": "2021-10-12T12:54:29.882Z"
   },
   {
    "duration": 238,
    "start_time": "2021-10-12T12:54:31.013Z"
   },
   {
    "duration": 40,
    "start_time": "2021-10-12T12:54:52.776Z"
   },
   {
    "duration": 34,
    "start_time": "2021-10-12T12:54:58.621Z"
   },
   {
    "duration": 36,
    "start_time": "2021-10-12T12:55:06.255Z"
   },
   {
    "duration": 33,
    "start_time": "2021-10-12T12:55:17.054Z"
   },
   {
    "duration": 35,
    "start_time": "2021-10-12T12:55:22.406Z"
   },
   {
    "duration": 34,
    "start_time": "2021-10-12T12:56:06.205Z"
   },
   {
    "duration": 38,
    "start_time": "2021-10-12T12:56:11.275Z"
   },
   {
    "duration": 36,
    "start_time": "2021-10-12T12:56:13.615Z"
   },
   {
    "duration": 357,
    "start_time": "2021-10-12T12:58:55.437Z"
   },
   {
    "duration": 262,
    "start_time": "2021-10-12T12:59:02.089Z"
   },
   {
    "duration": 50,
    "start_time": "2021-10-12T12:59:23.696Z"
   },
   {
    "duration": 27,
    "start_time": "2021-10-12T12:59:23.748Z"
   },
   {
    "duration": 20,
    "start_time": "2021-10-12T12:59:23.777Z"
   },
   {
    "duration": 2,
    "start_time": "2021-10-12T12:59:23.799Z"
   },
   {
    "duration": 14,
    "start_time": "2021-10-12T12:59:23.802Z"
   },
   {
    "duration": 39,
    "start_time": "2021-10-12T12:59:23.818Z"
   },
   {
    "duration": 531,
    "start_time": "2021-10-12T12:59:23.859Z"
   },
   {
    "duration": 399,
    "start_time": "2021-10-12T12:59:24.392Z"
   },
   {
    "duration": 595,
    "start_time": "2021-10-12T12:59:24.793Z"
   },
   {
    "duration": 30,
    "start_time": "2021-10-12T12:59:25.390Z"
   },
   {
    "duration": 987,
    "start_time": "2021-10-12T12:59:25.422Z"
   },
   {
    "duration": 5565,
    "start_time": "2021-10-12T12:59:37.548Z"
   },
   {
    "duration": 5094,
    "start_time": "2021-10-12T12:59:48.061Z"
   },
   {
    "duration": 15,
    "start_time": "2021-10-12T13:00:09.549Z"
   },
   {
    "duration": 36,
    "start_time": "2021-10-12T13:00:16.147Z"
   },
   {
    "duration": 2184,
    "start_time": "2021-10-12T13:00:49.100Z"
   },
   {
    "duration": 37,
    "start_time": "2021-10-12T13:01:01.430Z"
   },
   {
    "duration": 241,
    "start_time": "2021-10-12T13:03:59.942Z"
   },
   {
    "duration": 28,
    "start_time": "2021-10-12T13:04:04.520Z"
   },
   {
    "duration": 277,
    "start_time": "2021-10-12T13:04:14.621Z"
   },
   {
    "duration": 34,
    "start_time": "2021-10-12T13:04:38.701Z"
   },
   {
    "duration": 43,
    "start_time": "2021-10-12T13:04:42.222Z"
   },
   {
    "duration": 955,
    "start_time": "2021-10-12T13:05:16.853Z"
   },
   {
    "duration": 26,
    "start_time": "2021-10-12T13:05:19.933Z"
   },
   {
    "duration": 1366,
    "start_time": "2021-10-12T13:05:20.413Z"
   },
   {
    "duration": 29,
    "start_time": "2021-10-12T13:05:22.472Z"
   },
   {
    "duration": 11,
    "start_time": "2021-10-12T13:06:28.004Z"
   },
   {
    "duration": 26,
    "start_time": "2021-10-12T13:06:32.694Z"
   },
   {
    "duration": 14,
    "start_time": "2021-10-12T13:07:01.825Z"
   },
   {
    "duration": 13,
    "start_time": "2021-10-12T13:07:06.014Z"
   },
   {
    "duration": 13,
    "start_time": "2021-10-12T13:07:10.825Z"
   },
   {
    "duration": 14,
    "start_time": "2021-10-12T13:07:29.114Z"
   },
   {
    "duration": 10,
    "start_time": "2021-10-12T13:07:35.826Z"
   },
   {
    "duration": 12,
    "start_time": "2021-10-12T13:07:44.384Z"
   },
   {
    "duration": 12,
    "start_time": "2021-10-12T13:07:46.865Z"
   },
   {
    "duration": 6,
    "start_time": "2021-10-12T13:09:29.607Z"
   },
   {
    "duration": 9,
    "start_time": "2021-10-12T13:09:36.445Z"
   },
   {
    "duration": 7,
    "start_time": "2021-10-12T13:10:41.747Z"
   },
   {
    "duration": 3918,
    "start_time": "2021-10-12T13:11:04.477Z"
   },
   {
    "duration": 7,
    "start_time": "2021-10-12T13:11:29.747Z"
   },
   {
    "duration": 227,
    "start_time": "2021-10-12T13:12:35.697Z"
   },
   {
    "duration": 9,
    "start_time": "2021-10-12T13:12:41.467Z"
   },
   {
    "duration": 298,
    "start_time": "2021-10-12T13:13:00.818Z"
   },
   {
    "duration": 9,
    "start_time": "2021-10-12T13:13:05.160Z"
   },
   {
    "duration": 6,
    "start_time": "2021-10-12T13:13:27.859Z"
   },
   {
    "duration": 14,
    "start_time": "2021-10-12T13:14:39.239Z"
   },
   {
    "duration": 24,
    "start_time": "2021-10-12T13:14:55.990Z"
   },
   {
    "duration": 1161,
    "start_time": "2021-10-12T13:14:56.481Z"
   },
   {
    "duration": 15,
    "start_time": "2021-10-12T13:14:57.644Z"
   },
   {
    "duration": 283,
    "start_time": "2021-10-12T13:15:09.341Z"
   },
   {
    "duration": 23,
    "start_time": "2021-10-12T13:15:42.332Z"
   },
   {
    "duration": 16,
    "start_time": "2021-10-12T13:16:04.922Z"
   },
   {
    "duration": 17,
    "start_time": "2021-10-12T13:16:32.201Z"
   },
   {
    "duration": 9,
    "start_time": "2021-10-12T13:17:41.963Z"
   },
   {
    "duration": 7,
    "start_time": "2021-10-12T13:19:09.061Z"
   },
   {
    "duration": 6,
    "start_time": "2021-10-12T13:19:14.453Z"
   },
   {
    "duration": 19,
    "start_time": "2021-10-12T13:22:23.654Z"
   },
   {
    "duration": 29,
    "start_time": "2021-10-12T13:23:39.404Z"
   },
   {
    "duration": 21,
    "start_time": "2021-10-12T13:23:40.960Z"
   },
   {
    "duration": 7,
    "start_time": "2021-10-12T13:23:42.286Z"
   },
   {
    "duration": 11,
    "start_time": "2021-10-12T13:23:42.467Z"
   },
   {
    "duration": 15,
    "start_time": "2021-10-12T13:23:43.678Z"
   },
   {
    "duration": 19,
    "start_time": "2021-10-12T13:23:47.454Z"
   },
   {
    "duration": 28,
    "start_time": "2021-10-12T13:24:00.469Z"
   },
   {
    "duration": 28,
    "start_time": "2021-10-12T13:24:08.668Z"
   },
   {
    "duration": 1251,
    "start_time": "2021-10-12T13:24:09.519Z"
   },
   {
    "duration": 19,
    "start_time": "2021-10-12T13:24:10.772Z"
   },
   {
    "duration": 25,
    "start_time": "2021-10-12T13:24:10.792Z"
   },
   {
    "duration": 25,
    "start_time": "2021-10-12T13:24:10.831Z"
   },
   {
    "duration": 16,
    "start_time": "2021-10-12T13:24:12.939Z"
   },
   {
    "duration": 210,
    "start_time": "2021-10-12T13:28:52.446Z"
   },
   {
    "duration": 1653,
    "start_time": "2021-10-12T13:32:37.087Z"
   },
   {
    "duration": 32,
    "start_time": "2021-10-12T13:32:38.743Z"
   },
   {
    "duration": 19,
    "start_time": "2021-10-12T13:32:38.779Z"
   },
   {
    "duration": 2,
    "start_time": "2021-10-12T13:32:38.800Z"
   },
   {
    "duration": 17,
    "start_time": "2021-10-12T13:32:38.804Z"
   },
   {
    "duration": 12,
    "start_time": "2021-10-12T13:32:38.849Z"
   },
   {
    "duration": 513,
    "start_time": "2021-10-12T13:32:38.865Z"
   },
   {
    "duration": 400,
    "start_time": "2021-10-12T13:32:39.380Z"
   },
   {
    "duration": 582,
    "start_time": "2021-10-12T13:32:39.781Z"
   },
   {
    "duration": 28,
    "start_time": "2021-10-12T13:32:40.365Z"
   },
   {
    "duration": 973,
    "start_time": "2021-10-12T13:32:40.395Z"
   },
   {
    "duration": 28,
    "start_time": "2021-10-12T13:32:41.370Z"
   },
   {
    "duration": 1382,
    "start_time": "2021-10-12T13:32:41.400Z"
   },
   {
    "duration": 26,
    "start_time": "2021-10-12T13:32:42.784Z"
   },
   {
    "duration": 32,
    "start_time": "2021-10-12T13:32:42.812Z"
   },
   {
    "duration": 6,
    "start_time": "2021-10-12T13:32:42.846Z"
   },
   {
    "duration": 15,
    "start_time": "2021-10-12T13:32:42.854Z"
   },
   {
    "duration": 372,
    "start_time": "2021-10-12T13:32:42.871Z"
   },
   {
    "duration": 2835,
    "start_time": "2021-10-12T13:32:40.410Z"
   },
   {
    "duration": 20,
    "start_time": "2021-10-12T13:33:08.206Z"
   },
   {
    "duration": 23,
    "start_time": "2021-10-12T13:33:25.856Z"
   },
   {
    "duration": 5839,
    "start_time": "2021-10-12T13:33:35.747Z"
   },
   {
    "duration": 15,
    "start_time": "2021-10-12T13:33:46.887Z"
   },
   {
    "duration": 21,
    "start_time": "2021-10-12T13:33:56.517Z"
   },
   {
    "duration": 391,
    "start_time": "2021-10-12T13:34:03.435Z"
   },
   {
    "duration": 2875,
    "start_time": "2021-10-12T13:37:03.225Z"
   },
   {
    "duration": 2874,
    "start_time": "2021-10-12T13:37:03.233Z"
   },
   {
    "duration": 21,
    "start_time": "2021-10-12T13:37:11.469Z"
   },
   {
    "duration": 27,
    "start_time": "2021-10-12T13:38:12.539Z"
   },
   {
    "duration": 958,
    "start_time": "2021-10-12T13:38:13.612Z"
   },
   {
    "duration": 22,
    "start_time": "2021-10-12T13:38:14.572Z"
   },
   {
    "duration": 17,
    "start_time": "2021-10-12T13:38:16.110Z"
   },
   {
    "duration": 20,
    "start_time": "2021-10-12T13:38:19.350Z"
   },
   {
    "duration": 30,
    "start_time": "2021-10-12T13:38:31.860Z"
   },
   {
    "duration": 946,
    "start_time": "2021-10-12T13:38:32.590Z"
   },
   {
    "duration": 23,
    "start_time": "2021-10-12T13:38:33.538Z"
   },
   {
    "duration": 19,
    "start_time": "2021-10-12T13:38:33.792Z"
   },
   {
    "duration": 11,
    "start_time": "2021-10-12T13:40:04.100Z"
   },
   {
    "duration": 11,
    "start_time": "2021-10-12T13:40:29.631Z"
   },
   {
    "duration": 37,
    "start_time": "2021-10-12T13:40:34.041Z"
   },
   {
    "duration": 14,
    "start_time": "2021-10-12T13:40:34.230Z"
   },
   {
    "duration": 17,
    "start_time": "2021-10-12T13:40:41.674Z"
   },
   {
    "duration": 28,
    "start_time": "2021-10-12T13:40:47.881Z"
   },
   {
    "duration": 13,
    "start_time": "2021-10-12T13:40:48.990Z"
   },
   {
    "duration": 31,
    "start_time": "2021-10-12T13:40:55.073Z"
   },
   {
    "duration": 11,
    "start_time": "2021-10-12T13:40:55.541Z"
   },
   {
    "duration": 32,
    "start_time": "2021-10-12T13:41:05.961Z"
   },
   {
    "duration": 13,
    "start_time": "2021-10-12T13:41:06.702Z"
   },
   {
    "duration": 10,
    "start_time": "2021-10-12T13:41:13.502Z"
   },
   {
    "duration": 27,
    "start_time": "2021-10-12T13:41:38.962Z"
   },
   {
    "duration": 16,
    "start_time": "2021-10-12T13:41:39.142Z"
   },
   {
    "duration": 14,
    "start_time": "2021-10-12T13:41:42.942Z"
   },
   {
    "duration": 14,
    "start_time": "2021-10-12T13:42:02.654Z"
   },
   {
    "duration": 15,
    "start_time": "2021-10-12T13:44:30.864Z"
   },
   {
    "duration": 6,
    "start_time": "2021-10-12T13:44:31.094Z"
   },
   {
    "duration": 7,
    "start_time": "2021-10-12T13:44:38.914Z"
   },
   {
    "duration": 17,
    "start_time": "2021-10-12T13:44:51.085Z"
   },
   {
    "duration": 7,
    "start_time": "2021-10-12T13:44:51.834Z"
   },
   {
    "duration": 25,
    "start_time": "2021-10-12T13:44:53.845Z"
   },
   {
    "duration": 17,
    "start_time": "2021-10-12T13:44:54.684Z"
   },
   {
    "duration": 1241,
    "start_time": "2021-10-12T13:47:16.707Z"
   },
   {
    "duration": 11,
    "start_time": "2021-10-12T13:47:34.726Z"
   },
   {
    "duration": 392,
    "start_time": "2021-10-12T13:48:11.805Z"
   },
   {
    "duration": 201,
    "start_time": "2021-10-12T13:48:23.777Z"
   },
   {
    "duration": 214,
    "start_time": "2021-10-12T15:53:25.567Z"
   },
   {
    "duration": 1144,
    "start_time": "2021-10-12T15:53:58.563Z"
   },
   {
    "duration": 206,
    "start_time": "2021-10-12T15:54:17.300Z"
   },
   {
    "duration": 298,
    "start_time": "2021-10-12T15:55:05.941Z"
   },
   {
    "duration": 214,
    "start_time": "2021-10-12T15:55:10.591Z"
   },
   {
    "duration": 221,
    "start_time": "2021-10-12T15:55:19.322Z"
   },
   {
    "duration": 445,
    "start_time": "2021-10-12T15:56:06.433Z"
   },
   {
    "duration": 441,
    "start_time": "2021-10-12T15:56:21.593Z"
   },
   {
    "duration": 1301,
    "start_time": "2021-10-12T15:57:44.415Z"
   },
   {
    "duration": 273,
    "start_time": "2021-10-12T15:58:33.564Z"
   },
   {
    "duration": 113662,
    "start_time": "2021-10-12T16:02:40.688Z"
   },
   {
    "duration": 244,
    "start_time": "2021-10-12T16:05:00.330Z"
   },
   {
    "duration": 263,
    "start_time": "2021-10-12T16:05:17.601Z"
   },
   {
    "duration": 257,
    "start_time": "2021-10-12T16:05:49.901Z"
   },
   {
    "duration": 22,
    "start_time": "2021-10-12T16:06:02.128Z"
   },
   {
    "duration": 18,
    "start_time": "2021-10-12T16:06:12.592Z"
   },
   {
    "duration": 212,
    "start_time": "2021-10-12T16:06:37.693Z"
   },
   {
    "duration": 211,
    "start_time": "2021-10-12T16:07:07.142Z"
   },
   {
    "duration": 10,
    "start_time": "2021-10-12T16:07:24.772Z"
   },
   {
    "duration": 205,
    "start_time": "2021-10-12T16:07:35.832Z"
   },
   {
    "duration": 203,
    "start_time": "2021-10-12T16:07:41.512Z"
   },
   {
    "duration": 559,
    "start_time": "2021-10-12T16:07:42.522Z"
   },
   {
    "duration": 212,
    "start_time": "2021-10-12T16:07:54.413Z"
   },
   {
    "duration": 509,
    "start_time": "2021-10-12T16:10:19.740Z"
   },
   {
    "duration": 218,
    "start_time": "2021-10-12T16:10:26.954Z"
   },
   {
    "duration": 288,
    "start_time": "2021-10-12T16:10:41.517Z"
   },
   {
    "duration": 299,
    "start_time": "2021-10-12T16:11:43.434Z"
   },
   {
    "duration": 312,
    "start_time": "2021-10-12T16:11:49.917Z"
   },
   {
    "duration": 298,
    "start_time": "2021-10-12T16:11:58.845Z"
   },
   {
    "duration": 18,
    "start_time": "2021-10-12T16:12:40.966Z"
   },
   {
    "duration": 307,
    "start_time": "2021-10-12T16:12:43.686Z"
   },
   {
    "duration": 16,
    "start_time": "2021-10-12T16:12:44.506Z"
   },
   {
    "duration": 14,
    "start_time": "2021-10-12T16:13:01.906Z"
   },
   {
    "duration": 24,
    "start_time": "2021-10-12T16:13:12.547Z"
   },
   {
    "duration": 16,
    "start_time": "2021-10-12T16:13:35.985Z"
   },
   {
    "duration": 7,
    "start_time": "2021-10-12T16:13:39.897Z"
   },
   {
    "duration": 10,
    "start_time": "2021-10-12T16:13:46.837Z"
   },
   {
    "duration": 10,
    "start_time": "2021-10-12T16:13:48.117Z"
   },
   {
    "duration": 350,
    "start_time": "2021-10-12T16:17:00.971Z"
   },
   {
    "duration": 229,
    "start_time": "2021-10-12T16:18:04.992Z"
   },
   {
    "duration": 226,
    "start_time": "2021-10-12T16:18:53.981Z"
   },
   {
    "duration": 228,
    "start_time": "2021-10-12T16:19:00.911Z"
   },
   {
    "duration": 13,
    "start_time": "2021-10-12T16:27:56.954Z"
   },
   {
    "duration": 40,
    "start_time": "2021-10-12T16:28:29.549Z"
   },
   {
    "duration": 47,
    "start_time": "2021-10-12T16:28:35.880Z"
   },
   {
    "duration": 245,
    "start_time": "2021-10-12T16:29:19.909Z"
   },
   {
    "duration": 35,
    "start_time": "2021-10-12T16:29:33.781Z"
   },
   {
    "duration": 40,
    "start_time": "2021-10-12T16:30:36.923Z"
   },
   {
    "duration": 273,
    "start_time": "2021-10-12T16:30:45.603Z"
   },
   {
    "duration": 235,
    "start_time": "2021-10-12T16:31:17.622Z"
   },
   {
    "duration": 24,
    "start_time": "2021-10-12T16:31:26.252Z"
   },
   {
    "duration": 501,
    "start_time": "2021-10-12T16:31:52.702Z"
   },
   {
    "duration": 405,
    "start_time": "2021-10-12T16:31:54.923Z"
   },
   {
    "duration": 24,
    "start_time": "2021-10-12T16:31:59.316Z"
   },
   {
    "duration": 223,
    "start_time": "2021-10-12T16:34:55.423Z"
   },
   {
    "duration": 210,
    "start_time": "2021-10-12T16:35:23.825Z"
   },
   {
    "duration": 203,
    "start_time": "2021-10-12T16:35:32.806Z"
   },
   {
    "duration": 18,
    "start_time": "2021-10-12T16:36:49.888Z"
   },
   {
    "duration": 16,
    "start_time": "2021-10-12T16:36:51.956Z"
   },
   {
    "duration": 475,
    "start_time": "2021-10-12T16:38:08.107Z"
   },
   {
    "duration": 571,
    "start_time": "2021-10-12T16:38:32.288Z"
   },
   {
    "duration": 584,
    "start_time": "2021-10-12T16:40:37.599Z"
   },
   {
    "duration": 20,
    "start_time": "2021-10-12T16:41:04.035Z"
   },
   {
    "duration": 7,
    "start_time": "2021-10-12T16:41:06.338Z"
   },
   {
    "duration": 10,
    "start_time": "2021-10-12T16:41:07.120Z"
   },
   {
    "duration": 220,
    "start_time": "2021-10-12T16:41:09.760Z"
   },
   {
    "duration": 14,
    "start_time": "2021-10-12T16:42:54.023Z"
   },
   {
    "duration": 1222,
    "start_time": "2021-10-12T16:45:51.991Z"
   },
   {
    "duration": 227,
    "start_time": "2021-10-12T16:46:02.424Z"
   },
   {
    "duration": 72,
    "start_time": "2021-10-12T16:46:59.226Z"
   },
   {
    "duration": 231,
    "start_time": "2021-10-12T16:47:01.005Z"
   },
   {
    "duration": 227,
    "start_time": "2021-10-12T16:47:23.766Z"
   },
   {
    "duration": 220,
    "start_time": "2021-10-12T16:47:31.426Z"
   },
   {
    "duration": 257,
    "start_time": "2021-10-12T16:47:49.747Z"
   },
   {
    "duration": 14,
    "start_time": "2021-10-12T16:47:56.274Z"
   },
   {
    "duration": 17,
    "start_time": "2021-10-12T16:50:40.003Z"
   },
   {
    "duration": 31,
    "start_time": "2021-10-12T16:50:44.689Z"
   },
   {
    "duration": 33,
    "start_time": "2021-10-12T16:51:22.067Z"
   },
   {
    "duration": 607,
    "start_time": "2021-10-12T16:54:06.972Z"
   },
   {
    "duration": 270,
    "start_time": "2021-10-12T16:54:18.433Z"
   },
   {
    "duration": 212,
    "start_time": "2021-10-12T16:54:39.622Z"
   },
   {
    "duration": 1382,
    "start_time": "2021-10-12T16:55:41.853Z"
   },
   {
    "duration": 38,
    "start_time": "2021-10-12T16:56:37.862Z"
   },
   {
    "duration": 33,
    "start_time": "2021-10-12T16:57:08.525Z"
   },
   {
    "duration": 24,
    "start_time": "2021-10-12T16:57:17.375Z"
   },
   {
    "duration": 3,
    "start_time": "2021-10-12T16:57:18.603Z"
   },
   {
    "duration": 14,
    "start_time": "2021-10-12T16:57:19.485Z"
   },
   {
    "duration": 22,
    "start_time": "2021-10-12T16:57:20.105Z"
   },
   {
    "duration": 12,
    "start_time": "2021-10-12T16:57:24.555Z"
   },
   {
    "duration": 50,
    "start_time": "2021-10-12T16:57:32.314Z"
   },
   {
    "duration": 29,
    "start_time": "2021-10-12T16:57:32.366Z"
   },
   {
    "duration": 22,
    "start_time": "2021-10-12T16:57:32.397Z"
   },
   {
    "duration": 3,
    "start_time": "2021-10-12T16:57:32.422Z"
   },
   {
    "duration": 15,
    "start_time": "2021-10-12T16:57:32.451Z"
   },
   {
    "duration": 18,
    "start_time": "2021-10-12T16:57:32.468Z"
   },
   {
    "duration": 475,
    "start_time": "2021-10-12T16:57:32.488Z"
   },
   {
    "duration": 384,
    "start_time": "2021-10-12T16:57:32.965Z"
   },
   {
    "duration": 572,
    "start_time": "2021-10-12T16:57:33.353Z"
   },
   {
    "duration": 43,
    "start_time": "2021-10-12T16:57:33.928Z"
   },
   {
    "duration": 923,
    "start_time": "2021-10-12T16:57:33.973Z"
   },
   {
    "duration": 193,
    "start_time": "2021-10-12T16:57:34.898Z"
   },
   {
    "duration": 1029,
    "start_time": "2021-10-12T16:57:35.092Z"
   },
   {
    "duration": 308,
    "start_time": "2021-10-12T16:57:36.123Z"
   },
   {
    "duration": 30,
    "start_time": "2021-10-12T16:57:36.433Z"
   },
   {
    "duration": 7,
    "start_time": "2021-10-12T16:57:36.465Z"
   },
   {
    "duration": 15,
    "start_time": "2021-10-12T16:57:36.474Z"
   },
   {
    "duration": 252,
    "start_time": "2021-10-12T16:57:36.491Z"
   },
   {
    "duration": 38,
    "start_time": "2021-10-12T16:57:38.015Z"
   },
   {
    "duration": 41,
    "start_time": "2021-10-12T16:57:39.545Z"
   },
   {
    "duration": 22,
    "start_time": "2021-10-12T16:58:50.325Z"
   },
   {
    "duration": 50,
    "start_time": "2021-10-12T16:58:55.100Z"
   },
   {
    "duration": 27,
    "start_time": "2021-10-12T16:58:55.152Z"
   },
   {
    "duration": 20,
    "start_time": "2021-10-12T16:58:55.182Z"
   },
   {
    "duration": 2,
    "start_time": "2021-10-12T16:58:55.205Z"
   },
   {
    "duration": 47,
    "start_time": "2021-10-12T16:58:55.209Z"
   },
   {
    "duration": 20,
    "start_time": "2021-10-12T16:58:55.258Z"
   },
   {
    "duration": 496,
    "start_time": "2021-10-12T16:58:55.280Z"
   },
   {
    "duration": 400,
    "start_time": "2021-10-12T16:58:55.778Z"
   },
   {
    "duration": 592,
    "start_time": "2021-10-12T16:58:56.182Z"
   },
   {
    "duration": 29,
    "start_time": "2021-10-12T16:58:56.776Z"
   },
   {
    "duration": 983,
    "start_time": "2021-10-12T16:58:56.806Z"
   },
   {
    "duration": 304,
    "start_time": "2021-10-12T16:58:57.791Z"
   },
   {
    "duration": 726,
    "start_time": "2021-10-12T16:58:58.097Z"
   },
   {
    "duration": 303,
    "start_time": "2021-10-12T16:58:58.825Z"
   },
   {
    "duration": 30,
    "start_time": "2021-10-12T16:58:59.130Z"
   },
   {
    "duration": 6,
    "start_time": "2021-10-12T16:58:59.162Z"
   },
   {
    "duration": 9,
    "start_time": "2021-10-12T16:58:59.170Z"
   },
   {
    "duration": 249,
    "start_time": "2021-10-12T16:58:59.181Z"
   },
   {
    "duration": 41,
    "start_time": "2021-10-12T16:59:01.099Z"
   },
   {
    "duration": 36,
    "start_time": "2021-10-12T16:59:18.438Z"
   },
   {
    "duration": 205,
    "start_time": "2021-10-12T17:00:38.278Z"
   },
   {
    "duration": 25,
    "start_time": "2021-10-12T17:00:44.688Z"
   },
   {
    "duration": 351,
    "start_time": "2021-10-12T17:03:48.563Z"
   },
   {
    "duration": 1999,
    "start_time": "2021-10-12T17:06:05.226Z"
   },
   {
    "duration": 2068,
    "start_time": "2021-10-12T17:07:55.589Z"
   },
   {
    "duration": 1975,
    "start_time": "2021-10-12T17:08:19.804Z"
   },
   {
    "duration": 2045,
    "start_time": "2021-10-12T17:08:45.794Z"
   },
   {
    "duration": 2028,
    "start_time": "2021-10-12T17:08:55.714Z"
   },
   {
    "duration": 1982,
    "start_time": "2021-10-13T14:36:58.871Z"
   },
   {
    "duration": 39,
    "start_time": "2021-10-13T14:37:00.856Z"
   },
   {
    "duration": 25,
    "start_time": "2021-10-13T14:37:00.902Z"
   },
   {
    "duration": 3,
    "start_time": "2021-10-13T14:37:00.929Z"
   },
   {
    "duration": 24,
    "start_time": "2021-10-13T14:37:00.934Z"
   },
   {
    "duration": 176,
    "start_time": "2021-10-13T14:37:00.960Z"
   },
   {
    "duration": 681,
    "start_time": "2021-10-13T14:37:01.138Z"
   },
   {
    "duration": 510,
    "start_time": "2021-10-13T14:37:01.823Z"
   },
   {
    "duration": 893,
    "start_time": "2021-10-13T14:37:02.336Z"
   },
   {
    "duration": 39,
    "start_time": "2021-10-13T14:37:03.231Z"
   },
   {
    "duration": 1486,
    "start_time": "2021-10-13T14:37:03.273Z"
   },
   {
    "duration": 299,
    "start_time": "2021-10-13T14:37:04.762Z"
   },
   {
    "duration": 1651,
    "start_time": "2021-10-13T14:37:05.063Z"
   },
   {
    "duration": 508,
    "start_time": "2021-10-13T14:37:06.716Z"
   },
   {
    "duration": 23,
    "start_time": "2021-10-13T14:37:07.226Z"
   },
   {
    "duration": 26,
    "start_time": "2021-10-13T14:37:07.252Z"
   },
   {
    "duration": 50,
    "start_time": "2021-10-13T14:37:07.280Z"
   },
   {
    "duration": 384,
    "start_time": "2021-10-13T14:37:07.333Z"
   },
   {
    "duration": 33,
    "start_time": "2021-10-13T14:37:07.720Z"
   },
   {
    "duration": 3273,
    "start_time": "2021-10-13T14:37:07.756Z"
   },
   {
    "duration": 494,
    "start_time": "2021-10-13T16:46:11.617Z"
   },
   {
    "duration": 31,
    "start_time": "2021-10-13T16:46:27.130Z"
   },
   {
    "duration": 43,
    "start_time": "2021-10-13T16:46:29.579Z"
   },
   {
    "duration": 535,
    "start_time": "2021-10-13T16:49:07.912Z"
   },
   {
    "duration": 610,
    "start_time": "2021-10-13T16:49:58.633Z"
   },
   {
    "duration": 259,
    "start_time": "2021-10-13T16:52:42.785Z"
   },
   {
    "duration": 255,
    "start_time": "2021-10-13T16:52:48.135Z"
   },
   {
    "duration": 275,
    "start_time": "2021-10-13T16:52:57.465Z"
   },
   {
    "duration": 78,
    "start_time": "2021-10-13T16:52:59.816Z"
   },
   {
    "duration": 255,
    "start_time": "2021-10-13T16:53:00.785Z"
   },
   {
    "duration": 262,
    "start_time": "2021-10-13T16:53:02.086Z"
   },
   {
    "duration": 461,
    "start_time": "2021-10-13T16:53:06.916Z"
   },
   {
    "duration": 57,
    "start_time": "2021-10-13T16:54:12.995Z"
   },
   {
    "duration": 32,
    "start_time": "2021-10-13T16:54:21.354Z"
   },
   {
    "duration": 3046,
    "start_time": "2021-10-13T16:54:23.986Z"
   },
   {
    "duration": 268,
    "start_time": "2021-10-13T17:48:31.277Z"
   },
   {
    "duration": 455,
    "start_time": "2021-10-13T17:48:40.603Z"
   },
   {
    "duration": 391,
    "start_time": "2021-10-13T17:48:55.664Z"
   },
   {
    "duration": 23,
    "start_time": "2021-10-13T17:49:14.394Z"
   },
   {
    "duration": 1362,
    "start_time": "2021-10-14T05:00:20.345Z"
   },
   {
    "duration": 25,
    "start_time": "2021-10-14T05:00:21.709Z"
   },
   {
    "duration": 16,
    "start_time": "2021-10-14T05:00:21.736Z"
   },
   {
    "duration": 2,
    "start_time": "2021-10-14T05:00:21.754Z"
   },
   {
    "duration": 12,
    "start_time": "2021-10-14T05:00:21.757Z"
   },
   {
    "duration": 18,
    "start_time": "2021-10-14T05:00:21.799Z"
   },
   {
    "duration": 480,
    "start_time": "2021-10-14T05:00:21.819Z"
   },
   {
    "duration": 344,
    "start_time": "2021-10-14T05:00:22.302Z"
   },
   {
    "duration": 554,
    "start_time": "2021-10-14T05:00:22.648Z"
   },
   {
    "duration": 26,
    "start_time": "2021-10-14T05:00:23.203Z"
   },
   {
    "duration": 913,
    "start_time": "2021-10-14T05:00:23.231Z"
   },
   {
    "duration": 192,
    "start_time": "2021-10-14T05:00:24.145Z"
   },
   {
    "duration": 1134,
    "start_time": "2021-10-14T05:00:24.338Z"
   },
   {
    "duration": 291,
    "start_time": "2021-10-14T05:00:25.473Z"
   },
   {
    "duration": 16,
    "start_time": "2021-10-14T05:00:25.767Z"
   },
   {
    "duration": 5,
    "start_time": "2021-10-14T05:00:25.798Z"
   },
   {
    "duration": 24,
    "start_time": "2021-10-14T05:00:25.805Z"
   },
   {
    "duration": 233,
    "start_time": "2021-10-14T05:00:25.830Z"
   },
   {
    "duration": 34,
    "start_time": "2021-10-14T05:00:26.065Z"
   },
   {
    "duration": 1947,
    "start_time": "2021-10-14T05:00:26.101Z"
   },
   {
    "duration": 531,
    "start_time": "2021-10-14T13:01:03.386Z"
   },
   {
    "duration": 1897,
    "start_time": "2021-10-14T13:01:09.728Z"
   },
   {
    "duration": 49,
    "start_time": "2021-10-14T13:01:12.368Z"
   },
   {
    "duration": 41,
    "start_time": "2021-10-14T13:01:13.478Z"
   },
   {
    "duration": 24,
    "start_time": "2021-10-14T13:01:14.838Z"
   },
   {
    "duration": 3,
    "start_time": "2021-10-14T13:01:15.966Z"
   },
   {
    "duration": 15,
    "start_time": "2021-10-14T13:01:16.486Z"
   },
   {
    "duration": 28,
    "start_time": "2021-10-14T13:01:16.916Z"
   },
   {
    "duration": 668,
    "start_time": "2021-10-14T13:01:19.838Z"
   },
   {
    "duration": 476,
    "start_time": "2021-10-14T13:01:52.609Z"
   },
   {
    "duration": 661,
    "start_time": "2021-10-14T13:02:05.577Z"
   },
   {
    "duration": 101,
    "start_time": "2021-10-14T13:02:55.858Z"
   },
   {
    "duration": 312,
    "start_time": "2021-10-14T13:03:01.050Z"
   },
   {
    "duration": 1355,
    "start_time": "2021-10-14T13:03:09.371Z"
   },
   {
    "duration": 640,
    "start_time": "2021-10-14T13:03:39.680Z"
   },
   {
    "duration": 303,
    "start_time": "2021-10-14T13:37:39.063Z"
   },
   {
    "duration": 293,
    "start_time": "2021-10-14T13:37:43.029Z"
   },
   {
    "duration": 55,
    "start_time": "2021-10-14T13:37:46.531Z"
   },
   {
    "duration": 37,
    "start_time": "2021-10-14T13:37:46.589Z"
   },
   {
    "duration": 25,
    "start_time": "2021-10-14T13:37:46.628Z"
   },
   {
    "duration": 4,
    "start_time": "2021-10-14T13:37:46.684Z"
   },
   {
    "duration": 27,
    "start_time": "2021-10-14T13:37:46.690Z"
   },
   {
    "duration": 37,
    "start_time": "2021-10-14T13:37:46.719Z"
   },
   {
    "duration": 664,
    "start_time": "2021-10-14T13:37:46.759Z"
   },
   {
    "duration": 519,
    "start_time": "2021-10-14T13:37:47.426Z"
   },
   {
    "duration": 949,
    "start_time": "2021-10-14T13:37:47.948Z"
   },
   {
    "duration": 41,
    "start_time": "2021-10-14T13:37:48.899Z"
   },
   {
    "duration": 1867,
    "start_time": "2021-10-14T13:37:48.943Z"
   },
   {
    "duration": 482,
    "start_time": "2021-10-14T13:37:50.813Z"
   },
   {
    "duration": 1514,
    "start_time": "2021-10-14T13:37:51.298Z"
   },
   {
    "duration": 470,
    "start_time": "2021-10-14T13:37:52.815Z"
   },
   {
    "duration": 24,
    "start_time": "2021-10-14T13:37:55.217Z"
   },
   {
    "duration": 18,
    "start_time": "2021-10-14T13:38:17.820Z"
   },
   {
    "duration": 38,
    "start_time": "2021-10-14T13:38:26.238Z"
   },
   {
    "duration": 24,
    "start_time": "2021-10-14T13:39:10.701Z"
   },
   {
    "duration": 101,
    "start_time": "2021-10-14T13:44:40.290Z"
   },
   {
    "duration": 1946,
    "start_time": "2021-10-14T13:45:16.468Z"
   },
   {
    "duration": 43,
    "start_time": "2021-10-14T13:45:18.417Z"
   },
   {
    "duration": 40,
    "start_time": "2021-10-14T13:45:18.463Z"
   },
   {
    "duration": 3,
    "start_time": "2021-10-14T13:45:18.505Z"
   },
   {
    "duration": 33,
    "start_time": "2021-10-14T13:45:18.510Z"
   },
   {
    "duration": 55,
    "start_time": "2021-10-14T13:45:18.546Z"
   },
   {
    "duration": 661,
    "start_time": "2021-10-14T13:45:18.603Z"
   },
   {
    "duration": 529,
    "start_time": "2021-10-14T13:45:19.268Z"
   },
   {
    "duration": 804,
    "start_time": "2021-10-14T13:45:19.800Z"
   },
   {
    "duration": 42,
    "start_time": "2021-10-14T13:45:20.607Z"
   },
   {
    "duration": 1373,
    "start_time": "2021-10-14T13:45:20.651Z"
   },
   {
    "duration": 282,
    "start_time": "2021-10-14T13:45:22.027Z"
   },
   {
    "duration": 1246,
    "start_time": "2021-10-14T13:45:22.312Z"
   },
   {
    "duration": 458,
    "start_time": "2021-10-14T13:45:23.561Z"
   },
   {
    "duration": 25,
    "start_time": "2021-10-14T13:45:24.021Z"
   },
   {
    "duration": 7,
    "start_time": "2021-10-14T13:45:24.049Z"
   },
   {
    "duration": 18,
    "start_time": "2021-10-14T13:45:24.082Z"
   },
   {
    "duration": 383,
    "start_time": "2021-10-14T13:45:24.102Z"
   },
   {
    "duration": 35,
    "start_time": "2021-10-14T13:45:24.487Z"
   },
   {
    "duration": 2939,
    "start_time": "2021-10-14T13:45:24.524Z"
   },
   {
    "duration": 2516,
    "start_time": "2021-10-15T08:27:49.292Z"
   },
   {
    "duration": 41,
    "start_time": "2021-10-15T08:27:51.811Z"
   },
   {
    "duration": 24,
    "start_time": "2021-10-15T08:27:51.858Z"
   },
   {
    "duration": 3,
    "start_time": "2021-10-15T08:27:51.884Z"
   },
   {
    "duration": 30,
    "start_time": "2021-10-15T08:27:51.889Z"
   },
   {
    "duration": 40,
    "start_time": "2021-10-15T08:27:51.922Z"
   },
   {
    "duration": 638,
    "start_time": "2021-10-15T08:27:51.964Z"
   },
   {
    "duration": 489,
    "start_time": "2021-10-15T08:27:52.606Z"
   },
   {
    "duration": 785,
    "start_time": "2021-10-15T08:27:53.098Z"
   },
   {
    "duration": 42,
    "start_time": "2021-10-15T08:27:53.886Z"
   },
   {
    "duration": 1380,
    "start_time": "2021-10-15T08:27:53.931Z"
   },
   {
    "duration": 273,
    "start_time": "2021-10-15T08:27:55.313Z"
   },
   {
    "duration": 2083,
    "start_time": "2021-10-15T08:27:55.588Z"
   },
   {
    "duration": 471,
    "start_time": "2021-10-15T08:27:57.674Z"
   },
   {
    "duration": 30,
    "start_time": "2021-10-15T08:27:58.148Z"
   },
   {
    "duration": 8,
    "start_time": "2021-10-15T08:27:58.181Z"
   },
   {
    "duration": 21,
    "start_time": "2021-10-15T08:27:58.192Z"
   },
   {
    "duration": 401,
    "start_time": "2021-10-15T08:27:58.216Z"
   },
   {
    "duration": 52,
    "start_time": "2021-10-15T08:27:58.620Z"
   },
   {
    "duration": 2863,
    "start_time": "2021-10-15T08:27:58.674Z"
   },
   {
    "duration": 2131,
    "start_time": "2021-10-15T09:15:37.477Z"
   },
   {
    "duration": 39,
    "start_time": "2021-10-15T09:15:39.610Z"
   },
   {
    "duration": 26,
    "start_time": "2021-10-15T09:15:39.658Z"
   },
   {
    "duration": 3,
    "start_time": "2021-10-15T09:15:39.688Z"
   },
   {
    "duration": 20,
    "start_time": "2021-10-15T09:15:39.695Z"
   },
   {
    "duration": 74,
    "start_time": "2021-10-15T09:15:39.717Z"
   },
   {
    "duration": 858,
    "start_time": "2021-10-15T09:15:39.793Z"
   },
   {
    "duration": 510,
    "start_time": "2021-10-15T09:15:40.656Z"
   },
   {
    "duration": 815,
    "start_time": "2021-10-15T09:15:41.168Z"
   },
   {
    "duration": 41,
    "start_time": "2021-10-15T09:15:41.986Z"
   },
   {
    "duration": 1482,
    "start_time": "2021-10-15T09:15:42.029Z"
   },
   {
    "duration": 294,
    "start_time": "2021-10-15T09:15:43.513Z"
   },
   {
    "duration": 1327,
    "start_time": "2021-10-15T09:15:43.809Z"
   },
   {
    "duration": 596,
    "start_time": "2021-10-15T09:15:45.138Z"
   },
   {
    "duration": 36,
    "start_time": "2021-10-15T09:15:45.736Z"
   },
   {
    "duration": 6,
    "start_time": "2021-10-15T09:15:45.775Z"
   },
   {
    "duration": 17,
    "start_time": "2021-10-15T09:15:45.784Z"
   },
   {
    "duration": 391,
    "start_time": "2021-10-15T09:15:45.804Z"
   },
   {
    "duration": 36,
    "start_time": "2021-10-15T09:15:46.198Z"
   },
   {
    "duration": 2890,
    "start_time": "2021-10-15T09:15:46.236Z"
   }
  ],
  "kernelspec": {
   "display_name": "Python 3",
   "language": "python",
   "name": "python3"
  },
  "language_info": {
   "codemirror_mode": {
    "name": "ipython",
    "version": 3
   },
   "file_extension": ".py",
   "mimetype": "text/x-python",
   "name": "python",
   "nbconvert_exporter": "python",
   "pygments_lexer": "ipython3",
   "version": "3.8.8"
  },
  "toc": {
   "base_numbering": 1,
   "nav_menu": {},
   "number_sections": true,
   "sideBar": true,
   "skip_h1_title": true,
   "title_cell": "Table of Contents",
   "title_sidebar": "Contents",
   "toc_cell": false,
   "toc_position": {
    "height": "calc(100% - 180px)",
    "left": "10px",
    "top": "150px",
    "width": "219px"
   },
   "toc_section_display": true,
   "toc_window_display": true
  }
 },
 "nbformat": 4,
 "nbformat_minor": 2
}
