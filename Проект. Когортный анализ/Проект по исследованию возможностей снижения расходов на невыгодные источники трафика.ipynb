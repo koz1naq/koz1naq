{
 "cells": [
  {
   "cell_type": "markdown",
   "metadata": {},
   "source": [
    "# Проект по исследованию возможностей снижения расходов на невыгодные источники трафика."
   ]
  },
  {
   "cell_type": "markdown",
   "metadata": {},
   "source": [
    "В данном проекте мы будет вычислять и высчитывать основные метрические показатели для различным сфер, проверять гипотезы и постараться выявить невыгодные источники трафика для снижения расходов на них. Для ознакомления, данные которые будут затронуты в проекте.\n",
    "\n",
    "Три датасета.\n",
    "\n",
    "<span style=\"color:red\"></span>\n",
    "Файл <span style=\"color:red\">visits_log.csv</span> -  хранит лог сервера с информацией о посещениях сайта. \n",
    "Структура visits_log.csv\n",
    "Uid — уникальный идентификатор пользователя,\n",
    "Device — категория устройства пользователя,\n",
    "Start Ts — дата и время начала сессии,\n",
    "End Ts — дата и время окончания сессии,\n",
    "Source Id — идентификатор источника перехода на сайт.\n",
    "\n",
    "Файл <span style=\"color:blue\">orders_log.csv</span> — хранит информацию о заказах.\n",
    "Структура orders_log.csv\n",
    "Uid — уникальный идентификатор пользователя,\n",
    "Buy Ts — дата и время заказа,\n",
    "Revenue — сумма заказа.\n",
    "\n",
    "\n",
    "Файл <span style=\"color:green\">costs.csv</span> — хранит информацию о расходах на маркетинг.\n",
    "Структура costs.csv\n",
    "source_id — идентификатор рекламного источника,\n",
    "dt — дата проведения рекламной кампании,\n",
    "costs — расходы на эту кампанию.\n",
    "\n",
    "\n",
    "Приступим."
   ]
  },
  {
   "cell_type": "markdown",
   "metadata": {},
   "source": [
    "## Изучение данных и осмотр"
   ]
  },
  {
   "cell_type": "code",
   "execution_count": 46,
   "metadata": {},
   "outputs": [],
   "source": [
    "import pandas as pd\n",
    "import seaborn as sns\n",
    "import matplotlib.pyplot as plt\n",
    "from scipy import stats as st\n",
    "import numpy as np\n",
    "\n",
    "visits = pd.read_csv('visits_log.csv')\n",
    "orders = pd.read_csv('orders_log.csv')\n",
    "costs = pd.read_csv('costs.csv')"
   ]
  },
  {
   "cell_type": "markdown",
   "metadata": {},
   "source": [
    "Перво наперво, конечно, добавим библиотеки для работы с данными которые пригодяться. И уже от сюда начнем \"читать\" и обрабатывать файлы перед непосредственной аналитикой и исследованием."
   ]
  },
  {
   "cell_type": "code",
   "execution_count": 47,
   "metadata": {},
   "outputs": [
    {
     "data": {
      "text/html": [
       "<div>\n",
       "<style scoped>\n",
       "    .dataframe tbody tr th:only-of-type {\n",
       "        vertical-align: middle;\n",
       "    }\n",
       "\n",
       "    .dataframe tbody tr th {\n",
       "        vertical-align: top;\n",
       "    }\n",
       "\n",
       "    .dataframe thead th {\n",
       "        text-align: right;\n",
       "    }\n",
       "</style>\n",
       "<table border=\"1\" class=\"dataframe\">\n",
       "  <thead>\n",
       "    <tr style=\"text-align: right;\">\n",
       "      <th></th>\n",
       "      <th>Device</th>\n",
       "      <th>End Ts</th>\n",
       "      <th>Source Id</th>\n",
       "      <th>Start Ts</th>\n",
       "      <th>Uid</th>\n",
       "    </tr>\n",
       "  </thead>\n",
       "  <tbody>\n",
       "    <tr>\n",
       "      <th>0</th>\n",
       "      <td>touch</td>\n",
       "      <td>2017-12-20 17:38:00</td>\n",
       "      <td>4</td>\n",
       "      <td>2017-12-20 17:20:00</td>\n",
       "      <td>16879256277535980062</td>\n",
       "    </tr>\n",
       "    <tr>\n",
       "      <th>1</th>\n",
       "      <td>desktop</td>\n",
       "      <td>2018-02-19 17:21:00</td>\n",
       "      <td>2</td>\n",
       "      <td>2018-02-19 16:53:00</td>\n",
       "      <td>104060357244891740</td>\n",
       "    </tr>\n",
       "    <tr>\n",
       "      <th>2</th>\n",
       "      <td>touch</td>\n",
       "      <td>2017-07-01 01:54:00</td>\n",
       "      <td>5</td>\n",
       "      <td>2017-07-01 01:54:00</td>\n",
       "      <td>7459035603376831527</td>\n",
       "    </tr>\n",
       "    <tr>\n",
       "      <th>3</th>\n",
       "      <td>desktop</td>\n",
       "      <td>2018-05-20 11:23:00</td>\n",
       "      <td>9</td>\n",
       "      <td>2018-05-20 10:59:00</td>\n",
       "      <td>16174680259334210214</td>\n",
       "    </tr>\n",
       "    <tr>\n",
       "      <th>4</th>\n",
       "      <td>desktop</td>\n",
       "      <td>2017-12-27 14:06:00</td>\n",
       "      <td>3</td>\n",
       "      <td>2017-12-27 14:06:00</td>\n",
       "      <td>9969694820036681168</td>\n",
       "    </tr>\n",
       "  </tbody>\n",
       "</table>\n",
       "</div>"
      ],
      "text/plain": [
       "    Device               End Ts  Source Id             Start Ts  \\\n",
       "0    touch  2017-12-20 17:38:00          4  2017-12-20 17:20:00   \n",
       "1  desktop  2018-02-19 17:21:00          2  2018-02-19 16:53:00   \n",
       "2    touch  2017-07-01 01:54:00          5  2017-07-01 01:54:00   \n",
       "3  desktop  2018-05-20 11:23:00          9  2018-05-20 10:59:00   \n",
       "4  desktop  2017-12-27 14:06:00          3  2017-12-27 14:06:00   \n",
       "\n",
       "                    Uid  \n",
       "0  16879256277535980062  \n",
       "1    104060357244891740  \n",
       "2   7459035603376831527  \n",
       "3  16174680259334210214  \n",
       "4   9969694820036681168  "
      ]
     },
     "metadata": {},
     "output_type": "display_data"
    },
    {
     "name": "stdout",
     "output_type": "stream",
     "text": [
      "None\n",
      "\n",
      "Размер таблицы: (359400, 5)\n",
      "\n",
      "<class 'pandas.core.frame.DataFrame'>\n",
      "RangeIndex: 359400 entries, 0 to 359399\n",
      "Data columns (total 5 columns):\n",
      " #   Column     Non-Null Count   Dtype \n",
      "---  ------     --------------   ----- \n",
      " 0   Device     359400 non-null  object\n",
      " 1   End Ts     359400 non-null  object\n",
      " 2   Source Id  359400 non-null  int64 \n",
      " 3   Start Ts   359400 non-null  object\n",
      " 4   Uid        359400 non-null  uint64\n",
      "dtypes: int64(1), object(3), uint64(1)\n",
      "memory usage: 13.7+ MB\n"
     ]
    }
   ],
   "source": [
    "print(display(visits.head()))\n",
    "print()\n",
    "print('Размер таблицы:', visits.shape)\n",
    "print()\n",
    "visits.info()"
   ]
  },
  {
   "cell_type": "markdown",
   "metadata": {},
   "source": [
    "Первая таблица, с визитами. Здесь заметно только несколько недочетов в плане типов данных, на первый взгляд."
   ]
  },
  {
   "cell_type": "code",
   "execution_count": 48,
   "metadata": {},
   "outputs": [
    {
     "data": {
      "text/html": [
       "<div>\n",
       "<style scoped>\n",
       "    .dataframe tbody tr th:only-of-type {\n",
       "        vertical-align: middle;\n",
       "    }\n",
       "\n",
       "    .dataframe tbody tr th {\n",
       "        vertical-align: top;\n",
       "    }\n",
       "\n",
       "    .dataframe thead th {\n",
       "        text-align: right;\n",
       "    }\n",
       "</style>\n",
       "<table border=\"1\" class=\"dataframe\">\n",
       "  <thead>\n",
       "    <tr style=\"text-align: right;\">\n",
       "      <th></th>\n",
       "      <th>Buy Ts</th>\n",
       "      <th>Revenue</th>\n",
       "      <th>Uid</th>\n",
       "    </tr>\n",
       "  </thead>\n",
       "  <tbody>\n",
       "    <tr>\n",
       "      <th>0</th>\n",
       "      <td>2017-06-01 00:10:00</td>\n",
       "      <td>17.00</td>\n",
       "      <td>10329302124590727494</td>\n",
       "    </tr>\n",
       "    <tr>\n",
       "      <th>1</th>\n",
       "      <td>2017-06-01 00:25:00</td>\n",
       "      <td>0.55</td>\n",
       "      <td>11627257723692907447</td>\n",
       "    </tr>\n",
       "    <tr>\n",
       "      <th>2</th>\n",
       "      <td>2017-06-01 00:27:00</td>\n",
       "      <td>0.37</td>\n",
       "      <td>17903680561304213844</td>\n",
       "    </tr>\n",
       "    <tr>\n",
       "      <th>3</th>\n",
       "      <td>2017-06-01 00:29:00</td>\n",
       "      <td>0.55</td>\n",
       "      <td>16109239769442553005</td>\n",
       "    </tr>\n",
       "    <tr>\n",
       "      <th>4</th>\n",
       "      <td>2017-06-01 07:58:00</td>\n",
       "      <td>0.37</td>\n",
       "      <td>14200605875248379450</td>\n",
       "    </tr>\n",
       "  </tbody>\n",
       "</table>\n",
       "</div>"
      ],
      "text/plain": [
       "                Buy Ts  Revenue                   Uid\n",
       "0  2017-06-01 00:10:00    17.00  10329302124590727494\n",
       "1  2017-06-01 00:25:00     0.55  11627257723692907447\n",
       "2  2017-06-01 00:27:00     0.37  17903680561304213844\n",
       "3  2017-06-01 00:29:00     0.55  16109239769442553005\n",
       "4  2017-06-01 07:58:00     0.37  14200605875248379450"
      ]
     },
     "metadata": {},
     "output_type": "display_data"
    },
    {
     "name": "stdout",
     "output_type": "stream",
     "text": [
      "None\n",
      "\n",
      "Размер таблицы: (50415, 3)\n",
      "\n",
      "<class 'pandas.core.frame.DataFrame'>\n",
      "RangeIndex: 50415 entries, 0 to 50414\n",
      "Data columns (total 3 columns):\n",
      " #   Column   Non-Null Count  Dtype  \n",
      "---  ------   --------------  -----  \n",
      " 0   Buy Ts   50415 non-null  object \n",
      " 1   Revenue  50415 non-null  float64\n",
      " 2   Uid      50415 non-null  uint64 \n",
      "dtypes: float64(1), object(1), uint64(1)\n",
      "memory usage: 1.2+ MB\n"
     ]
    }
   ],
   "source": [
    "print(display(orders.head()))\n",
    "print()\n",
    "print('Размер таблицы:', orders.shape)\n",
    "print()\n",
    "orders.info()"
   ]
  },
  {
   "cell_type": "markdown",
   "metadata": {},
   "source": [
    "Вторая таблица - заказы. Она уже поменьше будет, нежели предыдущая, но все еще с, практически, теми же недочетами в типе данных."
   ]
  },
  {
   "cell_type": "code",
   "execution_count": 49,
   "metadata": {},
   "outputs": [
    {
     "data": {
      "text/html": [
       "<div>\n",
       "<style scoped>\n",
       "    .dataframe tbody tr th:only-of-type {\n",
       "        vertical-align: middle;\n",
       "    }\n",
       "\n",
       "    .dataframe tbody tr th {\n",
       "        vertical-align: top;\n",
       "    }\n",
       "\n",
       "    .dataframe thead th {\n",
       "        text-align: right;\n",
       "    }\n",
       "</style>\n",
       "<table border=\"1\" class=\"dataframe\">\n",
       "  <thead>\n",
       "    <tr style=\"text-align: right;\">\n",
       "      <th></th>\n",
       "      <th>source_id</th>\n",
       "      <th>dt</th>\n",
       "      <th>costs</th>\n",
       "    </tr>\n",
       "  </thead>\n",
       "  <tbody>\n",
       "    <tr>\n",
       "      <th>0</th>\n",
       "      <td>1</td>\n",
       "      <td>2017-06-01</td>\n",
       "      <td>75.20</td>\n",
       "    </tr>\n",
       "    <tr>\n",
       "      <th>1</th>\n",
       "      <td>1</td>\n",
       "      <td>2017-06-02</td>\n",
       "      <td>62.25</td>\n",
       "    </tr>\n",
       "    <tr>\n",
       "      <th>2</th>\n",
       "      <td>1</td>\n",
       "      <td>2017-06-03</td>\n",
       "      <td>36.53</td>\n",
       "    </tr>\n",
       "    <tr>\n",
       "      <th>3</th>\n",
       "      <td>1</td>\n",
       "      <td>2017-06-04</td>\n",
       "      <td>55.00</td>\n",
       "    </tr>\n",
       "    <tr>\n",
       "      <th>4</th>\n",
       "      <td>1</td>\n",
       "      <td>2017-06-05</td>\n",
       "      <td>57.08</td>\n",
       "    </tr>\n",
       "  </tbody>\n",
       "</table>\n",
       "</div>"
      ],
      "text/plain": [
       "   source_id          dt  costs\n",
       "0          1  2017-06-01  75.20\n",
       "1          1  2017-06-02  62.25\n",
       "2          1  2017-06-03  36.53\n",
       "3          1  2017-06-04  55.00\n",
       "4          1  2017-06-05  57.08"
      ]
     },
     "metadata": {},
     "output_type": "display_data"
    },
    {
     "name": "stdout",
     "output_type": "stream",
     "text": [
      "None\n",
      "\n",
      "Размер таблицы: (2542, 3)\n",
      "\n",
      "<class 'pandas.core.frame.DataFrame'>\n",
      "RangeIndex: 2542 entries, 0 to 2541\n",
      "Data columns (total 3 columns):\n",
      " #   Column     Non-Null Count  Dtype  \n",
      "---  ------     --------------  -----  \n",
      " 0   source_id  2542 non-null   int64  \n",
      " 1   dt         2542 non-null   object \n",
      " 2   costs      2542 non-null   float64\n",
      "dtypes: float64(1), int64(1), object(1)\n",
      "memory usage: 59.7+ KB\n"
     ]
    }
   ],
   "source": [
    "print(display(costs.head()))\n",
    "print()\n",
    "print('Размер таблицы:', costs.shape)\n",
    "print()\n",
    "costs.info()"
   ]
  },
  {
   "cell_type": "markdown",
   "metadata": {},
   "source": [
    "И третья таблица - затраты. Она здесь небольшая уже совсем, срез видимо. А с типами данных только один столбец на \"переработку\"."
   ]
  },
  {
   "cell_type": "markdown",
   "metadata": {},
   "source": [
    "## Предобработка данных"
   ]
  },
  {
   "cell_type": "code",
   "execution_count": 50,
   "metadata": {},
   "outputs": [
    {
     "name": "stdout",
     "output_type": "stream",
     "text": [
      "<class 'pandas.core.frame.DataFrame'>\n",
      "RangeIndex: 359400 entries, 0 to 359399\n",
      "Data columns (total 5 columns):\n",
      " #   Column     Non-Null Count   Dtype         \n",
      "---  ------     --------------   -----         \n",
      " 0   device     359400 non-null  object        \n",
      " 1   end ts     359400 non-null  datetime64[ns]\n",
      " 2   source id  359400 non-null  int64         \n",
      " 3   start ts   359400 non-null  datetime64[ns]\n",
      " 4   uid        359400 non-null  int32         \n",
      "dtypes: datetime64[ns](2), int32(1), int64(1), object(1)\n",
      "memory usage: 12.3+ MB\n"
     ]
    }
   ],
   "source": [
    "visits.rename(str.lower, axis='columns', inplace=True)\n",
    "visits['end ts'] = pd.to_datetime(visits['end ts'])\n",
    "visits['start ts'] = pd.to_datetime(visits['start ts'])\n",
    "visits['uid'] = visits['uid'].astype('int')\n",
    "visits.info()"
   ]
  },
  {
   "cell_type": "markdown",
   "metadata": {},
   "source": [
    "Менять типы данных будем так же, по порядку, в каждой таблице. Сначала визиты.\n",
    "\n",
    "Для удобства сделаем названия колонок с маленькой буквы через конструкцию rename, и поменяем типы данных в столбцах с датами и тип данных в столбце с id юзеров."
   ]
  },
  {
   "cell_type": "code",
   "execution_count": 51,
   "metadata": {},
   "outputs": [
    {
     "name": "stdout",
     "output_type": "stream",
     "text": [
      "<class 'pandas.core.frame.DataFrame'>\n",
      "RangeIndex: 50415 entries, 0 to 50414\n",
      "Data columns (total 3 columns):\n",
      " #   Column   Non-Null Count  Dtype         \n",
      "---  ------   --------------  -----         \n",
      " 0   buy ts   50415 non-null  datetime64[ns]\n",
      " 1   revenue  50415 non-null  float64       \n",
      " 2   uid      50415 non-null  int32         \n",
      "dtypes: datetime64[ns](1), float64(1), int32(1)\n",
      "memory usage: 984.8 KB\n"
     ]
    }
   ],
   "source": [
    "orders.rename(str.lower, axis='columns', inplace=True)\n",
    "orders['buy ts'] = pd.to_datetime(orders['buy ts'])\n",
    "orders['uid'] = orders['uid'].astype('int')\n",
    "orders.info()"
   ]
  },
  {
   "cell_type": "markdown",
   "metadata": {},
   "source": [
    "Фактически аналогичным образом мы поступим здесь, в таблице с заказами. Сначала приведем к нижнему регистру названия столбцов, и преобразим столбцы даты и uid."
   ]
  },
  {
   "cell_type": "code",
   "execution_count": 52,
   "metadata": {},
   "outputs": [
    {
     "name": "stdout",
     "output_type": "stream",
     "text": [
      "<class 'pandas.core.frame.DataFrame'>\n",
      "RangeIndex: 2542 entries, 0 to 2541\n",
      "Data columns (total 3 columns):\n",
      " #   Column     Non-Null Count  Dtype         \n",
      "---  ------     --------------  -----         \n",
      " 0   source_id  2542 non-null   int64         \n",
      " 1   dt         2542 non-null   datetime64[ns]\n",
      " 2   costs      2542 non-null   float64       \n",
      "dtypes: datetime64[ns](1), float64(1), int64(1)\n",
      "memory usage: 59.7 KB\n"
     ]
    }
   ],
   "source": [
    "costs['dt'] = pd.to_datetime(costs['dt'])\n",
    "costs.info()"
   ]
  },
  {
   "cell_type": "markdown",
   "metadata": {},
   "source": [
    "А в самой малочисленной таблице, с затратами, остается только поменять столбец с датой, и привести егов тип данных datetime."
   ]
  },
  {
   "cell_type": "markdown",
   "metadata": {},
   "source": [
    "## Расчет метрик и построение графиков"
   ]
  },
  {
   "cell_type": "markdown",
   "metadata": {},
   "source": [
    "В данном разделе мы уже начнем, непосредственно, исслежовать разные метрики. \n",
    "\n",
    "Но сначала нужно будет посчитать эти метрики, трёх разных  видов:\n",
    "продуктовые,\n",
    "метрики электронной коммерции,\n",
    "маркетинговые."
   ]
  },
  {
   "cell_type": "markdown",
   "metadata": {},
   "source": [
    "### Продуктовые метрики"
   ]
  },
  {
   "cell_type": "code",
   "execution_count": 53,
   "metadata": {},
   "outputs": [
    {
     "name": "stdout",
     "output_type": "stream",
     "text": [
      "Среднее дневное количество уникальных пользователей: 907\n",
      "\n",
      "Среднее недельное количество уникальных пользователей: 5621\n",
      "\n",
      "Среднее месячное количество уникальных пользователей: 23228\n"
     ]
    }
   ],
   "source": [
    "visits['session_year']  = visits['start ts'].dt.year\n",
    "visits['session_date'] = visits['start ts'].dt.date\n",
    "\n",
    "visits['visit_week'] = visits['start ts'].astype('datetime64[W]')\n",
    "visits['visit_month'] = visits['start ts'].astype('datetime64[M]')\n",
    "\n",
    "visits_dau = visits.groupby(['session_date']).agg({'uid' : 'nunique'})\n",
    "visits_wau = visits.groupby(['session_year', 'visit_week']).agg({'uid' : 'nunique'})\n",
    "visits_mau = visits.groupby(['session_year', 'visit_month']).agg({'uid' : 'nunique'})\n",
    "\n",
    "print('Среднее дневное количество уникальных пользователей:', int(visits_dau.mean()))\n",
    "print()\n",
    "print('Среднее недельное количество уникальных пользователей:', int(visits_wau.mean()))\n",
    "print()\n",
    "print('Среднее месячное количество уникальных пользователей:', int(visits_mau.mean()))"
   ]
  },
  {
   "cell_type": "code",
   "execution_count": 54,
   "metadata": {},
   "outputs": [
    {
     "data": {
      "image/png": "[encoded data removed]",
      "text/plain": [
       "<Figure size 864x360 with 1 Axes>"
      ]
     },
     "metadata": {
      "needs_background": "light"
     },
     "output_type": "display_data"
    }
   ],
   "source": [
    "visits_dau_pivot = visits_dau.pivot_table(index='session_date', values='uid')\n",
    "visits_dau_pivot.plot(y='uid', grid=True, figsize=(12, 5), title='Среднее дневное посещение уникальных пользователей')\n",
    "plt.show()"
   ]
  },
  {
   "cell_type": "code",
   "execution_count": 55,
   "metadata": {},
   "outputs": [
    {
     "data": {
      "image/png": "[encoded data removed]",
      "text/plain": [
       "<Figure size 864x360 with 1 Axes>"
      ]
     },
     "metadata": {
      "needs_background": "light"
     },
     "output_type": "display_data"
    }
   ],
   "source": [
    "#visits_wau.pivot_table(index='visit_week', values='uid').plot(kind='bar', y='uid', grid=True, figsize=(12, 5), title='Среднее недельное посещение уникальных пользователей')\n",
    "ax = visits_wau.pivot_table(index='visit_week', values='uid').plot(kind='bar', y='uid', grid=True, figsize=(12, 5), title='Среднее недельное посещение уникальных пользователей')\n",
    "ax.set_xticklabels(visits['visit_week'].dt.strftime('%d-%m-%Y').unique())\n",
    "plt.xticks(rotation=-90)\n",
    "plt.show()"
   ]
  },
  {
   "cell_type": "code",
   "execution_count": 56,
   "metadata": {},
   "outputs": [
    {
     "data": {
      "image/png": "[encoded data removed]",
      "text/plain": [
       "<Figure size 864x360 with 1 Axes>"
      ]
     },
     "metadata": {
      "needs_background": "light"
     },
     "output_type": "display_data"
    }
   ],
   "source": [
    "#visits_mau.pivot_table(index='visit_month', values='uid').plot(kind='bar', y='uid', grid=True, figsize=(12, 5), title='Среднее недельное посещение уникальных пользователей')\n",
    "ax = visits_mau.pivot_table(index='visit_month', values='uid').plot(kind='bar', y='uid', grid=True, figsize=(12, 5), title='Среднее недельное посещение уникальных пользователей')\n",
    "ax.set_xticklabels(visits['visit_month'].dt.strftime('%d-%m-%Y').unique())\n",
    "plt.xticks(rotation=-90)\n",
    "plt.show()"
   ]
  },
  {
   "cell_type": "markdown",
   "metadata": {},
   "source": [
    "И так, мы вычисили 3 важные продуктовые метрики посещения дневного, недельного, месячного уникальных пользователей на сайт. Метрики соответственно DAU, WAU, MAU. Для каждой из них так же можно увидеть распределение по каждому временному \"критерию\". В каждом графике есть закономерность возрастания пользователей к Новому году, что не удивительно. Так же, дальше построим и посмотрим сколько в среднем пользователей заходят на сайт в день(не только уникальных). И увидим как часто пользователи перезаходят на сайт."
   ]
  },
  {
   "cell_type": "code",
   "execution_count": 57,
   "metadata": {},
   "outputs": [
    {
     "name": "stdout",
     "output_type": "stream",
     "text": [
      "Среднее количество пользователей в день: 987\n"
     ]
    }
   ],
   "source": [
    "count_visits = visits.groupby('session_date').agg({'uid' : 'count'}).mean()\n",
    "print('Среднее количество пользователей в день:', int(count_visits))"
   ]
  },
  {
   "cell_type": "code",
   "execution_count": 58,
   "metadata": {},
   "outputs": [
    {
     "data": {
      "image/png": "[encoded data removed]",
      "text/plain": [
       "<Figure size 864x360 with 1 Axes>"
      ]
     },
     "metadata": {
      "needs_background": "light"
     },
     "output_type": "display_data"
    }
   ],
   "source": [
    "visits.pivot_table(index='session_date', values='uid', aggfunc='count').plot(y='uid', grid=True, figsize=(12, 5), title='Среднее дневное посещение уникальных пользователей')\n",
    "plt.show()"
   ]
  },
  {
   "cell_type": "markdown",
   "metadata": {},
   "source": [
    "Как видно, числа уникальных пользователей и повторных, практически не отличаются, хотя тенденции остаются практически одни и те же. Это должно быть с чем то связано.\n",
    "\n",
    "Теперь, выясним, сколько пользователь проводит на сайте времени в среднем, или иными словами, сколько длиться средняя сессия."
   ]
  },
  {
   "cell_type": "code",
   "execution_count": 59,
   "metadata": {},
   "outputs": [
    {
     "data": {
      "image/png": "[encoded data removed]",
      "text/plain": [
       "<Figure size 432x288 with 1 Axes>"
      ]
     },
     "metadata": {
      "needs_background": "light"
     },
     "output_type": "display_data"
    },
    {
     "name": "stdout",
     "output_type": "stream",
     "text": [
      "0    60\n",
      "dtype: int64\n"
     ]
    }
   ],
   "source": [
    "visits['session_in_sec'] = (visits['end ts'] - visits['start ts']).dt.seconds\n",
    "\n",
    "plt.title('Средняя сессия')\n",
    "visits['session_in_sec'].hist(bins=35)\n",
    "plt.xlabel('Секунды')\n",
    "plt.show()\n",
    "asl = visits['session_in_sec'].mode()\n",
    "print(asl)"
   ]
  },
  {
   "cell_type": "markdown",
   "metadata": {},
   "source": [
    "Распределение конечно не самое нормальное, вероятно здесь какое то определенное число секунд доминирует в среднем. Здесь вероятно стоит применить метод mode, для определения самого популярного значения - и это 60 секунд"
   ]
  },
  {
   "cell_type": "code",
   "execution_count": 60,
   "metadata": {},
   "outputs": [],
   "source": [
    "first_visit_date = visits.groupby(['uid'])['start ts'].min()\n",
    " \n",
    "first_visit_date.name = 'first_visit_date'\n",
    "visits = visits.merge(first_visit_date,on='uid', how='left') \n",
    " \n",
    "visits['first_visit_month'] = visits['first_visit_date'].astype('datetime64[M]') \n",
    " \n",
    "visits['cohort_lifetime'] = visits['visit_month'] - visits['first_visit_month']\n",
    "visits['cohort_lifetime'] = (visits['cohort_lifetime'] / np.timedelta64(1, 'M')).round().astype('int')\n",
    " \n",
    "cohorts_visits = visits.groupby(['first_visit_month','cohort_lifetime']).agg({'uid':'nunique'}).reset_index()\n",
    " \n",
    "initial_users_count = cohorts_visits[cohorts_visits['cohort_lifetime'] == 0][['first_visit_month', 'uid']]\n",
    "initial_users_count = initial_users_count.rename(columns = {'uid' : 'cohort_users'})\n",
    " \n",
    "cohorts_visits = cohorts_visits.merge(initial_users_count,on='first_visit_month') \n",
    "cohorts_visits['retention'] = cohorts_visits['uid'] / cohorts_visits['cohort_users']\n",
    "retention_pivot = cohorts_visits.pivot_table(index='first_visit_month', columns='cohort_lifetime', values='retention', aggfunc='sum')"
   ]
  },
  {
   "cell_type": "code",
   "execution_count": 61,
   "metadata": {},
   "outputs": [
    {
     "data": {
      "image/png": "[encoded data removed]",
      "text/plain": [
       "<Figure size 936x648 with 2 Axes>"
      ]
     },
     "metadata": {
      "needs_background": "light"
     },
     "output_type": "display_data"
    }
   ],
   "source": [
    "plt.figure(figsize=(13, 9))\n",
    "plt.title('Retention Rate')\n",
    "ax = sns.heatmap(retention_pivot, vmax=0.12,annot=True, fmt='.2%', linewidths=1, linecolor='orange')\n",
    "ax.set_yticklabels(visits['first_visit_month'].dt.strftime('%d-%m-%Y').unique())\n",
    "plt.show()"
   ]
  },
  {
   "cell_type": "code",
   "execution_count": 62,
   "metadata": {},
   "outputs": [
    {
     "data": {
      "image/png": "[encoded data removed]",
      "text/plain": [
       "<Figure size 864x360 with 1 Axes>"
      ]
     },
     "metadata": {
      "needs_background": "light"
     },
     "output_type": "display_data"
    }
   ],
   "source": [
    "ax = cohorts_visits.pivot_table(index='first_visit_month', values='retention', aggfunc='sum').plot(kind='bar', y='retention', grid=True, figsize=(12, 5), title='Изменение Retetion Rate по месяцам')\n",
    "ax.set_xticklabels(visits['first_visit_month'].dt.strftime('%d-%m-%Y').unique())\n",
    "plt.xticks(rotation=-90)\n",
    "plt.show()"
   ]
  },
  {
   "cell_type": "code",
   "execution_count": 63,
   "metadata": {},
   "outputs": [
    {
     "name": "stdout",
     "output_type": "stream",
     "text": [
      "Средний Retetion Rate со вторых месяцев: 4.45%\n"
     ]
    }
   ],
   "source": [
    "ch1 = cohorts_visits.query('cohort_lifetime != 0')\n",
    "\n",
    "print('Средний Retetion Rate со вторых месяцев: {:.2%}' .format(ch1['retention'].mean()))"
   ]
  },
  {
   "cell_type": "markdown",
   "metadata": {},
   "source": [
    "Ну и наконец показатель Retention Rate, возможно самый важный зачастую. \n",
    "Как можно увидеть, он чрезвычайно низок. В среднем показатель на второй месяце падает до 4.45%, что не может быть хорошо, а дальше не лучше. Да и по месяцам видно как сам показатель медленно, но верно падает все ниже и ниже. Не хорошо."
   ]
  },
  {
   "cell_type": "markdown",
   "metadata": {},
   "source": [
    "<hr style=\"border: 1px solid #000;\"> \n",
    "\n",
    "<div class=\"alert alert-success\">\n",
    "<strong><font size=5>Комментарий от ревьюера</font></strong><br/>\n",
    "    \n",
    "Хороший дополнительный график с суммарным Retention. Довольно показательно.\n",
    "    \n",
    "</div>\n",
    "<hr style=\"border: 1px solid #000;\"> "
   ]
  },
  {
   "cell_type": "markdown",
   "metadata": {},
   "source": [
    "### Метрики электронной комерции"
   ]
  },
  {
   "cell_type": "code",
   "execution_count": 64,
   "metadata": {},
   "outputs": [
    {
     "name": "stdout",
     "output_type": "stream",
     "text": [
      "Среднее время с момента первого посещения до совершения покупки: 60 секунд\n"
     ]
    }
   ],
   "source": [
    "orders_grouped = orders.merge(first_visit_date, on='uid', how='left')\n",
    "\n",
    "orders_grouped['time_to_buy'] = (orders_grouped['buy ts'] - orders_grouped['first_visit_date']).dt.seconds\n",
    "orders_not_null = orders_grouped.query('time_to_buy != \"0\"')\n",
    "print('Среднее время с момента первого посещения до совершения покупки:', int(orders_not_null['time_to_buy'].mode()),'секунд')"
   ]
  },
  {
   "cell_type": "markdown",
   "metadata": {},
   "source": [
    "Сперва выяснили какое среднее время занимает у людей от начала сессии до совершения покупки(использовался метод mode во избежание аномалий завышеных.). И как выяснилось, что чаще всего люди находятся около минуты в сайте, что может говорить о том, что покупатели уже конкретно знают за чем идет, что, вероятно не будет очень хорошим показателем."
   ]
  },
  {
   "cell_type": "code",
   "execution_count": 65,
   "metadata": {},
   "outputs": [
    {
     "name": "stdout",
     "output_type": "stream",
     "text": [
      "uid    1.098316\n",
      "dtype: float64\n"
     ]
    }
   ],
   "source": [
    "orders['buy_year']  = orders['buy ts'].dt.year\n",
    "orders['buy_month'] = orders['buy ts'].dt.month.round()\n",
    "orders['buy_date'] = orders['buy ts'].dt.date\n",
    "orders_query = orders.query('buy_year != 2018 and buy_month != 6')\n",
    "\n",
    "print((orders_query.groupby(['buy ts']).agg({'uid' : 'nunique'})).mean())\n"
   ]
  },
  {
   "cell_type": "markdown",
   "metadata": {},
   "source": [
    "Так же, выяснили и среднее количество покупок за шесть месяцев, и как показывает подсчет, чаще всего покупают что то одно."
   ]
  },
  {
   "cell_type": "code",
   "execution_count": 66,
   "metadata": {},
   "outputs": [
    {
     "data": {
      "image/png": "[encoded data removed]",
      "text/plain": [
       "<Figure size 864x360 with 1 Axes>"
      ]
     },
     "metadata": {
      "needs_background": "light"
     },
     "output_type": "display_data"
    }
   ],
   "source": [
    "orders_aov = orders.groupby('buy ts').agg({'revenue' : 'sum', 'buy ts' : 'count'})\n",
    "orders_aov['avg_ord_val'] = orders_aov['revenue'] / orders_aov['buy ts']\n",
    "orders_aov = orders_aov.rename(columns = {'revenue' : 'ord_sum', 'buy ts' : 'ord_count'})\n",
    "orders_aov.pivot_table(index='buy ts', values='avg_ord_val').plot(y='avg_ord_val', grid=True, figsize=(12, 5), title='Средний чек')\n",
    "plt.show()"
   ]
  },
  {
   "cell_type": "markdown",
   "metadata": {},
   "source": [
    "На очереди средний чек по покупкам и как он изменялся по времени. Как видно на графике, средний чек скакал примерно в те периоды, когда были какие либо события, где люди покупают в огромных количествах."
   ]
  },
  {
   "cell_type": "code",
   "execution_count": 68,
   "metadata": {},
   "outputs": [
    {
     "data": {
      "image/png": "[encoded data removed]",
      "text/plain": [
       "<Figure size 936x648 with 2 Axes>"
      ]
     },
     "metadata": {
      "needs_background": "light"
     },
     "output_type": "display_data"
    }
   ],
   "source": [
    "\n",
    "orders['order_month'] = orders['buy ts'].astype('datetime64[M]')\n",
    "costs['month'] = costs['dt'].astype('datetime64[M]')\n",
    "\n",
    "first_orders = orders.groupby('uid').agg({'order_month': 'min'}).reset_index()\n",
    "first_orders.columns = ['uid', 'first_order_month']\n",
    "\n",
    "cohort_sizes = first_orders.groupby('first_order_month').agg({'uid': 'nunique'}).reset_index()\n",
    "cohort_sizes.columns = ['first_order_month', 'n_buyers']\n",
    "\n",
    "orders_new = pd.merge(orders,first_orders, on='uid')\n",
    "\n",
    "cohorts = orders_new.groupby(['first_order_month', 'order_month']).agg({'revenue': 'sum'}).reset_index()\n",
    "\n",
    "report = pd.merge(cohort_sizes, cohorts, on='first_order_month')\n",
    "\n",
    "margin_rate = 1\n",
    "\n",
    "report['gp'] = report['revenue'] * margin_rate\n",
    "report['age'] = (report['order_month'] - report['first_order_month']) / np.timedelta64(1, 'M')\n",
    "report['age'] = report['age'].round().astype('int')\n",
    "report['ltv'] = report['gp'] / report['n_buyers']\n",
    "\n",
    "result = report.pivot_table(index='first_order_month', columns='age', values='ltv', aggfunc='mean')\n",
    "\n",
    "cum_ltv = result.cumsum(axis=1)\n",
    "\n",
    "plt.figure(figsize=(13, 9))\n",
    "plt.title('LTV')\n",
    "ax = sns.heatmap(cum_ltv, vmax=10, annot=True, fmt='.2f', linewidths=1, linecolor='orange')\n",
    "ax.set_yticklabels(first_orders['first_order_month'].dt.strftime('%d-%m-%Y').unique())\n",
    "plt.show()"
   ]
  },
  {
   "cell_type": "code",
   "execution_count": 70,
   "metadata": {},
   "outputs": [
    {
     "data": {
      "image/png": "[encoded data removed]",
      "text/plain": [
       "<Figure size 864x360 with 1 Axes>"
      ]
     },
     "metadata": {
      "needs_background": "light"
     },
     "output_type": "display_data"
    }
   ],
   "source": [
    "ax = report.pivot_table(index='first_order_month', values='ltv').plot(kind='bar', y='ltv', grid=True, figsize=(12, 5), title='LTV')\n",
    "ax.set_xticklabels(report['first_order_month'].dt.strftime('%d-%m-%Y').unique())\n",
    "plt.xticks(rotation=-90)\n",
    "plt.show()"
   ]
  },
  {
   "cell_type": "code",
   "execution_count": 71,
   "metadata": {},
   "outputs": [
    {
     "name": "stdout",
     "output_type": "stream",
     "text": [
      "Средний LTV за 6 месяцев: 8.387686429758398\n"
     ]
    }
   ],
   "source": [
    "m6_cum_ltv = result.cumsum(axis=1).mean(axis=0)[6]\n",
    "\n",
    "print('Средний LTV за 6 месяцев:', m6_cum_ltv)"
   ]
  },
  {
   "cell_type": "markdown",
   "metadata": {},
   "source": [
    "И наконец LTV, ценность клиента, если можно так выразиться.\n",
    "Здесь этот показатель сильно варьировался в течении месяцев, что можно видеть как на графике, так и на таблице. \n",
    "\n",
    "Тенденция этого показателя держится относительно высоко только в первых когортах, что говорит о каких то некачественных изменениях за последние 6 месяцев.\n",
    "\n",
    "НО, самое важно что здесь можно вынести я думаю, это то, что LTV растет! Причем в последние месяцы достаточно скачкообразно.  Только со временем, порядка 6 месяцев чтобы перебить нынешнее среднее. Стоит это учитывать в будущем.\n",
    "\n",
    "А сам средний показатель LTV держиться на почти 8.5"
   ]
  },
  {
   "cell_type": "markdown",
   "metadata": {},
   "source": [
    "### Маркетинговые метрики"
   ]
  },
  {
   "cell_type": "code",
   "execution_count": 72,
   "metadata": {},
   "outputs": [
    {
     "name": "stdout",
     "output_type": "stream",
     "text": [
      "Cуммарные расходы на маркетинг: 329131\n"
     ]
    }
   ],
   "source": [
    "print('Cуммарные расходы на маркетинг:', int(costs['costs'].sum()))"
   ]
  },
  {
   "cell_type": "code",
   "execution_count": 73,
   "metadata": {},
   "outputs": [
    {
     "data": {
      "image/png": "[encoded data removed]",
      "text/plain": [
       "<Figure size 864x360 with 1 Axes>"
      ]
     },
     "metadata": {
      "needs_background": "light"
     },
     "output_type": "display_data"
    }
   ],
   "source": [
    "costs.pivot_table(index='source_id', values='costs').plot(kind='bar', y='costs', grid=True, figsize=(12, 5), title='Распределение расходов на маркетинг по источникам трафика')\n",
    "plt.show()"
   ]
  },
  {
   "cell_type": "markdown",
   "metadata": {},
   "source": [
    "Так так, интересное распределение. Как видно, по источникам трафика, почти половина всех расходов занимает трафик номер 3. дальше оставшуюся часть занимают трафики 4,5 и так далее. Будем изучать."
   ]
  },
  {
   "cell_type": "code",
   "execution_count": 74,
   "metadata": {},
   "outputs": [],
   "source": [
    "month_costs = costs.groupby(['month']).sum()\n",
    "\n",
    "report_new = pd.merge(report, month_costs, left_on='first_order_month', right_on='month')\n",
    "report_new['cac'] = report_new['costs'] / report_new['n_buyers']"
   ]
  },
  {
   "cell_type": "code",
   "execution_count": 75,
   "metadata": {},
   "outputs": [
    {
     "name": "stdout",
     "output_type": "stream",
     "text": [
      "Средний CAC на покупателя: 9.319905176921111\n"
     ]
    }
   ],
   "source": [
    "print('Средний CAC на покупателя:', report_new['cac'].mean())"
   ]
  },
  {
   "cell_type": "code",
   "execution_count": 76,
   "metadata": {},
   "outputs": [
    {
     "data": {
      "image/png": "[encoded data removed]",
      "text/plain": [
       "<Figure size 864x360 with 1 Axes>"
      ]
     },
     "metadata": {
      "needs_background": "light"
     },
     "output_type": "display_data"
    }
   ],
   "source": [
    "report_new.pivot_table(index='first_order_month', values='cac').plot(y='cac', grid=True, figsize=(12, 5), title='Распределение среднего CAC по месяцам')\n",
    "plt.show()"
   ]
  },
  {
   "cell_type": "markdown",
   "metadata": {},
   "source": [
    "<hr style=\"border: 1px solid #000;\"> \n",
    "\n",
    "<div class=\"alert alert-warning\">\n",
    "<strong><font size=5>Комментарий от ревьюера (v.3)</font></strong><br/>\n",
    "    \n",
    "Выше ошибка в самой первой строке:\n",
    "```python\n",
    "first_source = visits.sort_values(by='start ts', ascending=False).groupby('uid').agg({'source id':'min'}).reset_index()\n",
    "```\n",
    "    \n",
    "Мы сортируем датафрейм по `start ts` в порядке возрастания, чтобы взять первый элемент (методом first), а не чтобы взять минимальное значение рекламного источника. Минимальное не равно первое. Я поправлю на `first()`.\n",
    "    \n",
    "Что ещё не совсем корректно, это вот эта строка:\n",
    "```python\n",
    "cohort_siz = first_orders.groupby('first_order_month').agg({'uid': 'nunique'}).reset_index()\n",
    "```\n",
    "Мы тут считаем размеры когорт, но почему-то группируем по месяцу первой покупки. Но мы ведь считаем в разрезе ещё и рекламных источников. А тут получается, что мы посчитали когорты, появившиеся на определённый месяц по всем рекламным источникам суммарно, а потом к этому джойним информацию в разрезе источников.\n",
    "    \n",
    "Твой вариант решения можно поправить и получить корректные результаты, но я попробую показать немного иной подход, более детальный, но при этом по сложности такой же.\n",
    "\n",
    "    \n",
    "</div>"
   ]
  },
  {
   "cell_type": "code",
   "execution_count": 83,
   "metadata": {},
   "outputs": [],
   "source": [
    "# находим первого источника каждого посетителя\n",
    "first_source = (visits.sort_values(by='start ts', ascending=False).groupby('uid').agg({'source id':'first'}).reset_index())\n",
    "first_source.columns = ['uid', 'first_source']\n",
    "orders_new = orders_new.merge(first_source, on='uid')"
   ]
  },
  {
   "cell_type": "markdown",
   "metadata": {},
   "source": [
    "<div class=\"alert alert-warning\">\n",
    "    \n",
    "Мы помним, что тут мы считаем уже в разбивке по источникам. Поэтому на этом уже этапе создадим цикл, который будет перебирать наши рекламные источники. А мы будем отфильтровывать нужных клиентов (которые пришли по данному рекламному источнику и считать метрики только по ним):\n",
    "    \n",
    "</div>"
   ]
  },
  {
   "cell_type": "code",
   "execution_count": 85,
   "metadata": {},
   "outputs": [
    {
     "data": {
      "text/plain": [
       "[1, 2, 3, 4, 5, 7, 9, 10]"
      ]
     },
     "execution_count": 85,
     "metadata": {},
     "output_type": "execute_result"
    }
   ],
   "source": [
    "sources_list = sorted(orders_new['first_source'].unique())\n",
    "sources_list"
   ]
  },
  {
   "cell_type": "code",
   "execution_count": 90,
   "metadata": {
    "scrolled": true
   },
   "outputs": [
    {
     "ename": "NameError",
     "evalue": "name 'source_costs_test' is not defined",
     "output_type": "error",
     "traceback": [
      "\u001b[1;31m---------------------------------------------------------------------------\u001b[0m",
      "\u001b[1;31mNameError\u001b[0m                                 Traceback (most recent call last)",
      "\u001b[1;32m<ipython-input-90-01fdfb32746d>\u001b[0m in \u001b[0;36m<module>\u001b[1;34m\u001b[0m\n\u001b[0;32m     21\u001b[0m     \u001b[1;31m# посчитаем затраты и выберем затраты по нужному источнику\u001b[0m\u001b[1;33m\u001b[0m\u001b[1;33m\u001b[0m\u001b[1;33m\u001b[0m\u001b[0m\n\u001b[0;32m     22\u001b[0m     \u001b[0msource_costs\u001b[0m \u001b[1;33m=\u001b[0m \u001b[0mcosts\u001b[0m\u001b[1;33m.\u001b[0m\u001b[0mgroupby\u001b[0m\u001b[1;33m(\u001b[0m\u001b[1;33m[\u001b[0m\u001b[1;34m'source_id'\u001b[0m\u001b[1;33m,\u001b[0m \u001b[1;34m'dt'\u001b[0m\u001b[1;33m]\u001b[0m\u001b[1;33m)\u001b[0m\u001b[1;33m.\u001b[0m\u001b[0msum\u001b[0m\u001b[1;33m(\u001b[0m\u001b[1;33m)\u001b[0m\u001b[1;33m.\u001b[0m\u001b[0mreset_index\u001b[0m\u001b[1;33m(\u001b[0m\u001b[1;33m)\u001b[0m\u001b[1;33m\u001b[0m\u001b[1;33m\u001b[0m\u001b[0m\n\u001b[1;32m---> 23\u001b[1;33m     \u001b[0msource_costs_filtered\u001b[0m \u001b[1;33m=\u001b[0m \u001b[0msource_costs_test\u001b[0m\u001b[1;33m.\u001b[0m\u001b[0mquery\u001b[0m\u001b[1;33m(\u001b[0m\u001b[1;34m\"source_id == @source\"\u001b[0m\u001b[1;33m)\u001b[0m\u001b[1;33m.\u001b[0m\u001b[0mdrop\u001b[0m\u001b[1;33m(\u001b[0m\u001b[1;34m'source_id'\u001b[0m\u001b[1;33m,\u001b[0m \u001b[0maxis\u001b[0m\u001b[1;33m=\u001b[0m\u001b[1;36m1\u001b[0m\u001b[1;33m)\u001b[0m\u001b[1;33m\u001b[0m\u001b[1;33m\u001b[0m\u001b[0m\n\u001b[0m\u001b[0;32m     24\u001b[0m     \u001b[1;31m# display(source_costs_test_filtered)\u001b[0m\u001b[1;33m\u001b[0m\u001b[1;33m\u001b[0m\u001b[1;33m\u001b[0m\u001b[0m\n\u001b[0;32m     25\u001b[0m \u001b[1;33m\u001b[0m\u001b[0m\n",
      "\u001b[1;31mNameError\u001b[0m: name 'source_costs_test' is not defined"
     ]
    }
   ],
   "source": [
    "for source in sources_list:\n",
    "    # оставляем только те записи из orders, которые соответствуют текущему источнику\n",
    "    orders_filtered = orders_new.query('first_source == @source')\n",
    "    # display(orders_filtered)\n",
    "\n",
    "\n",
    "   \n",
    "    \n",
    "    # считаем возраст каждой когорты\n",
    "    cohorts['age'] = ((cohorts['order_month'] - cohorts['first_order_month']) / np.timedelta64(1,'M')).round().astype(int)\n",
    "    cohorts.columns = ['first_order_month', 'order_month', 'revenue', 'age']\n",
    "    \n",
    "    \n",
    "    \n",
    "    # Добавляем в когортный отчет количество покупателей в каждой когорте и считаем LTV\n",
    "    cohorts_report = pd.merge(cohort_sizes, cohorts, on = 'first_order_month')\n",
    "    cohorts_report['ltv'] = cohorts_report['revenue'] / cohorts_report['n_buyers']\n",
    "    \n",
    "    # display(cohorts_report)\n",
    "    \n",
    "    # посчитаем затраты и выберем затраты по нужному источнику\n",
    "    source_costs = costs.groupby(['source_id', 'dt']).sum().reset_index()\n",
    "    source_costs_filtered = source_costs_test.query(\"source_id == @source\").drop('source_id', axis=1)\n",
    "    # display(source_costs_test_filtered)\n",
    "    \n",
    "    cohorts_report_full = cohorts_report.merge(source_costs_filtered, \n",
    "                                               left_on='first_order_month',\n",
    "                                               right_on='dt')\n",
    "    \n",
    "    # display(cohorts_report_full)\n",
    "    \n",
    "    # считаем САС\n",
    "    cohorts_report_full['cac'] = cohorts_report_full['costs'] / cohorts_report_full['n_buyers']\n",
    "    \n",
    "    # считаем ROMI\n",
    "    cohorts_report_full['romi'] = cohorts_report_full['ltv'] / cohorts_report_full['cac']\n",
    "\n",
    "    # display(cohorts_report_full)\n",
    "    \n",
    "    # убираем нули из подписей по Oy\n",
    "    cohorts_report_full['first_order_month'] = cohorts_report_full['first_order_month'].dt.strftime('%Y-%m')\n",
    "    \n",
    "    # финальная сводная\n",
    "    output_final = cohorts_report_full.pivot_table(\n",
    "    index='first_order_month', columns='age', values='romi', aggfunc='mean'\n",
    "    )\n",
    "    # если она пустая, то идём дальше - считаем следующий источник\n",
    "    # (пустая будет по 7 источнику - по нему нет затрат на рекламу)\n",
    "    if not len(output_final):\n",
    "        continue\n",
    "        \n",
    "    # display(output_final)\n",
    "     \n",
    "    # рисуем график\n",
    "    sns.set(style='white')\n",
    "    plt.figure(figsize=(13, 9))\n",
    "    plt.title(f'ROMI для когорт пользователей (по источнику {source})')\n",
    "    sns.heatmap(output_final.cumsum(axis=1).round(2) , annot=True, fmt='.1%', linewidths=1, linecolor='gray')"
   ]
  },
  {
   "cell_type": "markdown",
   "metadata": {},
   "source": [
    "<div class=\"alert alert-warning\">\n",
    "    \n",
    "Тут мы по каждому источнику рекламы делаем когортый анализ. И можем увидеть, какая из когорт показала какой ROMI.\n",
    "    \n",
    "</div>\n",
    "<hr style=\"border: 1px solid #000;\"> "
   ]
  },
  {
   "cell_type": "code",
   "execution_count": 57,
   "metadata": {},
   "outputs": [
    {
     "data": {
      "image/png": "[encoded data removed]",
      "text/plain": [
       "<Figure size 864x360 with 1 Axes>"
      ]
     },
     "metadata": {
      "needs_background": "light"
     },
     "output_type": "display_data"
    }
   ],
   "source": [
    "report_source_new.pivot_table(index='source id', values='cac').plot(kind='bar', y='cac', grid=True, figsize=(12, 5), title='Распределение среднего CAC по источникам трафика')\n",
    "plt.show()"
   ]
  },
  {
   "cell_type": "markdown",
   "metadata": {},
   "source": [
    "Далее параметр CAС, или \"стоимость\" одного нового клиента для компании. В среднем этот показатель на одного клиента обходиться примерно в районе 9.\n",
    "Далее уже средние распределения по месяцам, которые варьируются в зависимости от событий в мире. Странное то, что в августе месяце он был достаточно завышен, хотя и в начале периода выбранного тот же LTV был не так упадок как это позже произошло. Видимо закономерно.\n",
    "\n",
    "И наконец самое интересное, это CAC по источникам трафика, и нас, конечно же интересует номер 4, самый затратный из них. Он практически полностью, вместе с 3-им перевешивают остальное. Это говорит о срочной переработке стратегии маркетинговой."
   ]
  },
  {
   "cell_type": "code",
   "execution_count": 36,
   "metadata": {},
   "outputs": [
    {
     "data": {
      "text/html": [
       "<div>\n",
       "<style scoped>\n",
       "    .dataframe tbody tr th:only-of-type {\n",
       "        vertical-align: middle;\n",
       "    }\n",
       "\n",
       "    .dataframe tbody tr th {\n",
       "        vertical-align: top;\n",
       "    }\n",
       "\n",
       "    .dataframe thead th {\n",
       "        text-align: right;\n",
       "    }\n",
       "</style>\n",
       "<table border=\"1\" class=\"dataframe\">\n",
       "  <thead>\n",
       "    <tr style=\"text-align: right;\">\n",
       "      <th></th>\n",
       "      <th>first_order_month</th>\n",
       "      <th>new_buyers</th>\n",
       "      <th>source id</th>\n",
       "      <th>order_month</th>\n",
       "      <th>rev_sum</th>\n",
       "      <th>rev_uniq</th>\n",
       "      <th>gp</th>\n",
       "      <th>age</th>\n",
       "      <th>ltv</th>\n",
       "      <th>costs</th>\n",
       "      <th>cac</th>\n",
       "      <th>romi</th>\n",
       "    </tr>\n",
       "  </thead>\n",
       "  <tbody>\n",
       "    <tr>\n",
       "      <td>0</td>\n",
       "      <td>2017-06-01</td>\n",
       "      <td>2023</td>\n",
       "      <td>1</td>\n",
       "      <td>2017-06-01</td>\n",
       "      <td>2563.84</td>\n",
       "      <td>119</td>\n",
       "      <td>2563.84</td>\n",
       "      <td>0</td>\n",
       "      <td>1.267346</td>\n",
       "      <td>20833.27</td>\n",
       "      <td>10.298206</td>\n",
       "      <td>0.123065</td>\n",
       "    </tr>\n",
       "    <tr>\n",
       "      <td>1</td>\n",
       "      <td>2017-06-01</td>\n",
       "      <td>2023</td>\n",
       "      <td>1</td>\n",
       "      <td>2017-07-01</td>\n",
       "      <td>881.60</td>\n",
       "      <td>58</td>\n",
       "      <td>881.60</td>\n",
       "      <td>1</td>\n",
       "      <td>0.435788</td>\n",
       "      <td>20833.27</td>\n",
       "      <td>10.298206</td>\n",
       "      <td>0.042317</td>\n",
       "    </tr>\n",
       "    <tr>\n",
       "      <td>2</td>\n",
       "      <td>2017-06-01</td>\n",
       "      <td>2023</td>\n",
       "      <td>1</td>\n",
       "      <td>2017-08-01</td>\n",
       "      <td>755.03</td>\n",
       "      <td>60</td>\n",
       "      <td>755.03</td>\n",
       "      <td>2</td>\n",
       "      <td>0.373223</td>\n",
       "      <td>20833.27</td>\n",
       "      <td>10.298206</td>\n",
       "      <td>0.036242</td>\n",
       "    </tr>\n",
       "    <tr>\n",
       "      <td>3</td>\n",
       "      <td>2017-06-01</td>\n",
       "      <td>2023</td>\n",
       "      <td>1</td>\n",
       "      <td>2017-09-01</td>\n",
       "      <td>1783.91</td>\n",
       "      <td>85</td>\n",
       "      <td>1783.91</td>\n",
       "      <td>3</td>\n",
       "      <td>0.881814</td>\n",
       "      <td>20833.27</td>\n",
       "      <td>10.298206</td>\n",
       "      <td>0.085628</td>\n",
       "    </tr>\n",
       "    <tr>\n",
       "      <td>4</td>\n",
       "      <td>2017-06-01</td>\n",
       "      <td>2023</td>\n",
       "      <td>1</td>\n",
       "      <td>2017-10-01</td>\n",
       "      <td>1884.06</td>\n",
       "      <td>97</td>\n",
       "      <td>1884.06</td>\n",
       "      <td>4</td>\n",
       "      <td>0.931320</td>\n",
       "      <td>20833.27</td>\n",
       "      <td>10.298206</td>\n",
       "      <td>0.090435</td>\n",
       "    </tr>\n",
       "    <tr>\n",
       "      <td>...</td>\n",
       "      <td>...</td>\n",
       "      <td>...</td>\n",
       "      <td>...</td>\n",
       "      <td>...</td>\n",
       "      <td>...</td>\n",
       "      <td>...</td>\n",
       "      <td>...</td>\n",
       "      <td>...</td>\n",
       "      <td>...</td>\n",
       "      <td>...</td>\n",
       "      <td>...</td>\n",
       "      <td>...</td>\n",
       "    </tr>\n",
       "    <tr>\n",
       "      <td>73</td>\n",
       "      <td>2018-03-01</td>\n",
       "      <td>3533</td>\n",
       "      <td>1</td>\n",
       "      <td>2018-04-01</td>\n",
       "      <td>888.33</td>\n",
       "      <td>60</td>\n",
       "      <td>888.33</td>\n",
       "      <td>1</td>\n",
       "      <td>0.251438</td>\n",
       "      <td>20833.27</td>\n",
       "      <td>5.896765</td>\n",
       "      <td>0.042640</td>\n",
       "    </tr>\n",
       "    <tr>\n",
       "      <td>74</td>\n",
       "      <td>2018-03-01</td>\n",
       "      <td>3533</td>\n",
       "      <td>1</td>\n",
       "      <td>2018-05-01</td>\n",
       "      <td>960.91</td>\n",
       "      <td>51</td>\n",
       "      <td>960.91</td>\n",
       "      <td>2</td>\n",
       "      <td>0.271981</td>\n",
       "      <td>20833.27</td>\n",
       "      <td>5.896765</td>\n",
       "      <td>0.046124</td>\n",
       "    </tr>\n",
       "    <tr>\n",
       "      <td>75</td>\n",
       "      <td>2018-04-01</td>\n",
       "      <td>2276</td>\n",
       "      <td>1</td>\n",
       "      <td>2018-04-01</td>\n",
       "      <td>2578.35</td>\n",
       "      <td>118</td>\n",
       "      <td>2578.35</td>\n",
       "      <td>0</td>\n",
       "      <td>1.132843</td>\n",
       "      <td>20833.27</td>\n",
       "      <td>9.153458</td>\n",
       "      <td>0.123761</td>\n",
       "    </tr>\n",
       "    <tr>\n",
       "      <td>76</td>\n",
       "      <td>2018-04-01</td>\n",
       "      <td>2276</td>\n",
       "      <td>1</td>\n",
       "      <td>2018-05-01</td>\n",
       "      <td>992.40</td>\n",
       "      <td>61</td>\n",
       "      <td>992.40</td>\n",
       "      <td>1</td>\n",
       "      <td>0.436028</td>\n",
       "      <td>20833.27</td>\n",
       "      <td>9.153458</td>\n",
       "      <td>0.047635</td>\n",
       "    </tr>\n",
       "    <tr>\n",
       "      <td>77</td>\n",
       "      <td>2018-05-01</td>\n",
       "      <td>2988</td>\n",
       "      <td>1</td>\n",
       "      <td>2018-05-01</td>\n",
       "      <td>2997.32</td>\n",
       "      <td>139</td>\n",
       "      <td>2997.32</td>\n",
       "      <td>0</td>\n",
       "      <td>1.003119</td>\n",
       "      <td>20833.27</td>\n",
       "      <td>6.972313</td>\n",
       "      <td>0.143872</td>\n",
       "    </tr>\n",
       "  </tbody>\n",
       "</table>\n",
       "<p>78 rows × 12 columns</p>\n",
       "</div>"
      ],
      "text/plain": [
       "   first_order_month  new_buyers  source id order_month  rev_sum  rev_uniq  \\\n",
       "0         2017-06-01        2023          1  2017-06-01  2563.84       119   \n",
       "1         2017-06-01        2023          1  2017-07-01   881.60        58   \n",
       "2         2017-06-01        2023          1  2017-08-01   755.03        60   \n",
       "3         2017-06-01        2023          1  2017-09-01  1783.91        85   \n",
       "4         2017-06-01        2023          1  2017-10-01  1884.06        97   \n",
       "..               ...         ...        ...         ...      ...       ...   \n",
       "73        2018-03-01        3533          1  2018-04-01   888.33        60   \n",
       "74        2018-03-01        3533          1  2018-05-01   960.91        51   \n",
       "75        2018-04-01        2276          1  2018-04-01  2578.35       118   \n",
       "76        2018-04-01        2276          1  2018-05-01   992.40        61   \n",
       "77        2018-05-01        2988          1  2018-05-01  2997.32       139   \n",
       "\n",
       "         gp  age       ltv     costs        cac      romi  \n",
       "0   2563.84    0  1.267346  20833.27  10.298206  0.123065  \n",
       "1    881.60    1  0.435788  20833.27  10.298206  0.042317  \n",
       "2    755.03    2  0.373223  20833.27  10.298206  0.036242  \n",
       "3   1783.91    3  0.881814  20833.27  10.298206  0.085628  \n",
       "4   1884.06    4  0.931320  20833.27  10.298206  0.090435  \n",
       "..      ...  ...       ...       ...        ...       ...  \n",
       "73   888.33    1  0.251438  20833.27   5.896765  0.042640  \n",
       "74   960.91    2  0.271981  20833.27   5.896765  0.046124  \n",
       "75  2578.35    0  1.132843  20833.27   9.153458  0.123761  \n",
       "76   992.40    1  0.436028  20833.27   9.153458  0.047635  \n",
       "77  2997.32    0  1.003119  20833.27   6.972313  0.143872  \n",
       "\n",
       "[78 rows x 12 columns]"
      ]
     },
     "execution_count": 36,
     "metadata": {},
     "output_type": "execute_result"
    }
   ],
   "source": [
    "report_source_new[report_source_new['source id'] == 1]"
   ]
  },
  {
   "cell_type": "code",
   "execution_count": 58,
   "metadata": {},
   "outputs": [
    {
     "data": {
      "image/png": "[encoded data removed]",
      "text/plain": [
       "<Figure size 936x648 with 2 Axes>"
      ]
     },
     "metadata": {
      "needs_background": "light"
     },
     "output_type": "display_data"
    }
   ],
   "source": [
    "report_source_new['romi'] = report_source_new['ltv'] / report_source_new['cac']\n",
    "\n",
    "output = report_source_new.pivot_table(index='source id', columns='age', values='romi', aggfunc='mean')\n",
    "\n",
    "cum_romi = output.cumsum(axis=1)\n",
    "\n",
    "plt.figure(figsize=(13, 9))\n",
    "plt.title('ROMI для источников трафика')\n",
    "ax = sns.heatmap(cum_romi, vmax=0.2, annot=True, fmt='.2f', linewidths=1, linecolor='orange')\n",
    "plt.show()"
   ]
  },
  {
   "cell_type": "markdown",
   "metadata": {},
   "source": [
    "<hr style=\"border: 1px solid #000;\"> \n",
    "\n",
    "<div class=\"alert alert-danger\">\n",
    "<strong><font size=5>Комментарий от ревьюера</font></strong><br/>\n",
    "    \n",
    "Логика расчётов выглядит верной. Осталось пересчитать LTV. А то у нас ROMI 3000. А должно быть максимум несколько единиц.\n",
    "    \n",
    "</div>\n",
    "<hr style=\"border: 1px solid #000;\"> "
   ]
  },
  {
   "cell_type": "markdown",
   "metadata": {},
   "source": [
    "<hr style=\"border: 1px solid #000;\"> \n",
    "\n",
    "<div class=\"alert alert-danger\">\n",
    "<strong><font size=5>Комментарий от ревьюера (v.2)</font></strong><br/>\n",
    "    \n",
    "Здесь немного не так. В `report_temp` ты считаешь ROMI на каждый день, при этом размерность когорт у нас месячная (то есть в первой когорте в первом месяце было 2023 клиента, и пришли они в течение всего первого месяца). А в output потом средний показатель за месяц. Поэтому и САС, и ROMI нам нужно считать за месяц.\n",
    "    \n",
    "</div>\n",
    "<hr style=\"border: 1px solid #000;\"> "
   ]
  },
  {
   "cell_type": "markdown",
   "metadata": {},
   "source": [
    "<div class=\"alert alert-info\">\n",
    "Я наконец понял что для подсчета показателей по источникам трафика нужно было и LTV для него же посчитать. Надеюсь правильно исправил\n",
    "<div>"
   ]
  },
  {
   "cell_type": "code",
   "execution_count": 33,
   "metadata": {},
   "outputs": [
    {
     "data": {
      "image/png": "[encoded data removed]",
      "text/plain": [
       "<Figure size 864x360 with 1 Axes>"
      ]
     },
     "metadata": {
      "needs_background": "light"
     },
     "output_type": "display_data"
    }
   ],
   "source": [
    "report_source_new.pivot_table(index='source id', values='romi').plot(kind='bar', y='romi', grid=True, figsize=(12, 5), title='Распределение среднего ROMI по источникам трафика')\n",
    "plt.show()"
   ]
  },
  {
   "cell_type": "markdown",
   "metadata": {},
   "source": [
    "Изучим же окупаемость по источникам трафика. Что показают нам данные и графики. \n",
    "\n",
    "Если смотреть по месяцам жизни когорт, достаточно ярко выделяется 1 источник трафика, где показатель ROMI только растет со временем практически из месяца в месяц. И так же, достаточно ярко выделяются те самые  3 и 4 в особенности(с баснословными показателями CAC) источники трафика. Здесь уже обратимся к графику.\n",
    "\n",
    "Видно, что самым низким среднем значением ROMI является 3, и рядом 4 источник, который больше всего тянут средства из компании."
   ]
  },
  {
   "cell_type": "markdown",
   "metadata": {},
   "source": [
    "## Вывод"
   ]
  },
  {
   "cell_type": "markdown",
   "metadata": {},
   "source": [
    "Сперва, стоит обративть пристальное внимание на 3 и 4 источник трафика, который показывает не самые лучшие результаты по метрикам ROMI и CAC. Вероятно в сфере источников, стоило бы немного сменить вектор на сторону 1 и возможно 2 трафиков, т.к последний показывал неплохую так же тенденцию по сравнению с другими. Тут уже картина как по месяцам, так и по CAC, что не маловажно, показывает что в них стоит вкладываться, потенциал велик и окупаемость на высочацшем уровне."
   ]
  },
  {
   "cell_type": "markdown",
   "metadata": {},
   "source": [
    "Далее по группам метрик.\n",
    "\n",
    "В Retenrion Rate в особенности в сфере продуктовых метрик, явно стоит что то делать, т.к. показатель на достаточно низком уровне, он продолжает безостановочно падать с кажым месяцем, и среднее время на сайте у людей не самое большое. Возможно дело с дизайном или интерфейсом сайта, тут стоит разобраться поглубже.\n",
    "\n",
    "Следом электронная коммерция. Тут дела обстоят 50 на 50 вероятно. Показатели CTR не самые лучшие, тут вэб-дизайнерам я думаю стоит улучшить что то, о чем еще говорит среднее время на сайте от начала сесси до покупки. Чаще всего люди не проводят время, выбирая что то на сайте как в розничном магазине, и от сюда вероятно проблемы с CTR. Но стоит заметить, что по показателю среднему LTV тут не так все плохо, в самых ранних когортах за выбранны период показатель держиться довольно высоко, даже с некоторыми положительными аномалиями. Но сама тенденция по дальнейшим когортам не самая радужная. Спасают сезоны, в которых LTV скачет вверх.\n",
    "\n",
    "Ну и маркетинговые показатели м метрки. Тут, как я уже в кратце выражался выше, стоит перестроить модель затрат на источники трафика. Вполне возможно, все проблемы сайта по различным метрикам и кроются в этом, и если уделить больше внимания 1-чке и 10-ке, то будет выхлоп.\n",
    "\n",
    "И на последок, так что стоит сказать по когортам, которые практически везде, были выделены одни и те же. По моему мнению, пока маркетинговая политика не перемениться, стоит уделять больше времени на работу с новыми клиентами, и удерживать самых старых. Самые первые когорты, даже спустя столько времени остаются самыми прибыльными для бизнесса. Но и в некоторых новых нельзя не заметить положительные тенденции по некоторым метрикам."
   ]
  },
  {
   "cell_type": "markdown",
   "metadata": {},
   "source": [
    "<hr style=\"border: 1px solid #000;\"> \n",
    "\n",
    "<div class=\"alert alert-success\">\n",
    "<strong><font size=5>Комментарий от ревьюера</font></strong><br/>\n",
    "    \n",
    "Выводы отличные. Очень хорошие рассуждения. И что немаловажно - всё грамотно.\n",
    "    \n",
    "</div>\n",
    "<hr style=\"border: 1px solid #000;\"> "
   ]
  },
  {
   "cell_type": "markdown",
   "metadata": {},
   "source": [
    "<div class=\"alert alert-info\">\n",
    "Спасибо за внимание, надеюсь я работал в правильном направлении, и желаю хорошего дня(вечера) мистер(или мисс(ис)) ревьюер :) </div>"
   ]
  },
  {
   "cell_type": "markdown",
   "metadata": {},
   "source": [
    "<div class=\"alert alert-info\">\n",
    "P.S. \n",
    "Свои комментарии по исправлениям я буду писать в такой рамке, если нет возражений)<div>"
   ]
  },
  {
   "cell_type": "markdown",
   "metadata": {},
   "source": [
    "<hr style=\"border: 1px solid #000;\"> \n",
    "\n",
    "<div>\n",
    "<strong><font size=5>Комментарий от ревьюера</font></strong><br/>\n",
    "    \n",
    "Основную часть работы мы сделали. Осталось ещё немного проработать качественные замечания и пересчитать LTV.\n",
    "    \n",
    "Жду твою работу на повторную проверку.\n",
    "    \n",
    "</div>\n",
    "<hr style=\"border: 1px solid #000;\"> "
   ]
  },
  {
   "cell_type": "markdown",
   "metadata": {},
   "source": [
    "<hr style=\"border: 1px solid #000;\"> \n",
    "\n",
    "<div>\n",
    "<strong><font size=5>Комментарий от ревьюера (v.2)</font></strong><br/>\n",
    "    \n",
    "Большую часть поправили. Осталось ещё немного. Скоро добьём.\n",
    "    \n",
    "Жду на повторную проверку.\n",
    "    \n",
    "</div>\n",
    "<hr style=\"border: 1px solid #000;\"> "
   ]
  },
  {
   "cell_type": "markdown",
   "metadata": {},
   "source": [
    "<hr style=\"border: 1px solid #000;\"> \n",
    "\n",
    "<div class=\"alert alert-success\">\n",
    "<strong><font size=5>Комментарий от ревьюера (v.3)</font></strong><br/>\n",
    "    \n",
    "Теперь со всем разобрались. Работу принимаю.\n",
    "    \n",
    "Жду тебя на следующих проектах.\n",
    "    \n",
    "</div>\n",
    "<hr style=\"border: 1px solid #000;\"> "
   ]
  }
 ],
 "metadata": {
  "ExecuteTimeLog": [
   {
    "duration": 2173,
    "start_time": "2021-09-12T12:23:55.465Z"
   },
   {
    "duration": 80,
    "start_time": "2021-09-12T12:27:42.145Z"
   },
   {
    "duration": 498,
    "start_time": "2021-09-12T12:28:23.210Z"
   },
   {
    "duration": 21,
    "start_time": "2021-09-12T12:28:46.068Z"
   },
   {
    "duration": 18,
    "start_time": "2021-09-12T12:28:58.521Z"
   },
   {
    "duration": 20,
    "start_time": "2021-09-12T12:34:23.465Z"
   },
   {
    "duration": 63,
    "start_time": "2021-09-12T12:37:10.535Z"
   },
   {
    "duration": 475,
    "start_time": "2021-09-12T12:40:04.757Z"
   },
   {
    "duration": 4784,
    "start_time": "2021-09-12T12:40:15.441Z"
   },
   {
    "duration": 4808,
    "start_time": "2021-09-12T12:40:41.432Z"
   },
   {
    "duration": 376,
    "start_time": "2021-09-12T12:42:50.123Z"
   },
   {
    "duration": 817,
    "start_time": "2021-09-12T12:43:07.292Z"
   },
   {
    "duration": 77,
    "start_time": "2021-09-12T12:43:08.262Z"
   },
   {
    "duration": 24,
    "start_time": "2021-09-12T12:43:20.362Z"
   },
   {
    "duration": 16,
    "start_time": "2021-09-12T12:43:26.514Z"
   },
   {
    "duration": 43,
    "start_time": "2021-09-12T12:43:28.662Z"
   },
   {
    "duration": 292,
    "start_time": "2021-09-12T12:46:38.431Z"
   },
   {
    "duration": 17,
    "start_time": "2021-09-12T12:47:15.670Z"
   },
   {
    "duration": 28,
    "start_time": "2021-09-12T12:49:02.907Z"
   },
   {
    "duration": 11,
    "start_time": "2021-09-12T12:50:54.443Z"
   },
   {
    "duration": 316,
    "start_time": "2021-09-13T14:24:57.492Z"
   },
   {
    "duration": 2241,
    "start_time": "2021-09-13T14:25:01.947Z"
   },
   {
    "duration": 89,
    "start_time": "2021-09-13T14:25:04.191Z"
   },
   {
    "duration": 20,
    "start_time": "2021-09-13T14:25:04.283Z"
   },
   {
    "duration": 17,
    "start_time": "2021-09-13T14:25:04.306Z"
   },
   {
    "duration": 358,
    "start_time": "2021-09-13T14:25:04.326Z"
   },
   {
    "duration": 28,
    "start_time": "2021-09-13T14:25:04.687Z"
   },
   {
    "duration": 37,
    "start_time": "2021-09-13T14:25:04.718Z"
   },
   {
    "duration": 671,
    "start_time": "2021-09-13T14:25:06.508Z"
   },
   {
    "duration": 7053,
    "start_time": "2021-09-13T14:25:23.647Z"
   },
   {
    "duration": 768,
    "start_time": "2021-09-13T14:26:15.502Z"
   },
   {
    "duration": 652,
    "start_time": "2021-09-13T14:27:13.520Z"
   },
   {
    "duration": 766,
    "start_time": "2021-09-13T14:27:19.860Z"
   },
   {
    "duration": 423,
    "start_time": "2021-09-13T14:28:37.522Z"
   },
   {
    "duration": 574,
    "start_time": "2021-09-13T14:29:04.933Z"
   },
   {
    "duration": 992,
    "start_time": "2021-09-13T14:32:32.435Z"
   },
   {
    "duration": 954,
    "start_time": "2021-09-13T14:32:39.024Z"
   },
   {
    "duration": 666,
    "start_time": "2021-09-13T14:33:19.665Z"
   },
   {
    "duration": 572,
    "start_time": "2021-09-13T14:34:14.234Z"
   },
   {
    "duration": 911,
    "start_time": "2021-09-13T14:34:55.585Z"
   },
   {
    "duration": 1547,
    "start_time": "2021-09-13T14:35:11.276Z"
   },
   {
    "duration": 1437,
    "start_time": "2021-09-13T14:35:14.648Z"
   },
   {
    "duration": 1202,
    "start_time": "2021-09-13T14:35:44.528Z"
   },
   {
    "duration": 882,
    "start_time": "2021-09-13T14:35:52.408Z"
   },
   {
    "duration": 393,
    "start_time": "2021-09-13T14:37:16.126Z"
   },
   {
    "duration": 417,
    "start_time": "2021-09-13T14:37:19.049Z"
   },
   {
    "duration": 7163,
    "start_time": "2021-09-13T14:37:25.509Z"
   },
   {
    "duration": 483,
    "start_time": "2021-09-13T14:38:32.808Z"
   },
   {
    "duration": 643,
    "start_time": "2021-09-13T14:38:49.019Z"
   },
   {
    "duration": 513,
    "start_time": "2021-09-13T14:38:58.109Z"
   },
   {
    "duration": 480,
    "start_time": "2021-09-13T14:40:11.111Z"
   },
   {
    "duration": 871,
    "start_time": "2021-09-13T14:40:31.917Z"
   },
   {
    "duration": 544,
    "start_time": "2021-09-13T14:40:39.284Z"
   },
   {
    "duration": 373,
    "start_time": "2021-09-13T14:41:13.650Z"
   },
   {
    "duration": 377,
    "start_time": "2021-09-13T14:41:18.811Z"
   },
   {
    "duration": 96,
    "start_time": "2021-09-13T14:42:56.874Z"
   },
   {
    "duration": 430,
    "start_time": "2021-09-13T14:43:03.013Z"
   },
   {
    "duration": 743,
    "start_time": "2021-09-13T14:44:20.765Z"
   },
   {
    "duration": 472,
    "start_time": "2021-09-13T14:44:28.805Z"
   },
   {
    "duration": 665,
    "start_time": "2021-09-13T14:53:11.893Z"
   },
   {
    "duration": 437,
    "start_time": "2021-09-13T14:53:14.633Z"
   },
   {
    "duration": 8741,
    "start_time": "2021-09-13T14:56:50.494Z"
   },
   {
    "duration": 958,
    "start_time": "2021-09-13T14:57:12.571Z"
   },
   {
    "duration": 72,
    "start_time": "2021-09-13T14:57:13.532Z"
   },
   {
    "duration": 19,
    "start_time": "2021-09-13T14:57:13.607Z"
   },
   {
    "duration": 42,
    "start_time": "2021-09-13T14:57:13.628Z"
   },
   {
    "duration": 308,
    "start_time": "2021-09-13T14:57:13.672Z"
   },
   {
    "duration": 25,
    "start_time": "2021-09-13T14:57:13.983Z"
   },
   {
    "duration": 10,
    "start_time": "2021-09-13T14:57:14.010Z"
   },
   {
    "duration": 712,
    "start_time": "2021-09-13T14:57:14.023Z"
   },
   {
    "duration": 505,
    "start_time": "2021-09-13T14:57:14.738Z"
   },
   {
    "duration": 454,
    "start_time": "2021-09-13T14:57:15.245Z"
   },
   {
    "duration": 515,
    "start_time": "2021-09-13T14:57:15.702Z"
   },
   {
    "duration": 443,
    "start_time": "2021-09-13T14:57:17.785Z"
   },
   {
    "duration": 6758,
    "start_time": "2021-09-13T14:57:19.185Z"
   },
   {
    "duration": 679,
    "start_time": "2021-09-13T14:59:25.098Z"
   },
   {
    "duration": 691,
    "start_time": "2021-09-13T14:59:30.677Z"
   },
   {
    "duration": 451,
    "start_time": "2021-09-13T14:59:34.208Z"
   },
   {
    "duration": 1039,
    "start_time": "2021-09-13T15:00:32.189Z"
   },
   {
    "duration": 672,
    "start_time": "2021-09-13T15:01:23.730Z"
   },
   {
    "duration": 369,
    "start_time": "2021-09-13T15:01:51.288Z"
   },
   {
    "duration": 365,
    "start_time": "2021-09-13T15:03:03.600Z"
   },
   {
    "duration": 375,
    "start_time": "2021-09-13T15:03:09.350Z"
   },
   {
    "duration": 7172,
    "start_time": "2021-09-13T15:03:30.431Z"
   },
   {
    "duration": 7508,
    "start_time": "2021-09-13T15:03:52.551Z"
   },
   {
    "duration": 499,
    "start_time": "2021-09-13T15:04:12.592Z"
   },
   {
    "duration": 641,
    "start_time": "2021-09-13T15:04:31.421Z"
   },
   {
    "duration": 867,
    "start_time": "2021-09-13T15:05:54.194Z"
   },
   {
    "duration": 553,
    "start_time": "2021-09-13T15:06:00.544Z"
   },
   {
    "duration": 421,
    "start_time": "2021-09-13T15:09:05.762Z"
   },
   {
    "duration": 127,
    "start_time": "2021-09-13T15:09:48.647Z"
   },
   {
    "duration": 7009,
    "start_time": "2021-09-13T15:09:53.707Z"
   },
   {
    "duration": 7020,
    "start_time": "2021-09-13T15:10:15.838Z"
   },
   {
    "duration": 431,
    "start_time": "2021-09-13T15:10:37.108Z"
   },
   {
    "duration": 418,
    "start_time": "2021-09-13T15:11:26.099Z"
   },
   {
    "duration": 357,
    "start_time": "2021-09-13T15:12:04.202Z"
   },
   {
    "duration": 359,
    "start_time": "2021-09-13T15:12:33.939Z"
   },
   {
    "duration": 432,
    "start_time": "2021-09-13T15:16:55.793Z"
   },
   {
    "duration": 1068,
    "start_time": "2021-09-13T15:17:13.272Z"
   },
   {
    "duration": 309,
    "start_time": "2021-09-13T15:18:58.264Z"
   },
   {
    "duration": 43,
    "start_time": "2021-09-13T15:19:22.901Z"
   },
   {
    "duration": 43,
    "start_time": "2021-09-13T15:20:08.254Z"
   },
   {
    "duration": 46,
    "start_time": "2021-09-13T15:20:15.166Z"
   },
   {
    "duration": 94,
    "start_time": "2021-09-13T15:25:02.106Z"
   },
   {
    "duration": 41,
    "start_time": "2021-09-13T15:25:06.149Z"
   },
   {
    "duration": 111,
    "start_time": "2021-09-13T15:26:01.321Z"
   },
   {
    "duration": 102,
    "start_time": "2021-09-13T15:26:10.611Z"
   },
   {
    "duration": 331,
    "start_time": "2021-09-13T15:26:20.312Z"
   },
   {
    "duration": 46,
    "start_time": "2021-09-13T15:27:20.513Z"
   },
   {
    "duration": 43,
    "start_time": "2021-09-13T15:27:38.194Z"
   },
   {
    "duration": 2620,
    "start_time": "2021-09-13T15:27:41.962Z"
   },
   {
    "duration": 42,
    "start_time": "2021-09-13T15:28:09.303Z"
   },
   {
    "duration": 1866,
    "start_time": "2021-09-13T15:28:11.823Z"
   },
   {
    "duration": 452,
    "start_time": "2021-09-13T15:29:28.395Z"
   },
   {
    "duration": 14,
    "start_time": "2021-09-13T15:34:21.197Z"
   },
   {
    "duration": 617,
    "start_time": "2021-09-13T15:36:52.764Z"
   },
   {
    "duration": 395,
    "start_time": "2021-09-13T15:36:58.708Z"
   },
   {
    "duration": 388,
    "start_time": "2021-09-13T15:37:22.939Z"
   },
   {
    "duration": 699,
    "start_time": "2021-09-13T15:38:42.593Z"
   },
   {
    "duration": 9227,
    "start_time": "2021-09-13T15:38:48.441Z"
   },
   {
    "duration": 389,
    "start_time": "2021-09-13T15:39:04.693Z"
   },
   {
    "duration": 421,
    "start_time": "2021-09-13T15:41:50.641Z"
   },
   {
    "duration": 676,
    "start_time": "2021-09-13T15:42:04.323Z"
   },
   {
    "duration": 672,
    "start_time": "2021-09-13T15:42:13.531Z"
   },
   {
    "duration": 17,
    "start_time": "2021-09-13T16:18:55.967Z"
   },
   {
    "duration": 7435,
    "start_time": "2021-09-13T16:32:48.018Z"
   },
   {
    "duration": 464,
    "start_time": "2021-09-13T16:33:19.371Z"
   },
   {
    "duration": 554,
    "start_time": "2021-09-13T16:35:53.827Z"
   },
   {
    "duration": 101,
    "start_time": "2021-09-13T16:41:39.828Z"
   },
   {
    "duration": 873,
    "start_time": "2021-09-13T16:41:52.405Z"
   },
   {
    "duration": 74,
    "start_time": "2021-09-13T16:41:53.281Z"
   },
   {
    "duration": 19,
    "start_time": "2021-09-13T16:41:53.358Z"
   },
   {
    "duration": 16,
    "start_time": "2021-09-13T16:41:53.380Z"
   },
   {
    "duration": 333,
    "start_time": "2021-09-13T16:41:53.399Z"
   },
   {
    "duration": 39,
    "start_time": "2021-09-13T16:41:53.734Z"
   },
   {
    "duration": 10,
    "start_time": "2021-09-13T16:41:53.775Z"
   },
   {
    "duration": 312,
    "start_time": "2021-09-13T16:41:53.787Z"
   },
   {
    "duration": -472,
    "start_time": "2021-09-13T16:41:54.575Z"
   },
   {
    "duration": -475,
    "start_time": "2021-09-13T16:41:54.579Z"
   },
   {
    "duration": -475,
    "start_time": "2021-09-13T16:41:54.581Z"
   },
   {
    "duration": -476,
    "start_time": "2021-09-13T16:41:54.583Z"
   },
   {
    "duration": -475,
    "start_time": "2021-09-13T16:41:54.584Z"
   },
   {
    "duration": -476,
    "start_time": "2021-09-13T16:41:54.586Z"
   },
   {
    "duration": -478,
    "start_time": "2021-09-13T16:41:54.590Z"
   },
   {
    "duration": 246,
    "start_time": "2021-09-13T16:42:18.923Z"
   },
   {
    "duration": 738,
    "start_time": "2021-09-13T16:42:23.646Z"
   },
   {
    "duration": 75,
    "start_time": "2021-09-13T16:42:24.387Z"
   },
   {
    "duration": 18,
    "start_time": "2021-09-13T16:42:24.465Z"
   },
   {
    "duration": 23,
    "start_time": "2021-09-13T16:42:24.485Z"
   },
   {
    "duration": 315,
    "start_time": "2021-09-13T16:42:25.644Z"
   },
   {
    "duration": 29,
    "start_time": "2021-09-13T16:42:36.083Z"
   },
   {
    "duration": 44,
    "start_time": "2021-09-13T16:42:40.103Z"
   },
   {
    "duration": 27,
    "start_time": "2021-09-13T16:42:40.983Z"
   },
   {
    "duration": 779,
    "start_time": "2021-09-13T16:42:44.582Z"
   },
   {
    "duration": 75,
    "start_time": "2021-09-13T16:42:45.364Z"
   },
   {
    "duration": 18,
    "start_time": "2021-09-13T16:42:45.455Z"
   },
   {
    "duration": 17,
    "start_time": "2021-09-13T16:42:45.476Z"
   },
   {
    "duration": 330,
    "start_time": "2021-09-13T16:42:45.495Z"
   },
   {
    "duration": 30,
    "start_time": "2021-09-13T16:42:47.224Z"
   },
   {
    "duration": 12,
    "start_time": "2021-09-13T16:42:49.511Z"
   },
   {
    "duration": 681,
    "start_time": "2021-09-13T16:42:58.584Z"
   },
   {
    "duration": 443,
    "start_time": "2021-09-13T16:43:02.642Z"
   },
   {
    "duration": 1280,
    "start_time": "2021-09-13T16:43:04.123Z"
   },
   {
    "duration": 396,
    "start_time": "2021-09-13T16:43:06.352Z"
   },
   {
    "duration": 43,
    "start_time": "2021-09-13T16:43:08.494Z"
   },
   {
    "duration": 453,
    "start_time": "2021-09-13T16:43:09.484Z"
   },
   {
    "duration": 386,
    "start_time": "2021-09-13T16:43:12.074Z"
   },
   {
    "duration": 16,
    "start_time": "2021-09-13T16:45:03.385Z"
   },
   {
    "duration": 9,
    "start_time": "2021-09-13T16:46:21.034Z"
   },
   {
    "duration": 8,
    "start_time": "2021-09-13T16:47:06.856Z"
   },
   {
    "duration": 113,
    "start_time": "2021-09-13T16:47:08.848Z"
   },
   {
    "duration": 7,
    "start_time": "2021-09-13T16:47:11.558Z"
   },
   {
    "duration": 16,
    "start_time": "2021-09-13T16:47:23.829Z"
   },
   {
    "duration": 205,
    "start_time": "2021-09-13T16:48:33.254Z"
   },
   {
    "duration": 19,
    "start_time": "2021-09-13T16:48:35.614Z"
   },
   {
    "duration": 8,
    "start_time": "2021-09-13T16:48:36.974Z"
   },
   {
    "duration": 519,
    "start_time": "2021-09-13T16:54:01.536Z"
   },
   {
    "duration": 8340,
    "start_time": "2021-09-13T16:55:52.789Z"
   },
   {
    "duration": 837,
    "start_time": "2021-09-13T16:56:27.720Z"
   },
   {
    "duration": 75,
    "start_time": "2021-09-13T16:56:28.560Z"
   },
   {
    "duration": 20,
    "start_time": "2021-09-13T16:56:28.656Z"
   },
   {
    "duration": 15,
    "start_time": "2021-09-13T16:56:28.679Z"
   },
   {
    "duration": 333,
    "start_time": "2021-09-13T16:56:28.696Z"
   },
   {
    "duration": 39,
    "start_time": "2021-09-13T16:56:29.031Z"
   },
   {
    "duration": 11,
    "start_time": "2021-09-13T16:56:29.072Z"
   },
   {
    "duration": 699,
    "start_time": "2021-09-13T16:56:29.085Z"
   },
   {
    "duration": 517,
    "start_time": "2021-09-13T16:56:29.787Z"
   },
   {
    "duration": 1100,
    "start_time": "2021-09-13T16:56:30.307Z"
   },
   {
    "duration": 405,
    "start_time": "2021-09-13T16:56:31.409Z"
   },
   {
    "duration": 46,
    "start_time": "2021-09-13T16:56:31.817Z"
   },
   {
    "duration": 480,
    "start_time": "2021-09-13T16:56:31.865Z"
   },
   {
    "duration": 394,
    "start_time": "2021-09-13T16:56:32.347Z"
   },
   {
    "duration": 650,
    "start_time": "2021-09-13T16:56:35.237Z"
   },
   {
    "duration": -466,
    "start_time": "2021-09-13T16:58:28.386Z"
   },
   {
    "duration": 2250,
    "start_time": "2021-09-13T16:58:47.773Z"
   },
   {
    "duration": 82,
    "start_time": "2021-09-13T16:58:50.026Z"
   },
   {
    "duration": 19,
    "start_time": "2021-09-13T16:58:50.111Z"
   },
   {
    "duration": 34,
    "start_time": "2021-09-13T16:58:50.132Z"
   },
   {
    "duration": 347,
    "start_time": "2021-09-13T16:58:50.169Z"
   },
   {
    "duration": 39,
    "start_time": "2021-09-13T16:58:50.519Z"
   },
   {
    "duration": 10,
    "start_time": "2021-09-13T16:58:50.561Z"
   },
   {
    "duration": 710,
    "start_time": "2021-09-13T16:58:50.575Z"
   },
   {
    "duration": 452,
    "start_time": "2021-09-13T16:58:51.288Z"
   },
   {
    "duration": 1196,
    "start_time": "2021-09-13T16:58:51.743Z"
   },
   {
    "duration": 408,
    "start_time": "2021-09-13T16:58:52.941Z"
   },
   {
    "duration": 42,
    "start_time": "2021-09-13T16:58:53.355Z"
   },
   {
    "duration": 612,
    "start_time": "2021-09-13T16:58:53.400Z"
   },
   {
    "duration": 442,
    "start_time": "2021-09-13T16:58:54.014Z"
   },
   {
    "duration": 1488,
    "start_time": "2021-09-13T16:58:54.458Z"
   },
   {
    "duration": -511,
    "start_time": "2021-09-13T16:58:56.460Z"
   },
   {
    "duration": -512,
    "start_time": "2021-09-13T16:58:56.462Z"
   },
   {
    "duration": 7650,
    "start_time": "2021-09-13T16:59:21.956Z"
   },
   {
    "duration": 1503,
    "start_time": "2021-09-13T17:01:41.316Z"
   },
   {
    "duration": 1700,
    "start_time": "2021-09-13T17:02:14.612Z"
   },
   {
    "duration": 7462,
    "start_time": "2021-09-13T17:04:32.999Z"
   },
   {
    "duration": 733,
    "start_time": "2021-09-13T17:04:47.459Z"
   },
   {
    "duration": 77,
    "start_time": "2021-09-13T17:04:48.195Z"
   },
   {
    "duration": 18,
    "start_time": "2021-09-13T17:04:48.275Z"
   },
   {
    "duration": 16,
    "start_time": "2021-09-13T17:04:48.296Z"
   },
   {
    "duration": 324,
    "start_time": "2021-09-13T17:04:48.315Z"
   },
   {
    "duration": 38,
    "start_time": "2021-09-13T17:04:48.642Z"
   },
   {
    "duration": 11,
    "start_time": "2021-09-13T17:04:48.683Z"
   },
   {
    "duration": 729,
    "start_time": "2021-09-13T17:04:48.696Z"
   },
   {
    "duration": 555,
    "start_time": "2021-09-13T17:04:49.428Z"
   },
   {
    "duration": 1181,
    "start_time": "2021-09-13T17:04:49.985Z"
   },
   {
    "duration": 406,
    "start_time": "2021-09-13T17:04:51.169Z"
   },
   {
    "duration": 40,
    "start_time": "2021-09-13T17:04:51.577Z"
   },
   {
    "duration": 477,
    "start_time": "2021-09-13T17:04:51.619Z"
   },
   {
    "duration": 476,
    "start_time": "2021-09-13T17:04:52.098Z"
   },
   {
    "duration": 1758,
    "start_time": "2021-09-13T17:04:53.730Z"
   },
   {
    "duration": 5840,
    "start_time": "2021-09-13T17:07:26.823Z"
   },
   {
    "duration": 4922,
    "start_time": "2021-09-13T17:07:42.313Z"
   },
   {
    "duration": 757,
    "start_time": "2021-09-13T17:07:54.841Z"
   },
   {
    "duration": 86,
    "start_time": "2021-09-13T17:07:55.601Z"
   },
   {
    "duration": 28,
    "start_time": "2021-09-13T17:07:55.692Z"
   },
   {
    "duration": 36,
    "start_time": "2021-09-13T17:07:55.723Z"
   },
   {
    "duration": 361,
    "start_time": "2021-09-13T17:07:55.762Z"
   },
   {
    "duration": 39,
    "start_time": "2021-09-13T17:07:56.125Z"
   },
   {
    "duration": 10,
    "start_time": "2021-09-13T17:07:56.166Z"
   },
   {
    "duration": 692,
    "start_time": "2021-09-13T17:07:56.179Z"
   },
   {
    "duration": 534,
    "start_time": "2021-09-13T17:07:56.876Z"
   },
   {
    "duration": 1201,
    "start_time": "2021-09-13T17:07:57.413Z"
   },
   {
    "duration": 415,
    "start_time": "2021-09-13T17:07:58.617Z"
   },
   {
    "duration": 50,
    "start_time": "2021-09-13T17:07:59.034Z"
   },
   {
    "duration": 486,
    "start_time": "2021-09-13T17:07:59.086Z"
   },
   {
    "duration": 393,
    "start_time": "2021-09-13T17:07:59.574Z"
   },
   {
    "duration": 1738,
    "start_time": "2021-09-13T17:07:59.970Z"
   },
   {
    "duration": -469,
    "start_time": "2021-09-13T17:08:11.812Z"
   },
   {
    "duration": -473,
    "start_time": "2021-09-13T17:08:11.818Z"
   },
   {
    "duration": 5164,
    "start_time": "2021-09-13T17:08:16.825Z"
   },
   {
    "duration": 438,
    "start_time": "2021-09-13T17:09:47.239Z"
   },
   {
    "duration": 439,
    "start_time": "2021-09-13T17:10:51.998Z"
   },
   {
    "duration": 10,
    "start_time": "2021-09-13T17:12:19.256Z"
   },
   {
    "duration": 85,
    "start_time": "2021-09-13T17:15:37.394Z"
   },
   {
    "duration": 264,
    "start_time": "2021-09-13T17:15:42.999Z"
   },
   {
    "duration": 114,
    "start_time": "2021-09-13T17:15:50.189Z"
   },
   {
    "duration": 1927,
    "start_time": "2021-09-13T17:17:00.563Z"
   },
   {
    "duration": 563,
    "start_time": "2021-09-13T17:33:41.621Z"
   },
   {
    "duration": 540,
    "start_time": "2021-09-13T17:33:46.429Z"
   },
   {
    "duration": 780,
    "start_time": "2021-09-13T17:34:15.659Z"
   },
   {
    "duration": 75,
    "start_time": "2021-09-13T17:34:16.441Z"
   },
   {
    "duration": 36,
    "start_time": "2021-09-13T17:34:16.520Z"
   },
   {
    "duration": 16,
    "start_time": "2021-09-13T17:34:16.558Z"
   },
   {
    "duration": 315,
    "start_time": "2021-09-13T17:34:16.577Z"
   },
   {
    "duration": 27,
    "start_time": "2021-09-13T17:34:16.895Z"
   },
   {
    "duration": 37,
    "start_time": "2021-09-13T17:34:16.925Z"
   },
   {
    "duration": 708,
    "start_time": "2021-09-13T17:34:16.965Z"
   },
   {
    "duration": 450,
    "start_time": "2021-09-13T17:34:17.677Z"
   },
   {
    "duration": 1177,
    "start_time": "2021-09-13T17:34:18.129Z"
   },
   {
    "duration": 425,
    "start_time": "2021-09-13T17:34:19.309Z"
   },
   {
    "duration": 45,
    "start_time": "2021-09-13T17:34:19.737Z"
   },
   {
    "duration": 489,
    "start_time": "2021-09-13T17:34:19.785Z"
   },
   {
    "duration": 408,
    "start_time": "2021-09-13T17:34:20.277Z"
   },
   {
    "duration": 1788,
    "start_time": "2021-09-13T17:34:25.325Z"
   },
   {
    "duration": 457,
    "start_time": "2021-09-13T17:34:30.903Z"
   },
   {
    "duration": 8,
    "start_time": "2021-09-13T17:34:32.453Z"
   },
   {
    "duration": 468,
    "start_time": "2021-09-13T17:34:34.413Z"
   },
   {
    "duration": 143,
    "start_time": "2021-09-13T17:39:57.690Z"
   },
   {
    "duration": 2285,
    "start_time": "2021-09-13T17:42:53.067Z"
   },
   {
    "duration": 81,
    "start_time": "2021-09-13T17:42:55.355Z"
   },
   {
    "duration": 33,
    "start_time": "2021-09-13T17:42:55.439Z"
   },
   {
    "duration": 19,
    "start_time": "2021-09-13T17:42:55.475Z"
   },
   {
    "duration": 376,
    "start_time": "2021-09-13T17:42:55.497Z"
   },
   {
    "duration": 28,
    "start_time": "2021-09-13T17:42:55.876Z"
   },
   {
    "duration": 12,
    "start_time": "2021-09-13T17:42:55.906Z"
   },
   {
    "duration": 743,
    "start_time": "2021-09-13T17:42:55.922Z"
   },
   {
    "duration": 455,
    "start_time": "2021-09-13T17:42:56.667Z"
   },
   {
    "duration": 1108,
    "start_time": "2021-09-13T17:42:57.124Z"
   },
   {
    "duration": 422,
    "start_time": "2021-09-13T17:42:58.234Z"
   },
   {
    "duration": 42,
    "start_time": "2021-09-13T17:42:58.659Z"
   },
   {
    "duration": 513,
    "start_time": "2021-09-13T17:42:58.704Z"
   },
   {
    "duration": 396,
    "start_time": "2021-09-13T17:42:59.219Z"
   },
   {
    "duration": 1969,
    "start_time": "2021-09-13T17:42:59.618Z"
   },
   {
    "duration": 467,
    "start_time": "2021-09-13T17:43:01.590Z"
   },
   {
    "duration": 10,
    "start_time": "2021-09-13T17:43:02.060Z"
   },
   {
    "duration": 618,
    "start_time": "2021-09-13T17:43:02.073Z"
   },
   {
    "duration": 322,
    "start_time": "2021-09-13T17:43:43.495Z"
   },
   {
    "duration": 2444,
    "start_time": "2021-09-13T17:43:47.220Z"
   },
   {
    "duration": 80,
    "start_time": "2021-09-13T17:43:49.667Z"
   },
   {
    "duration": 18,
    "start_time": "2021-09-13T17:43:49.756Z"
   },
   {
    "duration": 27,
    "start_time": "2021-09-13T17:43:49.776Z"
   },
   {
    "duration": 357,
    "start_time": "2021-09-13T17:43:49.806Z"
   },
   {
    "duration": 26,
    "start_time": "2021-09-13T17:43:50.166Z"
   },
   {
    "duration": 11,
    "start_time": "2021-09-13T17:43:50.194Z"
   },
   {
    "duration": 721,
    "start_time": "2021-09-13T17:43:50.208Z"
   },
   {
    "duration": 435,
    "start_time": "2021-09-13T17:43:50.934Z"
   },
   {
    "duration": 1167,
    "start_time": "2021-09-13T17:43:51.373Z"
   },
   {
    "duration": 407,
    "start_time": "2021-09-13T17:43:52.542Z"
   },
   {
    "duration": 42,
    "start_time": "2021-09-13T17:43:52.955Z"
   },
   {
    "duration": 481,
    "start_time": "2021-09-13T17:43:53.000Z"
   },
   {
    "duration": 393,
    "start_time": "2021-09-13T17:43:53.483Z"
   },
   {
    "duration": 1827,
    "start_time": "2021-09-13T17:43:53.878Z"
   },
   {
    "duration": 467,
    "start_time": "2021-09-13T17:43:55.709Z"
   },
   {
    "duration": 9,
    "start_time": "2021-09-13T17:43:56.179Z"
   },
   {
    "duration": 152,
    "start_time": "2021-09-13T17:43:57.956Z"
   },
   {
    "duration": 100,
    "start_time": "2021-09-13T17:44:01.846Z"
   },
   {
    "duration": 300,
    "start_time": "2021-09-13T17:44:16.277Z"
   },
   {
    "duration": 2218,
    "start_time": "2021-09-13T17:44:19.196Z"
   },
   {
    "duration": 83,
    "start_time": "2021-09-13T17:44:21.417Z"
   },
   {
    "duration": 22,
    "start_time": "2021-09-13T17:44:21.504Z"
   },
   {
    "duration": 42,
    "start_time": "2021-09-13T17:44:21.529Z"
   },
   {
    "duration": 365,
    "start_time": "2021-09-13T17:44:21.573Z"
   },
   {
    "duration": 36,
    "start_time": "2021-09-13T17:44:21.940Z"
   },
   {
    "duration": 11,
    "start_time": "2021-09-13T17:44:21.979Z"
   },
   {
    "duration": 809,
    "start_time": "2021-09-13T17:44:21.994Z"
   },
   {
    "duration": 436,
    "start_time": "2021-09-13T17:44:22.805Z"
   },
   {
    "duration": 1057,
    "start_time": "2021-09-13T17:44:23.243Z"
   },
   {
    "duration": 405,
    "start_time": "2021-09-13T17:44:24.302Z"
   },
   {
    "duration": 53,
    "start_time": "2021-09-13T17:44:24.709Z"
   },
   {
    "duration": 484,
    "start_time": "2021-09-13T17:44:24.765Z"
   },
   {
    "duration": 404,
    "start_time": "2021-09-13T17:44:25.256Z"
   },
   {
    "duration": 1839,
    "start_time": "2021-09-13T17:44:25.662Z"
   },
   {
    "duration": 466,
    "start_time": "2021-09-13T17:44:27.505Z"
   },
   {
    "duration": 10,
    "start_time": "2021-09-13T17:44:27.974Z"
   },
   {
    "duration": 174,
    "start_time": "2021-09-13T17:44:30.606Z"
   },
   {
    "duration": 2347,
    "start_time": "2021-09-13T17:45:02.889Z"
   },
   {
    "duration": 81,
    "start_time": "2021-09-13T17:45:05.239Z"
   },
   {
    "duration": 20,
    "start_time": "2021-09-13T17:45:05.323Z"
   },
   {
    "duration": 19,
    "start_time": "2021-09-13T17:45:05.355Z"
   },
   {
    "duration": 355,
    "start_time": "2021-09-13T17:45:05.376Z"
   },
   {
    "duration": 41,
    "start_time": "2021-09-13T17:45:05.733Z"
   },
   {
    "duration": 14,
    "start_time": "2021-09-13T17:45:05.776Z"
   },
   {
    "duration": 742,
    "start_time": "2021-09-13T17:45:05.795Z"
   },
   {
    "duration": 469,
    "start_time": "2021-09-13T17:45:06.539Z"
   },
   {
    "duration": 1089,
    "start_time": "2021-09-13T17:45:07.011Z"
   },
   {
    "duration": 407,
    "start_time": "2021-09-13T17:45:08.102Z"
   },
   {
    "duration": 52,
    "start_time": "2021-09-13T17:45:08.512Z"
   },
   {
    "duration": 479,
    "start_time": "2021-09-13T17:45:08.567Z"
   },
   {
    "duration": 389,
    "start_time": "2021-09-13T17:45:09.049Z"
   },
   {
    "duration": 1933,
    "start_time": "2021-09-13T17:45:09.441Z"
   },
   {
    "duration": 458,
    "start_time": "2021-09-13T17:45:11.377Z"
   },
   {
    "duration": 19,
    "start_time": "2021-09-13T17:45:11.837Z"
   },
   {
    "duration": 229,
    "start_time": "2021-09-13T17:45:11.859Z"
   },
   {
    "duration": 2327,
    "start_time": "2021-09-13T17:46:00.224Z"
   },
   {
    "duration": 79,
    "start_time": "2021-09-13T17:46:02.553Z"
   },
   {
    "duration": 27,
    "start_time": "2021-09-13T17:46:02.635Z"
   },
   {
    "duration": 17,
    "start_time": "2021-09-13T17:46:02.664Z"
   },
   {
    "duration": 373,
    "start_time": "2021-09-13T17:46:02.683Z"
   },
   {
    "duration": 28,
    "start_time": "2021-09-13T17:46:03.059Z"
   },
   {
    "duration": 12,
    "start_time": "2021-09-13T17:46:03.089Z"
   },
   {
    "duration": 717,
    "start_time": "2021-09-13T17:46:03.104Z"
   },
   {
    "duration": 437,
    "start_time": "2021-09-13T17:46:03.824Z"
   },
   {
    "duration": 1174,
    "start_time": "2021-09-13T17:46:04.264Z"
   },
   {
    "duration": 405,
    "start_time": "2021-09-13T17:46:05.441Z"
   },
   {
    "duration": 45,
    "start_time": "2021-09-13T17:46:05.849Z"
   },
   {
    "duration": 477,
    "start_time": "2021-09-13T17:46:05.897Z"
   },
   {
    "duration": 390,
    "start_time": "2021-09-13T17:46:06.376Z"
   },
   {
    "duration": 1845,
    "start_time": "2021-09-13T17:46:06.768Z"
   },
   {
    "duration": 456,
    "start_time": "2021-09-13T17:46:08.615Z"
   },
   {
    "duration": 9,
    "start_time": "2021-09-13T17:46:09.073Z"
   },
   {
    "duration": 206,
    "start_time": "2021-09-13T17:46:09.085Z"
   },
   {
    "duration": 2302,
    "start_time": "2021-09-13T17:46:36.185Z"
   },
   {
    "duration": 78,
    "start_time": "2021-09-13T17:46:38.490Z"
   },
   {
    "duration": 18,
    "start_time": "2021-09-13T17:46:38.571Z"
   },
   {
    "duration": 31,
    "start_time": "2021-09-13T17:46:38.592Z"
   },
   {
    "duration": 394,
    "start_time": "2021-09-13T17:46:38.626Z"
   },
   {
    "duration": 36,
    "start_time": "2021-09-13T17:46:39.023Z"
   },
   {
    "duration": 11,
    "start_time": "2021-09-13T17:46:39.062Z"
   },
   {
    "duration": 746,
    "start_time": "2021-09-13T17:46:39.075Z"
   },
   {
    "duration": 448,
    "start_time": "2021-09-13T17:46:39.826Z"
   },
   {
    "duration": 1159,
    "start_time": "2021-09-13T17:46:40.277Z"
   },
   {
    "duration": 738,
    "start_time": "2021-09-13T17:46:45.212Z"
   },
   {
    "duration": 78,
    "start_time": "2021-09-13T17:46:45.953Z"
   },
   {
    "duration": 41,
    "start_time": "2021-09-13T17:46:46.034Z"
   },
   {
    "duration": 39,
    "start_time": "2021-09-13T17:46:46.078Z"
   },
   {
    "duration": 305,
    "start_time": "2021-09-13T17:46:46.120Z"
   },
   {
    "duration": 39,
    "start_time": "2021-09-13T17:46:46.428Z"
   },
   {
    "duration": 11,
    "start_time": "2021-09-13T17:46:46.469Z"
   },
   {
    "duration": 695,
    "start_time": "2021-09-13T17:46:46.482Z"
   },
   {
    "duration": 449,
    "start_time": "2021-09-13T17:46:47.180Z"
   },
   {
    "duration": 1183,
    "start_time": "2021-09-13T17:46:47.632Z"
   },
   {
    "duration": 410,
    "start_time": "2021-09-13T17:46:48.817Z"
   },
   {
    "duration": 51,
    "start_time": "2021-09-13T17:46:49.230Z"
   },
   {
    "duration": 481,
    "start_time": "2021-09-13T17:46:49.283Z"
   },
   {
    "duration": 405,
    "start_time": "2021-09-13T17:46:49.767Z"
   },
   {
    "duration": 1873,
    "start_time": "2021-09-13T17:46:50.175Z"
   },
   {
    "duration": 566,
    "start_time": "2021-09-13T17:46:52.052Z"
   },
   {
    "duration": 8,
    "start_time": "2021-09-13T17:46:52.621Z"
   },
   {
    "duration": 534,
    "start_time": "2021-09-13T17:50:40.760Z"
   },
   {
    "duration": 2268,
    "start_time": "2021-09-13T17:51:00.387Z"
   },
   {
    "duration": 98,
    "start_time": "2021-09-13T17:51:02.658Z"
   },
   {
    "duration": 20,
    "start_time": "2021-09-13T17:51:02.760Z"
   },
   {
    "duration": 16,
    "start_time": "2021-09-13T17:51:02.783Z"
   },
   {
    "duration": 371,
    "start_time": "2021-09-13T17:51:02.802Z"
   },
   {
    "duration": 26,
    "start_time": "2021-09-13T17:51:03.176Z"
   },
   {
    "duration": 15,
    "start_time": "2021-09-13T17:51:03.204Z"
   },
   {
    "duration": 742,
    "start_time": "2021-09-13T17:51:03.223Z"
   },
   {
    "duration": 459,
    "start_time": "2021-09-13T17:51:03.968Z"
   },
   {
    "duration": 1108,
    "start_time": "2021-09-13T17:51:04.429Z"
   },
   {
    "duration": 418,
    "start_time": "2021-09-13T17:51:05.540Z"
   },
   {
    "duration": 42,
    "start_time": "2021-09-13T17:51:05.961Z"
   },
   {
    "duration": 493,
    "start_time": "2021-09-13T17:51:06.006Z"
   },
   {
    "duration": 398,
    "start_time": "2021-09-13T17:51:06.501Z"
   },
   {
    "duration": 1889,
    "start_time": "2021-09-13T17:51:06.901Z"
   },
   {
    "duration": 463,
    "start_time": "2021-09-13T17:51:08.793Z"
   },
   {
    "duration": 9,
    "start_time": "2021-09-13T17:51:09.258Z"
   },
   {
    "duration": 553,
    "start_time": "2021-09-13T17:51:09.270Z"
   },
   {
    "duration": 2244,
    "start_time": "2021-09-13T17:52:12.601Z"
   },
   {
    "duration": 79,
    "start_time": "2021-09-13T17:52:14.848Z"
   },
   {
    "duration": 35,
    "start_time": "2021-09-13T17:52:14.930Z"
   },
   {
    "duration": 19,
    "start_time": "2021-09-13T17:52:14.969Z"
   },
   {
    "duration": 370,
    "start_time": "2021-09-13T17:52:14.991Z"
   },
   {
    "duration": 28,
    "start_time": "2021-09-13T17:52:15.365Z"
   },
   {
    "duration": 10,
    "start_time": "2021-09-13T17:52:15.395Z"
   },
   {
    "duration": 711,
    "start_time": "2021-09-13T17:52:15.407Z"
   },
   {
    "duration": 444,
    "start_time": "2021-09-13T17:52:16.122Z"
   },
   {
    "duration": 1073,
    "start_time": "2021-09-13T17:52:16.568Z"
   },
   {
    "duration": 408,
    "start_time": "2021-09-13T17:52:17.644Z"
   },
   {
    "duration": 42,
    "start_time": "2021-09-13T17:52:18.056Z"
   },
   {
    "duration": 590,
    "start_time": "2021-09-13T17:52:18.100Z"
   },
   {
    "duration": 396,
    "start_time": "2021-09-13T17:52:18.693Z"
   },
   {
    "duration": 2099,
    "start_time": "2021-09-13T17:52:19.092Z"
   },
   {
    "duration": 520,
    "start_time": "2021-09-13T17:52:21.194Z"
   },
   {
    "duration": 11,
    "start_time": "2021-09-13T17:52:21.717Z"
   },
   {
    "duration": 549,
    "start_time": "2021-09-13T17:52:23.153Z"
   },
   {
    "duration": 772,
    "start_time": "2021-09-13T17:54:24.471Z"
   },
   {
    "duration": 77,
    "start_time": "2021-09-13T17:54:25.246Z"
   },
   {
    "duration": 32,
    "start_time": "2021-09-13T17:54:25.328Z"
   },
   {
    "duration": 21,
    "start_time": "2021-09-13T17:54:25.363Z"
   },
   {
    "duration": 336,
    "start_time": "2021-09-13T17:54:25.387Z"
   },
   {
    "duration": 40,
    "start_time": "2021-09-13T17:54:25.726Z"
   },
   {
    "duration": 11,
    "start_time": "2021-09-13T17:54:25.768Z"
   },
   {
    "duration": 712,
    "start_time": "2021-09-13T17:54:25.782Z"
   },
   {
    "duration": 440,
    "start_time": "2021-09-13T17:54:26.498Z"
   },
   {
    "duration": 1192,
    "start_time": "2021-09-13T17:54:26.942Z"
   },
   {
    "duration": 406,
    "start_time": "2021-09-13T17:54:28.137Z"
   },
   {
    "duration": 42,
    "start_time": "2021-09-13T17:54:28.555Z"
   },
   {
    "duration": 480,
    "start_time": "2021-09-13T17:54:28.600Z"
   },
   {
    "duration": 416,
    "start_time": "2021-09-13T17:54:29.083Z"
   },
   {
    "duration": 1787,
    "start_time": "2021-09-13T17:54:29.502Z"
   },
   {
    "duration": 585,
    "start_time": "2021-09-13T17:54:31.292Z"
   },
   {
    "duration": 9,
    "start_time": "2021-09-13T17:54:31.881Z"
   },
   {
    "duration": 156,
    "start_time": "2021-09-13T17:54:36.173Z"
   },
   {
    "duration": 2361,
    "start_time": "2021-09-13T17:55:16.324Z"
   },
   {
    "duration": 86,
    "start_time": "2021-09-13T17:55:18.688Z"
   },
   {
    "duration": 21,
    "start_time": "2021-09-13T17:55:18.778Z"
   },
   {
    "duration": 27,
    "start_time": "2021-09-13T17:55:18.801Z"
   },
   {
    "duration": 537,
    "start_time": "2021-09-13T17:55:18.831Z"
   },
   {
    "duration": 28,
    "start_time": "2021-09-13T17:55:19.370Z"
   },
   {
    "duration": 11,
    "start_time": "2021-09-13T17:55:19.401Z"
   },
   {
    "duration": 743,
    "start_time": "2021-09-13T17:55:19.416Z"
   },
   {
    "duration": 442,
    "start_time": "2021-09-13T17:55:20.162Z"
   },
   {
    "duration": 1175,
    "start_time": "2021-09-13T17:55:20.607Z"
   },
   {
    "duration": 412,
    "start_time": "2021-09-13T17:55:21.784Z"
   },
   {
    "duration": 57,
    "start_time": "2021-09-13T17:55:22.198Z"
   },
   {
    "duration": 476,
    "start_time": "2021-09-13T17:55:22.258Z"
   },
   {
    "duration": 400,
    "start_time": "2021-09-13T17:55:22.737Z"
   },
   {
    "duration": 1829,
    "start_time": "2021-09-13T17:55:23.139Z"
   },
   {
    "duration": 460,
    "start_time": "2021-09-13T17:55:24.971Z"
   },
   {
    "duration": 8,
    "start_time": "2021-09-13T17:55:25.433Z"
   },
   {
    "duration": 198,
    "start_time": "2021-09-13T17:55:25.456Z"
   },
   {
    "duration": 3,
    "start_time": "2021-09-13T17:56:25.560Z"
   },
   {
    "duration": 3,
    "start_time": "2021-09-13T17:56:27.790Z"
   },
   {
    "duration": 330,
    "start_time": "2021-09-13T17:57:03.023Z"
   },
   {
    "duration": 2351,
    "start_time": "2021-09-13T17:57:07.559Z"
   },
   {
    "duration": 83,
    "start_time": "2021-09-13T17:57:09.913Z"
   },
   {
    "duration": 22,
    "start_time": "2021-09-13T17:57:10.000Z"
   },
   {
    "duration": 42,
    "start_time": "2021-09-13T17:57:10.026Z"
   },
   {
    "duration": 350,
    "start_time": "2021-09-13T17:57:10.071Z"
   },
   {
    "duration": 45,
    "start_time": "2021-09-13T17:57:10.424Z"
   },
   {
    "duration": 10,
    "start_time": "2021-09-13T17:57:10.472Z"
   },
   {
    "duration": 744,
    "start_time": "2021-09-13T17:57:10.484Z"
   },
   {
    "duration": 465,
    "start_time": "2021-09-13T17:57:11.232Z"
   },
   {
    "duration": 1166,
    "start_time": "2021-09-13T17:57:11.700Z"
   },
   {
    "duration": 414,
    "start_time": "2021-09-13T17:57:12.869Z"
   },
   {
    "duration": 43,
    "start_time": "2021-09-13T17:57:13.285Z"
   },
   {
    "duration": 495,
    "start_time": "2021-09-13T17:57:13.331Z"
   },
   {
    "duration": 406,
    "start_time": "2021-09-13T17:57:13.828Z"
   },
   {
    "duration": 3,
    "start_time": "2021-09-13T17:57:14.237Z"
   },
   {
    "duration": 15,
    "start_time": "2021-09-13T17:57:14.242Z"
   },
   {
    "duration": 232,
    "start_time": "2021-09-13T17:57:19.183Z"
   },
   {
    "duration": 2242,
    "start_time": "2021-09-13T17:58:47.988Z"
   },
   {
    "duration": 83,
    "start_time": "2021-09-13T17:58:50.233Z"
   },
   {
    "duration": 38,
    "start_time": "2021-09-13T17:58:50.325Z"
   },
   {
    "duration": 19,
    "start_time": "2021-09-13T17:58:50.366Z"
   },
   {
    "duration": 370,
    "start_time": "2021-09-13T17:58:50.388Z"
   },
   {
    "duration": 29,
    "start_time": "2021-09-13T17:58:50.761Z"
   },
   {
    "duration": 10,
    "start_time": "2021-09-13T17:58:50.795Z"
   },
   {
    "duration": 741,
    "start_time": "2021-09-13T17:58:50.808Z"
   },
   {
    "duration": 453,
    "start_time": "2021-09-13T17:58:51.557Z"
   },
   {
    "duration": 1088,
    "start_time": "2021-09-13T17:58:52.013Z"
   },
   {
    "duration": 405,
    "start_time": "2021-09-13T17:58:53.104Z"
   },
   {
    "duration": 50,
    "start_time": "2021-09-13T17:58:53.512Z"
   },
   {
    "duration": 496,
    "start_time": "2021-09-13T17:58:53.564Z"
   },
   {
    "duration": 409,
    "start_time": "2021-09-13T17:58:54.063Z"
   },
   {
    "duration": 3,
    "start_time": "2021-09-13T17:58:54.475Z"
   },
   {
    "duration": 11,
    "start_time": "2021-09-13T17:58:54.480Z"
   },
   {
    "duration": 736,
    "start_time": "2021-09-13T17:58:54.494Z"
   },
   {
    "duration": 2288,
    "start_time": "2021-09-13T17:59:11.381Z"
   },
   {
    "duration": 85,
    "start_time": "2021-09-13T17:59:13.673Z"
   },
   {
    "duration": 19,
    "start_time": "2021-09-13T17:59:13.761Z"
   },
   {
    "duration": 18,
    "start_time": "2021-09-13T17:59:13.783Z"
   },
   {
    "duration": 371,
    "start_time": "2021-09-13T17:59:13.803Z"
   },
   {
    "duration": 27,
    "start_time": "2021-09-13T17:59:14.177Z"
   },
   {
    "duration": 11,
    "start_time": "2021-09-13T17:59:14.206Z"
   },
   {
    "duration": 718,
    "start_time": "2021-09-13T17:59:14.220Z"
   },
   {
    "duration": 470,
    "start_time": "2021-09-13T17:59:14.941Z"
   },
   {
    "duration": 1119,
    "start_time": "2021-09-13T17:59:15.414Z"
   },
   {
    "duration": 420,
    "start_time": "2021-09-13T17:59:16.536Z"
   },
   {
    "duration": 42,
    "start_time": "2021-09-13T17:59:16.958Z"
   },
   {
    "duration": 515,
    "start_time": "2021-09-13T17:59:17.002Z"
   },
   {
    "duration": 417,
    "start_time": "2021-09-13T17:59:17.520Z"
   },
   {
    "duration": 4,
    "start_time": "2021-09-13T17:59:17.939Z"
   },
   {
    "duration": 8,
    "start_time": "2021-09-13T17:59:17.956Z"
   },
   {
    "duration": 617,
    "start_time": "2021-09-13T17:59:17.966Z"
   },
   {
    "duration": 756,
    "start_time": "2021-09-13T17:59:55.854Z"
   },
   {
    "duration": 73,
    "start_time": "2021-09-13T17:59:56.613Z"
   },
   {
    "duration": 17,
    "start_time": "2021-09-13T17:59:56.689Z"
   },
   {
    "duration": 20,
    "start_time": "2021-09-13T17:59:56.709Z"
   },
   {
    "duration": 416,
    "start_time": "2021-09-13T17:59:56.732Z"
   },
   {
    "duration": 29,
    "start_time": "2021-09-13T17:59:57.155Z"
   },
   {
    "duration": 13,
    "start_time": "2021-09-13T17:59:57.186Z"
   },
   {
    "duration": 724,
    "start_time": "2021-09-13T17:59:57.202Z"
   },
   {
    "duration": 429,
    "start_time": "2021-09-13T17:59:57.930Z"
   },
   {
    "duration": 1157,
    "start_time": "2021-09-13T17:59:58.362Z"
   },
   {
    "duration": 430,
    "start_time": "2021-09-13T17:59:59.522Z"
   },
   {
    "duration": 45,
    "start_time": "2021-09-13T17:59:59.955Z"
   },
   {
    "duration": 535,
    "start_time": "2021-09-13T18:00:00.002Z"
   },
   {
    "duration": 479,
    "start_time": "2021-09-13T18:00:00.540Z"
   },
   {
    "duration": 3,
    "start_time": "2021-09-13T18:00:01.021Z"
   },
   {
    "duration": 29,
    "start_time": "2021-09-13T18:00:01.027Z"
   },
   {
    "duration": 7853,
    "start_time": "2021-09-13T18:00:02.486Z"
   },
   {
    "duration": 292,
    "start_time": "2021-09-13T18:03:20.106Z"
   },
   {
    "duration": 1682,
    "start_time": "2021-09-13T18:03:39.641Z"
   },
   {
    "duration": 766,
    "start_time": "2021-09-13T18:03:54.933Z"
   },
   {
    "duration": 94,
    "start_time": "2021-09-13T18:03:55.702Z"
   },
   {
    "duration": 18,
    "start_time": "2021-09-13T18:03:55.799Z"
   },
   {
    "duration": 36,
    "start_time": "2021-09-13T18:03:55.820Z"
   },
   {
    "duration": 320,
    "start_time": "2021-09-13T18:03:55.858Z"
   },
   {
    "duration": 27,
    "start_time": "2021-09-13T18:03:56.180Z"
   },
   {
    "duration": 10,
    "start_time": "2021-09-13T18:03:56.209Z"
   },
   {
    "duration": 702,
    "start_time": "2021-09-13T18:03:56.222Z"
   },
   {
    "duration": 465,
    "start_time": "2021-09-13T18:03:56.928Z"
   },
   {
    "duration": 1147,
    "start_time": "2021-09-13T18:03:57.396Z"
   },
   {
    "duration": 409,
    "start_time": "2021-09-13T18:03:58.546Z"
   },
   {
    "duration": 43,
    "start_time": "2021-09-13T18:03:58.958Z"
   },
   {
    "duration": 488,
    "start_time": "2021-09-13T18:03:59.004Z"
   },
   {
    "duration": 485,
    "start_time": "2021-09-13T18:03:59.494Z"
   },
   {
    "duration": 3,
    "start_time": "2021-09-13T18:03:59.981Z"
   },
   {
    "duration": 8,
    "start_time": "2021-09-13T18:03:59.988Z"
   },
   {
    "duration": 403,
    "start_time": "2021-09-13T18:04:01.989Z"
   },
   {
    "duration": 763,
    "start_time": "2021-09-13T18:04:12.226Z"
   },
   {
    "duration": 74,
    "start_time": "2021-09-13T18:04:12.992Z"
   },
   {
    "duration": 18,
    "start_time": "2021-09-13T18:04:13.070Z"
   },
   {
    "duration": 16,
    "start_time": "2021-09-13T18:04:13.091Z"
   },
   {
    "duration": 323,
    "start_time": "2021-09-13T18:04:13.110Z"
   },
   {
    "duration": 39,
    "start_time": "2021-09-13T18:04:13.436Z"
   },
   {
    "duration": 10,
    "start_time": "2021-09-13T18:04:13.477Z"
   },
   {
    "duration": 697,
    "start_time": "2021-09-13T18:04:13.490Z"
   },
   {
    "duration": 459,
    "start_time": "2021-09-13T18:04:14.190Z"
   },
   {
    "duration": 1207,
    "start_time": "2021-09-13T18:04:14.652Z"
   },
   {
    "duration": 417,
    "start_time": "2021-09-13T18:04:15.862Z"
   },
   {
    "duration": 43,
    "start_time": "2021-09-13T18:04:16.282Z"
   },
   {
    "duration": 502,
    "start_time": "2021-09-13T18:04:16.327Z"
   },
   {
    "duration": 414,
    "start_time": "2021-09-13T18:04:16.832Z"
   },
   {
    "duration": 3,
    "start_time": "2021-09-13T18:04:17.256Z"
   },
   {
    "duration": 9,
    "start_time": "2021-09-13T18:04:17.262Z"
   },
   {
    "duration": 361,
    "start_time": "2021-09-13T18:04:21.220Z"
   },
   {
    "duration": 376,
    "start_time": "2021-09-13T18:04:59.782Z"
   },
   {
    "duration": 280,
    "start_time": "2021-09-13T18:05:01.471Z"
   },
   {
    "duration": 2345,
    "start_time": "2021-09-13T18:05:04.521Z"
   },
   {
    "duration": 79,
    "start_time": "2021-09-13T18:05:06.868Z"
   },
   {
    "duration": 20,
    "start_time": "2021-09-13T18:05:06.956Z"
   },
   {
    "duration": 32,
    "start_time": "2021-09-13T18:05:06.979Z"
   },
   {
    "duration": 347,
    "start_time": "2021-09-13T18:05:07.013Z"
   },
   {
    "duration": 28,
    "start_time": "2021-09-13T18:05:07.362Z"
   },
   {
    "duration": 10,
    "start_time": "2021-09-13T18:05:07.393Z"
   },
   {
    "duration": 730,
    "start_time": "2021-09-13T18:05:07.406Z"
   },
   {
    "duration": 439,
    "start_time": "2021-09-13T18:05:08.140Z"
   },
   {
    "duration": 1081,
    "start_time": "2021-09-13T18:05:08.582Z"
   },
   {
    "duration": 408,
    "start_time": "2021-09-13T18:05:09.665Z"
   },
   {
    "duration": 41,
    "start_time": "2021-09-13T18:05:10.075Z"
   },
   {
    "duration": 485,
    "start_time": "2021-09-13T18:05:10.118Z"
   },
   {
    "duration": 417,
    "start_time": "2021-09-13T18:05:10.606Z"
   },
   {
    "duration": 2,
    "start_time": "2021-09-13T18:05:11.026Z"
   },
   {
    "duration": 31,
    "start_time": "2021-09-13T18:05:11.031Z"
   },
   {
    "duration": 239,
    "start_time": "2021-09-13T18:05:11.064Z"
   },
   {
    "duration": 389,
    "start_time": "2021-09-13T18:13:25.845Z"
   },
   {
    "duration": 475,
    "start_time": "2021-09-13T18:14:30.894Z"
   },
   {
    "duration": 583,
    "start_time": "2021-09-14T15:01:44.587Z"
   },
   {
    "duration": 1750,
    "start_time": "2021-09-14T15:01:48.707Z"
   },
   {
    "duration": 59,
    "start_time": "2021-09-14T15:01:50.459Z"
   },
   {
    "duration": 12,
    "start_time": "2021-09-14T15:01:50.520Z"
   },
   {
    "duration": 10,
    "start_time": "2021-09-14T15:01:50.534Z"
   },
   {
    "duration": 249,
    "start_time": "2021-09-14T15:01:50.545Z"
   },
   {
    "duration": 19,
    "start_time": "2021-09-14T15:01:50.795Z"
   },
   {
    "duration": 9,
    "start_time": "2021-09-14T15:01:50.815Z"
   },
   {
    "duration": 528,
    "start_time": "2021-09-14T15:01:50.826Z"
   },
   {
    "duration": 267,
    "start_time": "2021-09-14T15:01:51.356Z"
   },
   {
    "duration": 622,
    "start_time": "2021-09-14T15:01:51.625Z"
   },
   {
    "duration": 233,
    "start_time": "2021-09-14T15:01:52.249Z"
   },
   {
    "duration": 28,
    "start_time": "2021-09-14T15:01:52.483Z"
   },
   {
    "duration": 287,
    "start_time": "2021-09-14T15:01:52.512Z"
   },
   {
    "duration": 237,
    "start_time": "2021-09-14T15:01:52.800Z"
   },
   {
    "duration": 2,
    "start_time": "2021-09-14T15:01:53.039Z"
   },
   {
    "duration": 6,
    "start_time": "2021-09-14T15:01:53.043Z"
   },
   {
    "duration": 6390,
    "start_time": "2021-09-14T15:01:56.262Z"
   },
   {
    "duration": 6537,
    "start_time": "2021-09-14T15:02:11.852Z"
   },
   {
    "duration": 6910,
    "start_time": "2021-09-14T15:03:00.844Z"
   },
   {
    "duration": 7958,
    "start_time": "2021-09-14T15:03:08.313Z"
   },
   {
    "duration": 1170,
    "start_time": "2021-09-14T15:04:30.584Z"
   },
   {
    "duration": 263,
    "start_time": "2021-09-14T15:04:34.865Z"
   },
   {
    "duration": 7,
    "start_time": "2021-09-14T15:04:40.513Z"
   },
   {
    "duration": 7604,
    "start_time": "2021-09-14T15:04:45.394Z"
   },
   {
    "duration": 8914,
    "start_time": "2021-09-14T15:05:08.985Z"
   },
   {
    "duration": 253,
    "start_time": "2021-09-14T15:05:49.665Z"
   },
   {
    "duration": 7111,
    "start_time": "2021-09-14T15:06:01.808Z"
   },
   {
    "duration": 835,
    "start_time": "2021-09-14T15:06:26.538Z"
   },
   {
    "duration": 94,
    "start_time": "2021-09-14T15:06:27.375Z"
   },
   {
    "duration": 22,
    "start_time": "2021-09-14T15:06:27.472Z"
   },
   {
    "duration": 11,
    "start_time": "2021-09-14T15:06:27.496Z"
   },
   {
    "duration": 243,
    "start_time": "2021-09-14T15:06:27.508Z"
   },
   {
    "duration": 20,
    "start_time": "2021-09-14T15:06:27.752Z"
   },
   {
    "duration": 22,
    "start_time": "2021-09-14T15:06:27.774Z"
   },
   {
    "duration": 547,
    "start_time": "2021-09-14T15:06:27.798Z"
   },
   {
    "duration": 279,
    "start_time": "2021-09-14T15:06:28.348Z"
   },
   {
    "duration": 793,
    "start_time": "2021-09-14T15:06:28.630Z"
   },
   {
    "duration": 257,
    "start_time": "2021-09-14T15:06:29.425Z"
   },
   {
    "duration": 32,
    "start_time": "2021-09-14T15:06:29.684Z"
   },
   {
    "duration": 295,
    "start_time": "2021-09-14T15:06:29.717Z"
   },
   {
    "duration": 248,
    "start_time": "2021-09-14T15:06:30.013Z"
   },
   {
    "duration": 1245,
    "start_time": "2021-09-14T15:06:30.263Z"
   },
   {
    "duration": 404,
    "start_time": "2021-09-14T15:06:31.510Z"
   },
   {
    "duration": 7,
    "start_time": "2021-09-14T15:06:31.916Z"
   },
   {
    "duration": 9048,
    "start_time": "2021-09-14T15:06:31.925Z"
   },
   {
    "duration": 6694,
    "start_time": "2021-09-14T15:06:43.757Z"
   },
   {
    "duration": 129,
    "start_time": "2021-09-14T15:06:58.417Z"
   },
   {
    "duration": 1744,
    "start_time": "2021-09-14T15:07:19.713Z"
   },
   {
    "duration": 61,
    "start_time": "2021-09-14T15:07:21.458Z"
   },
   {
    "duration": 13,
    "start_time": "2021-09-14T15:07:21.521Z"
   },
   {
    "duration": 11,
    "start_time": "2021-09-14T15:07:21.535Z"
   },
   {
    "duration": 261,
    "start_time": "2021-09-14T15:07:21.548Z"
   },
   {
    "duration": 19,
    "start_time": "2021-09-14T15:07:21.811Z"
   },
   {
    "duration": 7,
    "start_time": "2021-09-14T15:07:21.831Z"
   },
   {
    "duration": 517,
    "start_time": "2021-09-14T15:07:21.841Z"
   },
   {
    "duration": 261,
    "start_time": "2021-09-14T15:07:22.360Z"
   },
   {
    "duration": 631,
    "start_time": "2021-09-14T15:07:22.623Z"
   },
   {
    "duration": 241,
    "start_time": "2021-09-14T15:07:23.256Z"
   },
   {
    "duration": 29,
    "start_time": "2021-09-14T15:07:23.499Z"
   },
   {
    "duration": 292,
    "start_time": "2021-09-14T15:07:23.530Z"
   },
   {
    "duration": 255,
    "start_time": "2021-09-14T15:07:23.823Z"
   },
   {
    "duration": 1257,
    "start_time": "2021-09-14T15:07:24.079Z"
   },
   {
    "duration": 261,
    "start_time": "2021-09-14T15:07:25.338Z"
   },
   {
    "duration": 6,
    "start_time": "2021-09-14T15:07:25.601Z"
   },
   {
    "duration": 138,
    "start_time": "2021-09-14T15:08:00.788Z"
   },
   {
    "duration": 586,
    "start_time": "2021-09-14T15:12:47.751Z"
   },
   {
    "duration": 56,
    "start_time": "2021-09-14T15:12:48.339Z"
   },
   {
    "duration": 12,
    "start_time": "2021-09-14T15:12:48.397Z"
   },
   {
    "duration": 20,
    "start_time": "2021-09-14T15:12:48.411Z"
   },
   {
    "duration": 258,
    "start_time": "2021-09-14T15:12:48.433Z"
   },
   {
    "duration": 18,
    "start_time": "2021-09-14T15:12:48.693Z"
   },
   {
    "duration": 7,
    "start_time": "2021-09-14T15:12:48.712Z"
   },
   {
    "duration": 509,
    "start_time": "2021-09-14T15:12:48.720Z"
   },
   {
    "duration": 266,
    "start_time": "2021-09-14T15:12:49.231Z"
   },
   {
    "duration": 821,
    "start_time": "2021-09-14T15:12:49.499Z"
   },
   {
    "duration": 245,
    "start_time": "2021-09-14T15:12:50.322Z"
   },
   {
    "duration": 33,
    "start_time": "2021-09-14T15:12:50.569Z"
   },
   {
    "duration": 282,
    "start_time": "2021-09-14T15:12:50.603Z"
   },
   {
    "duration": 222,
    "start_time": "2021-09-14T15:12:50.891Z"
   },
   {
    "duration": 1132,
    "start_time": "2021-09-14T15:12:51.115Z"
   },
   {
    "duration": 376,
    "start_time": "2021-09-14T15:12:52.249Z"
   },
   {
    "duration": 8,
    "start_time": "2021-09-14T15:12:52.627Z"
   },
   {
    "duration": 131,
    "start_time": "2021-09-14T15:12:56.235Z"
   },
   {
    "duration": 1772,
    "start_time": "2021-09-14T15:13:34.664Z"
   },
   {
    "duration": 60,
    "start_time": "2021-09-14T15:13:36.438Z"
   },
   {
    "duration": 13,
    "start_time": "2021-09-14T15:13:36.501Z"
   },
   {
    "duration": 31,
    "start_time": "2021-09-14T15:13:36.516Z"
   },
   {
    "duration": 293,
    "start_time": "2021-09-14T15:13:36.548Z"
   },
   {
    "duration": 20,
    "start_time": "2021-09-14T15:13:36.843Z"
   },
   {
    "duration": 19,
    "start_time": "2021-09-14T15:13:36.865Z"
   },
   {
    "duration": 506,
    "start_time": "2021-09-14T15:13:36.885Z"
   },
   {
    "duration": 258,
    "start_time": "2021-09-14T15:13:37.393Z"
   },
   {
    "duration": 616,
    "start_time": "2021-09-14T15:13:37.652Z"
   },
   {
    "duration": 227,
    "start_time": "2021-09-14T15:13:38.269Z"
   },
   {
    "duration": 26,
    "start_time": "2021-09-14T15:13:38.497Z"
   },
   {
    "duration": 283,
    "start_time": "2021-09-14T15:13:38.525Z"
   },
   {
    "duration": 230,
    "start_time": "2021-09-14T15:13:38.809Z"
   },
   {
    "duration": 1288,
    "start_time": "2021-09-14T15:13:39.041Z"
   },
   {
    "duration": 267,
    "start_time": "2021-09-14T15:13:40.330Z"
   },
   {
    "duration": 6,
    "start_time": "2021-09-14T15:13:40.599Z"
   },
   {
    "duration": 146,
    "start_time": "2021-09-14T15:13:40.606Z"
   },
   {
    "duration": 13,
    "start_time": "2021-09-14T15:17:13.016Z"
   },
   {
    "duration": 9,
    "start_time": "2021-09-14T15:17:20.489Z"
   },
   {
    "duration": 332,
    "start_time": "2021-09-14T15:20:29.341Z"
   },
   {
    "duration": 283,
    "start_time": "2021-09-14T15:20:54.327Z"
   },
   {
    "duration": 284,
    "start_time": "2021-09-14T15:23:43.220Z"
   },
   {
    "duration": 946,
    "start_time": "2021-09-14T15:28:00.750Z"
   },
   {
    "duration": 655,
    "start_time": "2021-09-14T15:28:19.854Z"
   },
   {
    "duration": 88,
    "start_time": "2021-09-14T15:28:29.462Z"
   },
   {
    "duration": 722,
    "start_time": "2021-09-14T15:30:05.967Z"
   },
   {
    "duration": 1782,
    "start_time": "2021-09-14T15:30:10.806Z"
   },
   {
    "duration": 62,
    "start_time": "2021-09-14T15:30:12.590Z"
   },
   {
    "duration": 12,
    "start_time": "2021-09-14T15:30:12.654Z"
   },
   {
    "duration": 29,
    "start_time": "2021-09-14T15:30:12.668Z"
   },
   {
    "duration": 256,
    "start_time": "2021-09-14T15:30:12.698Z"
   },
   {
    "duration": 20,
    "start_time": "2021-09-14T15:30:12.956Z"
   },
   {
    "duration": 21,
    "start_time": "2021-09-14T15:30:12.977Z"
   },
   {
    "duration": 515,
    "start_time": "2021-09-14T15:30:13.000Z"
   },
   {
    "duration": 260,
    "start_time": "2021-09-14T15:30:13.517Z"
   },
   {
    "duration": 626,
    "start_time": "2021-09-14T15:30:13.779Z"
   },
   {
    "duration": 237,
    "start_time": "2021-09-14T15:30:14.407Z"
   },
   {
    "duration": 27,
    "start_time": "2021-09-14T15:30:14.645Z"
   },
   {
    "duration": 288,
    "start_time": "2021-09-14T15:30:14.673Z"
   },
   {
    "duration": 244,
    "start_time": "2021-09-14T15:30:14.963Z"
   },
   {
    "duration": 1268,
    "start_time": "2021-09-14T15:30:15.209Z"
   },
   {
    "duration": 274,
    "start_time": "2021-09-14T15:30:16.479Z"
   },
   {
    "duration": 6,
    "start_time": "2021-09-14T15:30:16.754Z"
   },
   {
    "duration": 154,
    "start_time": "2021-09-14T15:30:16.761Z"
   },
   {
    "duration": 6610,
    "start_time": "2021-09-14T15:30:16.917Z"
   },
   {
    "duration": 741,
    "start_time": "2021-09-14T15:30:22.788Z"
   },
   {
    "duration": 740,
    "start_time": "2021-09-14T15:30:22.791Z"
   },
   {
    "duration": 82,
    "start_time": "2021-09-14T15:30:37.428Z"
   },
   {
    "duration": 76,
    "start_time": "2021-09-14T15:31:02.808Z"
   },
   {
    "duration": 83,
    "start_time": "2021-09-14T15:31:27.429Z"
   },
   {
    "duration": 741,
    "start_time": "2021-09-14T15:32:09.998Z"
   },
   {
    "duration": 737,
    "start_time": "2021-09-14T15:32:10.004Z"
   },
   {
    "duration": 733,
    "start_time": "2021-09-14T15:32:10.009Z"
   },
   {
    "duration": 89,
    "start_time": "2021-09-14T15:32:29.643Z"
   },
   {
    "duration": 12,
    "start_time": "2021-09-14T15:32:31.280Z"
   },
   {
    "duration": 10,
    "start_time": "2021-09-14T15:32:32.567Z"
   },
   {
    "duration": 16,
    "start_time": "2021-09-14T15:37:12.684Z"
   },
   {
    "duration": 8,
    "start_time": "2021-09-14T15:45:49.977Z"
   },
   {
    "duration": 46,
    "start_time": "2021-09-14T15:48:22.562Z"
   },
   {
    "duration": 34,
    "start_time": "2021-09-14T15:54:16.475Z"
   },
   {
    "duration": 94,
    "start_time": "2021-09-14T16:13:44.020Z"
   },
   {
    "duration": 327,
    "start_time": "2021-09-14T16:13:51.513Z"
   },
   {
    "duration": 83,
    "start_time": "2021-09-14T16:14:14.331Z"
   },
   {
    "duration": 398,
    "start_time": "2021-09-14T16:18:50.001Z"
   },
   {
    "duration": 414,
    "start_time": "2021-09-14T16:19:01.218Z"
   },
   {
    "duration": 409,
    "start_time": "2021-09-14T16:19:32.834Z"
   },
   {
    "duration": 490,
    "start_time": "2021-09-14T16:20:57.170Z"
   },
   {
    "duration": 14,
    "start_time": "2021-09-14T16:24:36.433Z"
   },
   {
    "duration": 11,
    "start_time": "2021-09-14T16:24:37.794Z"
   },
   {
    "duration": 275,
    "start_time": "2021-09-14T16:29:54.615Z"
   },
   {
    "duration": 254,
    "start_time": "2021-09-14T16:30:24.596Z"
   },
   {
    "duration": 245,
    "start_time": "2021-09-14T16:32:02.819Z"
   },
   {
    "duration": 255,
    "start_time": "2021-09-14T16:32:15.289Z"
   },
   {
    "duration": 26,
    "start_time": "2021-09-14T16:32:50.980Z"
   },
   {
    "duration": 1911,
    "start_time": "2021-09-14T16:33:38.629Z"
   },
   {
    "duration": 267,
    "start_time": "2021-09-14T16:34:01.122Z"
   },
   {
    "duration": 310,
    "start_time": "2021-09-14T16:38:14.654Z"
   },
   {
    "duration": 36,
    "start_time": "2021-09-14T16:38:23.184Z"
   },
   {
    "duration": 35,
    "start_time": "2021-09-14T16:38:27.745Z"
   },
   {
    "duration": 43,
    "start_time": "2021-09-14T16:43:35.769Z"
   },
   {
    "duration": 68,
    "start_time": "2021-09-14T16:45:09.740Z"
   },
   {
    "duration": 705,
    "start_time": "2021-09-14T16:46:15.077Z"
   },
   {
    "duration": 48,
    "start_time": "2021-09-14T16:46:37.082Z"
   },
   {
    "duration": 36,
    "start_time": "2021-09-14T16:53:20.876Z"
   },
   {
    "duration": 14,
    "start_time": "2021-09-14T16:53:31.816Z"
   },
   {
    "duration": 13,
    "start_time": "2021-09-14T16:53:46.408Z"
   },
   {
    "duration": 24,
    "start_time": "2021-09-14T16:53:52.678Z"
   },
   {
    "duration": 22,
    "start_time": "2021-09-14T16:54:24.018Z"
   },
   {
    "duration": 43,
    "start_time": "2021-09-14T16:57:50.581Z"
   },
   {
    "duration": 47,
    "start_time": "2021-09-14T16:58:23.462Z"
   },
   {
    "duration": 285,
    "start_time": "2021-09-14T17:02:51.391Z"
   },
   {
    "duration": 356,
    "start_time": "2021-09-14T17:06:10.525Z"
   },
   {
    "duration": 9,
    "start_time": "2021-09-14T18:53:07.930Z"
   },
   {
    "duration": 1289,
    "start_time": "2021-09-14T19:56:16.962Z"
   },
   {
    "duration": 331,
    "start_time": "2021-09-14T19:56:29.414Z"
   },
   {
    "duration": 356,
    "start_time": "2021-09-14T19:56:48.243Z"
   },
   {
    "duration": 1104,
    "start_time": "2021-09-14T19:57:25.504Z"
   },
   {
    "duration": 1078,
    "start_time": "2021-09-14T19:57:35.215Z"
   },
   {
    "duration": 248,
    "start_time": "2021-09-14T20:00:44.669Z"
   },
   {
    "duration": 5,
    "start_time": "2021-09-14T20:00:51.887Z"
   },
   {
    "duration": 5,
    "start_time": "2021-09-14T20:01:09.490Z"
   },
   {
    "duration": 5072,
    "start_time": "2021-09-14T20:02:17.721Z"
   },
   {
    "duration": 5446,
    "start_time": "2021-09-14T20:02:34.948Z"
   },
   {
    "duration": 286,
    "start_time": "2021-09-14T20:03:06.782Z"
   },
   {
    "duration": 1193,
    "start_time": "2021-09-14T20:03:40.630Z"
   },
   {
    "duration": 578,
    "start_time": "2021-09-14T20:03:46.460Z"
   },
   {
    "duration": 58,
    "start_time": "2021-09-14T20:03:47.040Z"
   },
   {
    "duration": 13,
    "start_time": "2021-09-14T20:03:47.100Z"
   },
   {
    "duration": 10,
    "start_time": "2021-09-14T20:03:47.115Z"
   },
   {
    "duration": 239,
    "start_time": "2021-09-14T20:03:47.127Z"
   },
   {
    "duration": 23,
    "start_time": "2021-09-14T20:03:47.368Z"
   },
   {
    "duration": 7,
    "start_time": "2021-09-14T20:03:47.392Z"
   },
   {
    "duration": 509,
    "start_time": "2021-09-14T20:03:47.401Z"
   },
   {
    "duration": 246,
    "start_time": "2021-09-14T20:03:47.912Z"
   },
   {
    "duration": 616,
    "start_time": "2021-09-14T20:03:48.160Z"
   },
   {
    "duration": 331,
    "start_time": "2021-09-14T20:03:48.777Z"
   },
   {
    "duration": 27,
    "start_time": "2021-09-14T20:03:49.110Z"
   },
   {
    "duration": 288,
    "start_time": "2021-09-14T20:03:49.139Z"
   },
   {
    "duration": 334,
    "start_time": "2021-09-14T20:03:49.428Z"
   },
   {
    "duration": 1135,
    "start_time": "2021-09-14T20:03:49.764Z"
   },
   {
    "duration": 268,
    "start_time": "2021-09-14T20:03:50.901Z"
   },
   {
    "duration": 6,
    "start_time": "2021-09-14T20:03:51.171Z"
   },
   {
    "duration": 152,
    "start_time": "2021-09-14T20:03:51.179Z"
   },
   {
    "duration": 477,
    "start_time": "2021-09-14T20:03:51.333Z"
   },
   {
    "duration": 546,
    "start_time": "2021-09-14T20:03:51.812Z"
   },
   {
    "duration": 1152,
    "start_time": "2021-09-14T20:03:52.361Z"
   },
   {
    "duration": 1037,
    "start_time": "2021-09-14T20:03:56.482Z"
   },
   {
    "duration": 228,
    "start_time": "2021-09-14T20:03:59.422Z"
   },
   {
    "duration": 237,
    "start_time": "2021-09-14T20:04:01.362Z"
   },
   {
    "duration": 4728,
    "start_time": "2021-09-14T20:04:22.883Z"
   },
   {
    "duration": 2076,
    "start_time": "2021-09-14T20:05:31.633Z"
   },
   {
    "duration": 290,
    "start_time": "2021-09-14T20:05:41.273Z"
   },
   {
    "duration": 339,
    "start_time": "2021-09-14T20:05:52.233Z"
   },
   {
    "duration": 246,
    "start_time": "2021-09-14T20:06:18.354Z"
   },
   {
    "duration": 344,
    "start_time": "2021-09-15T11:29:30.101Z"
   },
   {
    "duration": 2264,
    "start_time": "2021-09-15T11:29:35.447Z"
   },
   {
    "duration": 77,
    "start_time": "2021-09-15T11:29:37.714Z"
   },
   {
    "duration": 19,
    "start_time": "2021-09-15T11:29:37.794Z"
   },
   {
    "duration": 40,
    "start_time": "2021-09-15T11:29:37.816Z"
   },
   {
    "duration": 332,
    "start_time": "2021-09-15T11:29:37.858Z"
   },
   {
    "duration": 27,
    "start_time": "2021-09-15T11:29:38.192Z"
   },
   {
    "duration": 36,
    "start_time": "2021-09-15T11:29:38.222Z"
   },
   {
    "duration": 713,
    "start_time": "2021-09-15T11:29:38.262Z"
   },
   {
    "duration": 466,
    "start_time": "2021-09-15T11:29:38.979Z"
   },
   {
    "duration": 1127,
    "start_time": "2021-09-15T11:29:39.448Z"
   },
   {
    "duration": 409,
    "start_time": "2021-09-15T11:29:40.577Z"
   },
   {
    "duration": 41,
    "start_time": "2021-09-15T11:29:40.988Z"
   },
   {
    "duration": 501,
    "start_time": "2021-09-15T11:29:41.031Z"
   },
   {
    "duration": 398,
    "start_time": "2021-09-15T11:29:41.535Z"
   },
   {
    "duration": 1842,
    "start_time": "2021-09-15T11:29:41.935Z"
   },
   {
    "duration": 444,
    "start_time": "2021-09-15T11:29:43.779Z"
   },
   {
    "duration": 9,
    "start_time": "2021-09-15T11:29:44.225Z"
   },
   {
    "duration": 243,
    "start_time": "2021-09-15T11:29:44.236Z"
   },
   {
    "duration": 750,
    "start_time": "2021-09-15T11:29:44.482Z"
   },
   {
    "duration": 559,
    "start_time": "2021-09-15T11:29:45.234Z"
   },
   {
    "duration": 1572,
    "start_time": "2021-09-15T11:29:45.796Z"
   },
   {
    "duration": 441,
    "start_time": "2021-09-15T11:29:47.370Z"
   },
   {
    "duration": 7,
    "start_time": "2021-09-15T11:29:47.815Z"
   },
   {
    "duration": 18,
    "start_time": "2021-09-15T11:29:49.463Z"
   },
   {
    "duration": 15,
    "start_time": "2021-09-15T11:29:54.241Z"
   },
   {
    "duration": 8,
    "start_time": "2021-09-15T11:30:40.454Z"
   },
   {
    "duration": 7,
    "start_time": "2021-09-15T11:43:48.104Z"
   },
   {
    "duration": 7,
    "start_time": "2021-09-15T11:43:56.664Z"
   },
   {
    "duration": 7,
    "start_time": "2021-09-15T11:44:03.605Z"
   },
   {
    "duration": 8,
    "start_time": "2021-09-15T11:44:09.155Z"
   },
   {
    "duration": 566,
    "start_time": "2021-09-15T11:45:08.934Z"
   },
   {
    "duration": 82,
    "start_time": "2021-09-15T11:45:13.325Z"
   },
   {
    "duration": 87,
    "start_time": "2021-09-15T11:45:14.487Z"
   },
   {
    "duration": 5,
    "start_time": "2021-09-15T11:45:20.595Z"
   },
   {
    "duration": 5,
    "start_time": "2021-09-15T11:45:34.585Z"
   },
   {
    "duration": 384,
    "start_time": "2021-09-15T11:48:53.426Z"
   },
   {
    "duration": 346,
    "start_time": "2021-09-15T11:49:13.619Z"
   },
   {
    "duration": 323,
    "start_time": "2021-09-15T12:07:23.535Z"
   },
   {
    "duration": 839,
    "start_time": "2021-09-15T12:07:32.236Z"
   },
   {
    "duration": 75,
    "start_time": "2021-09-15T12:07:33.077Z"
   },
   {
    "duration": 19,
    "start_time": "2021-09-15T12:07:33.155Z"
   },
   {
    "duration": 17,
    "start_time": "2021-09-15T12:07:33.177Z"
   },
   {
    "duration": 309,
    "start_time": "2021-09-15T12:07:33.196Z"
   },
   {
    "duration": 28,
    "start_time": "2021-09-15T12:07:33.507Z"
   },
   {
    "duration": 12,
    "start_time": "2021-09-15T12:07:33.553Z"
   },
   {
    "duration": 682,
    "start_time": "2021-09-15T12:07:33.570Z"
   },
   {
    "duration": 622,
    "start_time": "2021-09-15T12:07:34.256Z"
   },
   {
    "duration": 1268,
    "start_time": "2021-09-15T12:07:34.880Z"
   },
   {
    "duration": 407,
    "start_time": "2021-09-15T12:07:36.150Z"
   },
   {
    "duration": 41,
    "start_time": "2021-09-15T12:07:36.561Z"
   },
   {
    "duration": 492,
    "start_time": "2021-09-15T12:07:36.604Z"
   },
   {
    "duration": 396,
    "start_time": "2021-09-15T12:07:37.099Z"
   },
   {
    "duration": 1747,
    "start_time": "2021-09-15T12:07:37.497Z"
   },
   {
    "duration": 478,
    "start_time": "2021-09-15T12:07:39.247Z"
   },
   {
    "duration": 9,
    "start_time": "2021-09-15T12:07:39.727Z"
   },
   {
    "duration": 234,
    "start_time": "2021-09-15T12:07:39.738Z"
   },
   {
    "duration": 707,
    "start_time": "2021-09-15T12:07:39.975Z"
   },
   {
    "duration": 574,
    "start_time": "2021-09-15T12:07:40.685Z"
   },
   {
    "duration": 1621,
    "start_time": "2021-09-15T12:07:41.262Z"
   },
   {
    "duration": 485,
    "start_time": "2021-09-15T12:07:42.885Z"
   },
   {
    "duration": 7,
    "start_time": "2021-09-15T12:07:43.374Z"
   },
   {
    "duration": 23,
    "start_time": "2021-09-15T12:07:43.384Z"
   },
   {
    "duration": 474,
    "start_time": "2021-09-15T12:07:43.409Z"
   },
   {
    "duration": 263,
    "start_time": "2021-09-15T12:07:43.885Z"
   },
   {
    "duration": 283,
    "start_time": "2021-09-15T12:07:49.292Z"
   },
   {
    "duration": 255,
    "start_time": "2021-09-15T12:12:10.318Z"
   },
   {
    "duration": 302,
    "start_time": "2021-09-15T12:12:15.909Z"
   },
   {
    "duration": 39,
    "start_time": "2021-09-15T12:12:34.809Z"
   },
   {
    "duration": 11,
    "start_time": "2021-09-15T12:12:36.679Z"
   },
   {
    "duration": 31,
    "start_time": "2021-09-15T12:13:31.257Z"
   },
   {
    "duration": 10,
    "start_time": "2021-09-15T12:14:28.630Z"
   },
   {
    "duration": 294,
    "start_time": "2021-09-15T12:14:43.331Z"
   },
   {
    "duration": 8,
    "start_time": "2021-09-15T12:15:06.781Z"
   },
   {
    "duration": 9,
    "start_time": "2021-09-15T12:15:07.621Z"
   },
   {
    "duration": 12,
    "start_time": "2021-09-15T12:15:44.092Z"
   },
   {
    "duration": 20,
    "start_time": "2021-09-15T12:15:44.422Z"
   },
   {
    "duration": 16,
    "start_time": "2021-09-15T12:16:32.001Z"
   },
   {
    "duration": 30,
    "start_time": "2021-09-15T12:16:32.723Z"
   },
   {
    "duration": 753,
    "start_time": "2021-09-15T12:17:58.003Z"
   },
   {
    "duration": -103,
    "start_time": "2021-09-15T12:17:58.861Z"
   },
   {
    "duration": 9,
    "start_time": "2021-09-15T12:18:09.923Z"
   },
   {
    "duration": 9,
    "start_time": "2021-09-15T12:18:11.081Z"
   },
   {
    "duration": 25,
    "start_time": "2021-09-15T12:19:38.803Z"
   },
   {
    "duration": 18,
    "start_time": "2021-09-15T12:19:39.324Z"
   },
   {
    "duration": 28,
    "start_time": "2021-09-15T12:20:58.015Z"
   },
   {
    "duration": 29,
    "start_time": "2021-09-15T12:21:06.266Z"
   },
   {
    "duration": 383,
    "start_time": "2021-09-15T12:21:07.866Z"
   },
   {
    "duration": 31,
    "start_time": "2021-09-15T12:21:08.316Z"
   },
   {
    "duration": 26,
    "start_time": "2021-09-15T12:21:17.576Z"
   },
   {
    "duration": 51,
    "start_time": "2021-09-15T12:21:18.646Z"
   },
   {
    "duration": 8,
    "start_time": "2021-09-15T12:21:45.507Z"
   },
   {
    "duration": 9,
    "start_time": "2021-09-15T12:21:48.395Z"
   },
   {
    "duration": 34,
    "start_time": "2021-09-15T12:22:02.755Z"
   },
   {
    "duration": 6,
    "start_time": "2021-09-15T12:22:18.868Z"
   },
   {
    "duration": 5,
    "start_time": "2021-09-15T12:23:21.489Z"
   },
   {
    "duration": 27,
    "start_time": "2021-09-15T12:24:21.447Z"
   },
   {
    "duration": 11,
    "start_time": "2021-09-15T12:24:42.110Z"
   },
   {
    "duration": -87,
    "start_time": "2021-09-15T12:25:31.709Z"
   },
   {
    "duration": -92,
    "start_time": "2021-09-15T12:25:31.716Z"
   },
   {
    "duration": 2605,
    "start_time": "2021-09-15T12:25:36.882Z"
   },
   {
    "duration": 81,
    "start_time": "2021-09-15T12:25:39.490Z"
   },
   {
    "duration": 23,
    "start_time": "2021-09-15T12:25:39.575Z"
   },
   {
    "duration": 53,
    "start_time": "2021-09-15T12:25:39.601Z"
   },
   {
    "duration": 337,
    "start_time": "2021-09-15T12:25:39.657Z"
   },
   {
    "duration": 27,
    "start_time": "2021-09-15T12:25:39.996Z"
   },
   {
    "duration": 36,
    "start_time": "2021-09-15T12:25:40.026Z"
   },
   {
    "duration": 770,
    "start_time": "2021-09-15T12:25:40.066Z"
   },
   {
    "duration": 474,
    "start_time": "2021-09-15T12:25:40.839Z"
   },
   {
    "duration": 1229,
    "start_time": "2021-09-15T12:25:41.315Z"
   },
   {
    "duration": 429,
    "start_time": "2021-09-15T12:25:42.547Z"
   },
   {
    "duration": 43,
    "start_time": "2021-09-15T12:25:42.978Z"
   },
   {
    "duration": 513,
    "start_time": "2021-09-15T12:25:43.023Z"
   },
   {
    "duration": 436,
    "start_time": "2021-09-15T12:25:43.539Z"
   },
   {
    "duration": 1948,
    "start_time": "2021-09-15T12:25:43.978Z"
   },
   {
    "duration": 461,
    "start_time": "2021-09-15T12:25:45.928Z"
   },
   {
    "duration": 10,
    "start_time": "2021-09-15T12:25:46.392Z"
   },
   {
    "duration": 231,
    "start_time": "2021-09-15T12:25:46.404Z"
   },
   {
    "duration": 717,
    "start_time": "2021-09-15T12:25:46.639Z"
   },
   {
    "duration": 556,
    "start_time": "2021-09-15T12:25:47.359Z"
   },
   {
    "duration": 1640,
    "start_time": "2021-09-15T12:25:47.918Z"
   },
   {
    "duration": 461,
    "start_time": "2021-09-15T12:25:49.561Z"
   },
   {
    "duration": 6,
    "start_time": "2021-09-15T12:25:50.026Z"
   },
   {
    "duration": 22,
    "start_time": "2021-09-15T12:25:50.035Z"
   },
   {
    "duration": 388,
    "start_time": "2021-09-15T12:25:50.060Z"
   },
   {
    "duration": 20,
    "start_time": "2021-09-15T12:25:50.454Z"
   },
   {
    "duration": 31,
    "start_time": "2021-09-15T12:25:50.477Z"
   },
   {
    "duration": 33,
    "start_time": "2021-09-15T12:25:50.510Z"
   },
   {
    "duration": 28,
    "start_time": "2021-09-15T12:25:50.545Z"
   },
   {
    "duration": 26,
    "start_time": "2021-09-15T12:25:50.575Z"
   },
   {
    "duration": 23,
    "start_time": "2021-09-15T12:25:50.603Z"
   },
   {
    "duration": 5,
    "start_time": "2021-09-15T12:28:55.177Z"
   },
   {
    "duration": 8,
    "start_time": "2021-09-15T12:29:21.268Z"
   },
   {
    "duration": 18,
    "start_time": "2021-09-15T12:29:23.137Z"
   },
   {
    "duration": 5,
    "start_time": "2021-09-15T12:29:23.718Z"
   },
   {
    "duration": 6,
    "start_time": "2021-09-15T12:29:24.187Z"
   },
   {
    "duration": 23,
    "start_time": "2021-09-15T12:29:37.788Z"
   },
   {
    "duration": 5,
    "start_time": "2021-09-15T12:29:38.308Z"
   },
   {
    "duration": 8,
    "start_time": "2021-09-15T12:29:38.788Z"
   },
   {
    "duration": 10,
    "start_time": "2021-09-15T12:31:07.080Z"
   },
   {
    "duration": 18,
    "start_time": "2021-09-15T12:31:14.010Z"
   },
   {
    "duration": 402,
    "start_time": "2021-09-15T12:31:50.169Z"
   },
   {
    "duration": 24,
    "start_time": "2021-09-15T12:32:00.679Z"
   },
   {
    "duration": 5,
    "start_time": "2021-09-15T12:32:01.040Z"
   },
   {
    "duration": 43,
    "start_time": "2021-09-15T12:32:01.299Z"
   },
   {
    "duration": 20,
    "start_time": "2021-09-15T12:32:47.682Z"
   },
   {
    "duration": 18,
    "start_time": "2021-09-15T12:33:26.711Z"
   },
   {
    "duration": 10,
    "start_time": "2021-09-15T12:34:54.151Z"
   },
   {
    "duration": 9,
    "start_time": "2021-09-15T12:35:21.822Z"
   },
   {
    "duration": 32,
    "start_time": "2021-09-15T12:36:40.844Z"
   },
   {
    "duration": 6760,
    "start_time": "2021-09-15T12:36:44.142Z"
   },
   {
    "duration": -132,
    "start_time": "2021-09-15T12:36:51.037Z"
   },
   {
    "duration": -135,
    "start_time": "2021-09-15T12:36:51.041Z"
   },
   {
    "duration": 6616,
    "start_time": "2021-09-15T12:37:06.754Z"
   },
   {
    "duration": 10,
    "start_time": "2021-09-15T12:37:29.435Z"
   },
   {
    "duration": 707,
    "start_time": "2021-09-15T12:38:08.146Z"
   },
   {
    "duration": 7989,
    "start_time": "2021-09-15T12:38:09.264Z"
   },
   {
    "duration": 4,
    "start_time": "2021-09-15T12:38:25.154Z"
   },
   {
    "duration": 15,
    "start_time": "2021-09-15T12:39:58.848Z"
   },
   {
    "duration": 4,
    "start_time": "2021-09-15T12:39:59.656Z"
   },
   {
    "duration": 6,
    "start_time": "2021-09-15T12:39:59.886Z"
   },
   {
    "duration": 17,
    "start_time": "2021-09-15T12:40:05.435Z"
   },
   {
    "duration": 3,
    "start_time": "2021-09-15T12:40:05.957Z"
   },
   {
    "duration": 20,
    "start_time": "2021-09-15T12:40:06.104Z"
   },
   {
    "duration": 12,
    "start_time": "2021-09-15T12:42:32.338Z"
   },
   {
    "duration": 4,
    "start_time": "2021-09-15T12:42:33.138Z"
   },
   {
    "duration": 20,
    "start_time": "2021-09-15T12:42:33.948Z"
   },
   {
    "duration": 16,
    "start_time": "2021-09-15T12:43:01.549Z"
   },
   {
    "duration": 15,
    "start_time": "2021-09-15T12:43:09.609Z"
   },
   {
    "duration": 16,
    "start_time": "2021-09-15T12:43:11.059Z"
   },
   {
    "duration": 33,
    "start_time": "2021-09-15T12:44:12.809Z"
   },
   {
    "duration": 11,
    "start_time": "2021-09-15T12:45:07.460Z"
   },
   {
    "duration": 19,
    "start_time": "2021-09-15T12:45:23.360Z"
   },
   {
    "duration": 3,
    "start_time": "2021-09-15T12:45:23.795Z"
   },
   {
    "duration": 33,
    "start_time": "2021-09-15T12:45:24.741Z"
   },
   {
    "duration": 21,
    "start_time": "2021-09-15T12:46:22.922Z"
   },
   {
    "duration": 39,
    "start_time": "2021-09-15T12:46:48.852Z"
   },
   {
    "duration": 19,
    "start_time": "2021-09-15T12:53:17.548Z"
   },
   {
    "duration": 9,
    "start_time": "2021-09-15T12:53:18.288Z"
   },
   {
    "duration": 17,
    "start_time": "2021-09-15T12:53:37.339Z"
   },
   {
    "duration": 17,
    "start_time": "2021-09-15T12:53:48.607Z"
   },
   {
    "duration": 17,
    "start_time": "2021-09-15T12:53:49.877Z"
   },
   {
    "duration": 11,
    "start_time": "2021-09-15T12:54:56.299Z"
   },
   {
    "duration": 45,
    "start_time": "2021-09-15T12:58:06.081Z"
   },
   {
    "duration": 14,
    "start_time": "2021-09-15T12:58:37.782Z"
   },
   {
    "duration": 46,
    "start_time": "2021-09-15T12:58:41.882Z"
   },
   {
    "duration": 15,
    "start_time": "2021-09-15T12:59:05.493Z"
   },
   {
    "duration": 11,
    "start_time": "2021-09-15T12:59:06.011Z"
   },
   {
    "duration": 5,
    "start_time": "2021-09-15T12:59:09.833Z"
   },
   {
    "duration": 16,
    "start_time": "2021-09-15T13:00:54.689Z"
   },
   {
    "duration": 49,
    "start_time": "2021-09-15T13:01:04.484Z"
   },
   {
    "duration": 20,
    "start_time": "2021-09-15T13:01:13.336Z"
   },
   {
    "duration": 257,
    "start_time": "2021-09-15T13:06:51.285Z"
   },
   {
    "duration": 7267,
    "start_time": "2021-09-15T13:07:03.626Z"
   },
   {
    "duration": 468,
    "start_time": "2021-09-15T13:07:25.970Z"
   },
   {
    "duration": 379,
    "start_time": "2021-09-15T13:07:58.920Z"
   },
   {
    "duration": 28,
    "start_time": "2021-09-15T14:20:15.972Z"
   },
   {
    "duration": 332,
    "start_time": "2021-09-15T14:20:20.503Z"
   },
   {
    "duration": 42,
    "start_time": "2021-09-15T14:20:26.724Z"
   },
   {
    "duration": 37,
    "start_time": "2021-09-15T14:21:26.642Z"
   },
   {
    "duration": 454,
    "start_time": "2021-09-15T14:25:17.177Z"
   },
   {
    "duration": 549,
    "start_time": "2021-09-15T14:25:28.558Z"
   },
   {
    "duration": 331,
    "start_time": "2021-09-15T14:26:06.819Z"
   },
   {
    "duration": 333,
    "start_time": "2021-09-15T14:26:28.719Z"
   },
   {
    "duration": 332,
    "start_time": "2021-09-15T14:26:57.880Z"
   },
   {
    "duration": 2451,
    "start_time": "2021-09-15T14:52:02.192Z"
   },
   {
    "duration": 85,
    "start_time": "2021-09-15T14:52:04.647Z"
   },
   {
    "duration": 36,
    "start_time": "2021-09-15T14:52:04.736Z"
   },
   {
    "duration": 21,
    "start_time": "2021-09-15T14:52:04.775Z"
   },
   {
    "duration": 358,
    "start_time": "2021-09-15T14:52:04.799Z"
   },
   {
    "duration": 29,
    "start_time": "2021-09-15T14:52:05.159Z"
   },
   {
    "duration": 23,
    "start_time": "2021-09-15T14:52:05.191Z"
   },
   {
    "duration": 708,
    "start_time": "2021-09-15T14:52:05.220Z"
   },
   {
    "duration": 437,
    "start_time": "2021-09-15T14:52:05.931Z"
   },
   {
    "duration": 1126,
    "start_time": "2021-09-15T14:52:06.370Z"
   },
   {
    "duration": 411,
    "start_time": "2021-09-15T14:52:07.498Z"
   },
   {
    "duration": 51,
    "start_time": "2021-09-15T14:52:07.912Z"
   },
   {
    "duration": 484,
    "start_time": "2021-09-15T14:52:07.966Z"
   },
   {
    "duration": 403,
    "start_time": "2021-09-15T14:52:08.456Z"
   },
   {
    "duration": 1993,
    "start_time": "2021-09-15T14:52:08.862Z"
   },
   {
    "duration": 490,
    "start_time": "2021-09-15T14:52:10.858Z"
   },
   {
    "duration": 9,
    "start_time": "2021-09-15T14:52:11.355Z"
   },
   {
    "duration": 272,
    "start_time": "2021-09-15T14:52:11.366Z"
   },
   {
    "duration": 902,
    "start_time": "2021-09-15T14:52:11.648Z"
   },
   {
    "duration": 594,
    "start_time": "2021-09-15T14:52:12.555Z"
   },
   {
    "duration": 1709,
    "start_time": "2021-09-15T14:52:13.155Z"
   },
   {
    "duration": 459,
    "start_time": "2021-09-15T14:52:14.866Z"
   },
   {
    "duration": 7,
    "start_time": "2021-09-15T14:52:15.330Z"
   },
   {
    "duration": 17,
    "start_time": "2021-09-15T14:52:15.355Z"
   },
   {
    "duration": 379,
    "start_time": "2021-09-15T14:52:15.375Z"
   },
   {
    "duration": 18,
    "start_time": "2021-09-15T14:52:15.757Z"
   },
   {
    "duration": 38,
    "start_time": "2021-09-15T14:52:15.778Z"
   },
   {
    "duration": 424,
    "start_time": "2021-09-15T14:52:15.819Z"
   },
   {
    "duration": 30,
    "start_time": "2021-09-15T14:52:16.246Z"
   },
   {
    "duration": 48,
    "start_time": "2021-09-15T14:52:16.279Z"
   },
   {
    "duration": 368,
    "start_time": "2021-09-15T14:52:16.330Z"
   },
   {
    "duration": 1809,
    "start_time": "2021-09-16T19:27:38.098Z"
   },
   {
    "duration": 64,
    "start_time": "2021-09-16T19:27:39.909Z"
   },
   {
    "duration": 14,
    "start_time": "2021-09-16T19:27:39.976Z"
   },
   {
    "duration": 12,
    "start_time": "2021-09-16T19:27:39.992Z"
   },
   {
    "duration": 277,
    "start_time": "2021-09-16T19:27:40.006Z"
   },
   {
    "duration": 21,
    "start_time": "2021-09-16T19:27:40.285Z"
   },
   {
    "duration": 7,
    "start_time": "2021-09-16T19:27:40.308Z"
   },
   {
    "duration": 561,
    "start_time": "2021-09-16T19:27:40.318Z"
   },
   {
    "duration": 283,
    "start_time": "2021-09-16T19:27:40.881Z"
   },
   {
    "duration": 1134,
    "start_time": "2021-09-16T19:27:41.166Z"
   },
   {
    "duration": 517,
    "start_time": "2021-09-16T19:27:42.303Z"
   },
   {
    "duration": 59,
    "start_time": "2021-09-16T19:27:42.823Z"
   },
   {
    "duration": 491,
    "start_time": "2021-09-16T19:27:42.885Z"
   },
   {
    "duration": 254,
    "start_time": "2021-09-16T19:27:43.378Z"
   },
   {
    "duration": 1318,
    "start_time": "2021-09-16T19:27:43.634Z"
   },
   {
    "duration": 304,
    "start_time": "2021-09-16T19:27:44.954Z"
   },
   {
    "duration": 6,
    "start_time": "2021-09-16T19:27:45.260Z"
   },
   {
    "duration": 151,
    "start_time": "2021-09-16T19:27:45.268Z"
   },
   {
    "duration": 522,
    "start_time": "2021-09-16T19:27:45.421Z"
   },
   {
    "duration": 379,
    "start_time": "2021-09-16T19:27:45.945Z"
   },
   {
    "duration": 1154,
    "start_time": "2021-09-16T19:27:46.326Z"
   },
   {
    "duration": 284,
    "start_time": "2021-09-16T19:27:47.482Z"
   },
   {
    "duration": 10,
    "start_time": "2021-09-16T19:27:47.769Z"
   },
   {
    "duration": 8,
    "start_time": "2021-09-16T19:27:47.781Z"
   },
   {
    "duration": 231,
    "start_time": "2021-09-16T19:27:47.790Z"
   },
   {
    "duration": 12,
    "start_time": "2021-09-16T19:27:48.023Z"
   },
   {
    "duration": 12,
    "start_time": "2021-09-16T19:27:48.037Z"
   },
   {
    "duration": 257,
    "start_time": "2021-09-16T19:27:48.051Z"
   },
   {
    "duration": 15,
    "start_time": "2021-09-16T19:27:48.310Z"
   },
   {
    "duration": 54,
    "start_time": "2021-09-16T19:27:48.327Z"
   },
   {
    "duration": 330,
    "start_time": "2021-09-16T19:27:48.383Z"
   },
   {
    "duration": 12,
    "start_time": "2021-09-16T19:28:09.880Z"
   },
   {
    "duration": 1830,
    "start_time": "2021-09-16T19:28:23.562Z"
   },
   {
    "duration": 61,
    "start_time": "2021-09-16T19:28:25.394Z"
   },
   {
    "duration": 15,
    "start_time": "2021-09-16T19:28:25.457Z"
   },
   {
    "duration": 15,
    "start_time": "2021-09-16T19:28:25.478Z"
   },
   {
    "duration": 260,
    "start_time": "2021-09-16T19:28:25.496Z"
   },
   {
    "duration": 27,
    "start_time": "2021-09-16T19:28:25.758Z"
   },
   {
    "duration": 8,
    "start_time": "2021-09-16T19:28:25.787Z"
   },
   {
    "duration": 535,
    "start_time": "2021-09-16T19:28:25.798Z"
   },
   {
    "duration": 289,
    "start_time": "2021-09-16T19:28:26.335Z"
   },
   {
    "duration": 729,
    "start_time": "2021-09-16T19:28:26.627Z"
   },
   {
    "duration": 265,
    "start_time": "2021-09-16T19:28:27.358Z"
   },
   {
    "duration": 28,
    "start_time": "2021-09-16T19:28:27.624Z"
   },
   {
    "duration": 304,
    "start_time": "2021-09-16T19:28:27.654Z"
   },
   {
    "duration": 260,
    "start_time": "2021-09-16T19:28:27.960Z"
   },
   {
    "duration": 1332,
    "start_time": "2021-09-16T19:28:28.222Z"
   },
   {
    "duration": 11,
    "start_time": "2021-09-16T19:28:29.556Z"
   },
   {
    "duration": 287,
    "start_time": "2021-09-16T19:28:29.577Z"
   },
   {
    "duration": 10,
    "start_time": "2021-09-16T19:28:29.866Z"
   },
   {
    "duration": 150,
    "start_time": "2021-09-16T19:28:29.878Z"
   },
   {
    "duration": 528,
    "start_time": "2021-09-16T19:28:30.030Z"
   },
   {
    "duration": 389,
    "start_time": "2021-09-16T19:28:30.560Z"
   },
   {
    "duration": 1141,
    "start_time": "2021-09-16T19:28:30.950Z"
   },
   {
    "duration": 297,
    "start_time": "2021-09-16T19:28:32.094Z"
   },
   {
    "duration": 5,
    "start_time": "2021-09-16T19:28:32.393Z"
   },
   {
    "duration": 17,
    "start_time": "2021-09-16T19:28:32.399Z"
   },
   {
    "duration": 238,
    "start_time": "2021-09-16T19:28:32.417Z"
   },
   {
    "duration": 18,
    "start_time": "2021-09-16T19:28:32.658Z"
   },
   {
    "duration": 6,
    "start_time": "2021-09-16T19:28:32.678Z"
   },
   {
    "duration": 257,
    "start_time": "2021-09-16T19:28:32.686Z"
   },
   {
    "duration": 16,
    "start_time": "2021-09-16T19:28:32.945Z"
   },
   {
    "duration": 48,
    "start_time": "2021-09-16T19:28:32.963Z"
   },
   {
    "duration": 353,
    "start_time": "2021-09-16T19:28:33.014Z"
   },
   {
    "duration": 12,
    "start_time": "2021-09-16T19:30:21.032Z"
   },
   {
    "duration": 17,
    "start_time": "2021-09-16T19:32:00.354Z"
   },
   {
    "duration": 8,
    "start_time": "2021-09-16T19:32:50.904Z"
   },
   {
    "duration": 11,
    "start_time": "2021-09-16T19:32:56.882Z"
   },
   {
    "duration": 20,
    "start_time": "2021-09-16T19:37:41.126Z"
   },
   {
    "duration": 55,
    "start_time": "2021-09-16T19:38:01.238Z"
   },
   {
    "duration": 20,
    "start_time": "2021-09-16T19:38:15.530Z"
   },
   {
    "duration": 19,
    "start_time": "2021-09-16T19:39:06.671Z"
   },
   {
    "duration": 2264,
    "start_time": "2021-09-17T09:26:09.191Z"
   },
   {
    "duration": 69,
    "start_time": "2021-09-17T09:26:11.458Z"
   },
   {
    "duration": 79,
    "start_time": "2021-09-17T09:26:19.667Z"
   },
   {
    "duration": 434,
    "start_time": "2021-09-17T15:13:47.730Z"
   },
   {
    "duration": 2436,
    "start_time": "2021-09-17T15:13:51.369Z"
   },
   {
    "duration": 73,
    "start_time": "2021-09-17T15:13:53.808Z"
   },
   {
    "duration": 80,
    "start_time": "2021-09-17T15:14:09.145Z"
   },
   {
    "duration": 952,
    "start_time": "2021-09-17T15:14:48.744Z"
   },
   {
    "duration": 80,
    "start_time": "2021-09-17T15:14:49.699Z"
   },
   {
    "duration": 19,
    "start_time": "2021-09-17T15:14:49.784Z"
   },
   {
    "duration": 15,
    "start_time": "2021-09-17T15:14:49.805Z"
   },
   {
    "duration": 327,
    "start_time": "2021-09-17T15:14:49.823Z"
   },
   {
    "duration": 42,
    "start_time": "2021-09-17T15:14:50.154Z"
   },
   {
    "duration": 11,
    "start_time": "2021-09-17T15:14:50.199Z"
   },
   {
    "duration": 708,
    "start_time": "2021-09-17T15:14:52.182Z"
   },
   {
    "duration": 113,
    "start_time": "2021-09-17T15:17:45.113Z"
   },
   {
    "duration": 130,
    "start_time": "2021-09-17T15:17:49.614Z"
   },
   {
    "duration": 431,
    "start_time": "2021-09-17T15:18:37.246Z"
   },
   {
    "duration": 761,
    "start_time": "2021-09-17T15:21:57.159Z"
   },
   {
    "duration": 735,
    "start_time": "2021-09-17T15:22:00.750Z"
   },
   {
    "duration": 434,
    "start_time": "2021-09-17T15:22:01.709Z"
   },
   {
    "duration": 1084,
    "start_time": "2021-09-17T15:22:06.629Z"
   },
   {
    "duration": 469,
    "start_time": "2021-09-17T15:22:09.207Z"
   },
   {
    "duration": 456,
    "start_time": "2021-09-17T15:22:17.519Z"
   },
   {
    "duration": 684,
    "start_time": "2021-09-17T15:23:50.190Z"
   },
   {
    "duration": 462,
    "start_time": "2021-09-17T15:23:52.788Z"
   },
   {
    "duration": 339,
    "start_time": "2021-09-17T15:24:02.710Z"
   },
   {
    "duration": 654,
    "start_time": "2021-09-17T15:24:36.451Z"
   },
   {
    "duration": 765,
    "start_time": "2021-09-17T15:24:44.659Z"
   },
   {
    "duration": 667,
    "start_time": "2021-09-17T15:25:06.294Z"
   },
   {
    "duration": 437,
    "start_time": "2021-09-17T15:25:07.019Z"
   },
   {
    "duration": 1760,
    "start_time": "2021-09-17T15:25:12.160Z"
   },
   {
    "duration": 44,
    "start_time": "2021-09-17T15:27:36.671Z"
   },
   {
    "duration": 503,
    "start_time": "2021-09-17T15:27:39.573Z"
   },
   {
    "duration": 390,
    "start_time": "2021-09-17T15:28:37.240Z"
   },
   {
    "duration": 777,
    "start_time": "2021-09-17T15:29:15.541Z"
   },
   {
    "duration": 405,
    "start_time": "2021-09-17T15:31:50.505Z"
   },
   {
    "duration": 755,
    "start_time": "2021-09-17T15:32:11.550Z"
   },
   {
    "duration": 781,
    "start_time": "2021-09-17T15:32:25.438Z"
   },
   {
    "duration": 405,
    "start_time": "2021-09-17T15:32:37.606Z"
   },
   {
    "duration": 4608,
    "start_time": "2021-09-17T15:40:09.216Z"
   },
   {
    "duration": 9153,
    "start_time": "2021-09-17T15:40:35.927Z"
   },
   {
    "duration": 4783,
    "start_time": "2021-09-17T15:40:55.655Z"
   },
   {
    "duration": 9528,
    "start_time": "2021-09-17T15:41:19.844Z"
   },
   {
    "duration": 749,
    "start_time": "2021-09-17T15:41:58.227Z"
   },
   {
    "duration": 77,
    "start_time": "2021-09-17T15:41:58.979Z"
   },
   {
    "duration": 38,
    "start_time": "2021-09-17T15:41:59.061Z"
   },
   {
    "duration": 15,
    "start_time": "2021-09-17T15:41:59.102Z"
   },
   {
    "duration": 345,
    "start_time": "2021-09-17T15:41:59.119Z"
   },
   {
    "duration": 36,
    "start_time": "2021-09-17T15:41:59.467Z"
   },
   {
    "duration": 10,
    "start_time": "2021-09-17T15:41:59.506Z"
   },
   {
    "duration": 721,
    "start_time": "2021-09-17T15:41:59.520Z"
   },
   {
    "duration": 446,
    "start_time": "2021-09-17T15:42:00.243Z"
   },
   {
    "duration": 1649,
    "start_time": "2021-09-17T15:42:00.692Z"
   },
   {
    "duration": 458,
    "start_time": "2021-09-17T15:42:02.343Z"
   },
   {
    "duration": 42,
    "start_time": "2021-09-17T15:42:02.804Z"
   },
   {
    "duration": 508,
    "start_time": "2021-09-17T15:42:02.849Z"
   },
   {
    "duration": 435,
    "start_time": "2021-09-17T15:42:03.359Z"
   },
   {
    "duration": 1695,
    "start_time": "2021-09-17T15:42:06.945Z"
   },
   {
    "duration": 8815,
    "start_time": "2021-09-17T15:43:36.107Z"
   },
   {
    "duration": 698,
    "start_time": "2021-09-17T15:43:50.179Z"
   },
   {
    "duration": 80,
    "start_time": "2021-09-17T15:43:50.880Z"
   },
   {
    "duration": 35,
    "start_time": "2021-09-17T15:43:50.964Z"
   },
   {
    "duration": 18,
    "start_time": "2021-09-17T15:43:51.003Z"
   },
   {
    "duration": 341,
    "start_time": "2021-09-17T15:43:51.023Z"
   },
   {
    "duration": 35,
    "start_time": "2021-09-17T15:43:51.367Z"
   },
   {
    "duration": 12,
    "start_time": "2021-09-17T15:43:51.405Z"
   },
   {
    "duration": 708,
    "start_time": "2021-09-17T15:43:51.422Z"
   },
   {
    "duration": 459,
    "start_time": "2021-09-17T15:43:52.133Z"
   },
   {
    "duration": 1763,
    "start_time": "2021-09-17T15:43:52.594Z"
   },
   {
    "duration": 479,
    "start_time": "2021-09-17T15:43:54.360Z"
   },
   {
    "duration": 51,
    "start_time": "2021-09-17T15:43:54.841Z"
   },
   {
    "duration": 492,
    "start_time": "2021-09-17T15:43:54.895Z"
   },
   {
    "duration": 413,
    "start_time": "2021-09-17T15:43:55.389Z"
   },
   {
    "duration": 4338,
    "start_time": "2021-09-17T15:43:56.987Z"
   },
   {
    "duration": 9355,
    "start_time": "2021-09-17T15:44:13.118Z"
   },
   {
    "duration": 4418,
    "start_time": "2021-09-17T15:44:48.707Z"
   },
   {
    "duration": 9152,
    "start_time": "2021-09-17T15:45:49.592Z"
   },
   {
    "duration": 4903,
    "start_time": "2021-09-17T15:46:00.897Z"
   },
   {
    "duration": 9122,
    "start_time": "2021-09-17T15:49:17.382Z"
   },
   {
    "duration": 10833,
    "start_time": "2021-09-17T15:49:32.822Z"
   },
   {
    "duration": 4687,
    "start_time": "2021-09-17T15:49:47.134Z"
   },
   {
    "duration": 113,
    "start_time": "2021-09-17T15:50:15.263Z"
   },
   {
    "duration": 9895,
    "start_time": "2021-09-17T15:50:18.853Z"
   },
   {
    "duration": 4503,
    "start_time": "2021-09-17T15:50:31.802Z"
   },
   {
    "duration": 8873,
    "start_time": "2021-09-17T15:51:09.344Z"
   },
   {
    "duration": 4603,
    "start_time": "2021-09-17T15:51:20.423Z"
   },
   {
    "duration": 10464,
    "start_time": "2021-09-17T15:51:59.844Z"
   },
   {
    "duration": 4542,
    "start_time": "2021-09-17T15:52:11.936Z"
   },
   {
    "duration": 10836,
    "start_time": "2021-09-17T15:52:46.517Z"
   },
   {
    "duration": 4728,
    "start_time": "2021-09-17T15:52:59.095Z"
   },
   {
    "duration": 3940,
    "start_time": "2021-09-17T15:53:43.862Z"
   },
   {
    "duration": 4859,
    "start_time": "2021-09-17T15:53:58.227Z"
   },
   {
    "duration": 11237,
    "start_time": "2021-09-17T15:54:28.156Z"
   },
   {
    "duration": 4696,
    "start_time": "2021-09-17T15:54:42.938Z"
   },
   {
    "duration": 10336,
    "start_time": "2021-09-17T15:56:23.704Z"
   },
   {
    "duration": 926,
    "start_time": "2021-09-17T15:56:47.929Z"
   },
   {
    "duration": 4579,
    "start_time": "2021-09-17T15:56:52.437Z"
   },
   {
    "duration": 3864,
    "start_time": "2021-09-17T15:57:12.987Z"
   },
   {
    "duration": 216,
    "start_time": "2021-09-17T15:58:10.978Z"
   },
   {
    "duration": 341,
    "start_time": "2021-09-17T16:01:19.585Z"
   },
   {
    "duration": 3938,
    "start_time": "2021-09-17T16:01:34.311Z"
   },
   {
    "duration": 257,
    "start_time": "2021-09-17T16:01:45.412Z"
   },
   {
    "duration": 11489,
    "start_time": "2021-09-17T16:01:54.284Z"
   },
   {
    "duration": 362,
    "start_time": "2021-09-17T16:02:08.792Z"
   },
   {
    "duration": 8807,
    "start_time": "2021-09-17T16:02:58.611Z"
   },
   {
    "duration": 390,
    "start_time": "2021-09-17T16:03:08.782Z"
   },
   {
    "duration": 9985,
    "start_time": "2021-09-17T16:03:56.445Z"
   },
   {
    "duration": 2287,
    "start_time": "2021-09-17T16:04:51.814Z"
   },
   {
    "duration": 83,
    "start_time": "2021-09-17T16:04:54.104Z"
   },
   {
    "duration": 19,
    "start_time": "2021-09-17T16:04:54.190Z"
   },
   {
    "duration": 17,
    "start_time": "2021-09-17T16:04:54.212Z"
   },
   {
    "duration": 367,
    "start_time": "2021-09-17T16:04:54.231Z"
   },
   {
    "duration": 28,
    "start_time": "2021-09-17T16:04:54.601Z"
   },
   {
    "duration": 11,
    "start_time": "2021-09-17T16:04:54.631Z"
   },
   {
    "duration": 750,
    "start_time": "2021-09-17T16:04:54.646Z"
   },
   {
    "duration": 445,
    "start_time": "2021-09-17T16:04:55.399Z"
   },
   {
    "duration": 1704,
    "start_time": "2021-09-17T16:04:55.847Z"
   },
   {
    "duration": 488,
    "start_time": "2021-09-17T16:04:57.553Z"
   },
   {
    "duration": 47,
    "start_time": "2021-09-17T16:04:58.044Z"
   },
   {
    "duration": 504,
    "start_time": "2021-09-17T16:04:58.093Z"
   },
   {
    "duration": 427,
    "start_time": "2021-09-17T16:04:58.599Z"
   },
   {
    "duration": 663,
    "start_time": "2021-09-17T16:04:59.028Z"
   },
   {
    "duration": 3996,
    "start_time": "2021-09-17T16:04:59.694Z"
   },
   {
    "duration": 470,
    "start_time": "2021-09-17T16:05:03.692Z"
   },
   {
    "duration": 9,
    "start_time": "2021-09-17T16:05:04.164Z"
   },
   {
    "duration": 105,
    "start_time": "2021-09-17T16:05:04.183Z"
   },
   {
    "duration": 71,
    "start_time": "2021-09-17T16:05:04.290Z"
   },
   {
    "duration": 542,
    "start_time": "2021-09-17T16:05:04.363Z"
   },
   {
    "duration": 448,
    "start_time": "2021-09-17T16:05:04.908Z"
   },
   {
    "duration": 3938,
    "start_time": "2021-09-17T16:05:01.421Z"
   },
   {
    "duration": 3924,
    "start_time": "2021-09-17T16:05:01.437Z"
   },
   {
    "duration": 3920,
    "start_time": "2021-09-17T16:05:01.443Z"
   },
   {
    "duration": 3916,
    "start_time": "2021-09-17T16:05:01.448Z"
   },
   {
    "duration": 3913,
    "start_time": "2021-09-17T16:05:01.453Z"
   },
   {
    "duration": 3910,
    "start_time": "2021-09-17T16:05:01.458Z"
   },
   {
    "duration": 3906,
    "start_time": "2021-09-17T16:05:01.463Z"
   },
   {
    "duration": 3899,
    "start_time": "2021-09-17T16:05:01.472Z"
   },
   {
    "duration": 3897,
    "start_time": "2021-09-17T16:05:01.476Z"
   },
   {
    "duration": 3896,
    "start_time": "2021-09-17T16:05:01.479Z"
   },
   {
    "duration": 3892,
    "start_time": "2021-09-17T16:05:01.484Z"
   },
   {
    "duration": 3889,
    "start_time": "2021-09-17T16:05:01.489Z"
   },
   {
    "duration": 3882,
    "start_time": "2021-09-17T16:05:01.497Z"
   },
   {
    "duration": 9724,
    "start_time": "2021-09-17T16:06:03.416Z"
   },
   {
    "duration": 9974,
    "start_time": "2021-09-17T16:06:15.488Z"
   },
   {
    "duration": 9073,
    "start_time": "2021-09-17T16:06:37.807Z"
   },
   {
    "duration": 10534,
    "start_time": "2021-09-17T16:06:51.500Z"
   },
   {
    "duration": 9244,
    "start_time": "2021-09-17T16:07:13.688Z"
   },
   {
    "duration": 120,
    "start_time": "2021-09-17T16:07:25.699Z"
   },
   {
    "duration": 9543,
    "start_time": "2021-09-17T16:10:23.241Z"
   },
   {
    "duration": 8631,
    "start_time": "2021-09-17T16:10:35.861Z"
   },
   {
    "duration": 791,
    "start_time": "2021-09-17T16:10:50.732Z"
   },
   {
    "duration": 76,
    "start_time": "2021-09-17T16:10:51.526Z"
   },
   {
    "duration": 19,
    "start_time": "2021-09-17T16:10:51.604Z"
   },
   {
    "duration": 17,
    "start_time": "2021-09-17T16:10:51.626Z"
   },
   {
    "duration": 336,
    "start_time": "2021-09-17T16:10:51.646Z"
   },
   {
    "duration": 30,
    "start_time": "2021-09-17T16:10:51.985Z"
   },
   {
    "duration": 11,
    "start_time": "2021-09-17T16:10:52.017Z"
   },
   {
    "duration": 751,
    "start_time": "2021-09-17T16:10:52.030Z"
   },
   {
    "duration": 474,
    "start_time": "2021-09-17T16:10:52.785Z"
   },
   {
    "duration": 1630,
    "start_time": "2021-09-17T16:10:53.262Z"
   },
   {
    "duration": 458,
    "start_time": "2021-09-17T16:10:54.896Z"
   },
   {
    "duration": 50,
    "start_time": "2021-09-17T16:10:55.357Z"
   },
   {
    "duration": 491,
    "start_time": "2021-09-17T16:10:55.410Z"
   },
   {
    "duration": 415,
    "start_time": "2021-09-17T16:10:55.903Z"
   },
   {
    "duration": 529,
    "start_time": "2021-09-17T16:10:56.320Z"
   },
   {
    "duration": 4295,
    "start_time": "2021-09-17T16:10:56.852Z"
   },
   {
    "duration": 504,
    "start_time": "2021-09-17T16:11:01.149Z"
   },
   {
    "duration": 27,
    "start_time": "2021-09-17T16:11:01.656Z"
   },
   {
    "duration": 117,
    "start_time": "2021-09-17T16:11:01.686Z"
   },
   {
    "duration": 80,
    "start_time": "2021-09-17T16:11:01.805Z"
   },
   {
    "duration": 526,
    "start_time": "2021-09-17T16:12:05.798Z"
   },
   {
    "duration": 9020,
    "start_time": "2021-09-17T16:13:19.283Z"
   },
   {
    "duration": 111,
    "start_time": "2021-09-17T16:13:31.103Z"
   },
   {
    "duration": 70,
    "start_time": "2021-09-17T16:14:20.847Z"
   },
   {
    "duration": 522,
    "start_time": "2021-09-17T16:14:22.156Z"
   },
   {
    "duration": 12,
    "start_time": "2021-09-17T16:14:41.113Z"
   },
   {
    "duration": 1252,
    "start_time": "2021-09-17T16:15:09.616Z"
   },
   {
    "duration": 438,
    "start_time": "2021-09-17T16:17:13.107Z"
   },
   {
    "duration": 7,
    "start_time": "2021-09-17T16:17:27.265Z"
   },
   {
    "duration": 6,
    "start_time": "2021-09-17T16:17:37.795Z"
   },
   {
    "duration": 378,
    "start_time": "2021-09-17T16:17:39.208Z"
   },
   {
    "duration": 17,
    "start_time": "2021-09-17T16:18:01.906Z"
   },
   {
    "duration": 6,
    "start_time": "2021-09-17T16:18:05.998Z"
   },
   {
    "duration": 1566,
    "start_time": "2021-09-17T16:21:40.980Z"
   },
   {
    "duration": 1662,
    "start_time": "2021-09-17T16:21:46.771Z"
   },
   {
    "duration": 8769,
    "start_time": "2021-09-17T16:23:17.842Z"
   },
   {
    "duration": 8920,
    "start_time": "2021-09-17T16:23:28.522Z"
   },
   {
    "duration": 10512,
    "start_time": "2021-09-17T16:23:40.362Z"
   },
   {
    "duration": 721,
    "start_time": "2021-09-17T16:23:55.489Z"
   },
   {
    "duration": 77,
    "start_time": "2021-09-17T16:23:56.212Z"
   },
   {
    "duration": 20,
    "start_time": "2021-09-17T16:23:56.292Z"
   },
   {
    "duration": 16,
    "start_time": "2021-09-17T16:23:56.315Z"
   },
   {
    "duration": 337,
    "start_time": "2021-09-17T16:23:56.333Z"
   },
   {
    "duration": 34,
    "start_time": "2021-09-17T16:23:56.672Z"
   },
   {
    "duration": 11,
    "start_time": "2021-09-17T16:23:56.708Z"
   },
   {
    "duration": 711,
    "start_time": "2021-09-17T16:23:56.722Z"
   },
   {
    "duration": 451,
    "start_time": "2021-09-17T16:23:57.439Z"
   },
   {
    "duration": 1620,
    "start_time": "2021-09-17T16:23:57.893Z"
   },
   {
    "duration": 461,
    "start_time": "2021-09-17T16:23:59.516Z"
   },
   {
    "duration": 42,
    "start_time": "2021-09-17T16:23:59.983Z"
   },
   {
    "duration": 511,
    "start_time": "2021-09-17T16:24:00.027Z"
   },
   {
    "duration": 422,
    "start_time": "2021-09-17T16:24:00.540Z"
   },
   {
    "duration": 582,
    "start_time": "2021-09-17T16:24:00.965Z"
   },
   {
    "duration": 4328,
    "start_time": "2021-09-17T16:24:01.549Z"
   },
   {
    "duration": 498,
    "start_time": "2021-09-17T16:24:05.884Z"
   },
   {
    "duration": 10,
    "start_time": "2021-09-17T16:24:06.385Z"
   },
   {
    "duration": 100,
    "start_time": "2021-09-17T16:24:13.201Z"
   },
   {
    "duration": 74,
    "start_time": "2021-09-17T16:24:27.692Z"
   },
   {
    "duration": 504,
    "start_time": "2021-09-17T16:24:47.832Z"
   },
   {
    "duration": 1434,
    "start_time": "2021-09-17T16:24:57.692Z"
   },
   {
    "duration": 1244,
    "start_time": "2021-09-17T16:25:02.215Z"
   },
   {
    "duration": 1314,
    "start_time": "2021-09-17T16:31:49.027Z"
   },
   {
    "duration": 131,
    "start_time": "2021-09-17T16:32:15.550Z"
   },
   {
    "duration": 1180,
    "start_time": "2021-09-17T16:32:19.880Z"
   },
   {
    "duration": 1191,
    "start_time": "2021-09-17T16:32:26.380Z"
   },
   {
    "duration": 1285,
    "start_time": "2021-09-17T16:32:36.411Z"
   },
   {
    "duration": 1233,
    "start_time": "2021-09-17T16:33:59.590Z"
   },
   {
    "duration": 1165,
    "start_time": "2021-09-17T16:34:44.954Z"
   },
   {
    "duration": 1192,
    "start_time": "2021-09-17T16:35:06.833Z"
   },
   {
    "duration": 1198,
    "start_time": "2021-09-17T16:35:14.403Z"
   },
   {
    "duration": 1159,
    "start_time": "2021-09-17T16:35:22.393Z"
   },
   {
    "duration": 1331,
    "start_time": "2021-09-17T16:36:00.514Z"
   },
   {
    "duration": 1197,
    "start_time": "2021-09-17T16:36:08.824Z"
   },
   {
    "duration": 1154,
    "start_time": "2021-09-17T16:36:20.614Z"
   },
   {
    "duration": 1232,
    "start_time": "2021-09-17T16:36:50.237Z"
   },
   {
    "duration": 422,
    "start_time": "2021-09-17T16:38:12.024Z"
   },
   {
    "duration": 8,
    "start_time": "2021-09-17T16:38:42.604Z"
   },
   {
    "duration": 821,
    "start_time": "2021-09-17T16:39:14.607Z"
   },
   {
    "duration": 1254,
    "start_time": "2021-09-17T16:39:36.087Z"
   },
   {
    "duration": 7,
    "start_time": "2021-09-17T16:39:47.524Z"
   },
   {
    "duration": 1172,
    "start_time": "2021-09-17T16:40:18.218Z"
   },
   {
    "duration": 6,
    "start_time": "2021-09-17T16:40:21.435Z"
   },
   {
    "duration": 7,
    "start_time": "2021-09-17T16:40:25.125Z"
   },
   {
    "duration": 22,
    "start_time": "2021-09-17T16:43:34.878Z"
   },
   {
    "duration": 61,
    "start_time": "2021-09-17T16:44:05.967Z"
   },
   {
    "duration": 23,
    "start_time": "2021-09-17T16:44:10.539Z"
   },
   {
    "duration": 59,
    "start_time": "2021-09-17T16:44:13.339Z"
   },
   {
    "duration": 514,
    "start_time": "2021-09-17T16:44:13.749Z"
   },
   {
    "duration": 25,
    "start_time": "2021-09-17T16:44:15.859Z"
   },
   {
    "duration": 715,
    "start_time": "2021-09-17T16:44:24.689Z"
   },
   {
    "duration": 77,
    "start_time": "2021-09-17T16:44:25.406Z"
   },
   {
    "duration": 20,
    "start_time": "2021-09-17T16:44:25.487Z"
   },
   {
    "duration": 16,
    "start_time": "2021-09-17T16:44:25.510Z"
   },
   {
    "duration": 330,
    "start_time": "2021-09-17T16:44:25.528Z"
   },
   {
    "duration": 37,
    "start_time": "2021-09-17T16:44:25.861Z"
   },
   {
    "duration": 10,
    "start_time": "2021-09-17T16:44:25.901Z"
   },
   {
    "duration": 706,
    "start_time": "2021-09-17T16:44:25.914Z"
   },
   {
    "duration": 447,
    "start_time": "2021-09-17T16:44:26.624Z"
   },
   {
    "duration": 1612,
    "start_time": "2021-09-17T16:44:27.074Z"
   },
   {
    "duration": 464,
    "start_time": "2021-09-17T16:44:28.689Z"
   },
   {
    "duration": 51,
    "start_time": "2021-09-17T16:44:29.155Z"
   },
   {
    "duration": 478,
    "start_time": "2021-09-17T16:44:29.208Z"
   },
   {
    "duration": 420,
    "start_time": "2021-09-17T16:44:29.688Z"
   },
   {
    "duration": 562,
    "start_time": "2021-09-17T16:44:30.110Z"
   },
   {
    "duration": 3950,
    "start_time": "2021-09-17T16:44:30.675Z"
   },
   {
    "duration": 474,
    "start_time": "2021-09-17T16:44:34.628Z"
   },
   {
    "duration": 8,
    "start_time": "2021-09-17T16:44:35.105Z"
   },
   {
    "duration": 136,
    "start_time": "2021-09-17T16:44:35.116Z"
   },
   {
    "duration": 76,
    "start_time": "2021-09-17T16:44:35.255Z"
   },
   {
    "duration": 534,
    "start_time": "2021-09-17T16:44:35.333Z"
   },
   {
    "duration": 20,
    "start_time": "2021-09-17T16:44:41.559Z"
   },
   {
    "duration": 28,
    "start_time": "2021-09-17T16:46:08.614Z"
   },
   {
    "duration": 37,
    "start_time": "2021-09-17T16:46:16.940Z"
   },
   {
    "duration": 45,
    "start_time": "2021-09-17T16:47:44.053Z"
   },
   {
    "duration": 3905,
    "start_time": "2021-09-17T16:50:25.631Z"
   },
   {
    "duration": 3902,
    "start_time": "2021-09-17T16:50:25.636Z"
   },
   {
    "duration": 4034,
    "start_time": "2021-09-17T16:50:39.897Z"
   },
   {
    "duration": 607,
    "start_time": "2021-09-17T16:50:57.555Z"
   },
   {
    "duration": 816,
    "start_time": "2021-09-17T16:51:02.077Z"
   },
   {
    "duration": 78,
    "start_time": "2021-09-17T16:51:02.895Z"
   },
   {
    "duration": 20,
    "start_time": "2021-09-17T16:51:02.984Z"
   },
   {
    "duration": 18,
    "start_time": "2021-09-17T16:51:03.007Z"
   },
   {
    "duration": 360,
    "start_time": "2021-09-17T16:51:03.027Z"
   },
   {
    "duration": 28,
    "start_time": "2021-09-17T16:51:03.389Z"
   },
   {
    "duration": 11,
    "start_time": "2021-09-17T16:51:03.419Z"
   },
   {
    "duration": 741,
    "start_time": "2021-09-17T16:51:03.433Z"
   },
   {
    "duration": 456,
    "start_time": "2021-09-17T16:51:04.176Z"
   },
   {
    "duration": 1617,
    "start_time": "2021-09-17T16:51:04.635Z"
   },
   {
    "duration": 453,
    "start_time": "2021-09-17T16:51:06.255Z"
   },
   {
    "duration": 40,
    "start_time": "2021-09-17T16:51:06.711Z"
   },
   {
    "duration": 506,
    "start_time": "2021-09-17T16:51:06.754Z"
   },
   {
    "duration": 436,
    "start_time": "2021-09-17T16:51:07.262Z"
   },
   {
    "duration": 691,
    "start_time": "2021-09-17T16:51:07.701Z"
   },
   {
    "duration": 3750,
    "start_time": "2021-09-17T16:51:08.395Z"
   },
   {
    "duration": 452,
    "start_time": "2021-09-17T16:51:15.055Z"
   },
   {
    "duration": 11,
    "start_time": "2021-09-17T16:51:21.654Z"
   },
   {
    "duration": 111,
    "start_time": "2021-09-17T16:51:30.857Z"
   },
   {
    "duration": 63,
    "start_time": "2021-09-17T16:51:33.754Z"
   },
   {
    "duration": 546,
    "start_time": "2021-09-17T16:51:34.886Z"
   },
   {
    "duration": 21,
    "start_time": "2021-09-17T16:51:38.684Z"
   },
   {
    "duration": 79,
    "start_time": "2021-09-17T16:52:36.117Z"
   },
   {
    "duration": 77,
    "start_time": "2021-09-17T16:53:38.927Z"
   },
   {
    "duration": 63,
    "start_time": "2021-09-17T16:54:10.890Z"
   },
   {
    "duration": 67,
    "start_time": "2021-09-17T16:54:27.218Z"
   },
   {
    "duration": 87,
    "start_time": "2021-09-17T16:55:47.000Z"
   },
   {
    "duration": 93,
    "start_time": "2021-09-17T16:57:17.168Z"
   },
   {
    "duration": 93,
    "start_time": "2021-09-17T16:57:44.229Z"
   },
   {
    "duration": 104,
    "start_time": "2021-09-17T17:04:27.438Z"
   },
   {
    "duration": 101,
    "start_time": "2021-09-17T17:04:44.318Z"
   },
   {
    "duration": 137,
    "start_time": "2021-09-17T17:05:36.670Z"
   },
   {
    "duration": 426,
    "start_time": "2021-09-17T17:07:37.021Z"
   },
   {
    "duration": 1212,
    "start_time": "2021-09-17T17:07:53.140Z"
   },
   {
    "duration": 1234,
    "start_time": "2021-09-17T17:08:36.651Z"
   },
   {
    "duration": 440,
    "start_time": "2021-09-17T17:10:00.798Z"
   },
   {
    "duration": 7,
    "start_time": "2021-09-17T17:10:05.661Z"
   },
   {
    "duration": 6,
    "start_time": "2021-09-17T17:11:35.694Z"
   },
   {
    "duration": 356,
    "start_time": "2021-09-17T17:11:36.626Z"
   },
   {
    "duration": 19,
    "start_time": "2021-09-17T17:11:39.674Z"
   },
   {
    "duration": 5,
    "start_time": "2021-09-17T17:11:40.013Z"
   },
   {
    "duration": 400,
    "start_time": "2021-09-17T17:11:40.752Z"
   },
   {
    "duration": 28,
    "start_time": "2021-09-17T17:12:01.331Z"
   },
   {
    "duration": 416,
    "start_time": "2021-09-17T17:12:05.856Z"
   },
   {
    "duration": 40,
    "start_time": "2021-09-17T17:12:20.363Z"
   },
   {
    "duration": 484,
    "start_time": "2021-09-17T17:12:44.914Z"
   },
   {
    "duration": 2336,
    "start_time": "2021-09-17T17:13:38.555Z"
   },
   {
    "duration": 79,
    "start_time": "2021-09-17T17:13:40.893Z"
   },
   {
    "duration": 25,
    "start_time": "2021-09-17T17:13:40.975Z"
   },
   {
    "duration": 18,
    "start_time": "2021-09-17T17:13:41.002Z"
   },
   {
    "duration": 365,
    "start_time": "2021-09-17T17:13:41.022Z"
   },
   {
    "duration": 27,
    "start_time": "2021-09-17T17:13:41.389Z"
   },
   {
    "duration": 24,
    "start_time": "2021-09-17T17:13:41.419Z"
   },
   {
    "duration": 718,
    "start_time": "2021-09-17T17:13:41.447Z"
   },
   {
    "duration": 460,
    "start_time": "2021-09-17T17:13:42.169Z"
   },
   {
    "duration": 1586,
    "start_time": "2021-09-17T17:13:42.631Z"
   },
   {
    "duration": 453,
    "start_time": "2021-09-17T17:13:44.219Z"
   },
   {
    "duration": 49,
    "start_time": "2021-09-17T17:13:44.674Z"
   },
   {
    "duration": 498,
    "start_time": "2021-09-17T17:13:44.725Z"
   },
   {
    "duration": 410,
    "start_time": "2021-09-17T17:13:45.225Z"
   },
   {
    "duration": 635,
    "start_time": "2021-09-17T17:13:45.637Z"
   },
   {
    "duration": 3810,
    "start_time": "2021-09-17T17:13:46.274Z"
   },
   {
    "duration": 480,
    "start_time": "2021-09-17T17:13:50.087Z"
   },
   {
    "duration": 461,
    "start_time": "2021-09-17T17:13:50.569Z"
   },
   {
    "duration": 3893,
    "start_time": "2021-09-17T17:13:47.140Z"
   },
   {
    "duration": 3891,
    "start_time": "2021-09-17T17:13:47.143Z"
   },
   {
    "duration": 3889,
    "start_time": "2021-09-17T17:13:47.147Z"
   },
   {
    "duration": 3881,
    "start_time": "2021-09-17T17:13:47.156Z"
   },
   {
    "duration": 3878,
    "start_time": "2021-09-17T17:13:47.160Z"
   },
   {
    "duration": 3874,
    "start_time": "2021-09-17T17:13:47.166Z"
   },
   {
    "duration": 3869,
    "start_time": "2021-09-17T17:13:47.172Z"
   },
   {
    "duration": 3867,
    "start_time": "2021-09-17T17:13:47.175Z"
   },
   {
    "duration": 3865,
    "start_time": "2021-09-17T17:13:47.179Z"
   },
   {
    "duration": 3857,
    "start_time": "2021-09-17T17:13:47.188Z"
   },
   {
    "duration": 3856,
    "start_time": "2021-09-17T17:13:47.191Z"
   },
   {
    "duration": 3852,
    "start_time": "2021-09-17T17:13:47.196Z"
   },
   {
    "duration": 3849,
    "start_time": "2021-09-17T17:13:47.200Z"
   },
   {
    "duration": 3846,
    "start_time": "2021-09-17T17:13:47.205Z"
   },
   {
    "duration": 3841,
    "start_time": "2021-09-17T17:13:47.211Z"
   },
   {
    "duration": 1820,
    "start_time": "2021-09-18T15:30:12.486Z"
   },
   {
    "duration": 64,
    "start_time": "2021-09-18T15:30:14.308Z"
   },
   {
    "duration": 16,
    "start_time": "2021-09-18T15:30:14.377Z"
   },
   {
    "duration": 12,
    "start_time": "2021-09-18T15:30:14.395Z"
   },
   {
    "duration": 291,
    "start_time": "2021-09-18T15:30:14.409Z"
   },
   {
    "duration": 23,
    "start_time": "2021-09-18T15:30:14.702Z"
   },
   {
    "duration": 22,
    "start_time": "2021-09-18T15:30:14.728Z"
   },
   {
    "duration": 523,
    "start_time": "2021-09-18T15:30:14.754Z"
   },
   {
    "duration": 272,
    "start_time": "2021-09-18T15:30:15.279Z"
   },
   {
    "duration": 1067,
    "start_time": "2021-09-18T15:30:15.554Z"
   },
   {
    "duration": 286,
    "start_time": "2021-09-18T15:30:16.623Z"
   },
   {
    "duration": 42,
    "start_time": "2021-09-18T15:30:16.911Z"
   },
   {
    "duration": 307,
    "start_time": "2021-09-18T15:30:16.955Z"
   },
   {
    "duration": 250,
    "start_time": "2021-09-18T15:30:17.264Z"
   },
   {
    "duration": 501,
    "start_time": "2021-09-18T15:30:17.516Z"
   },
   {
    "duration": 2410,
    "start_time": "2021-09-18T15:30:18.018Z"
   },
   {
    "duration": 260,
    "start_time": "2021-09-18T15:30:20.430Z"
   },
   {
    "duration": 318,
    "start_time": "2021-09-18T15:30:20.692Z"
   },
   {
    "duration": -631,
    "start_time": "2021-09-18T15:30:21.643Z"
   },
   {
    "duration": -636,
    "start_time": "2021-09-18T15:30:21.649Z"
   },
   {
    "duration": -638,
    "start_time": "2021-09-18T15:30:21.652Z"
   },
   {
    "duration": -640,
    "start_time": "2021-09-18T15:30:21.655Z"
   },
   {
    "duration": -642,
    "start_time": "2021-09-18T15:30:21.658Z"
   },
   {
    "duration": -644,
    "start_time": "2021-09-18T15:30:21.661Z"
   },
   {
    "duration": -647,
    "start_time": "2021-09-18T15:30:21.665Z"
   },
   {
    "duration": -650,
    "start_time": "2021-09-18T15:30:21.669Z"
   },
   {
    "duration": -652,
    "start_time": "2021-09-18T15:30:21.672Z"
   },
   {
    "duration": -654,
    "start_time": "2021-09-18T15:30:21.675Z"
   },
   {
    "duration": -656,
    "start_time": "2021-09-18T15:30:21.678Z"
   },
   {
    "duration": -659,
    "start_time": "2021-09-18T15:30:21.682Z"
   },
   {
    "duration": -661,
    "start_time": "2021-09-18T15:30:21.685Z"
   },
   {
    "duration": -663,
    "start_time": "2021-09-18T15:30:21.688Z"
   },
   {
    "duration": -664,
    "start_time": "2021-09-18T15:30:21.690Z"
   },
   {
    "duration": 6,
    "start_time": "2021-09-18T15:37:12.884Z"
   },
   {
    "duration": 1726,
    "start_time": "2021-09-18T15:37:24.388Z"
   },
   {
    "duration": 60,
    "start_time": "2021-09-18T15:37:26.116Z"
   },
   {
    "duration": 13,
    "start_time": "2021-09-18T15:37:26.178Z"
   },
   {
    "duration": 10,
    "start_time": "2021-09-18T15:37:26.193Z"
   },
   {
    "duration": 271,
    "start_time": "2021-09-18T15:37:26.205Z"
   },
   {
    "duration": 20,
    "start_time": "2021-09-18T15:37:26.478Z"
   },
   {
    "duration": 7,
    "start_time": "2021-09-18T15:37:26.500Z"
   },
   {
    "duration": 527,
    "start_time": "2021-09-18T15:37:26.511Z"
   },
   {
    "duration": 270,
    "start_time": "2021-09-18T15:37:27.041Z"
   },
   {
    "duration": 963,
    "start_time": "2021-09-18T15:37:27.314Z"
   },
   {
    "duration": 265,
    "start_time": "2021-09-18T15:37:28.279Z"
   },
   {
    "duration": 28,
    "start_time": "2021-09-18T15:37:28.549Z"
   },
   {
    "duration": 289,
    "start_time": "2021-09-18T15:37:28.578Z"
   },
   {
    "duration": 249,
    "start_time": "2021-09-18T15:37:28.869Z"
   },
   {
    "duration": 509,
    "start_time": "2021-09-18T15:37:29.120Z"
   },
   {
    "duration": 2331,
    "start_time": "2021-09-18T15:37:29.631Z"
   },
   {
    "duration": 287,
    "start_time": "2021-09-18T15:37:31.964Z"
   },
   {
    "duration": 7,
    "start_time": "2021-09-18T15:37:32.253Z"
   },
   {
    "duration": 62,
    "start_time": "2021-09-18T15:37:32.262Z"
   },
   {
    "duration": 58,
    "start_time": "2021-09-18T15:37:32.325Z"
   },
   {
    "duration": 326,
    "start_time": "2021-09-18T15:37:32.386Z"
   },
   {
    "duration": 13,
    "start_time": "2021-09-18T15:37:32.714Z"
   },
   {
    "duration": 388,
    "start_time": "2021-09-18T15:37:32.730Z"
   },
   {
    "duration": -646,
    "start_time": "2021-09-18T15:37:33.767Z"
   },
   {
    "duration": -649,
    "start_time": "2021-09-18T15:37:33.771Z"
   },
   {
    "duration": -650,
    "start_time": "2021-09-18T15:37:33.774Z"
   },
   {
    "duration": -652,
    "start_time": "2021-09-18T15:37:33.777Z"
   },
   {
    "duration": -653,
    "start_time": "2021-09-18T15:37:33.780Z"
   },
   {
    "duration": -655,
    "start_time": "2021-09-18T15:37:33.783Z"
   },
   {
    "duration": -657,
    "start_time": "2021-09-18T15:37:33.786Z"
   },
   {
    "duration": -658,
    "start_time": "2021-09-18T15:37:33.789Z"
   },
   {
    "duration": -660,
    "start_time": "2021-09-18T15:37:33.792Z"
   },
   {
    "duration": -661,
    "start_time": "2021-09-18T15:37:33.795Z"
   },
   {
    "duration": 13,
    "start_time": "2021-09-18T15:38:44.101Z"
   },
   {
    "duration": 806,
    "start_time": "2021-09-18T15:41:33.955Z"
   },
   {
    "duration": 344,
    "start_time": "2021-09-18T15:42:32.211Z"
   },
   {
    "duration": 5,
    "start_time": "2021-09-18T15:42:32.557Z"
   },
   {
    "duration": 4,
    "start_time": "2021-09-18T15:42:36.159Z"
   },
   {
    "duration": 211,
    "start_time": "2021-09-18T15:42:36.475Z"
   },
   {
    "duration": 12,
    "start_time": "2021-09-18T15:42:37.539Z"
   },
   {
    "duration": 4,
    "start_time": "2021-09-18T15:42:37.707Z"
   },
   {
    "duration": 222,
    "start_time": "2021-09-18T15:42:37.877Z"
   },
   {
    "duration": 14,
    "start_time": "2021-09-18T15:42:38.542Z"
   },
   {
    "duration": 26,
    "start_time": "2021-09-18T15:42:42.768Z"
   },
   {
    "duration": 217,
    "start_time": "2021-09-18T15:42:43.477Z"
   },
   {
    "duration": 24,
    "start_time": "2021-09-18T15:42:56.966Z"
   },
   {
    "duration": 24,
    "start_time": "2021-09-18T15:43:15.864Z"
   },
   {
    "duration": 24,
    "start_time": "2021-09-18T15:51:37.702Z"
   },
   {
    "duration": 23,
    "start_time": "2021-09-18T15:51:47.697Z"
   },
   {
    "duration": 443,
    "start_time": "2021-09-18T19:19:35.028Z"
   },
   {
    "duration": 2368,
    "start_time": "2021-09-18T19:19:39.383Z"
   },
   {
    "duration": 80,
    "start_time": "2021-09-18T19:19:41.754Z"
   },
   {
    "duration": 28,
    "start_time": "2021-09-18T19:19:41.839Z"
   },
   {
    "duration": 18,
    "start_time": "2021-09-18T19:19:41.871Z"
   },
   {
    "duration": 351,
    "start_time": "2021-09-18T19:19:41.892Z"
   },
   {
    "duration": 41,
    "start_time": "2021-09-18T19:19:42.246Z"
   },
   {
    "duration": 12,
    "start_time": "2021-09-18T19:19:42.290Z"
   },
   {
    "duration": 789,
    "start_time": "2021-09-18T19:19:42.307Z"
   },
   {
    "duration": 471,
    "start_time": "2021-09-18T19:19:43.099Z"
   },
   {
    "duration": 5592,
    "start_time": "2021-09-18T19:19:46.512Z"
   },
   {
    "duration": 4156,
    "start_time": "2021-09-18T19:20:04.593Z"
   },
   {
    "duration": 3066,
    "start_time": "2021-09-18T19:20:59.085Z"
   },
   {
    "duration": 3024,
    "start_time": "2021-09-18T19:21:05.985Z"
   },
   {
    "duration": 823,
    "start_time": "2021-09-18T19:24:03.689Z"
   },
   {
    "duration": 73,
    "start_time": "2021-09-18T19:24:04.515Z"
   },
   {
    "duration": 20,
    "start_time": "2021-09-18T19:24:04.591Z"
   },
   {
    "duration": 24,
    "start_time": "2021-09-18T19:24:04.613Z"
   },
   {
    "duration": 548,
    "start_time": "2021-09-18T19:24:04.639Z"
   },
   {
    "duration": 26,
    "start_time": "2021-09-18T19:24:05.189Z"
   },
   {
    "duration": 22,
    "start_time": "2021-09-18T19:24:05.218Z"
   },
   {
    "duration": 841,
    "start_time": "2021-09-18T19:24:05.261Z"
   },
   {
    "duration": 501,
    "start_time": "2021-09-18T19:24:06.108Z"
   },
   {
    "duration": 4118,
    "start_time": "2021-09-18T19:24:06.612Z"
   },
   {
    "duration": 3023,
    "start_time": "2021-09-18T19:24:10.733Z"
   },
   {
    "duration": 40,
    "start_time": "2021-09-18T19:24:13.763Z"
   },
   {
    "duration": 493,
    "start_time": "2021-09-18T19:24:13.806Z"
   },
   {
    "duration": 434,
    "start_time": "2021-09-18T19:24:14.301Z"
   },
   {
    "duration": 581,
    "start_time": "2021-09-18T19:24:14.738Z"
   },
   {
    "duration": 3993,
    "start_time": "2021-09-18T19:24:15.322Z"
   },
   {
    "duration": 709,
    "start_time": "2021-09-18T19:24:19.318Z"
   },
   {
    "duration": 10,
    "start_time": "2021-09-18T19:24:20.029Z"
   },
   {
    "duration": 129,
    "start_time": "2021-09-18T19:24:20.042Z"
   },
   {
    "duration": 65,
    "start_time": "2021-09-18T19:24:20.174Z"
   },
   {
    "duration": 559,
    "start_time": "2021-09-18T19:24:20.242Z"
   },
   {
    "duration": 19,
    "start_time": "2021-09-18T19:24:20.804Z"
   },
   {
    "duration": 1270,
    "start_time": "2021-09-18T19:24:30.659Z"
   },
   {
    "duration": 1295,
    "start_time": "2021-09-18T19:26:00.235Z"
   },
   {
    "duration": 1266,
    "start_time": "2021-09-18T19:26:45.577Z"
   },
   {
    "duration": 1299,
    "start_time": "2021-09-18T19:26:56.498Z"
   },
   {
    "duration": 1408,
    "start_time": "2021-09-18T19:27:10.241Z"
   },
   {
    "duration": 1310,
    "start_time": "2021-09-18T19:27:15.025Z"
   },
   {
    "duration": 1366,
    "start_time": "2021-09-18T19:27:20.406Z"
   },
   {
    "duration": 1321,
    "start_time": "2021-09-18T19:27:24.557Z"
   },
   {
    "duration": 3899,
    "start_time": "2021-09-18T19:28:07.297Z"
   },
   {
    "duration": 1295,
    "start_time": "2021-09-18T19:28:34.315Z"
   },
   {
    "duration": 1360,
    "start_time": "2021-09-18T19:29:08.406Z"
   },
   {
    "duration": 10060,
    "start_time": "2021-09-18T19:30:02.177Z"
   },
   {
    "duration": 15072,
    "start_time": "2021-09-18T19:30:12.777Z"
   },
   {
    "duration": 1608,
    "start_time": "2021-09-18T19:31:26.989Z"
   },
   {
    "duration": 440,
    "start_time": "2021-09-18T19:32:59.500Z"
   },
   {
    "duration": 7,
    "start_time": "2021-09-18T19:33:04.186Z"
   },
   {
    "duration": 10,
    "start_time": "2021-09-18T19:33:05.768Z"
   },
   {
    "duration": 342,
    "start_time": "2021-09-18T19:37:12.184Z"
   },
   {
    "duration": 793,
    "start_time": "2021-09-18T19:37:16.430Z"
   },
   {
    "duration": 75,
    "start_time": "2021-09-18T19:37:17.226Z"
   },
   {
    "duration": 19,
    "start_time": "2021-09-18T19:37:17.304Z"
   },
   {
    "duration": 40,
    "start_time": "2021-09-18T19:37:17.327Z"
   },
   {
    "duration": 312,
    "start_time": "2021-09-18T19:37:17.370Z"
   },
   {
    "duration": 31,
    "start_time": "2021-09-18T19:37:17.685Z"
   },
   {
    "duration": 44,
    "start_time": "2021-09-18T19:37:17.718Z"
   },
   {
    "duration": 670,
    "start_time": "2021-09-18T19:37:17.767Z"
   },
   {
    "duration": 435,
    "start_time": "2021-09-18T19:37:18.440Z"
   },
   {
    "duration": 4193,
    "start_time": "2021-09-18T19:37:18.878Z"
   },
   {
    "duration": 3052,
    "start_time": "2021-09-18T19:37:23.074Z"
   },
   {
    "duration": 45,
    "start_time": "2021-09-18T19:37:26.129Z"
   },
   {
    "duration": 540,
    "start_time": "2021-09-18T19:37:26.177Z"
   },
   {
    "duration": 418,
    "start_time": "2021-09-18T19:37:26.720Z"
   },
   {
    "duration": 601,
    "start_time": "2021-09-18T19:37:27.141Z"
   },
   {
    "duration": 4163,
    "start_time": "2021-09-18T19:37:27.745Z"
   },
   {
    "duration": 472,
    "start_time": "2021-09-18T19:37:31.910Z"
   },
   {
    "duration": 8,
    "start_time": "2021-09-18T19:37:32.384Z"
   },
   {
    "duration": 125,
    "start_time": "2021-09-18T19:37:32.395Z"
   },
   {
    "duration": 74,
    "start_time": "2021-09-18T19:37:32.522Z"
   },
   {
    "duration": 529,
    "start_time": "2021-09-18T19:37:32.599Z"
   },
   {
    "duration": 1463,
    "start_time": "2021-09-18T19:37:33.131Z"
   },
   {
    "duration": 449,
    "start_time": "2021-09-18T19:37:34.599Z"
   },
   {
    "duration": 15,
    "start_time": "2021-09-18T19:37:35.051Z"
   },
   {
    "duration": 10,
    "start_time": "2021-09-18T19:37:35.068Z"
   },
   {
    "duration": 556,
    "start_time": "2021-09-18T19:37:35.081Z"
   },
   {
    "duration": 30,
    "start_time": "2021-09-18T19:37:35.640Z"
   },
   {
    "duration": 23,
    "start_time": "2021-09-18T19:37:35.672Z"
   },
   {
    "duration": 393,
    "start_time": "2021-09-18T19:37:35.697Z"
   },
   {
    "duration": 344,
    "start_time": "2021-09-18T19:37:36.093Z"
   },
   {
    "duration": 160,
    "start_time": "2021-09-18T19:37:36.281Z"
   },
   {
    "duration": 367,
    "start_time": "2021-09-18T19:37:51.861Z"
   },
   {
    "duration": 19,
    "start_time": "2021-09-18T19:37:53.871Z"
   },
   {
    "duration": 379,
    "start_time": "2021-09-18T19:37:54.762Z"
   },
   {
    "duration": 350,
    "start_time": "2021-09-18T19:38:17.212Z"
   },
   {
    "duration": 20,
    "start_time": "2021-09-18T19:38:57.042Z"
   },
   {
    "duration": 351,
    "start_time": "2021-09-18T19:39:00.521Z"
   },
   {
    "duration": 31,
    "start_time": "2021-09-18T19:42:29.337Z"
   },
   {
    "duration": 38,
    "start_time": "2021-09-18T19:42:55.357Z"
   },
   {
    "duration": 35,
    "start_time": "2021-09-18T19:45:23.859Z"
   },
   {
    "duration": 33,
    "start_time": "2021-09-18T19:46:01.197Z"
   },
   {
    "duration": 8,
    "start_time": "2021-09-18T19:47:03.230Z"
   },
   {
    "duration": 7,
    "start_time": "2021-09-18T19:47:07.170Z"
   },
   {
    "duration": 37,
    "start_time": "2021-09-18T19:47:10.437Z"
   },
   {
    "duration": 7,
    "start_time": "2021-09-18T19:49:47.811Z"
   },
   {
    "duration": 10,
    "start_time": "2021-09-18T19:49:50.709Z"
   },
   {
    "duration": 25,
    "start_time": "2021-09-18T19:50:07.580Z"
   },
   {
    "duration": 74,
    "start_time": "2021-09-18T19:51:31.300Z"
   },
   {
    "duration": 39,
    "start_time": "2021-09-18T19:51:52.074Z"
   },
   {
    "duration": 31,
    "start_time": "2021-09-18T19:52:55.627Z"
   },
   {
    "duration": 14,
    "start_time": "2021-09-18T19:55:03.059Z"
   },
   {
    "duration": 385,
    "start_time": "2021-09-18T19:55:29.391Z"
   },
   {
    "duration": 35,
    "start_time": "2021-09-18T19:55:35.341Z"
   },
   {
    "duration": 21,
    "start_time": "2021-09-18T19:56:07.729Z"
   },
   {
    "duration": 13,
    "start_time": "2021-09-18T19:57:17.912Z"
   },
   {
    "duration": 1553,
    "start_time": "2021-09-18T19:57:47.011Z"
   },
   {
    "duration": 16,
    "start_time": "2021-09-18T19:58:58.372Z"
   },
   {
    "duration": 15,
    "start_time": "2021-09-18T19:59:01.002Z"
   },
   {
    "duration": 15,
    "start_time": "2021-09-18T19:59:07.842Z"
   },
   {
    "duration": 3,
    "start_time": "2021-09-18T19:59:08.523Z"
   },
   {
    "duration": 792,
    "start_time": "2021-09-18T19:59:12.037Z"
   },
   {
    "duration": 80,
    "start_time": "2021-09-18T19:59:12.832Z"
   },
   {
    "duration": 19,
    "start_time": "2021-09-18T19:59:12.915Z"
   },
   {
    "duration": 32,
    "start_time": "2021-09-18T19:59:12.937Z"
   },
   {
    "duration": 304,
    "start_time": "2021-09-18T19:59:12.971Z"
   },
   {
    "duration": 28,
    "start_time": "2021-09-18T19:59:13.277Z"
   },
   {
    "duration": 11,
    "start_time": "2021-09-18T19:59:13.308Z"
   },
   {
    "duration": 708,
    "start_time": "2021-09-18T19:59:13.322Z"
   },
   {
    "duration": 448,
    "start_time": "2021-09-18T19:59:14.036Z"
   },
   {
    "duration": 3939,
    "start_time": "2021-09-18T19:59:14.489Z"
   },
   {
    "duration": 3006,
    "start_time": "2021-09-18T19:59:18.431Z"
   },
   {
    "duration": 46,
    "start_time": "2021-09-18T19:59:21.440Z"
   },
   {
    "duration": 505,
    "start_time": "2021-09-18T19:59:21.489Z"
   },
   {
    "duration": 528,
    "start_time": "2021-09-18T19:59:21.997Z"
   },
   {
    "duration": 697,
    "start_time": "2021-09-18T19:59:22.528Z"
   },
   {
    "duration": 3850,
    "start_time": "2021-09-18T19:59:23.228Z"
   },
   {
    "duration": 512,
    "start_time": "2021-09-18T19:59:27.081Z"
   },
   {
    "duration": 9,
    "start_time": "2021-09-18T19:59:27.595Z"
   },
   {
    "duration": 121,
    "start_time": "2021-09-18T19:59:27.606Z"
   },
   {
    "duration": 76,
    "start_time": "2021-09-18T19:59:27.729Z"
   },
   {
    "duration": 527,
    "start_time": "2021-09-18T19:59:27.807Z"
   },
   {
    "duration": 1480,
    "start_time": "2021-09-18T19:59:28.337Z"
   },
   {
    "duration": 546,
    "start_time": "2021-09-18T19:59:29.819Z"
   },
   {
    "duration": 7,
    "start_time": "2021-09-18T19:59:30.368Z"
   },
   {
    "duration": 31,
    "start_time": "2021-09-18T19:59:30.377Z"
   },
   {
    "duration": 364,
    "start_time": "2021-09-18T19:59:30.411Z"
   },
   {
    "duration": 18,
    "start_time": "2021-09-18T19:59:30.781Z"
   },
   {
    "duration": 25,
    "start_time": "2021-09-18T19:59:30.802Z"
   },
   {
    "duration": 402,
    "start_time": "2021-09-18T19:59:30.830Z"
   },
   {
    "duration": 34,
    "start_time": "2021-09-18T19:59:31.235Z"
   },
   {
    "duration": 366,
    "start_time": "2021-09-18T19:59:31.272Z"
   },
   {
    "duration": 349,
    "start_time": "2021-09-18T19:59:37.495Z"
   },
   {
    "duration": 14,
    "start_time": "2021-09-18T19:59:40.413Z"
   },
   {
    "duration": 21,
    "start_time": "2021-09-18T20:00:04.783Z"
   },
   {
    "duration": 21,
    "start_time": "2021-09-18T20:02:03.743Z"
   },
   {
    "duration": 477,
    "start_time": "2021-09-18T20:02:05.193Z"
   },
   {
    "duration": 24,
    "start_time": "2021-09-18T20:04:07.801Z"
   },
   {
    "duration": 12,
    "start_time": "2021-09-18T20:04:18.436Z"
   },
   {
    "duration": 22,
    "start_time": "2021-09-18T20:04:24.523Z"
   },
   {
    "duration": 38,
    "start_time": "2021-09-18T20:18:17.476Z"
   },
   {
    "duration": 227,
    "start_time": "2021-09-18T20:18:52.158Z"
   },
   {
    "duration": 248,
    "start_time": "2021-09-18T20:18:57.214Z"
   },
   {
    "duration": 337,
    "start_time": "2021-09-18T20:20:11.687Z"
   },
   {
    "duration": 337,
    "start_time": "2021-09-18T20:22:10.898Z"
   },
   {
    "duration": 345,
    "start_time": "2021-09-18T20:22:15.256Z"
   },
   {
    "duration": 2188,
    "start_time": "2021-09-18T20:22:27.136Z"
   },
   {
    "duration": 719,
    "start_time": "2021-09-18T20:22:43.878Z"
   },
   {
    "duration": 348,
    "start_time": "2021-09-18T20:22:51.388Z"
   },
   {
    "duration": 355,
    "start_time": "2021-09-18T20:23:29.767Z"
   },
   {
    "duration": 345,
    "start_time": "2021-09-18T20:23:50.827Z"
   },
   {
    "duration": 18,
    "start_time": "2021-09-18T20:25:21.500Z"
   },
   {
    "duration": 740,
    "start_time": "2021-09-18T20:26:06.237Z"
   },
   {
    "duration": 656,
    "start_time": "2021-09-18T20:26:22.457Z"
   },
   {
    "duration": 351,
    "start_time": "2021-09-18T20:26:33.517Z"
   },
   {
    "duration": 21,
    "start_time": "2021-09-18T20:29:10.011Z"
   },
   {
    "duration": 3,
    "start_time": "2021-09-18T20:31:44.793Z"
   },
   {
    "duration": 26,
    "start_time": "2021-09-18T20:40:41.980Z"
   },
   {
    "duration": 350,
    "start_time": "2021-09-18T20:42:08.098Z"
   },
   {
    "duration": 407,
    "start_time": "2021-09-18T20:48:30.979Z"
   },
   {
    "duration": 818,
    "start_time": "2021-09-18T20:49:41.736Z"
   },
   {
    "duration": 722,
    "start_time": "2021-09-18T20:50:03.106Z"
   },
   {
    "duration": 379,
    "start_time": "2021-09-18T20:50:22.616Z"
   },
   {
    "duration": 418,
    "start_time": "2021-09-18T20:50:32.957Z"
   },
   {
    "duration": 409,
    "start_time": "2021-09-18T20:51:21.198Z"
   },
   {
    "duration": 404,
    "start_time": "2021-09-18T20:51:33.666Z"
   },
   {
    "duration": 412,
    "start_time": "2021-09-18T20:52:10.868Z"
   },
   {
    "duration": 730,
    "start_time": "2021-09-18T20:52:23.218Z"
   },
   {
    "duration": 748,
    "start_time": "2021-09-18T20:52:31.908Z"
   },
   {
    "duration": 744,
    "start_time": "2021-09-18T20:52:48.319Z"
   },
   {
    "duration": 699,
    "start_time": "2021-09-18T20:52:51.788Z"
   },
   {
    "duration": 640,
    "start_time": "2021-09-18T20:53:13.249Z"
   },
   {
    "duration": 660,
    "start_time": "2021-09-18T20:53:54.628Z"
   },
   {
    "duration": 154,
    "start_time": "2021-09-18T20:54:40.634Z"
   },
   {
    "duration": 676,
    "start_time": "2021-09-18T20:54:45.510Z"
   },
   {
    "duration": 763,
    "start_time": "2021-09-18T20:54:48.860Z"
   },
   {
    "duration": 315,
    "start_time": "2021-09-18T20:55:00.421Z"
   },
   {
    "duration": 312,
    "start_time": "2021-09-18T20:55:27.437Z"
   },
   {
    "duration": 245,
    "start_time": "2021-09-18T20:56:21.343Z"
   },
   {
    "duration": 327,
    "start_time": "2021-09-18T20:56:29.980Z"
   },
   {
    "duration": 551,
    "start_time": "2021-09-18T20:57:47.322Z"
   },
   {
    "duration": 325,
    "start_time": "2021-09-18T20:58:36.945Z"
   },
   {
    "duration": 327,
    "start_time": "2021-09-18T20:59:19.674Z"
   },
   {
    "duration": 326,
    "start_time": "2021-09-18T20:59:27.622Z"
   },
   {
    "duration": 334,
    "start_time": "2021-09-18T20:59:33.734Z"
   },
   {
    "duration": 337,
    "start_time": "2021-09-18T20:59:51.272Z"
   },
   {
    "duration": 983,
    "start_time": "2021-09-18T21:00:11.703Z"
   },
   {
    "duration": 250,
    "start_time": "2021-09-18T21:03:50.666Z"
   },
   {
    "duration": 388,
    "start_time": "2021-09-18T21:08:47.333Z"
   },
   {
    "duration": 368,
    "start_time": "2021-09-18T21:08:50.278Z"
   },
   {
    "duration": 373,
    "start_time": "2021-09-18T21:10:03.751Z"
   },
   {
    "duration": 374,
    "start_time": "2021-09-18T21:10:09.919Z"
   },
   {
    "duration": 374,
    "start_time": "2021-09-18T21:10:19.899Z"
   },
   {
    "duration": 375,
    "start_time": "2021-09-18T21:11:33.131Z"
   },
   {
    "duration": 408,
    "start_time": "2021-09-18T21:14:18.932Z"
   },
   {
    "duration": 382,
    "start_time": "2021-09-18T21:14:31.909Z"
   },
   {
    "duration": 405,
    "start_time": "2021-09-18T21:16:26.043Z"
   },
   {
    "duration": 432,
    "start_time": "2021-09-18T21:16:57.075Z"
   },
   {
    "duration": 548,
    "start_time": "2021-09-18T21:17:01.064Z"
   },
   {
    "duration": 25,
    "start_time": "2021-09-18T21:17:30.135Z"
   },
   {
    "duration": 84,
    "start_time": "2021-09-18T21:18:57.725Z"
   },
   {
    "duration": 405,
    "start_time": "2021-09-18T21:23:56.167Z"
   },
   {
    "duration": 444,
    "start_time": "2021-09-18T21:25:47.729Z"
   },
   {
    "duration": 552,
    "start_time": "2021-09-18T21:26:15.031Z"
   },
   {
    "duration": 482,
    "start_time": "2021-09-18T21:28:03.442Z"
   },
   {
    "duration": 480,
    "start_time": "2021-09-18T21:28:47.255Z"
   },
   {
    "duration": 473,
    "start_time": "2021-09-18T21:29:36.605Z"
   },
   {
    "duration": 470,
    "start_time": "2021-09-18T21:30:34.946Z"
   },
   {
    "duration": 459,
    "start_time": "2021-09-18T21:31:26.708Z"
   },
   {
    "duration": 138,
    "start_time": "2021-09-18T21:34:01.413Z"
   },
   {
    "duration": 110,
    "start_time": "2021-09-18T21:34:17.118Z"
   },
   {
    "duration": 468,
    "start_time": "2021-09-18T21:34:36.220Z"
   },
   {
    "duration": 593,
    "start_time": "2021-09-18T21:43:42.014Z"
   },
   {
    "duration": 866,
    "start_time": "2021-09-18T21:53:01.558Z"
   },
   {
    "duration": 457,
    "start_time": "2021-09-18T21:53:13.335Z"
   },
   {
    "duration": 793,
    "start_time": "2021-09-18T21:54:05.372Z"
   },
   {
    "duration": 769,
    "start_time": "2021-09-18T21:54:15.157Z"
   },
   {
    "duration": 765,
    "start_time": "2021-09-18T21:54:18.756Z"
   },
   {
    "duration": 454,
    "start_time": "2021-09-18T21:54:38.426Z"
   },
   {
    "duration": 457,
    "start_time": "2021-09-18T21:54:56.207Z"
   },
   {
    "duration": 469,
    "start_time": "2021-09-18T21:55:44.268Z"
   },
   {
    "duration": 44,
    "start_time": "2021-09-18T21:56:41.543Z"
   },
   {
    "duration": 464,
    "start_time": "2021-09-18T21:56:43.678Z"
   },
   {
    "duration": 802,
    "start_time": "2021-09-18T21:57:48.301Z"
   },
   {
    "duration": 465,
    "start_time": "2021-09-18T21:57:54.150Z"
   },
   {
    "duration": 470,
    "start_time": "2021-09-18T22:00:10.172Z"
   },
   {
    "duration": 1431,
    "start_time": "2021-09-18T22:01:35.263Z"
   },
   {
    "duration": 1496,
    "start_time": "2021-09-18T22:02:01.404Z"
   },
   {
    "duration": 1422,
    "start_time": "2021-09-18T22:02:09.464Z"
   },
   {
    "duration": 1501,
    "start_time": "2021-09-18T22:02:25.823Z"
   },
   {
    "duration": 349,
    "start_time": "2021-09-18T22:05:01.757Z"
   },
   {
    "duration": 35,
    "start_time": "2021-09-18T22:05:14.783Z"
   },
   {
    "duration": 451,
    "start_time": "2021-09-18T22:05:26.906Z"
   },
   {
    "duration": 16,
    "start_time": "2021-09-18T22:06:50.226Z"
   },
   {
    "duration": 5,
    "start_time": "2021-09-18T22:06:50.635Z"
   },
   {
    "duration": 406,
    "start_time": "2021-09-18T22:06:51.396Z"
   },
   {
    "duration": 436,
    "start_time": "2021-09-18T22:07:32.238Z"
   },
   {
    "duration": 447,
    "start_time": "2021-09-18T22:07:37.875Z"
   },
   {
    "duration": 20,
    "start_time": "2021-09-18T22:08:05.746Z"
   },
   {
    "duration": 398,
    "start_time": "2021-09-18T22:08:23.636Z"
   },
   {
    "duration": 465,
    "start_time": "2021-09-18T22:08:27.437Z"
   },
   {
    "duration": 357,
    "start_time": "2021-09-18T22:08:53.767Z"
   },
   {
    "duration": 974,
    "start_time": "2021-09-18T22:12:11.768Z"
   },
   {
    "duration": 353,
    "start_time": "2021-09-18T22:12:21.270Z"
   },
   {
    "duration": 759,
    "start_time": "2021-09-18T22:16:32.152Z"
   },
   {
    "duration": 73,
    "start_time": "2021-09-18T22:16:32.913Z"
   },
   {
    "duration": 21,
    "start_time": "2021-09-18T22:16:34.005Z"
   },
   {
    "duration": 17,
    "start_time": "2021-09-18T22:16:35.744Z"
   },
   {
    "duration": 19,
    "start_time": "2021-09-18T22:16:44.764Z"
   },
   {
    "duration": 17,
    "start_time": "2021-09-18T22:16:47.994Z"
   },
   {
    "duration": 303,
    "start_time": "2021-09-18T22:16:50.724Z"
   },
   {
    "duration": 28,
    "start_time": "2021-09-18T22:16:53.914Z"
   },
   {
    "duration": 13,
    "start_time": "2021-09-18T22:16:55.183Z"
   },
   {
    "duration": 710,
    "start_time": "2021-09-18T22:17:00.236Z"
   },
   {
    "duration": 431,
    "start_time": "2021-09-18T22:17:03.543Z"
   },
   {
    "duration": 3866,
    "start_time": "2021-09-18T22:17:06.712Z"
   },
   {
    "duration": 10849,
    "start_time": "2021-09-18T22:18:06.725Z"
   },
   {
    "duration": 757,
    "start_time": "2021-09-18T22:18:28.509Z"
   },
   {
    "duration": 73,
    "start_time": "2021-09-18T22:18:29.269Z"
   },
   {
    "duration": 33,
    "start_time": "2021-09-18T22:18:29.345Z"
   },
   {
    "duration": 19,
    "start_time": "2021-09-18T22:18:29.380Z"
   },
   {
    "duration": 318,
    "start_time": "2021-09-18T22:18:29.401Z"
   },
   {
    "duration": 27,
    "start_time": "2021-09-18T22:18:29.721Z"
   },
   {
    "duration": 12,
    "start_time": "2021-09-18T22:18:29.762Z"
   },
   {
    "duration": 855,
    "start_time": "2021-09-18T22:18:29.778Z"
   },
   {
    "duration": 453,
    "start_time": "2021-09-18T22:18:30.635Z"
   },
   {
    "duration": 4087,
    "start_time": "2021-09-18T22:18:31.091Z"
   },
   {
    "duration": 3026,
    "start_time": "2021-09-18T22:18:35.180Z"
   },
   {
    "duration": 41,
    "start_time": "2021-09-18T22:18:38.208Z"
   },
   {
    "duration": 474,
    "start_time": "2021-09-18T22:18:38.262Z"
   },
   {
    "duration": 413,
    "start_time": "2021-09-18T22:18:38.738Z"
   },
   {
    "duration": 545,
    "start_time": "2021-09-18T22:18:39.153Z"
   },
   {
    "duration": 4056,
    "start_time": "2021-09-18T22:18:39.701Z"
   },
   {
    "duration": 3100,
    "start_time": "2021-09-18T22:18:46.786Z"
   },
   {
    "duration": 13,
    "start_time": "2021-09-18T22:18:53.447Z"
   },
   {
    "duration": 100,
    "start_time": "2021-09-18T22:18:56.366Z"
   },
   {
    "duration": 65,
    "start_time": "2021-09-18T22:19:00.155Z"
   },
   {
    "duration": 563,
    "start_time": "2021-09-18T22:19:01.864Z"
   },
   {
    "duration": 1646,
    "start_time": "2021-09-18T22:19:11.436Z"
   },
   {
    "duration": 438,
    "start_time": "2021-09-18T22:19:32.094Z"
   },
   {
    "duration": 10275,
    "start_time": "2021-09-18T22:20:22.554Z"
   },
   {
    "duration": 12517,
    "start_time": "2021-09-18T22:20:34.378Z"
   },
   {
    "duration": 760,
    "start_time": "2021-09-18T22:20:51.345Z"
   },
   {
    "duration": 78,
    "start_time": "2021-09-18T22:20:52.108Z"
   },
   {
    "duration": 19,
    "start_time": "2021-09-18T22:20:52.190Z"
   },
   {
    "duration": 16,
    "start_time": "2021-09-18T22:20:52.212Z"
   },
   {
    "duration": 346,
    "start_time": "2021-09-18T22:20:52.231Z"
   },
   {
    "duration": 29,
    "start_time": "2021-09-18T22:20:52.580Z"
   },
   {
    "duration": 11,
    "start_time": "2021-09-18T22:20:52.612Z"
   },
   {
    "duration": 725,
    "start_time": "2021-09-18T22:20:52.625Z"
   },
   {
    "duration": 490,
    "start_time": "2021-09-18T22:20:53.354Z"
   },
   {
    "duration": 4118,
    "start_time": "2021-09-18T22:20:53.847Z"
   },
   {
    "duration": 3023,
    "start_time": "2021-09-18T22:20:57.969Z"
   },
   {
    "duration": 42,
    "start_time": "2021-09-18T22:21:00.995Z"
   },
   {
    "duration": 519,
    "start_time": "2021-09-18T22:21:01.040Z"
   },
   {
    "duration": 517,
    "start_time": "2021-09-18T22:21:01.561Z"
   },
   {
    "duration": 563,
    "start_time": "2021-09-18T22:21:02.081Z"
   },
   {
    "duration": 3861,
    "start_time": "2021-09-18T22:21:02.647Z"
   },
   {
    "duration": 2973,
    "start_time": "2021-09-18T22:21:06.511Z"
   },
   {
    "duration": 8,
    "start_time": "2021-09-18T22:21:09.486Z"
   },
   {
    "duration": 121,
    "start_time": "2021-09-18T22:21:09.497Z"
   },
   {
    "duration": 74,
    "start_time": "2021-09-18T22:21:09.621Z"
   },
   {
    "duration": 528,
    "start_time": "2021-09-18T22:21:09.697Z"
   },
   {
    "duration": 1483,
    "start_time": "2021-09-18T22:21:10.227Z"
   },
   {
    "duration": 11090,
    "start_time": "2021-09-18T22:21:11.714Z"
   },
   {
    "duration": 432,
    "start_time": "2021-09-18T22:21:41.639Z"
   },
   {
    "duration": 6,
    "start_time": "2021-09-18T22:22:09.469Z"
   },
   {
    "duration": 5,
    "start_time": "2021-09-18T22:22:39.379Z"
   },
   {
    "duration": 359,
    "start_time": "2021-09-18T22:22:39.809Z"
   },
   {
    "duration": 18,
    "start_time": "2021-09-18T22:22:46.770Z"
   },
   {
    "duration": 5,
    "start_time": "2021-09-18T22:22:47.499Z"
   },
   {
    "duration": 397,
    "start_time": "2021-09-18T22:22:48.969Z"
   },
   {
    "duration": 450,
    "start_time": "2021-09-18T22:22:53.559Z"
   },
   {
    "duration": 452,
    "start_time": "2021-09-18T22:22:56.930Z"
   },
   {
    "duration": 1173,
    "start_time": "2021-09-18T22:23:00.810Z"
   },
   {
    "duration": 2308,
    "start_time": "2021-09-19T17:09:28.078Z"
   },
   {
    "duration": 76,
    "start_time": "2021-09-19T17:09:30.389Z"
   },
   {
    "duration": 18,
    "start_time": "2021-09-19T17:09:30.469Z"
   },
   {
    "duration": 22,
    "start_time": "2021-09-19T17:09:30.490Z"
   },
   {
    "duration": 359,
    "start_time": "2021-09-19T17:09:30.514Z"
   },
   {
    "duration": 28,
    "start_time": "2021-09-19T17:09:30.876Z"
   },
   {
    "duration": 11,
    "start_time": "2021-09-19T17:09:30.907Z"
   },
   {
    "duration": 853,
    "start_time": "2021-09-19T17:09:30.923Z"
   },
   {
    "duration": 464,
    "start_time": "2021-09-19T17:09:31.779Z"
   },
   {
    "duration": 4384,
    "start_time": "2021-09-19T17:09:32.246Z"
   },
   {
    "duration": 3392,
    "start_time": "2021-09-19T17:09:36.633Z"
   },
   {
    "duration": 53,
    "start_time": "2021-09-19T17:09:40.028Z"
   },
   {
    "duration": 512,
    "start_time": "2021-09-19T17:09:40.084Z"
   },
   {
    "duration": 440,
    "start_time": "2021-09-19T17:09:40.598Z"
   },
   {
    "duration": 689,
    "start_time": "2021-09-19T17:09:41.041Z"
   },
   {
    "duration": 4351,
    "start_time": "2021-09-19T17:09:41.732Z"
   },
   {
    "duration": 3338,
    "start_time": "2021-09-19T17:09:46.087Z"
   },
   {
    "duration": 9,
    "start_time": "2021-09-19T17:09:49.429Z"
   },
   {
    "duration": 126,
    "start_time": "2021-09-19T17:09:49.441Z"
   },
   {
    "duration": 62,
    "start_time": "2021-09-19T17:09:49.570Z"
   },
   {
    "duration": 578,
    "start_time": "2021-09-19T17:09:49.635Z"
   },
   {
    "duration": 1519,
    "start_time": "2021-09-19T17:09:50.217Z"
   },
   {
    "duration": 432,
    "start_time": "2021-09-19T17:09:51.742Z"
   },
   {
    "duration": 6,
    "start_time": "2021-09-19T17:09:52.178Z"
   },
   {
    "duration": 16,
    "start_time": "2021-09-19T17:09:52.188Z"
   },
   {
    "duration": 417,
    "start_time": "2021-09-19T17:09:52.207Z"
   },
   {
    "duration": 19,
    "start_time": "2021-09-19T17:09:52.626Z"
   },
   {
    "duration": 18,
    "start_time": "2021-09-19T17:09:52.648Z"
   },
   {
    "duration": 417,
    "start_time": "2021-09-19T17:09:52.668Z"
   },
   {
    "duration": 775,
    "start_time": "2021-09-19T17:09:53.087Z"
   },
   {
    "duration": -1586,
    "start_time": "2021-09-19T17:09:55.451Z"
   },
   {
    "duration": -1588,
    "start_time": "2021-09-19T17:09:55.454Z"
   },
   {
    "duration": -1592,
    "start_time": "2021-09-19T17:09:55.459Z"
   },
   {
    "duration": 2413,
    "start_time": "2021-09-19T21:05:18.648Z"
   },
   {
    "duration": 92,
    "start_time": "2021-09-19T21:05:21.064Z"
   },
   {
    "duration": 20,
    "start_time": "2021-09-19T21:05:21.159Z"
   },
   {
    "duration": 18,
    "start_time": "2021-09-19T21:05:21.181Z"
   },
   {
    "duration": 373,
    "start_time": "2021-09-19T21:05:21.201Z"
   },
   {
    "duration": 45,
    "start_time": "2021-09-19T21:05:21.578Z"
   },
   {
    "duration": 38,
    "start_time": "2021-09-19T21:05:21.627Z"
   },
   {
    "duration": 1084,
    "start_time": "2021-09-19T21:05:21.672Z"
   },
   {
    "duration": 690,
    "start_time": "2021-09-19T21:05:22.760Z"
   },
   {
    "duration": 7368,
    "start_time": "2021-09-19T21:05:23.457Z"
   },
   {
    "duration": 5821,
    "start_time": "2021-09-19T21:05:30.829Z"
   },
   {
    "duration": 101,
    "start_time": "2021-09-19T21:05:36.657Z"
   },
   {
    "duration": 799,
    "start_time": "2021-09-19T21:05:36.761Z"
   },
   {
    "duration": 651,
    "start_time": "2021-09-19T21:05:37.564Z"
   },
   {
    "duration": 1083,
    "start_time": "2021-09-19T21:05:38.219Z"
   },
   {
    "duration": 3824,
    "start_time": "2021-09-19T21:05:39.305Z"
   },
   {
    "duration": 3079,
    "start_time": "2021-09-19T21:05:43.133Z"
   },
   {
    "duration": 9,
    "start_time": "2021-09-19T21:05:46.214Z"
   },
   {
    "duration": 130,
    "start_time": "2021-09-19T21:05:46.226Z"
   },
   {
    "duration": 63,
    "start_time": "2021-09-19T21:05:46.358Z"
   },
   {
    "duration": 558,
    "start_time": "2021-09-19T21:05:46.424Z"
   },
   {
    "duration": 1503,
    "start_time": "2021-09-19T21:05:46.984Z"
   },
   {
    "duration": 443,
    "start_time": "2021-09-19T21:05:48.491Z"
   },
   {
    "duration": 20,
    "start_time": "2021-09-19T21:05:48.937Z"
   },
   {
    "duration": 12,
    "start_time": "2021-09-19T21:05:48.959Z"
   },
   {
    "duration": 374,
    "start_time": "2021-09-19T21:05:48.974Z"
   },
   {
    "duration": 17,
    "start_time": "2021-09-19T21:05:49.355Z"
   },
   {
    "duration": 6,
    "start_time": "2021-09-19T21:05:49.375Z"
   },
   {
    "duration": 529,
    "start_time": "2021-09-19T21:05:49.383Z"
   },
   {
    "duration": 698,
    "start_time": "2021-09-19T21:05:53.789Z"
   },
   {
    "duration": 704,
    "start_time": "2021-09-19T21:06:13.166Z"
   },
   {
    "duration": 722,
    "start_time": "2021-09-19T21:06:23.907Z"
   },
   {
    "duration": 760,
    "start_time": "2021-09-19T21:06:47.007Z"
   },
   {
    "duration": 551,
    "start_time": "2021-09-19T21:06:53.748Z"
   },
   {
    "duration": 450,
    "start_time": "2021-09-19T21:06:58.418Z"
   },
   {
    "duration": 466,
    "start_time": "2021-09-19T21:08:14.938Z"
   },
   {
    "duration": 373,
    "start_time": "2021-09-19T21:09:03.130Z"
   },
   {
    "duration": 1203,
    "start_time": "2021-09-19T21:09:16.029Z"
   },
   {
    "duration": 366,
    "start_time": "2021-09-19T21:09:23.388Z"
   },
   {
    "duration": 457,
    "start_time": "2021-09-19T21:09:34.060Z"
   },
   {
    "duration": 373,
    "start_time": "2021-09-19T21:10:40.168Z"
   },
   {
    "duration": 997,
    "start_time": "2021-09-19T21:10:42.138Z"
   },
   {
    "duration": 382,
    "start_time": "2021-09-19T21:10:48.519Z"
   },
   {
    "duration": 2439,
    "start_time": "2021-09-19T21:11:00.437Z"
   },
   {
    "duration": 103,
    "start_time": "2021-09-19T21:11:02.879Z"
   },
   {
    "duration": 31,
    "start_time": "2021-09-19T21:11:02.987Z"
   },
   {
    "duration": 46,
    "start_time": "2021-09-19T21:11:03.023Z"
   },
   {
    "duration": 554,
    "start_time": "2021-09-19T21:11:03.072Z"
   },
   {
    "duration": 55,
    "start_time": "2021-09-19T21:11:03.629Z"
   },
   {
    "duration": 15,
    "start_time": "2021-09-19T21:11:03.687Z"
   },
   {
    "duration": 1088,
    "start_time": "2021-09-19T21:11:03.708Z"
   },
   {
    "duration": 695,
    "start_time": "2021-09-19T21:11:04.801Z"
   },
   {
    "duration": 4183,
    "start_time": "2021-09-19T21:11:05.500Z"
   },
   {
    "duration": 3118,
    "start_time": "2021-09-19T21:11:09.686Z"
   },
   {
    "duration": 55,
    "start_time": "2021-09-19T21:11:12.807Z"
   },
   {
    "duration": 485,
    "start_time": "2021-09-19T21:11:12.864Z"
   },
   {
    "duration": 412,
    "start_time": "2021-09-19T21:11:13.356Z"
   },
   {
    "duration": 718,
    "start_time": "2021-09-19T21:11:13.770Z"
   },
   {
    "duration": 3879,
    "start_time": "2021-09-19T21:11:14.490Z"
   },
   {
    "duration": 3116,
    "start_time": "2021-09-19T21:11:18.372Z"
   },
   {
    "duration": 9,
    "start_time": "2021-09-19T21:11:21.491Z"
   },
   {
    "duration": 139,
    "start_time": "2021-09-19T21:11:21.502Z"
   },
   {
    "duration": 72,
    "start_time": "2021-09-19T21:11:21.644Z"
   },
   {
    "duration": 550,
    "start_time": "2021-09-19T21:11:21.719Z"
   },
   {
    "duration": 1476,
    "start_time": "2021-09-19T21:11:22.271Z"
   },
   {
    "duration": 444,
    "start_time": "2021-09-19T21:11:23.759Z"
   },
   {
    "duration": 7,
    "start_time": "2021-09-19T21:11:24.206Z"
   },
   {
    "duration": 10,
    "start_time": "2021-09-19T21:11:24.215Z"
   },
   {
    "duration": 394,
    "start_time": "2021-09-19T21:11:24.227Z"
   },
   {
    "duration": 34,
    "start_time": "2021-09-19T21:11:24.625Z"
   },
   {
    "duration": 6,
    "start_time": "2021-09-19T21:11:24.662Z"
   },
   {
    "duration": 418,
    "start_time": "2021-09-19T21:11:24.671Z"
   },
   {
    "duration": 465,
    "start_time": "2021-09-19T21:11:25.092Z"
   },
   {
    "duration": 408,
    "start_time": "2021-09-19T21:11:25.560Z"
   },
   {
    "duration": 1188,
    "start_time": "2021-09-19T21:11:25.970Z"
   },
   {
    "duration": 377,
    "start_time": "2021-09-19T21:11:27.161Z"
   },
   {
    "duration": 2255,
    "start_time": "2021-09-20T18:17:53.724Z"
   },
   {
    "duration": 97,
    "start_time": "2021-09-20T18:17:55.981Z"
   },
   {
    "duration": 18,
    "start_time": "2021-09-20T18:17:56.081Z"
   },
   {
    "duration": 13,
    "start_time": "2021-09-20T18:17:56.101Z"
   },
   {
    "duration": 311,
    "start_time": "2021-09-20T18:17:56.116Z"
   },
   {
    "duration": 27,
    "start_time": "2021-09-20T18:17:56.428Z"
   },
   {
    "duration": 7,
    "start_time": "2021-09-20T18:17:56.456Z"
   },
   {
    "duration": 513,
    "start_time": "2021-09-20T18:17:56.466Z"
   },
   {
    "duration": 258,
    "start_time": "2021-09-20T18:17:56.981Z"
   },
   {
    "duration": 2436,
    "start_time": "2021-09-20T18:17:57.240Z"
   },
   {
    "duration": 1962,
    "start_time": "2021-09-20T18:17:59.678Z"
   },
   {
    "duration": 32,
    "start_time": "2021-09-20T18:18:01.642Z"
   },
   {
    "duration": 288,
    "start_time": "2021-09-20T18:18:01.677Z"
   },
   {
    "duration": 257,
    "start_time": "2021-09-20T18:18:01.967Z"
   },
   {
    "duration": 550,
    "start_time": "2021-09-20T18:18:02.227Z"
   },
   {
    "duration": 2416,
    "start_time": "2021-09-20T18:18:02.778Z"
   },
   {
    "duration": 2039,
    "start_time": "2021-09-20T18:18:05.196Z"
   },
   {
    "duration": 13,
    "start_time": "2021-09-20T18:18:07.236Z"
   },
   {
    "duration": 65,
    "start_time": "2021-09-20T18:18:07.251Z"
   },
   {
    "duration": 50,
    "start_time": "2021-09-20T18:18:07.318Z"
   },
   {
    "duration": 318,
    "start_time": "2021-09-20T18:18:07.369Z"
   },
   {
    "duration": 917,
    "start_time": "2021-09-20T18:18:07.688Z"
   },
   {
    "duration": 246,
    "start_time": "2021-09-20T18:18:08.608Z"
   },
   {
    "duration": 5,
    "start_time": "2021-09-20T18:18:08.856Z"
   },
   {
    "duration": 6,
    "start_time": "2021-09-20T18:18:08.863Z"
   },
   {
    "duration": 234,
    "start_time": "2021-09-20T18:18:08.870Z"
   },
   {
    "duration": 13,
    "start_time": "2021-09-20T18:18:09.106Z"
   },
   {
    "duration": 5,
    "start_time": "2021-09-20T18:18:09.121Z"
   },
   {
    "duration": 237,
    "start_time": "2021-09-20T18:18:09.127Z"
   },
   {
    "duration": 324,
    "start_time": "2021-09-20T18:18:09.366Z"
   },
   {
    "duration": 211,
    "start_time": "2021-09-20T18:18:09.692Z"
   },
   {
    "duration": 1049,
    "start_time": "2021-09-20T18:18:09.905Z"
   },
   {
    "duration": 311,
    "start_time": "2021-09-20T18:18:10.957Z"
   },
   {
    "duration": 25,
    "start_time": "2021-09-20T18:21:11.289Z"
   },
   {
    "duration": 336,
    "start_time": "2021-09-20T18:21:37.136Z"
   },
   {
    "duration": 20,
    "start_time": "2021-09-20T18:21:50.426Z"
   },
   {
    "duration": 5,
    "start_time": "2021-09-20T18:25:54.434Z"
   },
   {
    "duration": 5,
    "start_time": "2021-09-20T18:26:25.239Z"
   },
   {
    "duration": 12,
    "start_time": "2021-09-20T18:26:33.072Z"
   },
   {
    "duration": 10,
    "start_time": "2021-09-20T18:27:00.274Z"
   },
   {
    "duration": 13,
    "start_time": "2021-09-20T18:27:26.947Z"
   },
   {
    "duration": 9,
    "start_time": "2021-09-20T18:27:46.808Z"
   },
   {
    "duration": 7,
    "start_time": "2021-09-20T18:27:54.032Z"
   },
   {
    "duration": 14,
    "start_time": "2021-09-20T18:27:57.589Z"
   },
   {
    "duration": 21,
    "start_time": "2021-09-20T18:28:30.869Z"
   },
   {
    "duration": 7,
    "start_time": "2021-09-20T18:28:59.798Z"
   },
   {
    "duration": 25,
    "start_time": "2021-09-20T18:29:02.439Z"
   },
   {
    "duration": 25,
    "start_time": "2021-09-20T18:29:25.646Z"
   },
   {
    "duration": 20,
    "start_time": "2021-09-20T18:29:44.308Z"
   },
   {
    "duration": 25,
    "start_time": "2021-09-20T18:30:49.674Z"
   },
   {
    "duration": 13,
    "start_time": "2021-09-20T18:30:57.286Z"
   },
   {
    "duration": 27,
    "start_time": "2021-09-20T18:30:57.470Z"
   },
   {
    "duration": 23,
    "start_time": "2021-09-20T18:31:44.318Z"
   },
   {
    "duration": 21,
    "start_time": "2021-09-20T18:35:52.530Z"
   },
   {
    "duration": 308,
    "start_time": "2021-09-20T18:45:51.706Z"
   },
   {
    "duration": 13,
    "start_time": "2021-09-20T18:46:09.118Z"
   },
   {
    "duration": 211,
    "start_time": "2021-09-20T18:46:21.442Z"
   },
   {
    "duration": 623,
    "start_time": "2021-09-20T18:46:24.869Z"
   },
   {
    "duration": 9,
    "start_time": "2021-09-20T18:46:56.999Z"
   },
   {
    "duration": 22,
    "start_time": "2021-09-20T18:49:49.013Z"
   },
   {
    "duration": 18,
    "start_time": "2021-09-20T18:50:15.329Z"
   },
   {
    "duration": 14,
    "start_time": "2021-09-20T18:50:44.420Z"
   },
   {
    "duration": 19,
    "start_time": "2021-09-20T18:50:54.195Z"
   },
   {
    "duration": 14,
    "start_time": "2021-09-20T18:51:12.360Z"
   },
   {
    "duration": 16,
    "start_time": "2021-09-20T18:53:04.536Z"
   },
   {
    "duration": 28,
    "start_time": "2021-09-20T18:57:59.479Z"
   },
   {
    "duration": 27,
    "start_time": "2021-09-20T18:58:05.660Z"
   },
   {
    "duration": 33,
    "start_time": "2021-09-20T18:58:35.139Z"
   },
   {
    "duration": 28,
    "start_time": "2021-09-20T18:58:47.992Z"
   },
   {
    "duration": 21,
    "start_time": "2021-09-20T18:59:21.724Z"
   },
   {
    "duration": 20,
    "start_time": "2021-09-20T18:59:43.414Z"
   },
   {
    "duration": 21,
    "start_time": "2021-09-20T19:00:37.815Z"
   },
   {
    "duration": 21,
    "start_time": "2021-09-20T19:00:58.939Z"
   },
   {
    "duration": 18,
    "start_time": "2021-09-20T19:01:28.453Z"
   },
   {
    "duration": 8,
    "start_time": "2021-09-20T19:01:46.605Z"
   },
   {
    "duration": 695,
    "start_time": "2021-09-20T19:03:25.469Z"
   },
   {
    "duration": 456,
    "start_time": "2021-09-20T19:03:33.639Z"
   },
   {
    "duration": 9,
    "start_time": "2021-09-20T19:03:41.022Z"
   },
   {
    "duration": 233,
    "start_time": "2021-09-20T19:03:56.563Z"
   },
   {
    "duration": 12,
    "start_time": "2021-09-20T19:03:59.558Z"
   },
   {
    "duration": 262,
    "start_time": "2021-09-20T19:04:20.427Z"
   },
   {
    "duration": 275,
    "start_time": "2021-09-20T19:04:29.777Z"
   },
   {
    "duration": 294,
    "start_time": "2021-09-20T19:04:33.166Z"
   },
   {
    "duration": 311,
    "start_time": "2021-09-20T19:04:44.249Z"
   },
   {
    "duration": 681,
    "start_time": "2021-09-20T19:05:10.343Z"
   },
   {
    "duration": 1370,
    "start_time": "2021-09-20T19:05:20.507Z"
   },
   {
    "duration": 318,
    "start_time": "2021-09-20T19:05:28.371Z"
   },
   {
    "duration": 16,
    "start_time": "2021-09-20T19:06:30.986Z"
   },
   {
    "duration": 17,
    "start_time": "2021-09-20T19:06:57.641Z"
   },
   {
    "duration": 315,
    "start_time": "2021-09-20T19:08:21.514Z"
   },
   {
    "duration": 309,
    "start_time": "2021-09-20T19:08:35.440Z"
   },
   {
    "duration": 358,
    "start_time": "2021-09-20T19:24:30.148Z"
   },
   {
    "duration": 111,
    "start_time": "2021-09-20T19:24:42.789Z"
   },
   {
    "duration": 205,
    "start_time": "2021-09-20T19:26:04.332Z"
   },
   {
    "duration": 216,
    "start_time": "2021-09-20T19:26:11.091Z"
   },
   {
    "duration": 5,
    "start_time": "2021-09-20T19:26:29.513Z"
   },
   {
    "duration": 206,
    "start_time": "2021-09-20T19:26:33.438Z"
   },
   {
    "duration": 15,
    "start_time": "2021-09-20T19:26:43.566Z"
   },
   {
    "duration": 2824,
    "start_time": "2021-09-20T19:26:58.286Z"
   },
   {
    "duration": 8,
    "start_time": "2021-09-20T19:27:16.377Z"
   },
   {
    "duration": 662,
    "start_time": "2021-09-20T19:27:46.381Z"
   },
   {
    "duration": 13,
    "start_time": "2021-09-20T19:27:54.373Z"
   },
   {
    "duration": 10,
    "start_time": "2021-09-20T19:28:17.504Z"
   },
   {
    "duration": 10,
    "start_time": "2021-09-20T19:28:30.069Z"
   },
   {
    "duration": 591,
    "start_time": "2021-09-20T19:28:36.201Z"
   },
   {
    "duration": 681,
    "start_time": "2021-09-20T19:29:06.475Z"
   },
   {
    "duration": 5,
    "start_time": "2021-09-20T19:32:38.695Z"
   },
   {
    "duration": 312,
    "start_time": "2021-09-20T19:33:27.897Z"
   },
   {
    "duration": 240,
    "start_time": "2021-09-20T19:33:39.682Z"
   },
   {
    "duration": 305,
    "start_time": "2021-09-20T19:33:51.541Z"
   },
   {
    "duration": 71,
    "start_time": "2021-09-20T19:35:02.879Z"
   },
   {
    "duration": 50,
    "start_time": "2021-09-20T19:37:25.088Z"
   },
   {
    "duration": 30,
    "start_time": "2021-09-20T19:37:37.307Z"
   },
   {
    "duration": 11,
    "start_time": "2021-09-20T19:37:46.667Z"
   },
   {
    "duration": 633,
    "start_time": "2021-09-20T19:38:45.254Z"
   },
   {
    "duration": 688,
    "start_time": "2021-09-20T19:38:57.261Z"
   },
   {
    "duration": 49,
    "start_time": "2021-09-20T19:38:57.951Z"
   },
   {
    "duration": 30,
    "start_time": "2021-09-20T19:41:06.097Z"
   },
   {
    "duration": 33,
    "start_time": "2021-09-20T19:41:10.145Z"
   },
   {
    "duration": 47,
    "start_time": "2021-09-20T19:41:29.249Z"
   },
   {
    "duration": 628,
    "start_time": "2021-09-20T19:42:06.533Z"
   },
   {
    "duration": 16,
    "start_time": "2021-09-20T19:42:07.163Z"
   },
   {
    "duration": 719,
    "start_time": "2021-09-20T19:42:08.448Z"
   },
   {
    "duration": 50,
    "start_time": "2021-09-20T19:42:10.064Z"
   },
   {
    "duration": 34,
    "start_time": "2021-09-20T19:42:15.823Z"
   },
   {
    "duration": 5,
    "start_time": "2021-09-20T19:43:23.014Z"
   },
   {
    "duration": 918,
    "start_time": "2021-09-20T19:44:19.961Z"
   },
   {
    "duration": 262,
    "start_time": "2021-09-20T19:45:06.184Z"
   },
   {
    "duration": 272,
    "start_time": "2021-09-20T19:45:12.633Z"
   },
   {
    "duration": 10,
    "start_time": "2021-09-20T19:45:19.927Z"
   },
   {
    "duration": 244,
    "start_time": "2021-09-20T19:45:50.769Z"
   },
   {
    "duration": 17,
    "start_time": "2021-09-20T19:46:00.253Z"
   },
   {
    "duration": 693,
    "start_time": "2021-09-20T19:47:51.993Z"
   },
   {
    "duration": 613,
    "start_time": "2021-09-20T19:47:54.174Z"
   },
   {
    "duration": 678,
    "start_time": "2021-09-20T19:47:54.789Z"
   },
   {
    "duration": 54,
    "start_time": "2021-09-20T19:48:12.140Z"
   },
   {
    "duration": 53,
    "start_time": "2021-09-20T19:48:36.442Z"
   },
   {
    "duration": 2578,
    "start_time": "2021-09-20T19:48:59.264Z"
   },
   {
    "duration": 487,
    "start_time": "2021-09-20T19:50:33.462Z"
   },
   {
    "duration": 697,
    "start_time": "2021-09-20T19:51:10.264Z"
   },
   {
    "duration": 661,
    "start_time": "2021-09-20T19:51:21.436Z"
   },
   {
    "duration": 17,
    "start_time": "2021-09-20T19:51:22.099Z"
   },
   {
    "duration": 673,
    "start_time": "2021-09-20T19:51:22.118Z"
   },
   {
    "duration": 46,
    "start_time": "2021-09-20T19:51:26.618Z"
   },
   {
    "duration": 33,
    "start_time": "2021-09-20T19:51:27.782Z"
   },
   {
    "duration": 7402,
    "start_time": "2021-09-20T19:51:32.918Z"
   },
   {
    "duration": -1285,
    "start_time": "2021-09-20T19:51:41.607Z"
   },
   {
    "duration": 70,
    "start_time": "2021-09-20T19:51:51.458Z"
   },
   {
    "duration": 17,
    "start_time": "2021-09-20T19:51:52.397Z"
   },
   {
    "duration": 18,
    "start_time": "2021-09-20T19:52:14.843Z"
   },
   {
    "duration": 248,
    "start_time": "2021-09-20T19:52:45.909Z"
   },
   {
    "duration": 3008,
    "start_time": "2021-09-20T19:53:38.713Z"
   },
   {
    "duration": 30,
    "start_time": "2021-09-20T19:53:41.723Z"
   },
   {
    "duration": 1181,
    "start_time": "2021-09-20T19:53:41.755Z"
   },
   {
    "duration": 74,
    "start_time": "2021-09-20T19:53:42.938Z"
   },
   {
    "duration": 952,
    "start_time": "2021-09-20T19:53:43.014Z"
   },
   {
    "duration": 69,
    "start_time": "2021-09-20T19:54:12.974Z"
   },
   {
    "duration": 73,
    "start_time": "2021-09-20T19:54:30.813Z"
   },
   {
    "duration": 833,
    "start_time": "2021-09-20T19:54:44.698Z"
   },
   {
    "duration": 18,
    "start_time": "2021-09-20T19:54:45.533Z"
   },
   {
    "duration": 854,
    "start_time": "2021-09-20T19:54:45.555Z"
   },
   {
    "duration": 60,
    "start_time": "2021-09-20T19:54:46.412Z"
   },
   {
    "duration": 58,
    "start_time": "2021-09-20T19:54:46.474Z"
   },
   {
    "duration": 6,
    "start_time": "2021-09-20T19:55:02.384Z"
   },
   {
    "duration": 31,
    "start_time": "2021-09-20T19:55:02.618Z"
   },
   {
    "duration": 35,
    "start_time": "2021-09-20T19:55:08.916Z"
   },
   {
    "duration": 275,
    "start_time": "2021-09-20T19:55:22.487Z"
   },
   {
    "duration": 260,
    "start_time": "2021-09-20T19:55:40.236Z"
   },
   {
    "duration": 342,
    "start_time": "2021-09-20T19:55:49.497Z"
   },
   {
    "duration": 5,
    "start_time": "2021-09-20T19:55:57.395Z"
   },
   {
    "duration": 250,
    "start_time": "2021-09-20T19:55:57.855Z"
   },
   {
    "duration": 693,
    "start_time": "2021-09-20T19:56:09.087Z"
   },
   {
    "duration": 29,
    "start_time": "2021-09-20T19:56:09.783Z"
   },
   {
    "duration": 1193,
    "start_time": "2021-09-20T19:56:09.814Z"
   },
   {
    "duration": 84,
    "start_time": "2021-09-20T19:56:11.009Z"
   },
   {
    "duration": 95,
    "start_time": "2021-09-20T19:56:11.095Z"
   },
   {
    "duration": 5,
    "start_time": "2021-09-20T19:56:11.192Z"
   },
   {
    "duration": 290,
    "start_time": "2021-09-20T19:56:11.200Z"
   },
   {
    "duration": 283,
    "start_time": "2021-09-20T19:56:27.517Z"
   },
   {
    "duration": 367,
    "start_time": "2021-09-20T19:56:42.582Z"
   },
   {
    "duration": 87,
    "start_time": "2021-09-20T19:57:05.172Z"
   },
   {
    "duration": 723,
    "start_time": "2021-09-20T19:57:08.167Z"
   },
   {
    "duration": 16,
    "start_time": "2021-09-20T19:57:08.892Z"
   },
   {
    "duration": 833,
    "start_time": "2021-09-20T19:57:08.910Z"
   },
   {
    "duration": 57,
    "start_time": "2021-09-20T19:57:09.745Z"
   },
   {
    "duration": 95,
    "start_time": "2021-09-20T19:57:09.804Z"
   },
   {
    "duration": 5,
    "start_time": "2021-09-20T19:57:09.901Z"
   },
   {
    "duration": 71,
    "start_time": "2021-09-20T19:57:09.907Z"
   },
   {
    "duration": 38,
    "start_time": "2021-09-20T19:57:20.231Z"
   },
   {
    "duration": 252,
    "start_time": "2021-09-20T19:57:35.022Z"
   },
   {
    "duration": 273,
    "start_time": "2021-09-20T19:57:44.887Z"
   },
   {
    "duration": 38,
    "start_time": "2021-09-20T20:04:10.016Z"
   },
   {
    "duration": 33,
    "start_time": "2021-09-20T20:05:33.767Z"
   },
   {
    "duration": 14,
    "start_time": "2021-09-20T20:05:44.007Z"
   },
   {
    "duration": 41,
    "start_time": "2021-09-20T20:05:57.836Z"
   },
   {
    "duration": 41,
    "start_time": "2021-09-20T20:06:29.933Z"
   },
   {
    "duration": 40,
    "start_time": "2021-09-20T20:06:32.919Z"
   },
   {
    "duration": 324,
    "start_time": "2021-09-20T20:06:41.047Z"
   },
   {
    "duration": 39,
    "start_time": "2021-09-20T20:06:45.034Z"
   },
   {
    "duration": 78,
    "start_time": "2021-09-20T20:07:10.603Z"
   },
   {
    "duration": 67,
    "start_time": "2021-09-20T20:09:31.755Z"
   },
   {
    "duration": 51,
    "start_time": "2021-09-20T20:09:43.869Z"
   },
   {
    "duration": 67,
    "start_time": "2021-09-20T20:10:34.543Z"
   },
   {
    "duration": 6664,
    "start_time": "2021-09-20T20:11:11.386Z"
   },
   {
    "duration": 73,
    "start_time": "2021-09-20T20:11:20.516Z"
   },
   {
    "duration": 51,
    "start_time": "2021-09-20T20:11:28.461Z"
   },
   {
    "duration": 864,
    "start_time": "2021-09-20T20:12:10.008Z"
   },
   {
    "duration": 16,
    "start_time": "2021-09-20T20:13:24.774Z"
   },
   {
    "duration": 15,
    "start_time": "2021-09-20T20:13:48.965Z"
   },
   {
    "duration": 25,
    "start_time": "2021-09-20T20:13:58.950Z"
   },
   {
    "duration": 8,
    "start_time": "2021-09-20T20:14:06.135Z"
   },
   {
    "duration": 11,
    "start_time": "2021-09-20T20:16:09.036Z"
   },
   {
    "duration": 9,
    "start_time": "2021-09-20T20:16:17.324Z"
   },
   {
    "duration": 10,
    "start_time": "2021-09-20T20:16:22.293Z"
   },
   {
    "duration": 899,
    "start_time": "2021-09-20T20:17:12.535Z"
   },
   {
    "duration": 652,
    "start_time": "2021-09-20T20:18:22.034Z"
   },
   {
    "duration": 23,
    "start_time": "2021-09-20T20:18:22.687Z"
   },
   {
    "duration": 856,
    "start_time": "2021-09-20T20:18:22.712Z"
   },
   {
    "duration": 51,
    "start_time": "2021-09-20T20:18:23.570Z"
   },
   {
    "duration": 79,
    "start_time": "2021-09-20T20:18:23.623Z"
   },
   {
    "duration": 4,
    "start_time": "2021-09-20T20:18:23.703Z"
   },
   {
    "duration": 14,
    "start_time": "2021-09-20T20:18:23.709Z"
   },
   {
    "duration": 930,
    "start_time": "2021-09-20T20:18:24.087Z"
   },
   {
    "duration": 829,
    "start_time": "2021-09-20T20:24:16.196Z"
   },
   {
    "duration": 15,
    "start_time": "2021-09-20T20:24:54.781Z"
   },
   {
    "duration": 5,
    "start_time": "2021-09-20T20:25:00.840Z"
   },
   {
    "duration": 849,
    "start_time": "2021-09-20T20:25:32.947Z"
   },
   {
    "duration": 6340,
    "start_time": "2021-09-20T20:26:12.841Z"
   },
   {
    "duration": 79,
    "start_time": "2021-09-20T20:26:24.728Z"
   },
   {
    "duration": 840,
    "start_time": "2021-09-20T20:26:31.312Z"
   },
   {
    "duration": 15,
    "start_time": "2021-09-20T20:26:51.364Z"
   },
   {
    "duration": 7294,
    "start_time": "2021-09-20T20:27:37.691Z"
   },
   {
    "duration": 808,
    "start_time": "2021-09-20T20:28:01.796Z"
   },
   {
    "duration": 5570,
    "start_time": "2021-09-20T20:28:48.408Z"
   },
   {
    "duration": 5786,
    "start_time": "2021-09-20T20:28:57.954Z"
   },
   {
    "duration": 5129,
    "start_time": "2021-09-20T20:29:36.081Z"
   },
   {
    "duration": 4657,
    "start_time": "2021-09-20T20:30:02.000Z"
   },
   {
    "duration": 4584,
    "start_time": "2021-09-20T20:30:17.041Z"
   },
   {
    "duration": 4677,
    "start_time": "2021-09-20T20:30:54.724Z"
   },
   {
    "duration": 5042,
    "start_time": "2021-09-20T20:31:00.983Z"
   },
   {
    "duration": 647,
    "start_time": "2021-09-20T20:31:22.004Z"
   },
   {
    "duration": 28,
    "start_time": "2021-09-20T20:31:22.654Z"
   },
   {
    "duration": 1152,
    "start_time": "2021-09-20T20:31:22.684Z"
   },
   {
    "duration": 70,
    "start_time": "2021-09-20T20:31:23.839Z"
   },
   {
    "duration": 113,
    "start_time": "2021-09-20T20:31:23.911Z"
   },
   {
    "duration": 5,
    "start_time": "2021-09-20T20:31:24.026Z"
   },
   {
    "duration": 19,
    "start_time": "2021-09-20T20:31:24.033Z"
   },
   {
    "duration": 10,
    "start_time": "2021-09-20T20:31:24.054Z"
   },
   {
    "duration": 5741,
    "start_time": "2021-09-20T20:31:24.066Z"
   },
   {
    "duration": 5715,
    "start_time": "2021-09-20T20:31:44.325Z"
   },
   {
    "duration": 7744,
    "start_time": "2021-09-20T20:33:54.516Z"
   }
  ],
  "kernelspec": {
   "display_name": "Python 3",
   "language": "python",
   "name": "python3"
  },
  "language_info": {
   "codemirror_mode": {
    "name": "ipython",
    "version": 3
   },
   "file_extension": ".py",
   "mimetype": "text/x-python",
   "name": "python",
   "nbconvert_exporter": "python",
   "pygments_lexer": "ipython3",
   "version": "3.8.8"
  },
  "toc": {
   "base_numbering": 1,
   "nav_menu": {},
   "number_sections": true,
   "sideBar": true,
   "skip_h1_title": true,
   "title_cell": "Table of Contents",
   "title_sidebar": "Contents",
   "toc_cell": false,
   "toc_position": {},
   "toc_section_display": true,
   "toc_window_display": true
  }
 },
 "nbformat": 4,
 "nbformat_minor": 2
}
