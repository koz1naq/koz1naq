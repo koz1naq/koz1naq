{
 "cells": [
  {
   "cell_type": "markdown",
   "metadata": {},
   "source": [
    "# Проект по исследованию закономерностей успешности игр"
   ]
  },
  {
   "cell_type": "markdown",
   "metadata": {},
   "source": [
    "В данном проекте мы будем работать на выделение главных тенденций и закономерностей, которые определяют для успешность игр. \n",
    "Данные будут до 2016 года. Представим, что сейчас декабрь 2016 г., и мы планируем кампанию на 2017-й. Нужно отработать принцип работы с данными. \n",
    "Из информации для ознакомления - будет представлен датасет с данными, в которых будут столбцы. Список столбцов такой:\n",
    "\n",
    "Name — название игры\n",
    "\n",
    "Platform — платформа\n",
    "\n",
    "Year_of_Release — год выпуска\n",
    "\n",
    "Genre — жанр игры\n",
    "\n",
    "NA_sales — продажи в Северной Америке (миллионы проданных копий)\n",
    "\n",
    "EU_sales — продажи в Европе (миллионы проданных копий)\n",
    "\n",
    "JP_sales — продажи в Японии (миллионы проданных копий)\n",
    "\n",
    "Other_sales — продажи в других странах (миллионы проданных копий)\n",
    "\n",
    "Critic_Score — оценка критиков (максимум 100)\n",
    "\n",
    "User_Score — оценка пользователей (максимум 10)\n",
    "\n",
    "Rating — рейтинг от организации ESRB (англ. Entertainment Software Rating Board). Эта ассоциация определяет рейтинг компьютерных игр и присваивает им подходящую возрастную категорию.\n",
    "\n",
    "Теперь приступим непосредственно к проекту."
   ]
  },
  {
   "cell_type": "markdown",
   "metadata": {},
   "source": [
    "## Изучение и просмотр датасета"
   ]
  },
  {
   "cell_type": "code",
   "execution_count": 15,
   "metadata": {},
   "outputs": [],
   "source": [
    "import pandas as pd\n",
    "import matplotlib.pyplot as plt\n",
    "from scipy import stats as st\n",
    "import numpy as np\n",
    "import warnings\n",
    "import seaborn as sns\n",
    "\n",
    "data = pd.read_csv('games.csv')"
   ]
  },
  {
   "cell_type": "markdown",
   "metadata": {},
   "source": [
    "В начале, и прежде всего стои начать с прочитки данных и изучить общим взглядом весь датасет. Так же добавляем библиотеки которые позже пригодятся при работа над проектом."
   ]
  },
  {
   "cell_type": "code",
   "execution_count": 16,
   "metadata": {},
   "outputs": [
    {
     "data": {
      "text/html": [
       "<div>\n",
       "<style scoped>\n",
       "    .dataframe tbody tr th:only-of-type {\n",
       "        vertical-align: middle;\n",
       "    }\n",
       "\n",
       "    .dataframe tbody tr th {\n",
       "        vertical-align: top;\n",
       "    }\n",
       "\n",
       "    .dataframe thead th {\n",
       "        text-align: right;\n",
       "    }\n",
       "</style>\n",
       "<table border=\"1\" class=\"dataframe\">\n",
       "  <thead>\n",
       "    <tr style=\"text-align: right;\">\n",
       "      <th></th>\n",
       "      <th>Name</th>\n",
       "      <th>Platform</th>\n",
       "      <th>Year_of_Release</th>\n",
       "      <th>Genre</th>\n",
       "      <th>NA_sales</th>\n",
       "      <th>EU_sales</th>\n",
       "      <th>JP_sales</th>\n",
       "      <th>Other_sales</th>\n",
       "      <th>Critic_Score</th>\n",
       "      <th>User_Score</th>\n",
       "      <th>Rating</th>\n",
       "    </tr>\n",
       "  </thead>\n",
       "  <tbody>\n",
       "    <tr>\n",
       "      <th>0</th>\n",
       "      <td>Wii Sports</td>\n",
       "      <td>Wii</td>\n",
       "      <td>2006.0</td>\n",
       "      <td>Sports</td>\n",
       "      <td>41.36</td>\n",
       "      <td>28.96</td>\n",
       "      <td>3.77</td>\n",
       "      <td>8.45</td>\n",
       "      <td>76.0</td>\n",
       "      <td>8</td>\n",
       "      <td>E</td>\n",
       "    </tr>\n",
       "    <tr>\n",
       "      <th>1</th>\n",
       "      <td>Super Mario Bros.</td>\n",
       "      <td>NES</td>\n",
       "      <td>1985.0</td>\n",
       "      <td>Platform</td>\n",
       "      <td>29.08</td>\n",
       "      <td>3.58</td>\n",
       "      <td>6.81</td>\n",
       "      <td>0.77</td>\n",
       "      <td>NaN</td>\n",
       "      <td>NaN</td>\n",
       "      <td>NaN</td>\n",
       "    </tr>\n",
       "    <tr>\n",
       "      <th>2</th>\n",
       "      <td>Mario Kart Wii</td>\n",
       "      <td>Wii</td>\n",
       "      <td>2008.0</td>\n",
       "      <td>Racing</td>\n",
       "      <td>15.68</td>\n",
       "      <td>12.76</td>\n",
       "      <td>3.79</td>\n",
       "      <td>3.29</td>\n",
       "      <td>82.0</td>\n",
       "      <td>8.3</td>\n",
       "      <td>E</td>\n",
       "    </tr>\n",
       "    <tr>\n",
       "      <th>3</th>\n",
       "      <td>Wii Sports Resort</td>\n",
       "      <td>Wii</td>\n",
       "      <td>2009.0</td>\n",
       "      <td>Sports</td>\n",
       "      <td>15.61</td>\n",
       "      <td>10.93</td>\n",
       "      <td>3.28</td>\n",
       "      <td>2.95</td>\n",
       "      <td>80.0</td>\n",
       "      <td>8</td>\n",
       "      <td>E</td>\n",
       "    </tr>\n",
       "    <tr>\n",
       "      <th>4</th>\n",
       "      <td>Pokemon Red/Pokemon Blue</td>\n",
       "      <td>GB</td>\n",
       "      <td>1996.0</td>\n",
       "      <td>Role-Playing</td>\n",
       "      <td>11.27</td>\n",
       "      <td>8.89</td>\n",
       "      <td>10.22</td>\n",
       "      <td>1.00</td>\n",
       "      <td>NaN</td>\n",
       "      <td>NaN</td>\n",
       "      <td>NaN</td>\n",
       "    </tr>\n",
       "  </tbody>\n",
       "</table>\n",
       "</div>"
      ],
      "text/plain": [
       "                       Name Platform  Year_of_Release         Genre  NA_sales  \\\n",
       "0                Wii Sports      Wii           2006.0        Sports     41.36   \n",
       "1         Super Mario Bros.      NES           1985.0      Platform     29.08   \n",
       "2            Mario Kart Wii      Wii           2008.0        Racing     15.68   \n",
       "3         Wii Sports Resort      Wii           2009.0        Sports     15.61   \n",
       "4  Pokemon Red/Pokemon Blue       GB           1996.0  Role-Playing     11.27   \n",
       "\n",
       "   EU_sales  JP_sales  Other_sales  Critic_Score User_Score Rating  \n",
       "0     28.96      3.77         8.45          76.0          8      E  \n",
       "1      3.58      6.81         0.77           NaN        NaN    NaN  \n",
       "2     12.76      3.79         3.29          82.0        8.3      E  \n",
       "3     10.93      3.28         2.95          80.0          8      E  \n",
       "4      8.89     10.22         1.00           NaN        NaN    NaN  "
      ]
     },
     "metadata": {},
     "output_type": "display_data"
    },
    {
     "name": "stdout",
     "output_type": "stream",
     "text": [
      "None\n",
      "\n",
      "Размер таблицы: (16715, 11)\n",
      "\n",
      "<class 'pandas.core.frame.DataFrame'>\n",
      "RangeIndex: 16715 entries, 0 to 16714\n",
      "Data columns (total 11 columns):\n",
      " #   Column           Non-Null Count  Dtype  \n",
      "---  ------           --------------  -----  \n",
      " 0   Name             16713 non-null  object \n",
      " 1   Platform         16715 non-null  object \n",
      " 2   Year_of_Release  16446 non-null  float64\n",
      " 3   Genre            16713 non-null  object \n",
      " 4   NA_sales         16715 non-null  float64\n",
      " 5   EU_sales         16715 non-null  float64\n",
      " 6   JP_sales         16715 non-null  float64\n",
      " 7   Other_sales      16715 non-null  float64\n",
      " 8   Critic_Score     8137 non-null   float64\n",
      " 9   User_Score       10014 non-null  object \n",
      " 10  Rating           9949 non-null   object \n",
      "dtypes: float64(6), object(5)\n",
      "memory usage: 1.4+ MB\n"
     ]
    }
   ],
   "source": [
    "print(display(data.head()))\n",
    "print()\n",
    "print('Размер таблицы:', data.shape)\n",
    "print()\n",
    "data.info()"
   ]
  },
  {
   "cell_type": "markdown",
   "metadata": {},
   "source": [
    "Беглым взглядом сразу видно несколько различных ошибок и недочетом в датасете, как чутка не те типы данных, пропуски где то понятные, где то нет. Все это проверим."
   ]
  },
  {
   "cell_type": "markdown",
   "metadata": {},
   "source": [
    "## Предобработка и подготовка данных"
   ]
  },
  {
   "cell_type": "markdown",
   "metadata": {},
   "source": [
    "### Предобработка"
   ]
  },
  {
   "cell_type": "code",
   "execution_count": 17,
   "metadata": {},
   "outputs": [
    {
     "data": {
      "text/html": [
       "<div>\n",
       "<style scoped>\n",
       "    .dataframe tbody tr th:only-of-type {\n",
       "        vertical-align: middle;\n",
       "    }\n",
       "\n",
       "    .dataframe tbody tr th {\n",
       "        vertical-align: top;\n",
       "    }\n",
       "\n",
       "    .dataframe thead th {\n",
       "        text-align: right;\n",
       "    }\n",
       "</style>\n",
       "<table border=\"1\" class=\"dataframe\">\n",
       "  <thead>\n",
       "    <tr style=\"text-align: right;\">\n",
       "      <th></th>\n",
       "      <th>name</th>\n",
       "      <th>platform</th>\n",
       "      <th>year_of_release</th>\n",
       "      <th>genre</th>\n",
       "      <th>na_sales</th>\n",
       "      <th>eu_sales</th>\n",
       "      <th>jp_sales</th>\n",
       "      <th>other_sales</th>\n",
       "      <th>critic_score</th>\n",
       "      <th>user_score</th>\n",
       "      <th>rating</th>\n",
       "    </tr>\n",
       "  </thead>\n",
       "  <tbody>\n",
       "    <tr>\n",
       "      <th>0</th>\n",
       "      <td>Wii Sports</td>\n",
       "      <td>Wii</td>\n",
       "      <td>2006.0</td>\n",
       "      <td>Sports</td>\n",
       "      <td>41.36</td>\n",
       "      <td>28.96</td>\n",
       "      <td>3.77</td>\n",
       "      <td>8.45</td>\n",
       "      <td>76.0</td>\n",
       "      <td>8</td>\n",
       "      <td>E</td>\n",
       "    </tr>\n",
       "    <tr>\n",
       "      <th>1</th>\n",
       "      <td>Super Mario Bros.</td>\n",
       "      <td>NES</td>\n",
       "      <td>1985.0</td>\n",
       "      <td>Platform</td>\n",
       "      <td>29.08</td>\n",
       "      <td>3.58</td>\n",
       "      <td>6.81</td>\n",
       "      <td>0.77</td>\n",
       "      <td>NaN</td>\n",
       "      <td>NaN</td>\n",
       "      <td>NaN</td>\n",
       "    </tr>\n",
       "    <tr>\n",
       "      <th>2</th>\n",
       "      <td>Mario Kart Wii</td>\n",
       "      <td>Wii</td>\n",
       "      <td>2008.0</td>\n",
       "      <td>Racing</td>\n",
       "      <td>15.68</td>\n",
       "      <td>12.76</td>\n",
       "      <td>3.79</td>\n",
       "      <td>3.29</td>\n",
       "      <td>82.0</td>\n",
       "      <td>8.3</td>\n",
       "      <td>E</td>\n",
       "    </tr>\n",
       "    <tr>\n",
       "      <th>3</th>\n",
       "      <td>Wii Sports Resort</td>\n",
       "      <td>Wii</td>\n",
       "      <td>2009.0</td>\n",
       "      <td>Sports</td>\n",
       "      <td>15.61</td>\n",
       "      <td>10.93</td>\n",
       "      <td>3.28</td>\n",
       "      <td>2.95</td>\n",
       "      <td>80.0</td>\n",
       "      <td>8</td>\n",
       "      <td>E</td>\n",
       "    </tr>\n",
       "    <tr>\n",
       "      <th>4</th>\n",
       "      <td>Pokemon Red/Pokemon Blue</td>\n",
       "      <td>GB</td>\n",
       "      <td>1996.0</td>\n",
       "      <td>Role-Playing</td>\n",
       "      <td>11.27</td>\n",
       "      <td>8.89</td>\n",
       "      <td>10.22</td>\n",
       "      <td>1.00</td>\n",
       "      <td>NaN</td>\n",
       "      <td>NaN</td>\n",
       "      <td>NaN</td>\n",
       "    </tr>\n",
       "  </tbody>\n",
       "</table>\n",
       "</div>"
      ],
      "text/plain": [
       "                       name platform  year_of_release         genre  na_sales  \\\n",
       "0                Wii Sports      Wii           2006.0        Sports     41.36   \n",
       "1         Super Mario Bros.      NES           1985.0      Platform     29.08   \n",
       "2            Mario Kart Wii      Wii           2008.0        Racing     15.68   \n",
       "3         Wii Sports Resort      Wii           2009.0        Sports     15.61   \n",
       "4  Pokemon Red/Pokemon Blue       GB           1996.0  Role-Playing     11.27   \n",
       "\n",
       "   eu_sales  jp_sales  other_sales  critic_score user_score rating  \n",
       "0     28.96      3.77         8.45          76.0          8      E  \n",
       "1      3.58      6.81         0.77           NaN        NaN    NaN  \n",
       "2     12.76      3.79         3.29          82.0        8.3      E  \n",
       "3     10.93      3.28         2.95          80.0          8      E  \n",
       "4      8.89     10.22         1.00           NaN        NaN    NaN  "
      ]
     },
     "execution_count": 17,
     "metadata": {},
     "output_type": "execute_result"
    }
   ],
   "source": [
    "data.rename(str.lower, axis='columns', inplace=True)\n",
    "data.head()"
   ]
  },
  {
   "cell_type": "markdown",
   "metadata": {},
   "source": [
    "Начнем с подготовки \"почвы\" для дальнеших исследований. Первым делом приведем столбцы в нижний регистр, так будет как минимум лучше смотреться."
   ]
  },
  {
   "cell_type": "code",
   "execution_count": 18,
   "metadata": {},
   "outputs": [
    {
     "data": {
      "text/plain": [
       "name                  2\n",
       "platform              0\n",
       "year_of_release     269\n",
       "genre                 2\n",
       "na_sales              0\n",
       "eu_sales              0\n",
       "jp_sales              0\n",
       "other_sales           0\n",
       "critic_score       8578\n",
       "user_score         6701\n",
       "rating             6766\n",
       "dtype: int64"
      ]
     },
     "execution_count": 18,
     "metadata": {},
     "output_type": "execute_result"
    }
   ],
   "source": [
    "data.isna().sum()"
   ]
  },
  {
   "cell_type": "code",
   "execution_count": 19,
   "metadata": {},
   "outputs": [
    {
     "data": {
      "text/plain": [
       "name                  0\n",
       "platform              0\n",
       "year_of_release       0\n",
       "genre                 0\n",
       "na_sales              0\n",
       "eu_sales              0\n",
       "jp_sales              0\n",
       "other_sales           0\n",
       "critic_score       8576\n",
       "user_score         6699\n",
       "rating                0\n",
       "dtype: int64"
      ]
     },
     "execution_count": 19,
     "metadata": {},
     "output_type": "execute_result"
    }
   ],
   "source": [
    "data.dropna(subset=['name', 'genre'], inplace=True)\n",
    "data['year_of_release'] = data['year_of_release'].fillna(0)\n",
    "data['rating'] = data['rating'].fillna('NR')\n",
    "data.isna().sum()"
   ]
  },
  {
   "cell_type": "markdown",
   "metadata": {},
   "source": [
    "Теперь обработаем пропуски при необходимости такой в столбцах, проверим где их и сколько. Как видно, пропуски в основном в 3 последних столбцах, но сначала разберемся с другими. В столбцах name и genre по 2 пропуска на 16000 строк, и без зазрения совести я их уберу. \n",
    "\n",
    "И в столбце с годом выпуска, каким то определенным образом заменить дату нельзя, нехватка информации, просто заменим на 0 значения пропущенные, для обработки типа данных потом(ведь 269 строк тоже роли практически не играют в статистике).\n",
    "\n",
    "И так же, для учета рейтинга, чтобы даже безрейтинговые игры могли попасть в какие либо анализы, преобразую пропуски в столбце рейтинга на NR(No rating)."
   ]
  },
  {
   "cell_type": "code",
   "execution_count": 20,
   "metadata": {},
   "outputs": [
    {
     "data": {
      "text/plain": [
       "tbd    2424\n",
       "7.8     324\n",
       "8       290\n",
       "8.2     282\n",
       "8.3     254\n",
       "       ... \n",
       "0.2       2\n",
       "0.7       2\n",
       "9.6       2\n",
       "9.7       1\n",
       "0         1\n",
       "Name: user_score, Length: 96, dtype: int64"
      ]
     },
     "execution_count": 20,
     "metadata": {},
     "output_type": "execute_result"
    }
   ],
   "source": [
    "data['user_score'].value_counts()"
   ]
  },
  {
   "cell_type": "markdown",
   "metadata": {},
   "source": [
    "Теперь с \"непростыми\" столбцами, где пропуски нельзя обусловить ничем по идее. Глянем на какие то может быть аномалии.\n",
    "Из интересного - это значения tbd в столбце user_score, аж 2424 строки. \n",
    "Если я правильно понимаю, то это аббревиатура на to be determined, то есть еще не определено. Это преобразуем позже.\n",
    "\n",
    "А в остальных столбцах, я боюсь, обоснованно преобразовывать или выбрасывать пропуски нельзя, нехватает данных для этого. Эти пропуски вероятно потерялись при образовании данных, или по непопулярности какой либо игры. Наверняка знать трудно."
   ]
  },
  {
   "cell_type": "code",
   "execution_count": 21,
   "metadata": {},
   "outputs": [
    {
     "data": {
      "text/html": [
       "<div>\n",
       "<style scoped>\n",
       "    .dataframe tbody tr th:only-of-type {\n",
       "        vertical-align: middle;\n",
       "    }\n",
       "\n",
       "    .dataframe tbody tr th {\n",
       "        vertical-align: top;\n",
       "    }\n",
       "\n",
       "    .dataframe thead th {\n",
       "        text-align: right;\n",
       "    }\n",
       "</style>\n",
       "<table border=\"1\" class=\"dataframe\">\n",
       "  <thead>\n",
       "    <tr style=\"text-align: right;\">\n",
       "      <th></th>\n",
       "      <th>name</th>\n",
       "      <th>platform</th>\n",
       "      <th>year_of_release</th>\n",
       "      <th>genre</th>\n",
       "      <th>na_sales</th>\n",
       "      <th>eu_sales</th>\n",
       "      <th>jp_sales</th>\n",
       "      <th>other_sales</th>\n",
       "      <th>critic_score</th>\n",
       "      <th>user_score</th>\n",
       "      <th>rating</th>\n",
       "    </tr>\n",
       "  </thead>\n",
       "  <tbody>\n",
       "    <tr>\n",
       "      <th>0</th>\n",
       "      <td>Wii Sports</td>\n",
       "      <td>Wii</td>\n",
       "      <td>2006</td>\n",
       "      <td>Sports</td>\n",
       "      <td>41.36</td>\n",
       "      <td>28.96</td>\n",
       "      <td>3.77</td>\n",
       "      <td>8.45</td>\n",
       "      <td>76.0</td>\n",
       "      <td>8.0</td>\n",
       "      <td>E</td>\n",
       "    </tr>\n",
       "    <tr>\n",
       "      <th>1</th>\n",
       "      <td>Super Mario Bros.</td>\n",
       "      <td>NES</td>\n",
       "      <td>1985</td>\n",
       "      <td>Platform</td>\n",
       "      <td>29.08</td>\n",
       "      <td>3.58</td>\n",
       "      <td>6.81</td>\n",
       "      <td>0.77</td>\n",
       "      <td>NaN</td>\n",
       "      <td>NaN</td>\n",
       "      <td>NR</td>\n",
       "    </tr>\n",
       "    <tr>\n",
       "      <th>2</th>\n",
       "      <td>Mario Kart Wii</td>\n",
       "      <td>Wii</td>\n",
       "      <td>2008</td>\n",
       "      <td>Racing</td>\n",
       "      <td>15.68</td>\n",
       "      <td>12.76</td>\n",
       "      <td>3.79</td>\n",
       "      <td>3.29</td>\n",
       "      <td>82.0</td>\n",
       "      <td>8.3</td>\n",
       "      <td>E</td>\n",
       "    </tr>\n",
       "    <tr>\n",
       "      <th>3</th>\n",
       "      <td>Wii Sports Resort</td>\n",
       "      <td>Wii</td>\n",
       "      <td>2009</td>\n",
       "      <td>Sports</td>\n",
       "      <td>15.61</td>\n",
       "      <td>10.93</td>\n",
       "      <td>3.28</td>\n",
       "      <td>2.95</td>\n",
       "      <td>80.0</td>\n",
       "      <td>8.0</td>\n",
       "      <td>E</td>\n",
       "    </tr>\n",
       "    <tr>\n",
       "      <th>4</th>\n",
       "      <td>Pokemon Red/Pokemon Blue</td>\n",
       "      <td>GB</td>\n",
       "      <td>1996</td>\n",
       "      <td>Role-Playing</td>\n",
       "      <td>11.27</td>\n",
       "      <td>8.89</td>\n",
       "      <td>10.22</td>\n",
       "      <td>1.00</td>\n",
       "      <td>NaN</td>\n",
       "      <td>NaN</td>\n",
       "      <td>NR</td>\n",
       "    </tr>\n",
       "  </tbody>\n",
       "</table>\n",
       "</div>"
      ],
      "text/plain": [
       "                       name platform  year_of_release         genre  na_sales  \\\n",
       "0                Wii Sports      Wii             2006        Sports     41.36   \n",
       "1         Super Mario Bros.      NES             1985      Platform     29.08   \n",
       "2            Mario Kart Wii      Wii             2008        Racing     15.68   \n",
       "3         Wii Sports Resort      Wii             2009        Sports     15.61   \n",
       "4  Pokemon Red/Pokemon Blue       GB             1996  Role-Playing     11.27   \n",
       "\n",
       "   eu_sales  jp_sales  other_sales  critic_score  user_score rating  \n",
       "0     28.96      3.77         8.45          76.0         8.0      E  \n",
       "1      3.58      6.81         0.77           NaN         NaN     NR  \n",
       "2     12.76      3.79         3.29          82.0         8.3      E  \n",
       "3     10.93      3.28         2.95          80.0         8.0      E  \n",
       "4      8.89     10.22         1.00           NaN         NaN     NR  "
      ]
     },
     "execution_count": 21,
     "metadata": {},
     "output_type": "execute_result"
    }
   ],
   "source": [
    "data['year_of_release'] = data['year_of_release'].astype('int')\n",
    "data['user_score'] = pd.to_numeric(data['user_score'], errors='coerce')\n",
    "data.duplicated().sum()\n",
    "data.head()"
   ]
  },
  {
   "cell_type": "markdown",
   "metadata": {},
   "source": [
    "Далее преобразуем данные в нужный тип, там где это было бы к месту и необходимо. И проверим наличие дубликатов в строках(их не обнаружилось)"
   ]
  },
  {
   "cell_type": "markdown",
   "metadata": {},
   "source": [
    "### Подготовка"
   ]
  },
  {
   "cell_type": "code",
   "execution_count": 22,
   "metadata": {},
   "outputs": [
    {
     "data": {
      "text/html": [
       "<div>\n",
       "<style scoped>\n",
       "    .dataframe tbody tr th:only-of-type {\n",
       "        vertical-align: middle;\n",
       "    }\n",
       "\n",
       "    .dataframe tbody tr th {\n",
       "        vertical-align: top;\n",
       "    }\n",
       "\n",
       "    .dataframe thead th {\n",
       "        text-align: right;\n",
       "    }\n",
       "</style>\n",
       "<table border=\"1\" class=\"dataframe\">\n",
       "  <thead>\n",
       "    <tr style=\"text-align: right;\">\n",
       "      <th></th>\n",
       "      <th>name</th>\n",
       "      <th>platform</th>\n",
       "      <th>year_of_release</th>\n",
       "      <th>genre</th>\n",
       "      <th>na_sales</th>\n",
       "      <th>eu_sales</th>\n",
       "      <th>jp_sales</th>\n",
       "      <th>other_sales</th>\n",
       "      <th>critic_score</th>\n",
       "      <th>user_score</th>\n",
       "      <th>rating</th>\n",
       "      <th>total_sales</th>\n",
       "    </tr>\n",
       "  </thead>\n",
       "  <tbody>\n",
       "    <tr>\n",
       "      <th>0</th>\n",
       "      <td>Wii Sports</td>\n",
       "      <td>Wii</td>\n",
       "      <td>2006</td>\n",
       "      <td>Sports</td>\n",
       "      <td>41.36</td>\n",
       "      <td>28.96</td>\n",
       "      <td>3.77</td>\n",
       "      <td>8.45</td>\n",
       "      <td>76.0</td>\n",
       "      <td>8.0</td>\n",
       "      <td>E</td>\n",
       "      <td>82.54</td>\n",
       "    </tr>\n",
       "    <tr>\n",
       "      <th>1</th>\n",
       "      <td>Super Mario Bros.</td>\n",
       "      <td>NES</td>\n",
       "      <td>1985</td>\n",
       "      <td>Platform</td>\n",
       "      <td>29.08</td>\n",
       "      <td>3.58</td>\n",
       "      <td>6.81</td>\n",
       "      <td>0.77</td>\n",
       "      <td>NaN</td>\n",
       "      <td>NaN</td>\n",
       "      <td>NR</td>\n",
       "      <td>40.24</td>\n",
       "    </tr>\n",
       "    <tr>\n",
       "      <th>2</th>\n",
       "      <td>Mario Kart Wii</td>\n",
       "      <td>Wii</td>\n",
       "      <td>2008</td>\n",
       "      <td>Racing</td>\n",
       "      <td>15.68</td>\n",
       "      <td>12.76</td>\n",
       "      <td>3.79</td>\n",
       "      <td>3.29</td>\n",
       "      <td>82.0</td>\n",
       "      <td>8.3</td>\n",
       "      <td>E</td>\n",
       "      <td>35.52</td>\n",
       "    </tr>\n",
       "    <tr>\n",
       "      <th>3</th>\n",
       "      <td>Wii Sports Resort</td>\n",
       "      <td>Wii</td>\n",
       "      <td>2009</td>\n",
       "      <td>Sports</td>\n",
       "      <td>15.61</td>\n",
       "      <td>10.93</td>\n",
       "      <td>3.28</td>\n",
       "      <td>2.95</td>\n",
       "      <td>80.0</td>\n",
       "      <td>8.0</td>\n",
       "      <td>E</td>\n",
       "      <td>32.77</td>\n",
       "    </tr>\n",
       "    <tr>\n",
       "      <th>4</th>\n",
       "      <td>Pokemon Red/Pokemon Blue</td>\n",
       "      <td>GB</td>\n",
       "      <td>1996</td>\n",
       "      <td>Role-Playing</td>\n",
       "      <td>11.27</td>\n",
       "      <td>8.89</td>\n",
       "      <td>10.22</td>\n",
       "      <td>1.00</td>\n",
       "      <td>NaN</td>\n",
       "      <td>NaN</td>\n",
       "      <td>NR</td>\n",
       "      <td>31.38</td>\n",
       "    </tr>\n",
       "  </tbody>\n",
       "</table>\n",
       "</div>"
      ],
      "text/plain": [
       "                       name platform  year_of_release         genre  na_sales  \\\n",
       "0                Wii Sports      Wii             2006        Sports     41.36   \n",
       "1         Super Mario Bros.      NES             1985      Platform     29.08   \n",
       "2            Mario Kart Wii      Wii             2008        Racing     15.68   \n",
       "3         Wii Sports Resort      Wii             2009        Sports     15.61   \n",
       "4  Pokemon Red/Pokemon Blue       GB             1996  Role-Playing     11.27   \n",
       "\n",
       "   eu_sales  jp_sales  other_sales  critic_score  user_score rating  \\\n",
       "0     28.96      3.77         8.45          76.0         8.0      E   \n",
       "1      3.58      6.81         0.77           NaN         NaN     NR   \n",
       "2     12.76      3.79         3.29          82.0         8.3      E   \n",
       "3     10.93      3.28         2.95          80.0         8.0      E   \n",
       "4      8.89     10.22         1.00           NaN         NaN     NR   \n",
       "\n",
       "   total_sales  \n",
       "0        82.54  \n",
       "1        40.24  \n",
       "2        35.52  \n",
       "3        32.77  \n",
       "4        31.38  "
      ]
     },
     "execution_count": 22,
     "metadata": {},
     "output_type": "execute_result"
    }
   ],
   "source": [
    "data['total_sales'] = data['na_sales'] + data['eu_sales'] + data['jp_sales'] + data['other_sales']\n",
    "data.head()"
   ]
  },
  {
   "cell_type": "markdown",
   "metadata": {},
   "source": [
    "И напоследок в этом разделе, посчитаем общие продаэи по играм во всем мире и запишем в столбец total_sales."
   ]
  },
  {
   "cell_type": "markdown",
   "metadata": {},
   "source": [
    "## Исследовательский анализ "
   ]
  },
  {
   "cell_type": "markdown",
   "metadata": {},
   "source": [
    "### Важны ли годы?"
   ]
  },
  {
   "cell_type": "code",
   "execution_count": 23,
   "metadata": {},
   "outputs": [
    {
     "data": {
      "text/plain": [
       "1980"
      ]
     },
     "execution_count": 23,
     "metadata": {},
     "output_type": "execute_result"
    }
   ],
   "source": [
    "data_years = data.query('year_of_release != 0')\n",
    "data_years['year_of_release'].min()"
   ]
  },
  {
   "cell_type": "markdown",
   "metadata": {},
   "source": [
    "И так, начнем исследовать. Для начала стоит посмотреть количество игры выпускаемых в разные годы. Построим график, показывающий это, но т.к. некоторые строки были с пропусками, и теперь они 0, то посмотрим сначала из среза где годы не равны 0, какая самая ранняя игра и построим график."
   ]
  },
  {
   "cell_type": "code",
   "execution_count": 24,
   "metadata": {},
   "outputs": [
    {
     "data": {
      "image/png": "[encoded data removed]",
      "text/plain": [
       "<Figure size 432x288 with 1 Axes>"
      ]
     },
     "metadata": {
      "needs_background": "light"
     },
     "output_type": "display_data"
    }
   ],
   "source": [
    "plt.title('release years')\n",
    "data['year_of_release'].hist(bins=50, range=(1980,2016), grid=True)\n",
    "plt.show()"
   ]
  },
  {
   "cell_type": "code",
   "execution_count": 11,
   "metadata": {},
   "outputs": [],
   "source": [
    "def periods(year):\n",
    "    if year < 1995:\n",
    "        return 'pre_boom_era'\n",
    "    if 1995 <= year < 2008:\n",
    "        return 'boom_era'\n",
    "    if 2008 <= year < 2013:\n",
    "        return 'post_boom_era'\n",
    "    return 'modern_era'\n",
    "data['year_period'] = data['year_of_release'].apply(periods)"
   ]
  },
  {
   "cell_type": "markdown",
   "metadata": {},
   "source": [
    "Как видно на графике, огромный скачок в продаже игры произошел в период с 1995 по примерно 2008. До 95-го года игры даже 100 млн копий не достигали, популярность была крайне низкой. Предположу, что рост популярности стал как раз в годы массовой доступности компьютеров. И различные большие и маленькие студии начали делать игры в больших количествах. И естественно, кто то их них, да выстрелил. А дальше, уже за порогом 2008 года ажиотаж на игры начал спадать, и так и продолжает пока. \n",
    "Было бы разумно разделить все годы на периоды до и после \"бума\".\n",
    "Сделаем столбец такой. Вероятно это будет важно.\n",
    "\n",
    "А непосредственно этот спад после бума я думаю можно объяснить тем, что  примерно в это время в индустрию вошли мобильные телефоны, который на данный момент наверняка занимают огромную часть всей прибыли продаж."
   ]
  },
  {
   "cell_type": "markdown",
   "metadata": {},
   "source": [
    "<div class=\"alert alert-success\">\n",
    "<font size=\"5\"><b>Комментарий ревьюера</b></font>\n",
    "\n",
    "Как думаешь, с чем связан спад в последние годы?\n",
    "\n",
    "</div>"
   ]
  },
  {
   "cell_type": "markdown",
   "metadata": {},
   "source": [
    "### Как менялись платформы?"
   ]
  },
  {
   "cell_type": "code",
   "execution_count": 12,
   "metadata": {
    "scrolled": false
   },
   "outputs": [
    {
     "data": {
      "image/png": "[encoded data removed]",
      "text/plain": [
       "<Figure size 720x360 with 1 Axes>"
      ]
     },
     "metadata": {
      "needs_background": "light"
     },
     "output_type": "display_data"
    }
   ],
   "source": [
    "data.pivot_table(index='platform', values='total_sales').sort_values(by='total_sales', ascending=False).head(10).plot(kind='bar',grid=True, figsize=(10, 5), title='Total sales by platform')\n",
    "plt.show()"
   ]
  },
  {
   "cell_type": "markdown",
   "metadata": {},
   "source": [
    "Посмотрим суммарные продажи по платформам перебивших миллиард, и выходит так, что их всего 3, и каждая из них, мягко сказать \"доисторическая\", так как, предположу, что в то время, просто не было разнообразия в выборе. И дальше подобравшиеся к миллиардникам уже идут примерно современные платформы."
   ]
  },
  {
   "cell_type": "markdown",
   "metadata": {},
   "source": [
    "### Какие платформы лидируют?"
   ]
  },
  {
   "cell_type": "code",
   "execution_count": 13,
   "metadata": {},
   "outputs": [
    {
     "data": {
      "text/html": [
       "<div>\n",
       "<style scoped>\n",
       "    .dataframe tbody tr th:only-of-type {\n",
       "        vertical-align: middle;\n",
       "    }\n",
       "\n",
       "    .dataframe tbody tr th {\n",
       "        vertical-align: top;\n",
       "    }\n",
       "\n",
       "    .dataframe thead th {\n",
       "        text-align: right;\n",
       "    }\n",
       "</style>\n",
       "<table border=\"1\" class=\"dataframe\">\n",
       "  <thead>\n",
       "    <tr style=\"text-align: right;\">\n",
       "      <th></th>\n",
       "      <th>total_sales</th>\n",
       "    </tr>\n",
       "    <tr>\n",
       "      <th>platform</th>\n",
       "      <th></th>\n",
       "    </tr>\n",
       "  </thead>\n",
       "  <tbody>\n",
       "    <tr>\n",
       "      <th>PS4</th>\n",
       "      <td>0.801378</td>\n",
       "    </tr>\n",
       "    <tr>\n",
       "      <th>X360</th>\n",
       "      <td>0.735484</td>\n",
       "    </tr>\n",
       "    <tr>\n",
       "      <th>XOne</th>\n",
       "      <td>0.645020</td>\n",
       "    </tr>\n",
       "    <tr>\n",
       "      <th>Wii</th>\n",
       "      <td>0.593913</td>\n",
       "    </tr>\n",
       "    <tr>\n",
       "      <th>WiiU</th>\n",
       "      <td>0.562000</td>\n",
       "    </tr>\n",
       "    <tr>\n",
       "      <th>PS3</th>\n",
       "      <td>0.525884</td>\n",
       "    </tr>\n",
       "    <tr>\n",
       "      <th>3DS</th>\n",
       "      <td>0.472772</td>\n",
       "    </tr>\n",
       "    <tr>\n",
       "      <th>PC</th>\n",
       "      <td>0.208624</td>\n",
       "    </tr>\n",
       "    <tr>\n",
       "      <th>DS</th>\n",
       "      <td>0.192500</td>\n",
       "    </tr>\n",
       "    <tr>\n",
       "      <th>PSV</th>\n",
       "      <td>0.092151</td>\n",
       "    </tr>\n",
       "    <tr>\n",
       "      <th>PSP</th>\n",
       "      <td>0.052239</td>\n",
       "    </tr>\n",
       "  </tbody>\n",
       "</table>\n",
       "</div>"
      ],
      "text/plain": [
       "          total_sales\n",
       "platform             \n",
       "PS4          0.801378\n",
       "X360         0.735484\n",
       "XOne         0.645020\n",
       "Wii          0.593913\n",
       "WiiU         0.562000\n",
       "PS3          0.525884\n",
       "3DS          0.472772\n",
       "PC           0.208624\n",
       "DS           0.192500\n",
       "PSV          0.092151\n",
       "PSP          0.052239"
      ]
     },
     "execution_count": 13,
     "metadata": {},
     "output_type": "execute_result"
    }
   ],
   "source": [
    "data_modern = data.query('year_period == \"modern_era\"')\n",
    "data_modern.pivot_table(index='platform', values='total_sales').sort_values(by='total_sales', ascending=False)"
   ]
  },
  {
   "cell_type": "code",
   "execution_count": 14,
   "metadata": {},
   "outputs": [
    {
     "data": {
      "text/html": [
       "<div>\n",
       "<style scoped>\n",
       "    .dataframe tbody tr th:only-of-type {\n",
       "        vertical-align: middle;\n",
       "    }\n",
       "\n",
       "    .dataframe tbody tr th {\n",
       "        vertical-align: top;\n",
       "    }\n",
       "\n",
       "    .dataframe thead th {\n",
       "        text-align: right;\n",
       "    }\n",
       "</style>\n",
       "<table border=\"1\" class=\"dataframe\">\n",
       "  <thead>\n",
       "    <tr style=\"text-align: right;\">\n",
       "      <th></th>\n",
       "      <th>year_of_release</th>\n",
       "    </tr>\n",
       "    <tr>\n",
       "      <th>platform</th>\n",
       "      <th></th>\n",
       "    </tr>\n",
       "  </thead>\n",
       "  <tbody>\n",
       "    <tr>\n",
       "      <th>PS4</th>\n",
       "      <td>2015</td>\n",
       "    </tr>\n",
       "    <tr>\n",
       "      <th>XOne</th>\n",
       "      <td>2014</td>\n",
       "    </tr>\n",
       "    <tr>\n",
       "      <th>PC</th>\n",
       "      <td>2014</td>\n",
       "    </tr>\n",
       "    <tr>\n",
       "      <th>PSV</th>\n",
       "      <td>2014</td>\n",
       "    </tr>\n",
       "    <tr>\n",
       "      <th>3DS</th>\n",
       "      <td>2014</td>\n",
       "    </tr>\n",
       "    <tr>\n",
       "      <th>WiiU</th>\n",
       "      <td>2014</td>\n",
       "    </tr>\n",
       "    <tr>\n",
       "      <th>PS3</th>\n",
       "      <td>2014</td>\n",
       "    </tr>\n",
       "    <tr>\n",
       "      <th>X360</th>\n",
       "      <td>2013</td>\n",
       "    </tr>\n",
       "    <tr>\n",
       "      <th>Wii</th>\n",
       "      <td>2013</td>\n",
       "    </tr>\n",
       "    <tr>\n",
       "      <th>PSP</th>\n",
       "      <td>2013</td>\n",
       "    </tr>\n",
       "    <tr>\n",
       "      <th>DS</th>\n",
       "      <td>2013</td>\n",
       "    </tr>\n",
       "  </tbody>\n",
       "</table>\n",
       "</div>"
      ],
      "text/plain": [
       "          year_of_release\n",
       "platform                 \n",
       "PS4                  2015\n",
       "XOne                 2014\n",
       "PC                   2014\n",
       "PSV                  2014\n",
       "3DS                  2014\n",
       "WiiU                 2014\n",
       "PS3                  2014\n",
       "X360                 2013\n",
       "Wii                  2013\n",
       "PSP                  2013\n",
       "DS                   2013"
      ]
     },
     "execution_count": 14,
     "metadata": {},
     "output_type": "execute_result"
    }
   ],
   "source": [
    "data_modern.pivot_table(index='platform', values='year_of_release').sort_values(by='year_of_release', ascending=False).astype('int')"
   ]
  },
  {
   "cell_type": "markdown",
   "metadata": {},
   "source": [
    "И так, вот данные по продажам за последние 4 года, и ожидаемо, в лидерах находятся PS4 и Xбоксы разных покалений. Так же ожидаемо, что старые платформы которые выходили в начале этого периода, уже начианют сбавлять обороты и теряют продажи, по сравнению с платформами нового поколения. Яркие примеры - PS3 и X360. Самым потенциальным вариантом среди новых платформ естественно 2 платформы нового поколения PS4 b XOne, даже по продажам они уже в топах. Относительно интересно еще смотриться WiiU, выпущенная тоже относительно недавно и держащаяся достаточно высоко в продажах."
   ]
  },
  {
   "cell_type": "code",
   "execution_count": 29,
   "metadata": {},
   "outputs": [
    {
     "data": {
      "image/png": "[encoded data removed]",
      "text/plain": [
       "<Figure size 864x432 with 1 Axes>"
      ]
     },
     "metadata": {
      "needs_background": "light"
     },
     "output_type": "display_data"
    }
   ],
   "source": [
    "import warnings\n",
    "warnings.filterwarnings(\"ignore\")\n",
    "data_modern.boxplot(by='platform', column='total_sales', figsize=(12,6))\n",
    "plt.title('Диаграмма размаха по платформам')\n",
    "plt.show()"
   ]
  },
  {
   "cell_type": "markdown",
   "metadata": {},
   "source": [
    "И так уже окончательно тут можно разглядеть, что платформы, которые были описаны ранее, являются самыми прибыльными. Это можно сказать по разбросу высоких значний и медиане. видно, что у платформ нового поколения она выше чем у своих других конкурентов. И как и было сказано так же про WiiU, он тоже достаточно неплохо держится.\n",
    "\n",
    "А само распределение платформ по таким разным разбросам можно объяснить вероятно, кроме популярности мастадонтов из Сони и Майкрософт, еще и мощностью платформ, их портативностью, как у PSP. Почему то последнее как раз не очень популярно на рынке, предположительно как раз из за молой мощности и большой цены на приставку. ЧТо коненчно не скажешь про 3DS, которая получила ошромную популярность для портативной приставки за счет некоторых культовых игр там."
   ]
  },
  {
   "cell_type": "markdown",
   "metadata": {},
   "source": [
    "### Влияние на одну платформу"
   ]
  },
  {
   "cell_type": "code",
   "execution_count": 48,
   "metadata": {},
   "outputs": [
    {
     "data": {
      "image/png": "[encoded data removed]",
      "text/plain": [
       "<Figure size 720x360 with 1 Axes>"
      ]
     },
     "metadata": {
      "needs_background": "light"
     },
     "output_type": "display_data"
    },
    {
     "name": "stdout",
     "output_type": "stream",
     "text": [
      "0.40656790206178095\n"
     ]
    }
   ],
   "source": [
    "data_ps4 = data.query('platform == \"PS4\"')\n",
    "data_ps4.plot(kind='scatter', x='critic_score', y='total_sales', grid=True, figsize=(10,5), title='Critics PS4')\n",
    "plt.show()\n",
    "print(data_ps4['critic_score'].corr(data_ps4['total_sales']))"
   ]
  },
  {
   "cell_type": "code",
   "execution_count": 49,
   "metadata": {},
   "outputs": [
    {
     "data": {
      "image/png": "[encoded data removed]",
      "text/plain": [
       "<Figure size 720x360 with 1 Axes>"
      ]
     },
     "metadata": {
      "needs_background": "light"
     },
     "output_type": "display_data"
    },
    {
     "name": "stdout",
     "output_type": "stream",
     "text": [
      "-0.031957110204556424\n"
     ]
    }
   ],
   "source": [
    "data_ps4.plot(kind='scatter', x='user_score', y='total_sales', grid=True, figsize=(10,5), title='Users PS4')\n",
    "plt.show()\n",
    "print(data_ps4['user_score'].corr(data_ps4['total_sales']))"
   ]
  },
  {
   "cell_type": "markdown",
   "metadata": {},
   "source": [
    "И так, какие же здесь можно сделать выводы. А очень интересные. \n",
    "\n",
    "После того, как мы выбрали для эксперимента самую прибыльную и популярную платформу современности, мы увидели после постройки двух диаграмм рассеивания, что влияние на продажи у критиков и пользователей разное. И после проверки корреляцией вообще показало, что оценки критиков значительно влияют на продажи, в то время как оценки пользователей, практически никак не влияют же на них.\n",
    "\n",
    "Но стоит проверить и на других популярных платформах, так же ли."
   ]
  },
  {
   "cell_type": "code",
   "execution_count": 50,
   "metadata": {},
   "outputs": [
    {
     "data": {
      "image/png": "[encoded data removed]",
      "text/plain": [
       "<Figure size 720x360 with 1 Axes>"
      ]
     },
     "metadata": {
      "needs_background": "light"
     },
     "output_type": "display_data"
    },
    {
     "name": "stdout",
     "output_type": "stream",
     "text": [
      "0.4169983280084017\n"
     ]
    }
   ],
   "source": [
    "data_x = data.query('platform == \"XOne\"')\n",
    "data_x.plot(kind='scatter', x='critic_score', y='total_sales', grid=True, figsize=(10,5), title='Critics XOne')\n",
    "plt.show()\n",
    "print(data_x['critic_score'].corr(data_x['total_sales']))"
   ]
  },
  {
   "cell_type": "code",
   "execution_count": 20,
   "metadata": {},
   "outputs": [
    {
     "data": {
      "image/png": "[encoded data removed]",
      "text/plain": [
       "<Figure size 720x360 with 1 Axes>"
      ]
     },
     "metadata": {
      "needs_background": "light"
     },
     "output_type": "display_data"
    },
    {
     "name": "stdout",
     "output_type": "stream",
     "text": [
      "-0.06892505328279414\n"
     ]
    }
   ],
   "source": [
    "data_x.plot(kind='scatter', x='user_score', y='total_sales', grid=True, figsize=(10,5), title='Users XOne')\n",
    "plt.show()\n",
    "print(data_x['user_score'].corr(data_x['total_sales']))"
   ]
  },
  {
   "cell_type": "code",
   "execution_count": 21,
   "metadata": {},
   "outputs": [
    {
     "data": {
      "image/png": "[encoded data removed]",
      "text/plain": [
       "<Figure size 720x360 with 1 Axes>"
      ]
     },
     "metadata": {
      "needs_background": "light"
     },
     "output_type": "display_data"
    },
    {
     "name": "stdout",
     "output_type": "stream",
     "text": [
      "0.34837976012017485\n"
     ]
    }
   ],
   "source": [
    "data_w = data.query('platform == \"WiiU\"')\n",
    "data_w.plot(kind='scatter', x='critic_score', y='total_sales', grid=True, figsize=(10,5), title='Critics WiiU')\n",
    "plt.show()\n",
    "print(data_w['critic_score'].corr(data_w['total_sales']))"
   ]
  },
  {
   "cell_type": "code",
   "execution_count": 22,
   "metadata": {},
   "outputs": [
    {
     "data": {
      "image/png": "[encoded data removed]",
      "text/plain": [
       "<Figure size 720x360 with 1 Axes>"
      ]
     },
     "metadata": {
      "needs_background": "light"
     },
     "output_type": "display_data"
    },
    {
     "name": "stdout",
     "output_type": "stream",
     "text": [
      "0.4002190202148617\n"
     ]
    }
   ],
   "source": [
    "data_w.plot(kind='scatter', x='user_score', y='total_sales', grid=True, figsize=(10,5), title='Users WiiU')\n",
    "plt.show()\n",
    "print(data_w['user_score'].corr(data_w['total_sales']))"
   ]
  },
  {
   "cell_type": "markdown",
   "metadata": {},
   "source": [
    "Теперь возьмем 2 платформы, XOne и WiiU.\n",
    "И соотнесем выводы для PS4 с ними.\n",
    "Видно сразу, что со сверхпопулярными платформами правило остается неизменным.\n",
    "Однако интереное выявленно было в WiiU. Тут, Как ни странно, но влияние пользователей больше сказывалось на продажи конкретно по этой платформе, выявленное корреляцией, значит, правило как с PS4 и другими платформами не всегда правдиво."
   ]
  },
  {
   "cell_type": "markdown",
   "metadata": {},
   "source": [
    "### Распределение по жанрам"
   ]
  },
  {
   "cell_type": "code",
   "execution_count": 23,
   "metadata": {},
   "outputs": [
    {
     "data": {
      "image/png": "[encoded data removed]",
      "text/plain": [
       "<Figure size 720x360 with 1 Axes>"
      ]
     },
     "metadata": {
      "needs_background": "light"
     },
     "output_type": "display_data"
    }
   ],
   "source": [
    "#data['genre'].value_counts()\n",
    "data.pivot_table(index='genre', values='total_sales').sort_values(by='total_sales', ascending=False).head(10).plot(kind='bar', grid=True, figsize=(10, 5), title='Total sales by genre')\n",
    "plt.show()"
   ]
  },
  {
   "cell_type": "markdown",
   "metadata": {},
   "source": [
    "И так, в отоншении жанров тут картина достаточно очевидная. Мы сделали распределение показывающее прибыль по жанрам, и тут как видно, самым прибыльным жанром является платформер. Это наверняка связано с предыдущими распределениями по продажам в платформах. Все и логично, опять же, кроме платформеров раньше мало что было:D \n",
    "\n",
    "Дальше идет шутеры и ролевые игры, что тоже логично. Огромный бум популярности как раз ролевыйх был во время общего бума игр, а шутеры всегда считались популярны.\n",
    "\n",
    "Что же из самых низкоприбыльных играх, то тут пазлы и симуляторы. Предположительно это можносвязать с целесообразностью компьютерных игр как таковых. Ведь большинство людей ищут в них досуг, расслабление от, возмонжно больших интелектуальных нагрузок, и игры направленные на точное потворствование реальности и головоломки не всегда могут дать такой \"легкий\" досуг."
   ]
  },
  {
   "cell_type": "markdown",
   "metadata": {},
   "source": [
    "## Составление портретов пользователей"
   ]
  },
  {
   "cell_type": "markdown",
   "metadata": {},
   "source": [
    "Приступим к изучению различных регионов по различным показателям. Смотреть будем по разным параметрам - продажи по платформам, продажи по жанрам и как влияет ли рейтинг ESRB в данном регионе на продажи"
   ]
  },
  {
   "cell_type": "markdown",
   "metadata": {},
   "source": [
    "### Регион NA"
   ]
  },
  {
   "cell_type": "code",
   "execution_count": 24,
   "metadata": {},
   "outputs": [
    {
     "data": {
      "text/html": [
       "<div>\n",
       "<style scoped>\n",
       "    .dataframe tbody tr th:only-of-type {\n",
       "        vertical-align: middle;\n",
       "    }\n",
       "\n",
       "    .dataframe tbody tr th {\n",
       "        vertical-align: top;\n",
       "    }\n",
       "\n",
       "    .dataframe thead th {\n",
       "        text-align: right;\n",
       "    }\n",
       "</style>\n",
       "<table border=\"1\" class=\"dataframe\">\n",
       "  <thead>\n",
       "    <tr style=\"text-align: right;\">\n",
       "      <th></th>\n",
       "      <th>na_sales</th>\n",
       "    </tr>\n",
       "    <tr>\n",
       "      <th>platform</th>\n",
       "      <th></th>\n",
       "    </tr>\n",
       "  </thead>\n",
       "  <tbody>\n",
       "    <tr>\n",
       "      <td>PS4</td>\n",
       "      <td>108.74</td>\n",
       "    </tr>\n",
       "    <tr>\n",
       "      <td>XOne</td>\n",
       "      <td>93.12</td>\n",
       "    </tr>\n",
       "    <tr>\n",
       "      <td>X360</td>\n",
       "      <td>81.66</td>\n",
       "    </tr>\n",
       "    <tr>\n",
       "      <td>PS3</td>\n",
       "      <td>63.50</td>\n",
       "    </tr>\n",
       "    <tr>\n",
       "      <td>3DS</td>\n",
       "      <td>38.20</td>\n",
       "    </tr>\n",
       "  </tbody>\n",
       "</table>\n",
       "</div>"
      ],
      "text/plain": [
       "          na_sales\n",
       "platform          \n",
       "PS4         108.74\n",
       "XOne         93.12\n",
       "X360         81.66\n",
       "PS3          63.50\n",
       "3DS          38.20"
      ]
     },
     "execution_count": 24,
     "metadata": {},
     "output_type": "execute_result"
    }
   ],
   "source": [
    "data_na_pl = data_modern.pivot_table(index='platform', values='na_sales', aggfunc='sum').sort_values(by='na_sales', ascending=False).head()\n",
    "data_na_pl"
   ]
  },
  {
   "cell_type": "code",
   "execution_count": 25,
   "metadata": {},
   "outputs": [
    {
     "data": {
      "image/png": "[encoded data removed]",
      "text/plain": [
       "<Figure size 360x216 with 1 Axes>"
      ]
     },
     "metadata": {
      "needs_background": "light"
     },
     "output_type": "display_data"
    }
   ],
   "source": [
    "data_na_pl.plot(kind='bar', grid=True, figsize=(5, 3), title='NA sales by platform')\n",
    "plt.show()"
   ]
  },
  {
   "cell_type": "code",
   "execution_count": 26,
   "metadata": {},
   "outputs": [
    {
     "data": {
      "text/html": [
       "<div>\n",
       "<style scoped>\n",
       "    .dataframe tbody tr th:only-of-type {\n",
       "        vertical-align: middle;\n",
       "    }\n",
       "\n",
       "    .dataframe tbody tr th {\n",
       "        vertical-align: top;\n",
       "    }\n",
       "\n",
       "    .dataframe thead th {\n",
       "        text-align: right;\n",
       "    }\n",
       "</style>\n",
       "<table border=\"1\" class=\"dataframe\">\n",
       "  <thead>\n",
       "    <tr style=\"text-align: right;\">\n",
       "      <th></th>\n",
       "      <th>na_sales</th>\n",
       "    </tr>\n",
       "    <tr>\n",
       "      <th>genre</th>\n",
       "      <th></th>\n",
       "    </tr>\n",
       "  </thead>\n",
       "  <tbody>\n",
       "    <tr>\n",
       "      <td>Action</td>\n",
       "      <td>126.05</td>\n",
       "    </tr>\n",
       "    <tr>\n",
       "      <td>Shooter</td>\n",
       "      <td>109.74</td>\n",
       "    </tr>\n",
       "    <tr>\n",
       "      <td>Sports</td>\n",
       "      <td>65.27</td>\n",
       "    </tr>\n",
       "    <tr>\n",
       "      <td>Role-Playing</td>\n",
       "      <td>46.40</td>\n",
       "    </tr>\n",
       "    <tr>\n",
       "      <td>Misc</td>\n",
       "      <td>27.49</td>\n",
       "    </tr>\n",
       "  </tbody>\n",
       "</table>\n",
       "</div>"
      ],
      "text/plain": [
       "              na_sales\n",
       "genre                 \n",
       "Action          126.05\n",
       "Shooter         109.74\n",
       "Sports           65.27\n",
       "Role-Playing     46.40\n",
       "Misc             27.49"
      ]
     },
     "execution_count": 26,
     "metadata": {},
     "output_type": "execute_result"
    }
   ],
   "source": [
    "data_na_gnr = data_modern.pivot_table(index='genre', values='na_sales', aggfunc='sum').sort_values(by='na_sales', ascending=False).head()\n",
    "data_na_gnr"
   ]
  },
  {
   "cell_type": "code",
   "execution_count": 27,
   "metadata": {},
   "outputs": [
    {
     "data": {
      "image/png": "[encoded data removed]",
      "text/plain": [
       "<Figure size 360x216 with 1 Axes>"
      ]
     },
     "metadata": {
      "needs_background": "light"
     },
     "output_type": "display_data"
    }
   ],
   "source": [
    "data_na_gnr.plot(kind='bar', grid=True, figsize=(5, 3), title='NA sales by genre')\n",
    "plt.show()"
   ]
  },
  {
   "cell_type": "code",
   "execution_count": 28,
   "metadata": {},
   "outputs": [
    {
     "data": {
      "text/html": [
       "<div>\n",
       "<style scoped>\n",
       "    .dataframe tbody tr th:only-of-type {\n",
       "        vertical-align: middle;\n",
       "    }\n",
       "\n",
       "    .dataframe tbody tr th {\n",
       "        vertical-align: top;\n",
       "    }\n",
       "\n",
       "    .dataframe thead th {\n",
       "        text-align: right;\n",
       "    }\n",
       "</style>\n",
       "<table border=\"1\" class=\"dataframe\">\n",
       "  <thead>\n",
       "    <tr style=\"text-align: right;\">\n",
       "      <th></th>\n",
       "      <th>na_sales</th>\n",
       "    </tr>\n",
       "    <tr>\n",
       "      <th>rating</th>\n",
       "      <th></th>\n",
       "    </tr>\n",
       "  </thead>\n",
       "  <tbody>\n",
       "    <tr>\n",
       "      <td>M</td>\n",
       "      <td>165.21</td>\n",
       "    </tr>\n",
       "    <tr>\n",
       "      <td>NR</td>\n",
       "      <td>89.42</td>\n",
       "    </tr>\n",
       "    <tr>\n",
       "      <td>E</td>\n",
       "      <td>79.05</td>\n",
       "    </tr>\n",
       "    <tr>\n",
       "      <td>E10+</td>\n",
       "      <td>54.24</td>\n",
       "    </tr>\n",
       "    <tr>\n",
       "      <td>T</td>\n",
       "      <td>49.79</td>\n",
       "    </tr>\n",
       "  </tbody>\n",
       "</table>\n",
       "</div>"
      ],
      "text/plain": [
       "        na_sales\n",
       "rating          \n",
       "M         165.21\n",
       "NR         89.42\n",
       "E          79.05\n",
       "E10+       54.24\n",
       "T          49.79"
      ]
     },
     "execution_count": 28,
     "metadata": {},
     "output_type": "execute_result"
    }
   ],
   "source": [
    "data_na_rt = data_modern.pivot_table(index='rating', values='na_sales', aggfunc='sum').sort_values(by='na_sales', ascending=False).head()\n",
    "data_na_rt"
   ]
  },
  {
   "cell_type": "code",
   "execution_count": 29,
   "metadata": {},
   "outputs": [
    {
     "data": {
      "image/png": "[encoded data removed]",
      "text/plain": [
       "<Figure size 360x216 with 1 Axes>"
      ]
     },
     "metadata": {
      "needs_background": "light"
     },
     "output_type": "display_data"
    }
   ],
   "source": [
    "data_na_rt.plot(kind='bar', grid=True, figsize=(5, 3), title='NA sales by ESRB rating')\n",
    "plt.show()"
   ]
  },
  {
   "cell_type": "markdown",
   "metadata": {},
   "source": [
    "Начнем с региона Северной Америки. \n",
    "\n",
    "Платформы - как видно, самыми прибыльными 5 платформами остаются самые очевидные варианты. На первом месте с отрывом небольшим все же японская PS4 перебила конкурентов из США, располагающихся на 2 и 3 местах. Так же в топах пока что остается PS3( и предположительно еще минимум 2 года будет там) и 3DS, самая популярная портативная консоль, тут ей нет равных.\n",
    "\n",
    "Жанры - тут же все закономерно, однако за перве место развернулась борьба, между шутерами (как в мировом рейтинге) и экшн играми, и дальше уже интересные жанры, спорт, ММО и разное. Каждая из этих последних 3 была широко распространена как на старых, так и на новых платформах.\n",
    "\n",
    "Ну и рейтинг ESRB интересно повлиял на продажи в Северной Америке. В данном регионе аудитории важно, чтобы в играх были дозволены вещи, так скажем не для детей(предположу что в плане насилия и крови). Продажи в этом рейтинге с большим отрывом находятся тут. Второй строкой находятся игры не обозначеные рейтингом, а дальше все достаточно логично, игры для всех стоят на третей строчке, и сразу после не очень популярный тип игр для подростков и детей чуть младше."
   ]
  },
  {
   "cell_type": "markdown",
   "metadata": {},
   "source": [
    "### Регион EU"
   ]
  },
  {
   "cell_type": "code",
   "execution_count": 30,
   "metadata": {},
   "outputs": [
    {
     "data": {
      "text/html": [
       "<div>\n",
       "<style scoped>\n",
       "    .dataframe tbody tr th:only-of-type {\n",
       "        vertical-align: middle;\n",
       "    }\n",
       "\n",
       "    .dataframe tbody tr th {\n",
       "        vertical-align: top;\n",
       "    }\n",
       "\n",
       "    .dataframe thead th {\n",
       "        text-align: right;\n",
       "    }\n",
       "</style>\n",
       "<table border=\"1\" class=\"dataframe\">\n",
       "  <thead>\n",
       "    <tr style=\"text-align: right;\">\n",
       "      <th></th>\n",
       "      <th>eu_sales</th>\n",
       "    </tr>\n",
       "    <tr>\n",
       "      <th>platform</th>\n",
       "      <th></th>\n",
       "    </tr>\n",
       "  </thead>\n",
       "  <tbody>\n",
       "    <tr>\n",
       "      <td>PS4</td>\n",
       "      <td>141.09</td>\n",
       "    </tr>\n",
       "    <tr>\n",
       "      <td>PS3</td>\n",
       "      <td>67.81</td>\n",
       "    </tr>\n",
       "    <tr>\n",
       "      <td>XOne</td>\n",
       "      <td>51.59</td>\n",
       "    </tr>\n",
       "    <tr>\n",
       "      <td>X360</td>\n",
       "      <td>42.52</td>\n",
       "    </tr>\n",
       "    <tr>\n",
       "      <td>3DS</td>\n",
       "      <td>30.96</td>\n",
       "    </tr>\n",
       "  </tbody>\n",
       "</table>\n",
       "</div>"
      ],
      "text/plain": [
       "          eu_sales\n",
       "platform          \n",
       "PS4         141.09\n",
       "PS3          67.81\n",
       "XOne         51.59\n",
       "X360         42.52\n",
       "3DS          30.96"
      ]
     },
     "execution_count": 30,
     "metadata": {},
     "output_type": "execute_result"
    }
   ],
   "source": [
    "data_eu_pl = data_modern.pivot_table(index='platform', values='eu_sales', aggfunc='sum').sort_values(by='eu_sales', ascending=False).head()\n",
    "data_eu_pl"
   ]
  },
  {
   "cell_type": "code",
   "execution_count": 31,
   "metadata": {},
   "outputs": [
    {
     "data": {
      "image/png": "[encoded data removed]",
      "text/plain": [
       "<Figure size 360x216 with 1 Axes>"
      ]
     },
     "metadata": {
      "needs_background": "light"
     },
     "output_type": "display_data"
    }
   ],
   "source": [
    "data_eu_pl.plot(kind='bar', grid=True, figsize=(5, 3), title='EU sales by platform')\n",
    "plt.show()"
   ]
  },
  {
   "cell_type": "code",
   "execution_count": 32,
   "metadata": {},
   "outputs": [
    {
     "data": {
      "text/html": [
       "<div>\n",
       "<style scoped>\n",
       "    .dataframe tbody tr th:only-of-type {\n",
       "        vertical-align: middle;\n",
       "    }\n",
       "\n",
       "    .dataframe tbody tr th {\n",
       "        vertical-align: top;\n",
       "    }\n",
       "\n",
       "    .dataframe thead th {\n",
       "        text-align: right;\n",
       "    }\n",
       "</style>\n",
       "<table border=\"1\" class=\"dataframe\">\n",
       "  <thead>\n",
       "    <tr style=\"text-align: right;\">\n",
       "      <th></th>\n",
       "      <th>eu_sales</th>\n",
       "    </tr>\n",
       "    <tr>\n",
       "      <th>genre</th>\n",
       "      <th></th>\n",
       "    </tr>\n",
       "  </thead>\n",
       "  <tbody>\n",
       "    <tr>\n",
       "      <td>Action</td>\n",
       "      <td>118.13</td>\n",
       "    </tr>\n",
       "    <tr>\n",
       "      <td>Shooter</td>\n",
       "      <td>87.86</td>\n",
       "    </tr>\n",
       "    <tr>\n",
       "      <td>Sports</td>\n",
       "      <td>60.52</td>\n",
       "    </tr>\n",
       "    <tr>\n",
       "      <td>Role-Playing</td>\n",
       "      <td>36.97</td>\n",
       "    </tr>\n",
       "    <tr>\n",
       "      <td>Racing</td>\n",
       "      <td>20.19</td>\n",
       "    </tr>\n",
       "  </tbody>\n",
       "</table>\n",
       "</div>"
      ],
      "text/plain": [
       "              eu_sales\n",
       "genre                 \n",
       "Action          118.13\n",
       "Shooter          87.86\n",
       "Sports           60.52\n",
       "Role-Playing     36.97\n",
       "Racing           20.19"
      ]
     },
     "execution_count": 32,
     "metadata": {},
     "output_type": "execute_result"
    }
   ],
   "source": [
    "data_eu_gnr = data_modern.pivot_table(index='genre', values='eu_sales', aggfunc='sum').sort_values(by='eu_sales', ascending=False).head()\n",
    "data_eu_gnr"
   ]
  },
  {
   "cell_type": "code",
   "execution_count": 33,
   "metadata": {},
   "outputs": [
    {
     "data": {
      "image/png": "[encoded data removed]",
      "text/plain": [
       "<Figure size 360x216 with 1 Axes>"
      ]
     },
     "metadata": {
      "needs_background": "light"
     },
     "output_type": "display_data"
    }
   ],
   "source": [
    "data_eu_gnr.plot(kind='bar', grid=True, figsize=(5, 3), title='EU sales by genre')\n",
    "plt.show()"
   ]
  },
  {
   "cell_type": "code",
   "execution_count": 34,
   "metadata": {},
   "outputs": [
    {
     "data": {
      "text/html": [
       "<div>\n",
       "<style scoped>\n",
       "    .dataframe tbody tr th:only-of-type {\n",
       "        vertical-align: middle;\n",
       "    }\n",
       "\n",
       "    .dataframe tbody tr th {\n",
       "        vertical-align: top;\n",
       "    }\n",
       "\n",
       "    .dataframe thead th {\n",
       "        text-align: right;\n",
       "    }\n",
       "</style>\n",
       "<table border=\"1\" class=\"dataframe\">\n",
       "  <thead>\n",
       "    <tr style=\"text-align: right;\">\n",
       "      <th></th>\n",
       "      <th>eu_sales</th>\n",
       "    </tr>\n",
       "    <tr>\n",
       "      <th>rating</th>\n",
       "      <th></th>\n",
       "    </tr>\n",
       "  </thead>\n",
       "  <tbody>\n",
       "    <tr>\n",
       "      <td>M</td>\n",
       "      <td>145.32</td>\n",
       "    </tr>\n",
       "    <tr>\n",
       "      <td>E</td>\n",
       "      <td>83.36</td>\n",
       "    </tr>\n",
       "    <tr>\n",
       "      <td>NR</td>\n",
       "      <td>78.91</td>\n",
       "    </tr>\n",
       "    <tr>\n",
       "      <td>E10+</td>\n",
       "      <td>42.69</td>\n",
       "    </tr>\n",
       "    <tr>\n",
       "      <td>T</td>\n",
       "      <td>41.95</td>\n",
       "    </tr>\n",
       "  </tbody>\n",
       "</table>\n",
       "</div>"
      ],
      "text/plain": [
       "        eu_sales\n",
       "rating          \n",
       "M         145.32\n",
       "E          83.36\n",
       "NR         78.91\n",
       "E10+       42.69\n",
       "T          41.95"
      ]
     },
     "execution_count": 34,
     "metadata": {},
     "output_type": "execute_result"
    }
   ],
   "source": [
    "data_eu_rt = data_modern.pivot_table(index='rating', values='eu_sales', aggfunc='sum').sort_values(by='eu_sales', ascending=False).head()\n",
    "data_eu_rt"
   ]
  },
  {
   "cell_type": "code",
   "execution_count": 35,
   "metadata": {},
   "outputs": [
    {
     "data": {
      "image/png": "[encoded data removed]",
      "text/plain": [
       "<Figure size 360x216 with 1 Axes>"
      ]
     },
     "metadata": {
      "needs_background": "light"
     },
     "output_type": "display_data"
    }
   ],
   "source": [
    "data_eu_rt.plot(kind='bar', grid=True, figsize=(5, 3), title='EU sales by ESRB rating')\n",
    "plt.show()"
   ]
  },
  {
   "cell_type": "markdown",
   "metadata": {},
   "source": [
    "Теперь Европейский регион, посмотрим что здесь.\n",
    "\n",
    "Платформы - среди топа платформ уже картина категорически другая. В лидерах стоят последние 2 PS консоли, перегоняя топ консоли США на порядок. Самым большим сюрпризом здесь несомненно как раз вторая строчка рейтинга топ5 -  старая консоль PS3. Ну и замыкает снова же, самая порпулярная порт.консоль 3DS.\n",
    "\n",
    "Жанры - Здесь все почти что идентично с Северной Америкой как по продажам, так и по топ5. За иключением что только в Европе, гонки все же немного популярнее своих других конкурентов.\n",
    "\n",
    "Что же до влияния рейтинга на продажи, тут все так же как и в Америке. Только выделить можно немного большую популярность игры для тинейджеров(вероятно этот уникальный ньюанс заметен в какой то стране Европы) и достаточно большой граф по безрейтинговым играм."
   ]
  },
  {
   "cell_type": "markdown",
   "metadata": {},
   "source": [
    "### Регион JP"
   ]
  },
  {
   "cell_type": "code",
   "execution_count": 36,
   "metadata": {},
   "outputs": [
    {
     "data": {
      "text/html": [
       "<div>\n",
       "<style scoped>\n",
       "    .dataframe tbody tr th:only-of-type {\n",
       "        vertical-align: middle;\n",
       "    }\n",
       "\n",
       "    .dataframe tbody tr th {\n",
       "        vertical-align: top;\n",
       "    }\n",
       "\n",
       "    .dataframe thead th {\n",
       "        text-align: right;\n",
       "    }\n",
       "</style>\n",
       "<table border=\"1\" class=\"dataframe\">\n",
       "  <thead>\n",
       "    <tr style=\"text-align: right;\">\n",
       "      <th></th>\n",
       "      <th>jp_sales</th>\n",
       "    </tr>\n",
       "    <tr>\n",
       "      <th>platform</th>\n",
       "      <th></th>\n",
       "    </tr>\n",
       "  </thead>\n",
       "  <tbody>\n",
       "    <tr>\n",
       "      <td>3DS</td>\n",
       "      <td>67.81</td>\n",
       "    </tr>\n",
       "    <tr>\n",
       "      <td>PS3</td>\n",
       "      <td>23.35</td>\n",
       "    </tr>\n",
       "    <tr>\n",
       "      <td>PSV</td>\n",
       "      <td>18.59</td>\n",
       "    </tr>\n",
       "    <tr>\n",
       "      <td>PS4</td>\n",
       "      <td>15.96</td>\n",
       "    </tr>\n",
       "    <tr>\n",
       "      <td>WiiU</td>\n",
       "      <td>10.88</td>\n",
       "    </tr>\n",
       "  </tbody>\n",
       "</table>\n",
       "</div>"
      ],
      "text/plain": [
       "          jp_sales\n",
       "platform          \n",
       "3DS          67.81\n",
       "PS3          23.35\n",
       "PSV          18.59\n",
       "PS4          15.96\n",
       "WiiU         10.88"
      ]
     },
     "execution_count": 36,
     "metadata": {},
     "output_type": "execute_result"
    }
   ],
   "source": [
    "data_jp_pl = data_modern.pivot_table(index='platform', values='jp_sales', aggfunc='sum').sort_values(by='jp_sales', ascending=False).head()\n",
    "data_jp_pl"
   ]
  },
  {
   "cell_type": "code",
   "execution_count": 37,
   "metadata": {},
   "outputs": [
    {
     "data": {
      "image/png": "[encoded data removed]",
      "text/plain": [
       "<Figure size 360x216 with 1 Axes>"
      ]
     },
     "metadata": {
      "needs_background": "light"
     },
     "output_type": "display_data"
    }
   ],
   "source": [
    "data_jp_pl.plot(kind='bar', grid=True, figsize=(5, 3), title='JP sales by platform')\n",
    "plt.show()"
   ]
  },
  {
   "cell_type": "code",
   "execution_count": 38,
   "metadata": {},
   "outputs": [
    {
     "data": {
      "text/html": [
       "<div>\n",
       "<style scoped>\n",
       "    .dataframe tbody tr th:only-of-type {\n",
       "        vertical-align: middle;\n",
       "    }\n",
       "\n",
       "    .dataframe tbody tr th {\n",
       "        vertical-align: top;\n",
       "    }\n",
       "\n",
       "    .dataframe thead th {\n",
       "        text-align: right;\n",
       "    }\n",
       "</style>\n",
       "<table border=\"1\" class=\"dataframe\">\n",
       "  <thead>\n",
       "    <tr style=\"text-align: right;\">\n",
       "      <th></th>\n",
       "      <th>jp_sales</th>\n",
       "    </tr>\n",
       "    <tr>\n",
       "      <th>genre</th>\n",
       "      <th></th>\n",
       "    </tr>\n",
       "  </thead>\n",
       "  <tbody>\n",
       "    <tr>\n",
       "      <td>Role-Playing</td>\n",
       "      <td>51.04</td>\n",
       "    </tr>\n",
       "    <tr>\n",
       "      <td>Action</td>\n",
       "      <td>40.49</td>\n",
       "    </tr>\n",
       "    <tr>\n",
       "      <td>Misc</td>\n",
       "      <td>9.20</td>\n",
       "    </tr>\n",
       "    <tr>\n",
       "      <td>Fighting</td>\n",
       "      <td>7.65</td>\n",
       "    </tr>\n",
       "    <tr>\n",
       "      <td>Shooter</td>\n",
       "      <td>6.61</td>\n",
       "    </tr>\n",
       "  </tbody>\n",
       "</table>\n",
       "</div>"
      ],
      "text/plain": [
       "              jp_sales\n",
       "genre                 \n",
       "Role-Playing     51.04\n",
       "Action           40.49\n",
       "Misc              9.20\n",
       "Fighting          7.65\n",
       "Shooter           6.61"
      ]
     },
     "execution_count": 38,
     "metadata": {},
     "output_type": "execute_result"
    }
   ],
   "source": [
    "data_jp_gnr = data_modern.pivot_table(index='genre', values='jp_sales', aggfunc='sum').sort_values(by='jp_sales', ascending=False).head()\n",
    "data_jp_gnr"
   ]
  },
  {
   "cell_type": "code",
   "execution_count": 39,
   "metadata": {},
   "outputs": [
    {
     "data": {
      "image/png": "[encoded data removed]",
      "text/plain": [
       "<Figure size 360x216 with 1 Axes>"
      ]
     },
     "metadata": {
      "needs_background": "light"
     },
     "output_type": "display_data"
    }
   ],
   "source": [
    "data_jp_gnr.plot(kind='bar', grid=True, figsize=(5, 3), title='JP sales by genre')\n",
    "plt.show()"
   ]
  },
  {
   "cell_type": "code",
   "execution_count": 40,
   "metadata": {},
   "outputs": [
    {
     "data": {
      "text/html": [
       "<div>\n",
       "<style scoped>\n",
       "    .dataframe tbody tr th:only-of-type {\n",
       "        vertical-align: middle;\n",
       "    }\n",
       "\n",
       "    .dataframe tbody tr th {\n",
       "        vertical-align: top;\n",
       "    }\n",
       "\n",
       "    .dataframe thead th {\n",
       "        text-align: right;\n",
       "    }\n",
       "</style>\n",
       "<table border=\"1\" class=\"dataframe\">\n",
       "  <thead>\n",
       "    <tr style=\"text-align: right;\">\n",
       "      <th></th>\n",
       "      <th>jp_sales</th>\n",
       "    </tr>\n",
       "    <tr>\n",
       "      <th>rating</th>\n",
       "      <th></th>\n",
       "    </tr>\n",
       "  </thead>\n",
       "  <tbody>\n",
       "    <tr>\n",
       "      <td>NR</td>\n",
       "      <td>85.05</td>\n",
       "    </tr>\n",
       "    <tr>\n",
       "      <td>T</td>\n",
       "      <td>20.59</td>\n",
       "    </tr>\n",
       "    <tr>\n",
       "      <td>E</td>\n",
       "      <td>15.14</td>\n",
       "    </tr>\n",
       "    <tr>\n",
       "      <td>M</td>\n",
       "      <td>14.11</td>\n",
       "    </tr>\n",
       "    <tr>\n",
       "      <td>E10+</td>\n",
       "      <td>5.89</td>\n",
       "    </tr>\n",
       "  </tbody>\n",
       "</table>\n",
       "</div>"
      ],
      "text/plain": [
       "        jp_sales\n",
       "rating          \n",
       "NR         85.05\n",
       "T          20.59\n",
       "E          15.14\n",
       "M          14.11\n",
       "E10+        5.89"
      ]
     },
     "execution_count": 40,
     "metadata": {},
     "output_type": "execute_result"
    }
   ],
   "source": [
    "data_jp_rt = data_modern.pivot_table(index='rating', values='jp_sales', aggfunc='sum').sort_values(by='jp_sales', ascending=False).head()\n",
    "data_jp_rt"
   ]
  },
  {
   "cell_type": "code",
   "execution_count": 41,
   "metadata": {},
   "outputs": [
    {
     "data": {
      "image/png": "[encoded data removed]",
      "text/plain": [
       "<Figure size 360x216 with 1 Axes>"
      ]
     },
     "metadata": {
      "needs_background": "light"
     },
     "output_type": "display_data"
    }
   ],
   "source": [
    "data_jp_rt.plot(kind='bar', grid=True, figsize=(5, 3), title='jp sales by ESRB rating')\n",
    "plt.show()"
   ]
  },
  {
   "cell_type": "markdown",
   "metadata": {},
   "source": [
    "Ну и наконец Япония, родина многих культовых платформ и игр, как же тут дела.\n",
    "\n",
    "Платформы - тут конечно разница огромная, по сравнению с другими регионами. Даже дело не в том, что здесь продажи по ним как таковые меньше, что резонно, ведь Япония просто меньше регион по количеству людей чем его конкуренты. А дело в платформах. Здесь популярностью пользуются как раз таки, портативные платформы. в топ5 3/5 платформ - портативки. Первое месте несомненно родная консоль от нинтендо - 3DS, а вот второе место, опять на удивление старая PS3. И далее уже идут конкуренты(если их можно так назвать) 3DS, это PS Vita и WiiU. Но пусть в мире они не составляют конкуренцию, в Японии же картина очень даже соревновательная. Продажи близкие.\n",
    "\n",
    "Жанры - И снова не удивительно, но немного другая картина чем в США и Канаде - лидер MMO что достаточно логично объяснено. Огромный процент всех MMO(как старых так и новых) от сюда, из Японии. Так же, экшн игры занимают свою вторую строчку с мальенким отставанием от MMO. Но далее, идет большущий отрыв от других жанров. Продажи у 3-5 места вместе взятые даже не наберут и второго места. Что вероятно дает намек, что совершернно другой контингент здесь, в Японии.\n",
    "\n",
    "И влияние рейтинга здесь, очень неординарное. Если не считать огромный процент безрейтинговых игры, которые просто вероятно не дошли до главного рейтинга(возможно в Японии есть свой), то можно выделить - Игры для взрослых здесь не играют главенствующую роль. А играет ее - тинейджерские игры. Япония, как другая планета."
   ]
  },
  {
   "cell_type": "markdown",
   "metadata": {},
   "source": [
    "## Проверка гипотез"
   ]
  },
  {
   "cell_type": "markdown",
   "metadata": {},
   "source": [
    "И наконец, практически финишная черта - проверка гипотез, чтобы ответить на важнейшие вопросы и спрогнозировать стратегии на будущий год.\n",
    "\n",
    "Для чистоты эксперимента(или гипотезы) так же проведем небольшие проверки схожести дисперсий проверяемых значений.\n",
    "\n",
    "Значение критической значемости 5%\n",
    "Приступим."
   ]
  },
  {
   "cell_type": "markdown",
   "metadata": {},
   "source": [
    "### Гипотеза 1"
   ]
  },
  {
   "cell_type": "code",
   "execution_count": 42,
   "metadata": {},
   "outputs": [
    {
     "name": "stdout",
     "output_type": "stream",
     "text": [
      "1.9069968429360695 3.035892752408881\n"
     ]
    }
   ],
   "source": [
    "test1 = data_modern.query('platform == \"XOne\"')['user_score']\n",
    "test2 = data_modern.query('platform == \"PC\"')['user_score']\n",
    "var1 = np.var(test1, ddof=1)\n",
    "var2 = np.var(test2, ddof=1)\n",
    "print(var1, var2)"
   ]
  },
  {
   "cell_type": "code",
   "execution_count": 43,
   "metadata": {},
   "outputs": [
    {
     "name": "stdout",
     "output_type": "stream",
     "text": [
      "p-значение: 0.1475959401343003\n",
      "Не получилось выкинуть нулевую гипотезу\n"
     ]
    }
   ],
   "source": [
    "alpha = 0.05\n",
    "hypothesis1 = st.ttest_ind(test1, test2, equal_var=False, nan_policy='omit')\n",
    "print('p-значение:', hypothesis1.pvalue)\n",
    "\n",
    "if hypothesis1.pvalue < alpha:\n",
    "    print(\"Выкидываем нулевую гипотезу\")\n",
    "else:\n",
    "    print(\"Не получилось выкинуть нулевую гипотезу\")"
   ]
  },
  {
   "cell_type": "markdown",
   "metadata": {},
   "source": [
    "Первая гипотеза, она же нулевая гласит - средние пользовательские рейтинги платформ Xbox One и PC одинаковые. От сюда следует, что альтернативой этому будет любое отклонение дисперсий от равенства друг другу. Для проверки данной гипотезы проверим столбцы user_score со срезами по данным нам платформам, чтобы считать критерии оценки от туда.\n",
    "\n",
    "Как выясняется, то все таки нулевая гипотеза оказалась имеет место быть. Судя по результатам теста, оценки пользователей примерно одинаковы на ПК и Xbox One. Это говорит вероятно о непопулярности консоли в мире."
   ]
  },
  {
   "cell_type": "markdown",
   "metadata": {},
   "source": [
    "### Гипотеза 2"
   ]
  },
  {
   "cell_type": "code",
   "execution_count": 44,
   "metadata": {},
   "outputs": [
    {
     "name": "stdout",
     "output_type": "stream",
     "text": [
      "1.7693609042482705 3.180612814465409\n"
     ]
    }
   ],
   "source": [
    "test1_1 = data_modern.query('genre == \"Action\"')['user_score']\n",
    "test2_1 = data_modern.query('genre == \"Sports\"')['user_score']\n",
    "var1_1 = np.var(test1_1, ddof=1)\n",
    "var2_1 = np.var(test2_1, ddof=1)\n",
    "print(var1_1, var2_1)"
   ]
  },
  {
   "cell_type": "code",
   "execution_count": 45,
   "metadata": {},
   "outputs": [
    {
     "name": "stdout",
     "output_type": "stream",
     "text": [
      "p-значение: 1.446003970070351e-20\n",
      "Выкидываем нулевую гипотезу\n"
     ]
    }
   ],
   "source": [
    "alpha = 0.05\n",
    "hypothesis2 = st.ttest_ind(test1_1, test2_1, equal_var=False, nan_policy='omit')\n",
    "print('p-значение:', hypothesis2.pvalue)\n",
    "\n",
    "if hypothesis2.pvalue < alpha:\n",
    "    print(\"Выкидываем нулевую гипотезу\")\n",
    "else:\n",
    "    print(\"Не получилось выкинуть нулевую гипотезу\")"
   ]
  },
  {
   "cell_type": "markdown",
   "metadata": {},
   "source": [
    "И вторая гипотеза, которая говорит - средние пользовательские рейтинги жанров Action (англ. «действие», экшен-игры) и Sports (англ. «спортивные соревнования») разные. Тоесть, по правилам тестов, это будет наша альтернативная гипотеза. И к ней соответственно прибавим нулевую - смысл которой что, средние пользрвательские рейтинги в данных жанрах равны. И критерии будут такие же как в первой гипотезе, за исключением других срезова уже по жанрам.\n",
    "\n",
    "И какой результат. Все таки изначально данная альтернативаная гипотеза оказалась верна, или другими словами, нулевая гипотеза выкидывается. Это значит, что все таки рейтинги которые давали пользователи были практически совершенно разные в этих двух жанрах для проверки."
   ]
  },
  {
   "cell_type": "markdown",
   "metadata": {},
   "source": [
    "## Общий вывод"
   ]
  },
  {
   "cell_type": "markdown",
   "metadata": {},
   "source": [
    "В заключении ко всей работе, можно сказать несколько вещей.\n",
    "Самой потенциально прибыльной платформой можно со спокойной душой считать флагманы рынка PS4 и Xbox One(а их старые версии уже не стоит), они показывают хорошие цифры по современным меркам продаж, \"постбума\". Так же, стоит отметить черную лошадку платформ, WiiU, которая так же в последние годы держалась пусть и не в лидерах, но стабильно в вершине топов.\n",
    "\n",
    "Однако стоит помнить еще 2 вещи - жанры и регионы.\n",
    "По жанрам картина остается относительно одинакова для современности -шутеры и экшн игры, безошибочный вариант, но не для Японии к примеру.\n",
    "В расчет необходимо учитывать национальные предпочтения в жанрах. К примеру для Европейской сцены не будет ошибкой вложитсья в спорт игры или гонки, а уже для Японии, опять же, будет хорошим ходом - в MMO и экшн. \n",
    "\n",
    "Мир игр очень разнообразен, и для каждой мелочи и выбора, нужно все хорошо обдумать и основательно подойти к вопросу."
   ]
  }
 ],
 "metadata": {
  "ExecuteTimeLog": [
   {
    "duration": 1910,
    "start_time": "2021-08-14T12:23:57.382Z"
   },
   {
    "duration": 48,
    "start_time": "2021-08-14T12:24:58.644Z"
   },
   {
    "duration": 401,
    "start_time": "2021-08-14T12:25:28.638Z"
   },
   {
    "duration": 15,
    "start_time": "2021-08-14T12:25:40.838Z"
   },
   {
    "duration": 28,
    "start_time": "2021-08-14T12:26:01.438Z"
   },
   {
    "duration": 268,
    "start_time": "2021-08-14T12:39:10.856Z"
   },
   {
    "duration": 6876,
    "start_time": "2021-08-14T12:39:23.846Z"
   },
   {
    "duration": 38,
    "start_time": "2021-08-14T12:39:34.641Z"
   },
   {
    "duration": 50,
    "start_time": "2021-08-14T12:39:44.365Z"
   },
   {
    "duration": 33,
    "start_time": "2021-08-14T12:39:44.418Z"
   },
   {
    "duration": 38,
    "start_time": "2021-08-14T12:39:45.841Z"
   },
   {
    "duration": 81,
    "start_time": "2021-08-14T12:53:23.162Z"
   },
   {
    "duration": 50,
    "start_time": "2021-08-14T12:53:27.724Z"
   },
   {
    "duration": 29,
    "start_time": "2021-08-14T12:53:27.776Z"
   },
   {
    "duration": 85,
    "start_time": "2021-08-14T12:53:28.751Z"
   },
   {
    "duration": 90,
    "start_time": "2021-08-14T12:53:36.942Z"
   },
   {
    "duration": 88,
    "start_time": "2021-08-14T12:53:47.232Z"
   },
   {
    "duration": 31,
    "start_time": "2021-08-14T12:53:53.002Z"
   },
   {
    "duration": 23,
    "start_time": "2021-08-14T12:54:26.623Z"
   },
   {
    "duration": 30,
    "start_time": "2021-08-14T12:55:55.197Z"
   },
   {
    "duration": 305,
    "start_time": "2021-08-14T13:00:01.933Z"
   },
   {
    "duration": 381,
    "start_time": "2021-08-14T13:00:56.869Z"
   },
   {
    "duration": 17,
    "start_time": "2021-08-14T13:02:00.701Z"
   },
   {
    "duration": 283,
    "start_time": "2021-08-14T13:02:16.199Z"
   },
   {
    "duration": 291,
    "start_time": "2021-08-14T13:02:53.290Z"
   },
   {
    "duration": 30,
    "start_time": "2021-08-14T13:03:10.790Z"
   },
   {
    "duration": 290,
    "start_time": "2021-08-14T13:08:04.975Z"
   },
   {
    "duration": 288,
    "start_time": "2021-08-14T13:13:30.070Z"
   },
   {
    "duration": 91,
    "start_time": "2021-08-14T13:13:52.630Z"
   },
   {
    "duration": 7,
    "start_time": "2021-08-14T13:14:00.588Z"
   },
   {
    "duration": 276,
    "start_time": "2021-08-14T13:14:41.369Z"
   },
   {
    "duration": 290,
    "start_time": "2021-08-14T13:15:07.700Z"
   },
   {
    "duration": 1848,
    "start_time": "2021-08-14T13:15:32.470Z"
   },
   {
    "duration": 274,
    "start_time": "2021-08-14T13:15:52.781Z"
   },
   {
    "duration": 28,
    "start_time": "2021-08-14T13:18:42.823Z"
   },
   {
    "duration": 29,
    "start_time": "2021-08-14T13:19:37.723Z"
   },
   {
    "duration": 16,
    "start_time": "2021-08-14T13:19:55.315Z"
   },
   {
    "duration": 16,
    "start_time": "2021-08-14T13:20:01.473Z"
   },
   {
    "duration": 3300,
    "start_time": "2021-08-14T13:20:10.336Z"
   },
   {
    "duration": 14,
    "start_time": "2021-08-14T13:21:52.046Z"
   },
   {
    "duration": 18,
    "start_time": "2021-08-14T13:25:10.059Z"
   },
   {
    "duration": 18,
    "start_time": "2021-08-14T13:26:43.891Z"
   },
   {
    "duration": 21,
    "start_time": "2021-08-14T13:34:13.815Z"
   },
   {
    "duration": 19,
    "start_time": "2021-08-14T13:34:15.241Z"
   },
   {
    "duration": 20,
    "start_time": "2021-08-14T13:34:34.551Z"
   },
   {
    "duration": 10,
    "start_time": "2021-08-14T14:32:19.657Z"
   },
   {
    "duration": 9,
    "start_time": "2021-08-14T14:32:48.558Z"
   },
   {
    "duration": 15,
    "start_time": "2021-08-14T14:32:55.710Z"
   },
   {
    "duration": 36,
    "start_time": "2021-08-14T14:37:13.636Z"
   },
   {
    "duration": 35,
    "start_time": "2021-08-14T14:37:28.253Z"
   },
   {
    "duration": 11,
    "start_time": "2021-08-14T14:37:31.327Z"
   },
   {
    "duration": 48,
    "start_time": "2021-08-14T14:38:05.484Z"
   },
   {
    "duration": 29,
    "start_time": "2021-08-14T14:38:05.534Z"
   },
   {
    "duration": 24,
    "start_time": "2021-08-14T14:38:05.566Z"
   },
   {
    "duration": 12,
    "start_time": "2021-08-14T14:38:05.593Z"
   },
   {
    "duration": 19,
    "start_time": "2021-08-14T14:38:05.607Z"
   },
   {
    "duration": 33,
    "start_time": "2021-08-14T14:38:05.629Z"
   },
   {
    "duration": 43,
    "start_time": "2021-08-14T14:38:05.664Z"
   },
   {
    "duration": 34,
    "start_time": "2021-08-14T14:38:07.356Z"
   },
   {
    "duration": 10,
    "start_time": "2021-08-14T14:38:08.736Z"
   },
   {
    "duration": 36,
    "start_time": "2021-08-14T14:38:53.297Z"
   },
   {
    "duration": 38,
    "start_time": "2021-08-14T14:39:10.088Z"
   },
   {
    "duration": 30,
    "start_time": "2021-08-14T14:39:18.198Z"
   },
   {
    "duration": 9,
    "start_time": "2021-08-14T14:39:26.808Z"
   },
   {
    "duration": 272,
    "start_time": "2021-08-14T14:40:18.859Z"
   },
   {
    "duration": 31,
    "start_time": "2021-08-14T14:41:09.549Z"
   },
   {
    "duration": 38,
    "start_time": "2021-08-14T14:42:20.540Z"
   },
   {
    "duration": 40,
    "start_time": "2021-08-14T14:42:26.461Z"
   },
   {
    "duration": 24,
    "start_time": "2021-08-14T14:42:52.259Z"
   },
   {
    "duration": 27,
    "start_time": "2021-08-14T14:44:57.032Z"
   },
   {
    "duration": 37,
    "start_time": "2021-08-14T14:45:08.101Z"
   },
   {
    "duration": 35,
    "start_time": "2021-08-14T14:47:31.663Z"
   },
   {
    "duration": 7,
    "start_time": "2021-08-14T14:48:02.051Z"
   },
   {
    "duration": 415,
    "start_time": "2021-08-14T14:51:28.486Z"
   },
   {
    "duration": 6,
    "start_time": "2021-08-14T14:52:25.337Z"
   },
   {
    "duration": 13,
    "start_time": "2021-08-14T14:56:18.082Z"
   },
   {
    "duration": 415,
    "start_time": "2021-08-14T14:56:36.082Z"
   },
   {
    "duration": 43,
    "start_time": "2021-08-14T15:05:57.986Z"
   },
   {
    "duration": 12,
    "start_time": "2021-08-14T15:06:25.452Z"
   },
   {
    "duration": 406,
    "start_time": "2021-08-14T15:06:28.191Z"
   },
   {
    "duration": 12,
    "start_time": "2021-08-14T15:06:29.411Z"
   },
   {
    "duration": 27,
    "start_time": "2021-08-14T15:15:26.324Z"
   },
   {
    "duration": 23,
    "start_time": "2021-08-14T15:15:36.026Z"
   },
   {
    "duration": 700,
    "start_time": "2021-08-14T15:21:29.937Z"
   },
   {
    "duration": 275,
    "start_time": "2021-08-14T15:21:33.763Z"
   },
   {
    "duration": 4,
    "start_time": "2021-08-14T15:21:42.503Z"
   },
   {
    "duration": 6,
    "start_time": "2021-08-14T15:21:47.464Z"
   },
   {
    "duration": 23,
    "start_time": "2021-08-14T15:24:11.045Z"
   },
   {
    "duration": 23,
    "start_time": "2021-08-14T15:24:31.621Z"
   },
   {
    "duration": 25,
    "start_time": "2021-08-14T15:24:52.156Z"
   },
   {
    "duration": 48,
    "start_time": "2021-08-14T15:24:56.821Z"
   },
   {
    "duration": 31,
    "start_time": "2021-08-14T15:24:56.872Z"
   },
   {
    "duration": 23,
    "start_time": "2021-08-14T15:24:56.907Z"
   },
   {
    "duration": 35,
    "start_time": "2021-08-14T15:24:56.932Z"
   },
   {
    "duration": 22,
    "start_time": "2021-08-14T15:24:56.970Z"
   },
   {
    "duration": 9,
    "start_time": "2021-08-14T15:24:56.995Z"
   },
   {
    "duration": 81,
    "start_time": "2021-08-14T15:24:57.007Z"
   },
   {
    "duration": 23,
    "start_time": "2021-08-14T15:24:58.046Z"
   },
   {
    "duration": 331,
    "start_time": "2021-08-14T15:28:35.516Z"
   },
   {
    "duration": 21,
    "start_time": "2021-08-14T15:32:58.451Z"
   },
   {
    "duration": 15,
    "start_time": "2021-08-14T15:33:51.505Z"
   },
   {
    "duration": 21,
    "start_time": "2021-08-14T15:34:00.733Z"
   },
   {
    "duration": 19,
    "start_time": "2021-08-14T15:35:18.946Z"
   },
   {
    "duration": 24,
    "start_time": "2021-08-14T15:35:24.864Z"
   },
   {
    "duration": 20,
    "start_time": "2021-08-14T15:35:45.886Z"
   },
   {
    "duration": 267,
    "start_time": "2021-08-14T15:38:21.628Z"
   },
   {
    "duration": 21,
    "start_time": "2021-08-14T15:42:35.093Z"
   },
   {
    "duration": 329,
    "start_time": "2021-08-14T15:42:46.659Z"
   },
   {
    "duration": 322,
    "start_time": "2021-08-14T15:43:13.622Z"
   },
   {
    "duration": 29,
    "start_time": "2021-08-14T15:45:54.902Z"
   },
   {
    "duration": 96,
    "start_time": "2021-08-14T15:50:33.763Z"
   },
   {
    "duration": 644,
    "start_time": "2021-08-14T15:50:38.486Z"
   },
   {
    "duration": 697,
    "start_time": "2021-08-14T15:51:08.988Z"
   },
   {
    "duration": 688,
    "start_time": "2021-08-14T15:51:34.768Z"
   },
   {
    "duration": 661,
    "start_time": "2021-08-14T15:53:00.441Z"
   },
   {
    "duration": 591,
    "start_time": "2021-08-14T15:53:06.820Z"
   },
   {
    "duration": 580,
    "start_time": "2021-08-14T15:53:33.721Z"
   },
   {
    "duration": 613,
    "start_time": "2021-08-14T15:54:00.832Z"
   },
   {
    "duration": 637,
    "start_time": "2021-08-14T15:54:44.101Z"
   },
   {
    "duration": 618,
    "start_time": "2021-08-14T16:10:05.784Z"
   },
   {
    "duration": 666,
    "start_time": "2021-08-14T16:12:43.346Z"
   },
   {
    "duration": 1139,
    "start_time": "2021-08-14T16:12:50.976Z"
   },
   {
    "duration": 11753,
    "start_time": "2021-08-14T16:13:27.227Z"
   },
   {
    "duration": 650,
    "start_time": "2021-08-14T16:15:37.988Z"
   },
   {
    "duration": 1150,
    "start_time": "2021-08-14T16:15:51.051Z"
   },
   {
    "duration": 384,
    "start_time": "2021-08-14T16:17:28.680Z"
   },
   {
    "duration": 770,
    "start_time": "2021-08-14T16:18:17.011Z"
   },
   {
    "duration": 385,
    "start_time": "2021-08-14T16:18:28.455Z"
   },
   {
    "duration": 626,
    "start_time": "2021-08-14T16:19:32.474Z"
   },
   {
    "duration": 759,
    "start_time": "2021-08-14T16:19:43.822Z"
   },
   {
    "duration": 325,
    "start_time": "2021-08-14T16:20:38.746Z"
   },
   {
    "duration": 595,
    "start_time": "2021-08-14T16:22:21.415Z"
   },
   {
    "duration": 907,
    "start_time": "2021-08-14T16:22:57.256Z"
   },
   {
    "duration": 326,
    "start_time": "2021-08-14T17:45:31.168Z"
   },
   {
    "duration": 366,
    "start_time": "2021-08-14T17:45:48.196Z"
   },
   {
    "duration": 254,
    "start_time": "2021-08-14T19:06:05.286Z"
   },
   {
    "duration": 961,
    "start_time": "2021-08-14T19:06:09.928Z"
   },
   {
    "duration": 21,
    "start_time": "2021-08-14T19:06:10.891Z"
   },
   {
    "duration": 11,
    "start_time": "2021-08-14T19:06:10.913Z"
   },
   {
    "duration": 12,
    "start_time": "2021-08-14T19:06:10.925Z"
   },
   {
    "duration": 14,
    "start_time": "2021-08-14T19:06:10.939Z"
   },
   {
    "duration": 6,
    "start_time": "2021-08-14T19:06:10.954Z"
   },
   {
    "duration": 50,
    "start_time": "2021-08-14T19:06:10.961Z"
   },
   {
    "duration": 16,
    "start_time": "2021-08-14T19:06:11.012Z"
   },
   {
    "duration": 8,
    "start_time": "2021-08-14T19:06:11.029Z"
   },
   {
    "duration": 230,
    "start_time": "2021-08-14T19:06:11.038Z"
   },
   {
    "duration": 7,
    "start_time": "2021-08-14T19:06:11.270Z"
   },
   {
    "duration": 26,
    "start_time": "2021-08-14T19:06:11.279Z"
   },
   {
    "duration": 220,
    "start_time": "2021-08-14T19:06:11.307Z"
   },
   {
    "duration": 191,
    "start_time": "2021-08-14T19:06:36.057Z"
   },
   {
    "duration": 183,
    "start_time": "2021-08-14T19:14:46.229Z"
   },
   {
    "duration": 189,
    "start_time": "2021-08-14T19:25:38.028Z"
   },
   {
    "duration": 183,
    "start_time": "2021-08-14T19:35:30.840Z"
   },
   {
    "duration": 184,
    "start_time": "2021-08-14T19:36:24.802Z"
   },
   {
    "duration": 282,
    "start_time": "2021-08-14T19:38:45.883Z"
   },
   {
    "duration": 176,
    "start_time": "2021-08-14T19:39:27.797Z"
   },
   {
    "duration": 286,
    "start_time": "2021-08-14T19:48:02.723Z"
   },
   {
    "duration": 176,
    "start_time": "2021-08-14T19:53:29.613Z"
   },
   {
    "duration": 191,
    "start_time": "2021-08-14T19:55:31.161Z"
   },
   {
    "duration": 189,
    "start_time": "2021-08-14T19:58:27.521Z"
   },
   {
    "duration": 329,
    "start_time": "2021-08-15T11:53:53.781Z"
   },
   {
    "duration": 1278,
    "start_time": "2021-08-15T11:53:58.339Z"
   },
   {
    "duration": 35,
    "start_time": "2021-08-15T11:53:59.619Z"
   },
   {
    "duration": 18,
    "start_time": "2021-08-15T11:53:59.657Z"
   },
   {
    "duration": 33,
    "start_time": "2021-08-15T11:53:59.678Z"
   },
   {
    "duration": 20,
    "start_time": "2021-08-15T11:53:59.714Z"
   },
   {
    "duration": 10,
    "start_time": "2021-08-15T11:53:59.736Z"
   },
   {
    "duration": 79,
    "start_time": "2021-08-15T11:53:59.748Z"
   },
   {
    "duration": 25,
    "start_time": "2021-08-15T11:53:59.830Z"
   },
   {
    "duration": 15,
    "start_time": "2021-08-15T11:53:59.858Z"
   },
   {
    "duration": 483,
    "start_time": "2021-08-15T11:53:59.901Z"
   },
   {
    "duration": 24,
    "start_time": "2021-08-15T11:54:00.387Z"
   },
   {
    "duration": 51,
    "start_time": "2021-08-15T11:54:00.413Z"
   },
   {
    "duration": 378,
    "start_time": "2021-08-15T11:54:00.468Z"
   },
   {
    "duration": 354,
    "start_time": "2021-08-15T11:55:04.323Z"
   },
   {
    "duration": 390,
    "start_time": "2021-08-15T11:55:17.994Z"
   },
   {
    "duration": 702,
    "start_time": "2021-08-15T11:59:15.767Z"
   },
   {
    "duration": 349,
    "start_time": "2021-08-15T11:59:38.935Z"
   },
   {
    "duration": 6722,
    "start_time": "2021-08-15T12:02:18.935Z"
   },
   {
    "duration": 373,
    "start_time": "2021-08-15T12:02:27.036Z"
   },
   {
    "duration": 343,
    "start_time": "2021-08-15T12:02:34.216Z"
   },
   {
    "duration": 84,
    "start_time": "2021-08-15T12:11:48.978Z"
   },
   {
    "duration": 12,
    "start_time": "2021-08-15T12:12:01.461Z"
   },
   {
    "duration": 33,
    "start_time": "2021-08-15T12:12:03.275Z"
   },
   {
    "duration": 535,
    "start_time": "2021-08-15T12:12:08.902Z"
   },
   {
    "duration": 299,
    "start_time": "2021-08-15T12:16:04.234Z"
   },
   {
    "duration": 27,
    "start_time": "2021-08-15T12:16:14.756Z"
   },
   {
    "duration": 324,
    "start_time": "2021-08-15T12:19:15.465Z"
   },
   {
    "duration": 327,
    "start_time": "2021-08-15T12:19:20.699Z"
   },
   {
    "duration": 336,
    "start_time": "2021-08-15T12:19:23.739Z"
   },
   {
    "duration": 24,
    "start_time": "2021-08-15T12:19:33.470Z"
   },
   {
    "duration": 811,
    "start_time": "2021-08-15T12:20:05.861Z"
   },
   {
    "duration": 21,
    "start_time": "2021-08-15T12:20:20.490Z"
   },
   {
    "duration": 21,
    "start_time": "2021-08-15T12:20:29.990Z"
   },
   {
    "duration": 27,
    "start_time": "2021-08-15T12:21:07.212Z"
   },
   {
    "duration": 33,
    "start_time": "2021-08-15T12:21:15.752Z"
   },
   {
    "duration": 30,
    "start_time": "2021-08-15T12:21:27.202Z"
   },
   {
    "duration": 98,
    "start_time": "2021-08-15T12:22:15.204Z"
   },
   {
    "duration": 22,
    "start_time": "2021-08-15T12:22:18.722Z"
   },
   {
    "duration": 21,
    "start_time": "2021-08-15T12:22:21.911Z"
   },
   {
    "duration": 215,
    "start_time": "2021-08-15T12:31:31.525Z"
   },
   {
    "duration": 468,
    "start_time": "2021-08-15T12:31:46.768Z"
   },
   {
    "duration": 215,
    "start_time": "2021-08-15T12:31:59.690Z"
   },
   {
    "duration": 210,
    "start_time": "2021-08-15T12:32:16.491Z"
   },
   {
    "duration": 278,
    "start_time": "2021-08-15T12:33:09.002Z"
   },
   {
    "duration": 217,
    "start_time": "2021-08-15T12:33:21.392Z"
   },
   {
    "duration": 300,
    "start_time": "2021-08-15T12:33:31.510Z"
   },
   {
    "duration": 1311,
    "start_time": "2021-08-15T12:35:41.404Z"
   },
   {
    "duration": 872,
    "start_time": "2021-08-15T12:36:34.813Z"
   },
   {
    "duration": 678,
    "start_time": "2021-08-15T12:37:41.225Z"
   },
   {
    "duration": 260,
    "start_time": "2021-08-15T12:39:01.969Z"
   },
   {
    "duration": 805,
    "start_time": "2021-08-15T12:39:12.448Z"
   },
   {
    "duration": 36,
    "start_time": "2021-08-15T13:02:21.002Z"
   },
   {
    "duration": 463,
    "start_time": "2021-08-15T13:02:39.467Z"
   },
   {
    "duration": 476,
    "start_time": "2021-08-15T13:02:47.928Z"
   },
   {
    "duration": 463,
    "start_time": "2021-08-15T13:03:04.837Z"
   },
   {
    "duration": 474,
    "start_time": "2021-08-15T13:03:44.349Z"
   },
   {
    "duration": 508,
    "start_time": "2021-08-15T13:03:46.636Z"
   },
   {
    "duration": 527,
    "start_time": "2021-08-15T13:06:09.180Z"
   },
   {
    "duration": -75,
    "start_time": "2021-08-15T13:06:43.464Z"
   },
   {
    "duration": 465,
    "start_time": "2021-08-15T13:06:43.951Z"
   },
   {
    "duration": 508,
    "start_time": "2021-08-15T13:19:50.446Z"
   },
   {
    "duration": 520,
    "start_time": "2021-08-15T13:19:56.904Z"
   },
   {
    "duration": 504,
    "start_time": "2021-08-15T13:22:05.480Z"
   },
   {
    "duration": 481,
    "start_time": "2021-08-15T13:22:07.906Z"
   },
   {
    "duration": 521,
    "start_time": "2021-08-15T13:22:12.974Z"
   },
   {
    "duration": 691,
    "start_time": "2021-08-15T13:22:15.125Z"
   },
   {
    "duration": 483,
    "start_time": "2021-08-15T13:22:34.711Z"
   },
   {
    "duration": 510,
    "start_time": "2021-08-15T13:22:37.685Z"
   },
   {
    "duration": 1560,
    "start_time": "2021-08-15T13:29:11.183Z"
   },
   {
    "duration": 34,
    "start_time": "2021-08-15T13:29:12.747Z"
   },
   {
    "duration": 40,
    "start_time": "2021-08-15T13:29:12.784Z"
   },
   {
    "duration": 12,
    "start_time": "2021-08-15T13:29:12.827Z"
   },
   {
    "duration": 20,
    "start_time": "2021-08-15T13:29:12.842Z"
   },
   {
    "duration": 45,
    "start_time": "2021-08-15T13:29:12.865Z"
   },
   {
    "duration": 46,
    "start_time": "2021-08-15T13:29:12.913Z"
   },
   {
    "duration": 52,
    "start_time": "2021-08-15T13:29:12.963Z"
   },
   {
    "duration": 15,
    "start_time": "2021-08-15T13:29:13.018Z"
   },
   {
    "duration": 480,
    "start_time": "2021-08-15T13:29:13.035Z"
   },
   {
    "duration": 14,
    "start_time": "2021-08-15T13:29:13.518Z"
   },
   {
    "duration": 395,
    "start_time": "2021-08-15T13:29:13.534Z"
   },
   {
    "duration": 22,
    "start_time": "2021-08-15T13:29:13.932Z"
   },
   {
    "duration": 46,
    "start_time": "2021-08-15T13:29:13.957Z"
   },
   {
    "duration": 545,
    "start_time": "2021-08-15T13:29:14.006Z"
   },
   {
    "duration": 46,
    "start_time": "2021-08-15T13:29:14.554Z"
   },
   {
    "duration": 502,
    "start_time": "2021-08-15T13:29:14.604Z"
   },
   {
    "duration": 492,
    "start_time": "2021-08-15T13:29:15.109Z"
   },
   {
    "duration": 480,
    "start_time": "2021-08-15T13:29:15.604Z"
   },
   {
    "duration": 488,
    "start_time": "2021-08-15T13:29:16.086Z"
   },
   {
    "duration": 494,
    "start_time": "2021-08-15T13:29:16.577Z"
   },
   {
    "duration": 590,
    "start_time": "2021-08-15T13:29:17.073Z"
   },
   {
    "duration": 3,
    "start_time": "2021-08-15T13:29:17.668Z"
   },
   {
    "duration": 1366,
    "start_time": "2021-08-15T13:31:19.946Z"
   },
   {
    "duration": 37,
    "start_time": "2021-08-15T13:31:21.314Z"
   },
   {
    "duration": 53,
    "start_time": "2021-08-15T13:31:21.358Z"
   },
   {
    "duration": 16,
    "start_time": "2021-08-15T13:31:21.414Z"
   },
   {
    "duration": 25,
    "start_time": "2021-08-15T13:31:21.432Z"
   },
   {
    "duration": 9,
    "start_time": "2021-08-15T13:31:21.460Z"
   },
   {
    "duration": 51,
    "start_time": "2021-08-15T13:31:21.502Z"
   },
   {
    "duration": 49,
    "start_time": "2021-08-15T13:31:21.557Z"
   },
   {
    "duration": 14,
    "start_time": "2021-08-15T13:31:21.609Z"
   },
   {
    "duration": 452,
    "start_time": "2021-08-15T13:31:21.626Z"
   },
   {
    "duration": 12,
    "start_time": "2021-08-15T13:31:22.080Z"
   },
   {
    "duration": 386,
    "start_time": "2021-08-15T13:31:22.101Z"
   },
   {
    "duration": 37,
    "start_time": "2021-08-15T13:31:22.490Z"
   },
   {
    "duration": 20,
    "start_time": "2021-08-15T13:31:22.529Z"
   },
   {
    "duration": 608,
    "start_time": "2021-08-15T13:31:22.551Z"
   },
   {
    "duration": 524,
    "start_time": "2021-08-15T13:31:23.162Z"
   },
   {
    "duration": 484,
    "start_time": "2021-08-15T13:31:23.689Z"
   },
   {
    "duration": 492,
    "start_time": "2021-08-15T13:31:24.176Z"
   },
   {
    "duration": 495,
    "start_time": "2021-08-15T13:31:24.671Z"
   },
   {
    "duration": 517,
    "start_time": "2021-08-15T13:31:25.168Z"
   },
   {
    "duration": 592,
    "start_time": "2021-08-15T13:31:25.687Z"
   },
   {
    "duration": 19,
    "start_time": "2021-08-15T13:31:26.283Z"
   },
   {
    "duration": 1476,
    "start_time": "2021-08-15T13:35:31.623Z"
   },
   {
    "duration": 39,
    "start_time": "2021-08-15T13:35:33.102Z"
   },
   {
    "duration": 18,
    "start_time": "2021-08-15T13:35:33.148Z"
   },
   {
    "duration": 43,
    "start_time": "2021-08-15T13:35:33.169Z"
   },
   {
    "duration": 22,
    "start_time": "2021-08-15T13:35:33.216Z"
   },
   {
    "duration": 10,
    "start_time": "2021-08-15T13:35:33.241Z"
   },
   {
    "duration": 86,
    "start_time": "2021-08-15T13:35:33.258Z"
   },
   {
    "duration": 23,
    "start_time": "2021-08-15T13:35:33.347Z"
   },
   {
    "duration": 40,
    "start_time": "2021-08-15T13:35:33.373Z"
   },
   {
    "duration": 470,
    "start_time": "2021-08-15T13:35:33.416Z"
   },
   {
    "duration": 21,
    "start_time": "2021-08-15T13:35:33.888Z"
   },
   {
    "duration": 402,
    "start_time": "2021-08-15T13:35:33.912Z"
   },
   {
    "duration": 24,
    "start_time": "2021-08-15T13:35:34.317Z"
   },
   {
    "duration": 22,
    "start_time": "2021-08-15T13:35:34.343Z"
   },
   {
    "duration": 575,
    "start_time": "2021-08-15T13:35:34.368Z"
   },
   {
    "duration": 528,
    "start_time": "2021-08-15T13:35:34.945Z"
   },
   {
    "duration": 501,
    "start_time": "2021-08-15T13:35:35.475Z"
   },
   {
    "duration": 609,
    "start_time": "2021-08-15T13:35:35.978Z"
   },
   {
    "duration": 483,
    "start_time": "2021-08-15T13:35:36.589Z"
   },
   {
    "duration": 490,
    "start_time": "2021-08-15T13:35:37.075Z"
   },
   {
    "duration": 563,
    "start_time": "2021-08-15T13:35:37.567Z"
   },
   {
    "duration": 352,
    "start_time": "2021-08-15T13:35:38.134Z"
   },
   {
    "duration": 21,
    "start_time": "2021-08-15T15:50:40.743Z"
   },
   {
    "duration": 17,
    "start_time": "2021-08-15T15:52:17.234Z"
   },
   {
    "duration": 22,
    "start_time": "2021-08-15T15:52:25.542Z"
   },
   {
    "duration": 22,
    "start_time": "2021-08-15T15:53:03.425Z"
   },
   {
    "duration": 20,
    "start_time": "2021-08-15T15:53:06.505Z"
   },
   {
    "duration": 20,
    "start_time": "2021-08-15T15:53:57.724Z"
   },
   {
    "duration": 21,
    "start_time": "2021-08-15T15:54:18.447Z"
   },
   {
    "duration": 22,
    "start_time": "2021-08-15T15:54:27.277Z"
   },
   {
    "duration": 21,
    "start_time": "2021-08-15T15:55:15.978Z"
   },
   {
    "duration": 21,
    "start_time": "2021-08-15T15:55:19.618Z"
   },
   {
    "duration": 19,
    "start_time": "2021-08-15T15:55:21.929Z"
   },
   {
    "duration": 318,
    "start_time": "2021-08-15T19:40:54.224Z"
   },
   {
    "duration": 1376,
    "start_time": "2021-08-15T19:40:58.780Z"
   },
   {
    "duration": 36,
    "start_time": "2021-08-15T19:41:00.159Z"
   },
   {
    "duration": 19,
    "start_time": "2021-08-15T19:41:00.198Z"
   },
   {
    "duration": 44,
    "start_time": "2021-08-15T19:41:00.220Z"
   },
   {
    "duration": 27,
    "start_time": "2021-08-15T19:41:00.267Z"
   },
   {
    "duration": 10,
    "start_time": "2021-08-15T19:41:00.296Z"
   },
   {
    "duration": 76,
    "start_time": "2021-08-15T19:41:00.308Z"
   },
   {
    "duration": 23,
    "start_time": "2021-08-15T19:41:00.388Z"
   },
   {
    "duration": 12,
    "start_time": "2021-08-15T19:41:00.414Z"
   },
   {
    "duration": 475,
    "start_time": "2021-08-15T19:41:00.428Z"
   },
   {
    "duration": 14,
    "start_time": "2021-08-15T19:41:00.906Z"
   },
   {
    "duration": 396,
    "start_time": "2021-08-15T19:41:00.924Z"
   },
   {
    "duration": 41,
    "start_time": "2021-08-15T19:41:01.323Z"
   },
   {
    "duration": 25,
    "start_time": "2021-08-15T19:41:01.367Z"
   },
   {
    "duration": 521,
    "start_time": "2021-08-15T19:41:01.395Z"
   },
   {
    "duration": 522,
    "start_time": "2021-08-15T19:41:01.919Z"
   },
   {
    "duration": 467,
    "start_time": "2021-08-15T19:41:02.443Z"
   },
   {
    "duration": 487,
    "start_time": "2021-08-15T19:41:02.913Z"
   },
   {
    "duration": 486,
    "start_time": "2021-08-15T19:41:03.404Z"
   },
   {
    "duration": 505,
    "start_time": "2021-08-15T19:41:03.892Z"
   },
   {
    "duration": 531,
    "start_time": "2021-08-15T19:41:04.401Z"
   },
   {
    "duration": 329,
    "start_time": "2021-08-15T19:41:04.934Z"
   },
   {
    "duration": 21,
    "start_time": "2021-08-15T19:41:05.269Z"
   },
   {
    "duration": 31,
    "start_time": "2021-08-15T19:41:05.292Z"
   },
   {
    "duration": 46,
    "start_time": "2021-08-15T19:41:05.327Z"
   },
   {
    "duration": 37,
    "start_time": "2021-08-15T19:41:05.377Z"
   },
   {
    "duration": 48,
    "start_time": "2021-08-15T19:44:18.436Z"
   },
   {
    "duration": 30,
    "start_time": "2021-08-15T19:44:18.487Z"
   },
   {
    "duration": 8232,
    "start_time": "2021-08-15T19:44:32.579Z"
   },
   {
    "duration": 15,
    "start_time": "2021-08-15T19:44:49.243Z"
   },
   {
    "duration": 296,
    "start_time": "2021-08-15T19:49:04.851Z"
   },
   {
    "duration": 47,
    "start_time": "2021-08-15T19:49:10.614Z"
   },
   {
    "duration": 36,
    "start_time": "2021-08-15T19:49:10.663Z"
   },
   {
    "duration": 23,
    "start_time": "2021-08-15T19:49:10.702Z"
   },
   {
    "duration": 38,
    "start_time": "2021-08-15T19:49:10.728Z"
   },
   {
    "duration": 30,
    "start_time": "2021-08-15T19:49:10.769Z"
   },
   {
    "duration": 12,
    "start_time": "2021-08-15T19:49:10.801Z"
   },
   {
    "duration": 49,
    "start_time": "2021-08-15T19:49:10.856Z"
   },
   {
    "duration": 22,
    "start_time": "2021-08-15T19:49:10.907Z"
   },
   {
    "duration": 13,
    "start_time": "2021-08-15T19:49:10.957Z"
   },
   {
    "duration": 446,
    "start_time": "2021-08-15T19:49:10.973Z"
   },
   {
    "duration": 13,
    "start_time": "2021-08-15T19:49:11.421Z"
   },
   {
    "duration": 391,
    "start_time": "2021-08-15T19:49:11.436Z"
   },
   {
    "duration": 35,
    "start_time": "2021-08-15T19:49:11.829Z"
   },
   {
    "duration": 21,
    "start_time": "2021-08-15T19:49:11.866Z"
   },
   {
    "duration": 523,
    "start_time": "2021-08-15T19:49:11.889Z"
   },
   {
    "duration": 519,
    "start_time": "2021-08-15T19:49:12.415Z"
   },
   {
    "duration": 494,
    "start_time": "2021-08-15T19:49:12.937Z"
   },
   {
    "duration": 478,
    "start_time": "2021-08-15T19:49:13.433Z"
   },
   {
    "duration": 475,
    "start_time": "2021-08-15T19:49:13.913Z"
   },
   {
    "duration": 543,
    "start_time": "2021-08-15T19:49:14.391Z"
   },
   {
    "duration": 468,
    "start_time": "2021-08-15T19:49:14.936Z"
   },
   {
    "duration": 334,
    "start_time": "2021-08-15T19:49:15.408Z"
   },
   {
    "duration": 31,
    "start_time": "2021-08-15T19:49:15.745Z"
   },
   {
    "duration": 32,
    "start_time": "2021-08-15T19:49:15.779Z"
   },
   {
    "duration": 51,
    "start_time": "2021-08-15T19:49:15.814Z"
   },
   {
    "duration": 24,
    "start_time": "2021-08-15T19:49:15.868Z"
   },
   {
    "duration": 21,
    "start_time": "2021-08-15T19:49:45.817Z"
   },
   {
    "duration": 20,
    "start_time": "2021-08-15T19:49:55.007Z"
   },
   {
    "duration": 302,
    "start_time": "2021-08-15T20:00:35.711Z"
   },
   {
    "duration": 799,
    "start_time": "2021-08-15T20:00:58.225Z"
   },
   {
    "duration": 10,
    "start_time": "2021-08-15T20:03:57.414Z"
   },
   {
    "duration": 1287,
    "start_time": "2021-08-15T20:08:25.987Z"
   },
   {
    "duration": 19,
    "start_time": "2021-08-15T20:08:39.584Z"
   },
   {
    "duration": 20,
    "start_time": "2021-08-15T20:12:01.116Z"
   },
   {
    "duration": 22,
    "start_time": "2021-08-15T20:13:53.635Z"
   },
   {
    "duration": 21,
    "start_time": "2021-08-15T20:14:03.549Z"
   },
   {
    "duration": 8,
    "start_time": "2021-08-15T20:14:13.948Z"
   },
   {
    "duration": 19,
    "start_time": "2021-08-15T20:14:18.708Z"
   },
   {
    "duration": 19,
    "start_time": "2021-08-15T20:14:22.408Z"
   },
   {
    "duration": 6,
    "start_time": "2021-08-15T20:14:28.758Z"
   },
   {
    "duration": 369,
    "start_time": "2021-08-15T20:37:30.426Z"
   },
   {
    "duration": 8231,
    "start_time": "2021-08-15T20:38:42.281Z"
   },
   {
    "duration": 15,
    "start_time": "2021-08-15T20:42:02.164Z"
   },
   {
    "duration": 7,
    "start_time": "2021-08-15T20:42:28.293Z"
   },
   {
    "duration": 22,
    "start_time": "2021-08-15T20:47:25.588Z"
   },
   {
    "duration": 9,
    "start_time": "2021-08-15T20:48:38.780Z"
   },
   {
    "duration": 95,
    "start_time": "2021-08-15T20:49:24.089Z"
   },
   {
    "duration": 18,
    "start_time": "2021-08-15T20:49:28.199Z"
   },
   {
    "duration": 21,
    "start_time": "2021-08-15T20:49:37.319Z"
   },
   {
    "duration": 20,
    "start_time": "2021-08-15T20:49:38.579Z"
   },
   {
    "duration": 6,
    "start_time": "2021-08-15T20:49:39.589Z"
   },
   {
    "duration": 19,
    "start_time": "2021-08-15T20:49:42.499Z"
   },
   {
    "duration": 19,
    "start_time": "2021-08-15T20:49:43.239Z"
   },
   {
    "duration": 7,
    "start_time": "2021-08-15T20:49:44.079Z"
   },
   {
    "duration": 22,
    "start_time": "2021-08-15T20:50:44.631Z"
   },
   {
    "duration": 14,
    "start_time": "2021-08-15T20:50:47.129Z"
   },
   {
    "duration": 6,
    "start_time": "2021-08-15T20:50:47.929Z"
   },
   {
    "duration": 8,
    "start_time": "2021-08-15T20:51:48.151Z"
   },
   {
    "duration": 14,
    "start_time": "2021-08-15T20:58:49.141Z"
   },
   {
    "duration": 10,
    "start_time": "2021-08-15T20:58:52.579Z"
   },
   {
    "duration": 15,
    "start_time": "2021-08-15T20:59:21.994Z"
   },
   {
    "duration": 10,
    "start_time": "2021-08-15T20:59:26.988Z"
   },
   {
    "duration": 1445,
    "start_time": "2021-08-15T21:09:24.433Z"
   },
   {
    "duration": 34,
    "start_time": "2021-08-15T21:09:25.880Z"
   },
   {
    "duration": 42,
    "start_time": "2021-08-15T21:09:25.921Z"
   },
   {
    "duration": 16,
    "start_time": "2021-08-15T21:09:25.966Z"
   },
   {
    "duration": 21,
    "start_time": "2021-08-15T21:09:25.984Z"
   },
   {
    "duration": 11,
    "start_time": "2021-08-15T21:09:26.008Z"
   },
   {
    "duration": 47,
    "start_time": "2021-08-15T21:09:26.058Z"
   },
   {
    "duration": 22,
    "start_time": "2021-08-15T21:09:26.109Z"
   },
   {
    "duration": 13,
    "start_time": "2021-08-15T21:09:26.156Z"
   },
   {
    "duration": 430,
    "start_time": "2021-08-15T21:09:26.172Z"
   },
   {
    "duration": 13,
    "start_time": "2021-08-15T21:09:26.604Z"
   },
   {
    "duration": 373,
    "start_time": "2021-08-15T21:09:26.619Z"
   },
   {
    "duration": 22,
    "start_time": "2021-08-15T21:09:26.995Z"
   },
   {
    "duration": 43,
    "start_time": "2021-08-15T21:09:27.019Z"
   },
   {
    "duration": 501,
    "start_time": "2021-08-15T21:09:27.065Z"
   },
   {
    "duration": 464,
    "start_time": "2021-08-15T21:09:27.569Z"
   },
   {
    "duration": 483,
    "start_time": "2021-08-15T21:09:28.036Z"
   },
   {
    "duration": 517,
    "start_time": "2021-08-15T21:09:28.522Z"
   },
   {
    "duration": 486,
    "start_time": "2021-08-15T21:09:29.042Z"
   },
   {
    "duration": 476,
    "start_time": "2021-08-15T21:09:29.535Z"
   },
   {
    "duration": 538,
    "start_time": "2021-08-15T21:09:30.014Z"
   },
   {
    "duration": 332,
    "start_time": "2021-08-15T21:09:30.559Z"
   },
   {
    "duration": 21,
    "start_time": "2021-08-15T21:09:30.895Z"
   },
   {
    "duration": 42,
    "start_time": "2021-08-15T21:09:30.918Z"
   },
   {
    "duration": 10,
    "start_time": "2021-08-15T21:09:30.963Z"
   },
   {
    "duration": 32,
    "start_time": "2021-08-15T21:09:30.976Z"
   },
   {
    "duration": 46,
    "start_time": "2021-08-15T21:09:31.011Z"
   },
   {
    "duration": 32,
    "start_time": "2021-08-15T21:09:31.060Z"
   },
   {
    "duration": 6,
    "start_time": "2021-08-15T21:09:31.095Z"
   },
   {
    "duration": 35,
    "start_time": "2021-08-15T21:09:31.104Z"
   },
   {
    "duration": 42,
    "start_time": "2021-08-15T21:09:31.141Z"
   },
   {
    "duration": 6,
    "start_time": "2021-08-15T21:09:31.186Z"
   },
   {
    "duration": 35,
    "start_time": "2021-08-15T21:09:31.194Z"
   },
   {
    "duration": 26,
    "start_time": "2021-08-15T21:09:31.231Z"
   },
   {
    "duration": 25,
    "start_time": "2021-08-15T21:09:31.259Z"
   },
   {
    "duration": 34,
    "start_time": "2021-08-15T21:09:31.286Z"
   },
   {
    "duration": 22,
    "start_time": "2021-08-15T21:09:31.322Z"
   },
   {
    "duration": 1022,
    "start_time": "2021-08-16T06:22:29.777Z"
   },
   {
    "duration": 23,
    "start_time": "2021-08-16T06:22:30.801Z"
   },
   {
    "duration": 11,
    "start_time": "2021-08-16T06:22:30.827Z"
   },
   {
    "duration": 21,
    "start_time": "2021-08-16T06:22:30.841Z"
   },
   {
    "duration": 28,
    "start_time": "2021-08-16T06:22:30.864Z"
   },
   {
    "duration": 10,
    "start_time": "2021-08-16T06:22:30.894Z"
   },
   {
    "duration": 39,
    "start_time": "2021-08-16T06:22:30.905Z"
   },
   {
    "duration": 14,
    "start_time": "2021-08-16T06:22:30.946Z"
   },
   {
    "duration": 20,
    "start_time": "2021-08-16T06:22:30.961Z"
   },
   {
    "duration": 227,
    "start_time": "2021-08-16T06:22:30.982Z"
   },
   {
    "duration": 8,
    "start_time": "2021-08-16T06:22:31.210Z"
   },
   {
    "duration": 211,
    "start_time": "2021-08-16T06:22:31.219Z"
   },
   {
    "duration": 13,
    "start_time": "2021-08-16T06:22:31.431Z"
   },
   {
    "duration": 11,
    "start_time": "2021-08-16T06:22:31.445Z"
   },
   {
    "duration": 289,
    "start_time": "2021-08-16T06:22:31.458Z"
   },
   {
    "duration": 320,
    "start_time": "2021-08-16T06:22:31.749Z"
   },
   {
    "duration": 348,
    "start_time": "2021-08-16T06:22:32.071Z"
   },
   {
    "duration": 310,
    "start_time": "2021-08-16T06:22:32.420Z"
   },
   {
    "duration": 293,
    "start_time": "2021-08-16T06:22:32.731Z"
   },
   {
    "duration": 280,
    "start_time": "2021-08-16T06:22:33.026Z"
   },
   {
    "duration": 383,
    "start_time": "2021-08-16T06:22:33.308Z"
   },
   {
    "duration": 178,
    "start_time": "2021-08-16T06:22:33.692Z"
   },
   {
    "duration": 24,
    "start_time": "2021-08-16T06:22:33.873Z"
   },
   {
    "duration": 11,
    "start_time": "2021-08-16T06:22:33.899Z"
   },
   {
    "duration": 11,
    "start_time": "2021-08-16T06:22:33.911Z"
   },
   {
    "duration": 12,
    "start_time": "2021-08-16T06:22:33.923Z"
   },
   {
    "duration": 11,
    "start_time": "2021-08-16T06:22:33.936Z"
   },
   {
    "duration": 4,
    "start_time": "2021-08-16T06:22:33.948Z"
   },
   {
    "duration": 42,
    "start_time": "2021-08-16T06:22:33.954Z"
   },
   {
    "duration": 10,
    "start_time": "2021-08-16T06:22:33.998Z"
   },
   {
    "duration": 4,
    "start_time": "2021-08-16T06:22:34.010Z"
   },
   {
    "duration": 15,
    "start_time": "2021-08-16T06:22:34.015Z"
   },
   {
    "duration": 12,
    "start_time": "2021-08-16T06:22:34.031Z"
   },
   {
    "duration": 5,
    "start_time": "2021-08-16T06:22:34.045Z"
   },
   {
    "duration": 12,
    "start_time": "2021-08-16T06:22:34.051Z"
   },
   {
    "duration": 29,
    "start_time": "2021-08-16T06:22:34.065Z"
   },
   {
    "duration": 1466,
    "start_time": "2021-08-16T14:41:31.754Z"
   },
   {
    "duration": 40,
    "start_time": "2021-08-16T14:41:33.223Z"
   },
   {
    "duration": 22,
    "start_time": "2021-08-16T14:42:04.507Z"
   },
   {
    "duration": 24,
    "start_time": "2021-08-16T14:42:07.513Z"
   },
   {
    "duration": 21,
    "start_time": "2021-08-16T14:42:13.357Z"
   },
   {
    "duration": 22,
    "start_time": "2021-08-16T14:44:20.388Z"
   },
   {
    "duration": 391,
    "start_time": "2021-08-16T14:52:18.894Z"
   },
   {
    "duration": 25,
    "start_time": "2021-08-16T14:52:24.894Z"
   },
   {
    "duration": 24,
    "start_time": "2021-08-16T14:53:13.531Z"
   },
   {
    "duration": 20,
    "start_time": "2021-08-16T14:53:30.836Z"
   },
   {
    "duration": 51,
    "start_time": "2021-08-16T14:53:33.964Z"
   },
   {
    "duration": 33,
    "start_time": "2021-08-16T14:53:34.018Z"
   },
   {
    "duration": 21,
    "start_time": "2021-08-16T14:53:35.205Z"
   },
   {
    "duration": 23,
    "start_time": "2021-08-16T14:53:38.206Z"
   },
   {
    "duration": 292,
    "start_time": "2021-08-16T14:56:00.456Z"
   },
   {
    "duration": 54,
    "start_time": "2021-08-16T14:56:19.077Z"
   },
   {
    "duration": 72,
    "start_time": "2021-08-16T14:56:19.134Z"
   },
   {
    "duration": 33,
    "start_time": "2021-08-16T14:56:19.211Z"
   },
   {
    "duration": 15,
    "start_time": "2021-08-16T14:56:19.248Z"
   },
   {
    "duration": 53,
    "start_time": "2021-08-16T14:56:19.266Z"
   },
   {
    "duration": 11,
    "start_time": "2021-08-16T14:56:19.322Z"
   },
   {
    "duration": 81,
    "start_time": "2021-08-16T14:56:19.336Z"
   },
   {
    "duration": 28,
    "start_time": "2021-08-16T14:56:19.420Z"
   },
   {
    "duration": 14,
    "start_time": "2021-08-16T14:56:19.453Z"
   },
   {
    "duration": 465,
    "start_time": "2021-08-16T14:56:19.470Z"
   },
   {
    "duration": 14,
    "start_time": "2021-08-16T14:56:19.937Z"
   },
   {
    "duration": 400,
    "start_time": "2021-08-16T14:56:19.954Z"
   },
   {
    "duration": 23,
    "start_time": "2021-08-16T14:56:20.356Z"
   },
   {
    "duration": 23,
    "start_time": "2021-08-16T14:56:20.402Z"
   },
   {
    "duration": 550,
    "start_time": "2021-08-16T14:56:20.428Z"
   },
   {
    "duration": 522,
    "start_time": "2021-08-16T14:56:20.981Z"
   },
   {
    "duration": 464,
    "start_time": "2021-08-16T14:56:21.506Z"
   },
   {
    "duration": 494,
    "start_time": "2021-08-16T14:56:21.987Z"
   },
   {
    "duration": 495,
    "start_time": "2021-08-16T14:56:22.484Z"
   },
   {
    "duration": 504,
    "start_time": "2021-08-16T14:56:22.981Z"
   },
   {
    "duration": 590,
    "start_time": "2021-08-16T14:56:23.487Z"
   },
   {
    "duration": 353,
    "start_time": "2021-08-16T14:56:24.079Z"
   },
   {
    "duration": 23,
    "start_time": "2021-08-16T14:56:24.436Z"
   },
   {
    "duration": 49,
    "start_time": "2021-08-16T14:56:24.462Z"
   },
   {
    "duration": 19,
    "start_time": "2021-08-16T14:56:24.514Z"
   },
   {
    "duration": 26,
    "start_time": "2021-08-16T14:56:24.535Z"
   },
   {
    "duration": 53,
    "start_time": "2021-08-16T14:56:24.566Z"
   },
   {
    "duration": 7,
    "start_time": "2021-08-16T14:56:24.622Z"
   },
   {
    "duration": 21,
    "start_time": "2021-08-16T14:56:24.631Z"
   },
   {
    "duration": 70,
    "start_time": "2021-08-16T14:56:24.656Z"
   },
   {
    "duration": 9,
    "start_time": "2021-08-16T14:56:24.730Z"
   },
   {
    "duration": 61,
    "start_time": "2021-08-16T14:56:24.742Z"
   },
   {
    "duration": 16,
    "start_time": "2021-08-16T14:56:24.806Z"
   },
   {
    "duration": 12,
    "start_time": "2021-08-16T14:56:24.825Z"
   },
   {
    "duration": 19,
    "start_time": "2021-08-16T14:56:24.840Z"
   },
   {
    "duration": 9,
    "start_time": "2021-08-16T14:56:24.901Z"
   },
   {
    "duration": 646,
    "start_time": "2021-08-16T14:58:27.372Z"
   },
   {
    "duration": 869,
    "start_time": "2021-08-16T14:58:40.021Z"
   },
   {
    "duration": 659,
    "start_time": "2021-08-16T14:58:58.272Z"
   },
   {
    "duration": 52,
    "start_time": "2021-08-16T14:59:31.702Z"
   },
   {
    "duration": 61,
    "start_time": "2021-08-16T14:59:31.757Z"
   },
   {
    "duration": 22,
    "start_time": "2021-08-16T14:59:31.822Z"
   },
   {
    "duration": 17,
    "start_time": "2021-08-16T14:59:31.846Z"
   },
   {
    "duration": 56,
    "start_time": "2021-08-16T14:59:31.866Z"
   },
   {
    "duration": 10,
    "start_time": "2021-08-16T14:59:31.926Z"
   },
   {
    "duration": 68,
    "start_time": "2021-08-16T14:59:31.938Z"
   },
   {
    "duration": 26,
    "start_time": "2021-08-16T14:59:32.013Z"
   },
   {
    "duration": 31,
    "start_time": "2021-08-16T14:59:32.042Z"
   },
   {
    "duration": 484,
    "start_time": "2021-08-16T14:59:32.075Z"
   },
   {
    "duration": 13,
    "start_time": "2021-08-16T14:59:32.562Z"
   },
   {
    "duration": 785,
    "start_time": "2021-08-16T14:59:35.251Z"
   },
   {
    "duration": 409,
    "start_time": "2021-08-16T14:59:57.672Z"
   },
   {
    "duration": 407,
    "start_time": "2021-08-16T15:00:13.842Z"
   },
   {
    "duration": 349,
    "start_time": "2021-08-16T15:00:49.793Z"
   },
   {
    "duration": 45,
    "start_time": "2021-08-16T15:00:51.981Z"
   },
   {
    "duration": 46,
    "start_time": "2021-08-16T15:01:17.393Z"
   },
   {
    "duration": 77,
    "start_time": "2021-08-16T15:01:57.243Z"
   },
   {
    "duration": 117,
    "start_time": "2021-08-16T15:02:13.875Z"
   },
   {
    "duration": 36,
    "start_time": "2021-08-16T15:02:30.743Z"
   },
   {
    "duration": 340,
    "start_time": "2021-08-16T15:02:57.284Z"
   },
   {
    "duration": 592,
    "start_time": "2021-08-16T15:03:07.055Z"
   },
   {
    "duration": 324,
    "start_time": "2021-08-16T15:03:11.535Z"
   },
   {
    "duration": 35,
    "start_time": "2021-08-16T15:04:57.266Z"
   },
   {
    "duration": 41,
    "start_time": "2021-08-16T15:05:01.515Z"
   },
   {
    "duration": 42,
    "start_time": "2021-08-16T15:06:07.853Z"
   },
   {
    "duration": 42,
    "start_time": "2021-08-16T15:15:14.915Z"
   },
   {
    "duration": 40,
    "start_time": "2021-08-16T15:15:33.855Z"
   },
   {
    "duration": 41,
    "start_time": "2021-08-16T15:17:51.077Z"
   },
   {
    "duration": 499,
    "start_time": "2021-08-16T15:19:18.627Z"
   },
   {
    "duration": 406,
    "start_time": "2021-08-16T15:19:33.887Z"
   },
   {
    "duration": 409,
    "start_time": "2021-08-16T15:19:45.987Z"
   },
   {
    "duration": 372,
    "start_time": "2021-08-16T15:31:41.621Z"
   },
   {
    "duration": 21,
    "start_time": "2021-08-16T15:34:29.668Z"
   },
   {
    "duration": 21,
    "start_time": "2021-08-16T15:38:09.124Z"
   },
   {
    "duration": 27,
    "start_time": "2021-08-16T15:39:29.125Z"
   },
   {
    "duration": 21,
    "start_time": "2021-08-16T15:41:58.692Z"
   },
   {
    "duration": 24,
    "start_time": "2021-08-16T15:42:16.598Z"
   },
   {
    "duration": 21,
    "start_time": "2021-08-16T15:42:57.408Z"
   },
   {
    "duration": 20,
    "start_time": "2021-08-16T15:43:15.659Z"
   },
   {
    "duration": 19,
    "start_time": "2021-08-16T15:43:26.448Z"
   },
   {
    "duration": 21,
    "start_time": "2021-08-16T15:43:49.118Z"
   },
   {
    "duration": 327,
    "start_time": "2021-08-16T15:45:55.359Z"
   },
   {
    "duration": 30,
    "start_time": "2021-08-16T15:46:06.000Z"
   },
   {
    "duration": 262,
    "start_time": "2021-08-16T15:46:19.223Z"
   },
   {
    "duration": 231,
    "start_time": "2021-08-16T15:46:24.462Z"
   },
   {
    "duration": 267,
    "start_time": "2021-08-16T15:46:34.903Z"
   },
   {
    "duration": 13,
    "start_time": "2021-08-16T16:13:26.741Z"
   },
   {
    "duration": 9,
    "start_time": "2021-08-16T16:13:31.123Z"
   },
   {
    "duration": 14,
    "start_time": "2021-08-16T16:15:30.488Z"
   },
   {
    "duration": 8,
    "start_time": "2021-08-16T16:15:32.376Z"
   },
   {
    "duration": 245,
    "start_time": "2021-08-16T16:18:29.024Z"
   },
   {
    "duration": 20,
    "start_time": "2021-08-16T16:19:28.766Z"
   },
   {
    "duration": 246,
    "start_time": "2021-08-16T16:19:30.190Z"
   },
   {
    "duration": 306,
    "start_time": "2021-08-16T16:19:35.420Z"
   },
   {
    "duration": 243,
    "start_time": "2021-08-16T16:19:57.461Z"
   },
   {
    "duration": 348,
    "start_time": "2021-08-16T16:20:28.210Z"
   },
   {
    "duration": 232,
    "start_time": "2021-08-16T16:20:54.662Z"
   },
   {
    "duration": 220,
    "start_time": "2021-08-16T16:26:34.563Z"
   },
   {
    "duration": 229,
    "start_time": "2021-08-16T16:26:53.185Z"
   },
   {
    "duration": 230,
    "start_time": "2021-08-16T16:27:13.397Z"
   },
   {
    "duration": 1561,
    "start_time": "2021-08-16T16:27:34.401Z"
   },
   {
    "duration": 55,
    "start_time": "2021-08-16T16:27:35.965Z"
   },
   {
    "duration": 23,
    "start_time": "2021-08-16T16:27:36.025Z"
   },
   {
    "duration": 29,
    "start_time": "2021-08-16T16:27:36.051Z"
   },
   {
    "duration": 29,
    "start_time": "2021-08-16T16:27:36.083Z"
   },
   {
    "duration": 11,
    "start_time": "2021-08-16T16:27:36.115Z"
   },
   {
    "duration": 50,
    "start_time": "2021-08-16T16:27:36.129Z"
   },
   {
    "duration": 26,
    "start_time": "2021-08-16T16:27:36.205Z"
   },
   {
    "duration": 16,
    "start_time": "2021-08-16T16:27:36.235Z"
   },
   {
    "duration": 541,
    "start_time": "2021-08-16T16:27:36.254Z"
   },
   {
    "duration": 13,
    "start_time": "2021-08-16T16:27:36.801Z"
   },
   {
    "duration": 393,
    "start_time": "2021-08-16T16:27:36.817Z"
   },
   {
    "duration": 45,
    "start_time": "2021-08-16T16:27:37.213Z"
   },
   {
    "duration": 55,
    "start_time": "2021-08-16T16:27:37.261Z"
   },
   {
    "duration": 22,
    "start_time": "2021-08-16T16:27:37.320Z"
   },
   {
    "duration": 574,
    "start_time": "2021-08-16T16:27:37.344Z"
   },
   {
    "duration": 482,
    "start_time": "2021-08-16T16:27:37.920Z"
   },
   {
    "duration": 478,
    "start_time": "2021-08-16T16:27:38.405Z"
   },
   {
    "duration": 472,
    "start_time": "2021-08-16T16:27:38.885Z"
   },
   {
    "duration": 492,
    "start_time": "2021-08-16T16:27:39.360Z"
   },
   {
    "duration": 497,
    "start_time": "2021-08-16T16:27:39.855Z"
   },
   {
    "duration": 549,
    "start_time": "2021-08-16T16:27:40.355Z"
   },
   {
    "duration": 385,
    "start_time": "2021-08-16T16:27:40.909Z"
   },
   {
    "duration": 28,
    "start_time": "2021-08-16T16:27:41.297Z"
   },
   {
    "duration": 285,
    "start_time": "2021-08-16T16:27:41.328Z"
   },
   {
    "duration": 22,
    "start_time": "2021-08-16T16:27:41.616Z"
   },
   {
    "duration": 278,
    "start_time": "2021-08-16T16:27:41.641Z"
   },
   {
    "duration": 21,
    "start_time": "2021-08-16T16:27:41.922Z"
   },
   {
    "duration": 275,
    "start_time": "2021-08-16T16:27:41.946Z"
   },
   {
    "duration": 27,
    "start_time": "2021-08-16T16:27:42.224Z"
   },
   {
    "duration": 302,
    "start_time": "2021-08-16T16:27:42.254Z"
   },
   {
    "duration": 21,
    "start_time": "2021-08-16T16:27:42.558Z"
   },
   {
    "duration": 275,
    "start_time": "2021-08-16T16:27:42.582Z"
   },
   {
    "duration": 40,
    "start_time": "2021-08-16T16:27:42.860Z"
   },
   {
    "duration": 266,
    "start_time": "2021-08-16T16:27:42.902Z"
   },
   {
    "duration": 33,
    "start_time": "2021-08-16T16:27:43.170Z"
   },
   {
    "duration": 259,
    "start_time": "2021-08-16T16:27:43.207Z"
   },
   {
    "duration": 34,
    "start_time": "2021-08-16T16:27:43.469Z"
   },
   {
    "duration": 314,
    "start_time": "2021-08-16T16:27:43.506Z"
   },
   {
    "duration": 20,
    "start_time": "2021-08-16T16:27:43.823Z"
   },
   {
    "duration": 243,
    "start_time": "2021-08-16T16:27:43.845Z"
   },
   {
    "duration": 18,
    "start_time": "2021-08-16T16:27:44.090Z"
   },
   {
    "duration": 11,
    "start_time": "2021-08-16T16:27:44.110Z"
   },
   {
    "duration": 13,
    "start_time": "2021-08-16T16:27:44.123Z"
   },
   {
    "duration": 8,
    "start_time": "2021-08-16T16:27:44.139Z"
   },
   {
    "duration": 411,
    "start_time": "2021-08-16T16:30:44.905Z"
   },
   {
    "duration": 264,
    "start_time": "2021-08-16T16:32:27.768Z"
   },
   {
    "duration": 559,
    "start_time": "2021-08-16T16:32:35.378Z"
   },
   {
    "duration": 49,
    "start_time": "2021-08-16T16:32:47.519Z"
   },
   {
    "duration": 1391,
    "start_time": "2021-08-16T16:34:00.719Z"
   },
   {
    "duration": 35,
    "start_time": "2021-08-16T16:34:02.113Z"
   },
   {
    "duration": 24,
    "start_time": "2021-08-16T16:34:02.151Z"
   },
   {
    "duration": 34,
    "start_time": "2021-08-16T16:34:02.177Z"
   },
   {
    "duration": 28,
    "start_time": "2021-08-16T16:34:02.213Z"
   },
   {
    "duration": 10,
    "start_time": "2021-08-16T16:34:02.244Z"
   },
   {
    "duration": 78,
    "start_time": "2021-08-16T16:34:02.256Z"
   },
   {
    "duration": 21,
    "start_time": "2021-08-16T16:34:02.338Z"
   },
   {
    "duration": 59,
    "start_time": "2021-08-16T16:34:02.362Z"
   },
   {
    "duration": 421,
    "start_time": "2021-08-16T16:34:02.424Z"
   },
   {
    "duration": 13,
    "start_time": "2021-08-16T16:34:02.847Z"
   },
   {
    "duration": 378,
    "start_time": "2021-08-16T16:34:02.863Z"
   },
   {
    "duration": 57,
    "start_time": "2021-08-16T16:34:03.244Z"
   },
   {
    "duration": 22,
    "start_time": "2021-08-16T16:34:03.303Z"
   },
   {
    "duration": 23,
    "start_time": "2021-08-16T16:34:03.327Z"
   },
   {
    "duration": 516,
    "start_time": "2021-08-16T16:34:03.352Z"
   },
   {
    "duration": 482,
    "start_time": "2021-08-16T16:34:03.871Z"
   },
   {
    "duration": 477,
    "start_time": "2021-08-16T16:34:04.356Z"
   },
   {
    "duration": 470,
    "start_time": "2021-08-16T16:34:04.835Z"
   },
   {
    "duration": 441,
    "start_time": "2021-08-16T16:34:05.307Z"
   },
   {
    "duration": 519,
    "start_time": "2021-08-16T16:34:05.750Z"
   },
   {
    "duration": 577,
    "start_time": "2021-08-16T16:34:06.273Z"
   },
   {
    "duration": 381,
    "start_time": "2021-08-16T16:34:06.855Z"
   },
   {
    "duration": 20,
    "start_time": "2021-08-16T16:34:07.239Z"
   },
   {
    "duration": 258,
    "start_time": "2021-08-16T16:34:07.261Z"
   },
   {
    "duration": 20,
    "start_time": "2021-08-16T16:34:07.522Z"
   },
   {
    "duration": 276,
    "start_time": "2021-08-16T16:34:07.545Z"
   },
   {
    "duration": 20,
    "start_time": "2021-08-16T16:34:07.824Z"
   },
   {
    "duration": 270,
    "start_time": "2021-08-16T16:34:07.847Z"
   },
   {
    "duration": 21,
    "start_time": "2021-08-16T16:34:08.119Z"
   },
   {
    "duration": 275,
    "start_time": "2021-08-16T16:34:08.143Z"
   },
   {
    "duration": 21,
    "start_time": "2021-08-16T16:34:08.420Z"
   },
   {
    "duration": 365,
    "start_time": "2021-08-16T16:34:08.443Z"
   },
   {
    "duration": 19,
    "start_time": "2021-08-16T16:34:08.811Z"
   },
   {
    "duration": 257,
    "start_time": "2021-08-16T16:34:08.833Z"
   },
   {
    "duration": 24,
    "start_time": "2021-08-16T16:34:09.093Z"
   },
   {
    "duration": 273,
    "start_time": "2021-08-16T16:34:09.120Z"
   },
   {
    "duration": 20,
    "start_time": "2021-08-16T16:34:09.396Z"
   },
   {
    "duration": 266,
    "start_time": "2021-08-16T16:34:09.418Z"
   },
   {
    "duration": 26,
    "start_time": "2021-08-16T16:34:09.686Z"
   },
   {
    "duration": 239,
    "start_time": "2021-08-16T16:34:09.715Z"
   },
   {
    "duration": 13,
    "start_time": "2021-08-16T16:34:09.956Z"
   },
   {
    "duration": 31,
    "start_time": "2021-08-16T16:34:09.972Z"
   },
   {
    "duration": 17,
    "start_time": "2021-08-16T16:34:10.006Z"
   },
   {
    "duration": 11,
    "start_time": "2021-08-16T16:34:10.025Z"
   },
   {
    "duration": 1367,
    "start_time": "2021-08-17T05:20:44.298Z"
   },
   {
    "duration": 38,
    "start_time": "2021-08-17T05:20:45.667Z"
   },
   {
    "duration": 52,
    "start_time": "2021-08-17T05:20:45.709Z"
   },
   {
    "duration": 15,
    "start_time": "2021-08-17T05:20:45.764Z"
   },
   {
    "duration": 21,
    "start_time": "2021-08-17T05:20:45.782Z"
   },
   {
    "duration": 10,
    "start_time": "2021-08-17T05:20:45.806Z"
   },
   {
    "duration": 81,
    "start_time": "2021-08-17T05:20:45.818Z"
   },
   {
    "duration": 23,
    "start_time": "2021-08-17T05:20:45.903Z"
   },
   {
    "duration": 33,
    "start_time": "2021-08-17T05:20:45.929Z"
   },
   {
    "duration": 438,
    "start_time": "2021-08-17T05:20:45.965Z"
   },
   {
    "duration": 13,
    "start_time": "2021-08-17T05:20:46.405Z"
   },
   {
    "duration": 364,
    "start_time": "2021-08-17T05:20:46.420Z"
   },
   {
    "duration": 41,
    "start_time": "2021-08-17T05:20:46.786Z"
   },
   {
    "duration": 43,
    "start_time": "2021-08-17T05:20:46.829Z"
   },
   {
    "duration": 20,
    "start_time": "2021-08-17T05:20:46.875Z"
   },
   {
    "duration": 732,
    "start_time": "2021-08-17T05:20:46.897Z"
   },
   {
    "duration": 504,
    "start_time": "2021-08-17T05:20:47.633Z"
   },
   {
    "duration": 491,
    "start_time": "2021-08-17T05:20:48.139Z"
   },
   {
    "duration": 491,
    "start_time": "2021-08-17T05:20:48.633Z"
   },
   {
    "duration": 493,
    "start_time": "2021-08-17T05:20:49.128Z"
   },
   {
    "duration": 494,
    "start_time": "2021-08-17T05:20:49.624Z"
   },
   {
    "duration": 562,
    "start_time": "2021-08-17T05:20:50.122Z"
   },
   {
    "duration": 372,
    "start_time": "2021-08-17T05:20:50.689Z"
   },
   {
    "duration": 20,
    "start_time": "2021-08-17T05:20:51.064Z"
   },
   {
    "duration": 254,
    "start_time": "2021-08-17T05:20:51.087Z"
   },
   {
    "duration": 24,
    "start_time": "2021-08-17T05:20:51.343Z"
   },
   {
    "duration": 258,
    "start_time": "2021-08-17T05:20:51.369Z"
   },
   {
    "duration": 34,
    "start_time": "2021-08-17T05:20:51.629Z"
   },
   {
    "duration": 248,
    "start_time": "2021-08-17T05:20:51.665Z"
   },
   {
    "duration": 21,
    "start_time": "2021-08-17T05:20:51.916Z"
   },
   {
    "duration": 268,
    "start_time": "2021-08-17T05:20:51.939Z"
   },
   {
    "duration": 21,
    "start_time": "2021-08-17T05:20:52.210Z"
   },
   {
    "duration": 279,
    "start_time": "2021-08-17T05:20:52.234Z"
   },
   {
    "duration": 21,
    "start_time": "2021-08-17T05:20:52.515Z"
   },
   {
    "duration": 255,
    "start_time": "2021-08-17T05:20:52.538Z"
   },
   {
    "duration": 20,
    "start_time": "2021-08-17T05:20:52.795Z"
   },
   {
    "duration": 255,
    "start_time": "2021-08-17T05:20:52.818Z"
   },
   {
    "duration": 21,
    "start_time": "2021-08-17T05:20:53.075Z"
   },
   {
    "duration": 258,
    "start_time": "2021-08-17T05:20:53.098Z"
   },
   {
    "duration": 20,
    "start_time": "2021-08-17T05:20:53.359Z"
   },
   {
    "duration": 246,
    "start_time": "2021-08-17T05:20:53.382Z"
   },
   {
    "duration": 14,
    "start_time": "2021-08-17T05:20:53.630Z"
   },
   {
    "duration": 8,
    "start_time": "2021-08-17T05:20:53.656Z"
   },
   {
    "duration": 17,
    "start_time": "2021-08-17T05:20:53.667Z"
   },
   {
    "duration": 8,
    "start_time": "2021-08-17T05:20:53.686Z"
   },
   {
    "duration": 1360,
    "start_time": "2021-08-17T10:19:52.094Z"
   },
   {
    "duration": 35,
    "start_time": "2021-08-17T10:19:53.457Z"
   },
   {
    "duration": 22,
    "start_time": "2021-08-17T10:19:53.495Z"
   },
   {
    "duration": 40,
    "start_time": "2021-08-17T10:19:53.520Z"
   },
   {
    "duration": 23,
    "start_time": "2021-08-17T10:19:53.563Z"
   },
   {
    "duration": 11,
    "start_time": "2021-08-17T10:19:53.589Z"
   },
   {
    "duration": 65,
    "start_time": "2021-08-17T10:19:57.781Z"
   },
   {
    "duration": 10,
    "start_time": "2021-08-17T10:20:06.320Z"
   },
   {
    "duration": 375,
    "start_time": "2021-08-17T10:20:58.449Z"
   },
   {
    "duration": 22,
    "start_time": "2021-08-17T10:21:06.531Z"
   },
   {
    "duration": 263,
    "start_time": "2021-08-17T10:22:24.740Z"
   },
   {
    "duration": 49,
    "start_time": "2021-08-17T10:22:29.059Z"
   },
   {
    "duration": 51,
    "start_time": "2021-08-17T10:22:29.111Z"
   },
   {
    "duration": 22,
    "start_time": "2021-08-17T10:22:29.164Z"
   },
   {
    "duration": 14,
    "start_time": "2021-08-17T10:22:29.189Z"
   },
   {
    "duration": 62,
    "start_time": "2021-08-17T10:22:29.206Z"
   },
   {
    "duration": 11,
    "start_time": "2021-08-17T10:22:29.272Z"
   },
   {
    "duration": 70,
    "start_time": "2021-08-17T10:22:29.286Z"
   },
   {
    "duration": 37,
    "start_time": "2021-08-17T10:22:29.361Z"
   },
   {
    "duration": 16,
    "start_time": "2021-08-17T10:22:29.402Z"
   },
   {
    "duration": 674,
    "start_time": "2021-08-17T10:22:29.421Z"
   },
   {
    "duration": 14,
    "start_time": "2021-08-17T10:22:30.097Z"
   },
   {
    "duration": 374,
    "start_time": "2021-08-17T10:22:30.114Z"
   },
   {
    "duration": 65,
    "start_time": "2021-08-17T10:22:30.492Z"
   },
   {
    "duration": 25,
    "start_time": "2021-08-17T10:22:30.559Z"
   },
   {
    "duration": 33,
    "start_time": "2021-08-17T10:22:30.596Z"
   },
   {
    "duration": 516,
    "start_time": "2021-08-17T10:22:30.655Z"
   },
   {
    "duration": 447,
    "start_time": "2021-08-17T10:22:31.173Z"
   },
   {
    "duration": 479,
    "start_time": "2021-08-17T10:22:31.622Z"
   },
   {
    "duration": 496,
    "start_time": "2021-08-17T10:22:32.103Z"
   },
   {
    "duration": 493,
    "start_time": "2021-08-17T10:22:32.601Z"
   },
   {
    "duration": 468,
    "start_time": "2021-08-17T10:22:33.097Z"
   },
   {
    "duration": 530,
    "start_time": "2021-08-17T10:22:33.567Z"
   },
   {
    "duration": 378,
    "start_time": "2021-08-17T10:22:34.101Z"
   },
   {
    "duration": 24,
    "start_time": "2021-08-17T10:22:34.482Z"
   },
   {
    "duration": 290,
    "start_time": "2021-08-17T10:22:34.509Z"
   },
   {
    "duration": 23,
    "start_time": "2021-08-17T10:22:34.802Z"
   },
   {
    "duration": 242,
    "start_time": "2021-08-17T10:22:37.962Z"
   },
   {
    "duration": 22,
    "start_time": "2021-08-17T10:22:44.602Z"
   },
   {
    "duration": 254,
    "start_time": "2021-08-17T10:22:52.912Z"
   },
   {
    "duration": 19,
    "start_time": "2021-08-17T10:23:46.122Z"
   },
   {
    "duration": 246,
    "start_time": "2021-08-17T10:23:46.854Z"
   },
   {
    "duration": 20,
    "start_time": "2021-08-17T10:23:47.814Z"
   },
   {
    "duration": 239,
    "start_time": "2021-08-17T10:23:48.694Z"
   },
   {
    "duration": 20,
    "start_time": "2021-08-17T10:23:49.854Z"
   },
   {
    "duration": 246,
    "start_time": "2021-08-17T10:23:51.882Z"
   },
   {
    "duration": 23,
    "start_time": "2021-08-17T10:24:43.234Z"
   },
   {
    "duration": 242,
    "start_time": "2021-08-17T10:24:43.643Z"
   },
   {
    "duration": 20,
    "start_time": "2021-08-17T10:24:43.953Z"
   },
   {
    "duration": 246,
    "start_time": "2021-08-17T10:24:44.473Z"
   },
   {
    "duration": 20,
    "start_time": "2021-08-17T10:24:46.183Z"
   },
   {
    "duration": 237,
    "start_time": "2021-08-17T10:24:50.143Z"
   },
   {
    "duration": 13,
    "start_time": "2021-08-17T10:26:34.244Z"
   },
   {
    "duration": 8,
    "start_time": "2021-08-17T10:26:34.604Z"
   },
   {
    "duration": 13,
    "start_time": "2021-08-17T10:26:37.426Z"
   },
   {
    "duration": 8,
    "start_time": "2021-08-17T10:26:37.604Z"
   },
   {
    "duration": 1407,
    "start_time": "2021-08-17T10:26:52.045Z"
   },
   {
    "duration": 33,
    "start_time": "2021-08-17T10:26:53.456Z"
   },
   {
    "duration": 20,
    "start_time": "2021-08-17T10:26:53.492Z"
   },
   {
    "duration": 42,
    "start_time": "2021-08-17T10:26:53.514Z"
   },
   {
    "duration": 23,
    "start_time": "2021-08-17T10:26:53.558Z"
   },
   {
    "duration": 17,
    "start_time": "2021-08-17T10:26:53.583Z"
   },
   {
    "duration": 68,
    "start_time": "2021-08-17T10:26:53.603Z"
   },
   {
    "duration": 22,
    "start_time": "2021-08-17T10:26:53.675Z"
   },
   {
    "duration": 13,
    "start_time": "2021-08-17T10:26:53.700Z"
   },
   {
    "duration": 450,
    "start_time": "2021-08-17T10:26:53.715Z"
   },
   {
    "duration": 17,
    "start_time": "2021-08-17T10:26:54.168Z"
   },
   {
    "duration": 383,
    "start_time": "2021-08-17T10:26:54.187Z"
   },
   {
    "duration": 42,
    "start_time": "2021-08-17T10:26:54.572Z"
   },
   {
    "duration": 48,
    "start_time": "2021-08-17T10:26:54.616Z"
   },
   {
    "duration": 18,
    "start_time": "2021-08-17T10:26:54.666Z"
   },
   {
    "duration": 501,
    "start_time": "2021-08-17T10:26:54.686Z"
   },
   {
    "duration": 457,
    "start_time": "2021-08-17T10:26:55.189Z"
   },
   {
    "duration": 467,
    "start_time": "2021-08-17T10:26:55.648Z"
   },
   {
    "duration": 499,
    "start_time": "2021-08-17T10:26:56.117Z"
   },
   {
    "duration": 477,
    "start_time": "2021-08-17T10:26:56.619Z"
   },
   {
    "duration": 447,
    "start_time": "2021-08-17T10:26:57.099Z"
   },
   {
    "duration": 558,
    "start_time": "2021-08-17T10:26:57.548Z"
   },
   {
    "duration": 364,
    "start_time": "2021-08-17T10:26:58.111Z"
   },
   {
    "duration": 19,
    "start_time": "2021-08-17T10:26:58.479Z"
   },
   {
    "duration": 250,
    "start_time": "2021-08-17T10:26:58.500Z"
   },
   {
    "duration": 21,
    "start_time": "2021-08-17T10:26:58.755Z"
   },
   {
    "duration": 276,
    "start_time": "2021-08-17T10:26:58.778Z"
   },
   {
    "duration": 21,
    "start_time": "2021-08-17T10:26:59.056Z"
   },
   {
    "duration": 260,
    "start_time": "2021-08-17T10:26:59.080Z"
   },
   {
    "duration": 27,
    "start_time": "2021-08-17T10:26:59.342Z"
   },
   {
    "duration": 264,
    "start_time": "2021-08-17T10:26:59.372Z"
   },
   {
    "duration": 32,
    "start_time": "2021-08-17T10:26:59.639Z"
   },
   {
    "duration": 272,
    "start_time": "2021-08-17T10:26:59.674Z"
   },
   {
    "duration": 25,
    "start_time": "2021-08-17T10:26:59.948Z"
   },
   {
    "duration": 271,
    "start_time": "2021-08-17T10:26:59.976Z"
   },
   {
    "duration": 22,
    "start_time": "2021-08-17T10:27:00.254Z"
   },
   {
    "duration": 276,
    "start_time": "2021-08-17T10:27:00.278Z"
   },
   {
    "duration": 21,
    "start_time": "2021-08-17T10:27:00.557Z"
   },
   {
    "duration": 260,
    "start_time": "2021-08-17T10:27:00.580Z"
   },
   {
    "duration": 29,
    "start_time": "2021-08-17T10:27:00.842Z"
   },
   {
    "duration": 245,
    "start_time": "2021-08-17T10:27:00.874Z"
   },
   {
    "duration": 12,
    "start_time": "2021-08-17T10:27:01.122Z"
   },
   {
    "duration": 25,
    "start_time": "2021-08-17T10:27:01.137Z"
   },
   {
    "duration": 39,
    "start_time": "2021-08-17T10:27:01.164Z"
   },
   {
    "duration": 18,
    "start_time": "2021-08-17T10:27:01.206Z"
   }
  ],
  "kernelspec": {
   "display_name": "Python 3",
   "language": "python",
   "name": "python3"
  },
  "language_info": {
   "codemirror_mode": {
    "name": "ipython",
    "version": 3
   },
   "file_extension": ".py",
   "mimetype": "text/x-python",
   "name": "python",
   "nbconvert_exporter": "python",
   "pygments_lexer": "ipython3",
   "version": "3.8.8"
  },
  "toc": {
   "base_numbering": 1,
   "nav_menu": {},
   "number_sections": true,
   "sideBar": true,
   "skip_h1_title": true,
   "title_cell": "Table of Contents",
   "title_sidebar": "Contents",
   "toc_cell": false,
   "toc_position": {
    "height": "calc(100% - 180px)",
    "left": "10px",
    "top": "150px",
    "width": "358.391px"
   },
   "toc_section_display": true,
   "toc_window_display": false
  }
 },
 "nbformat": 4,
 "nbformat_minor": 2
}
